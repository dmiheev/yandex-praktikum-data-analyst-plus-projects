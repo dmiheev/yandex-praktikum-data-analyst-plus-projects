{
 "cells": [
  {
   "cell_type": "markdown",
   "id": "364ea99f",
   "metadata": {
    "toc": true
   },
   "source": [
    "<h1>Содержание<span class=\"tocSkip\"></span></h1>\n",
    "<div class=\"toc\"><ul class=\"toc-item\"><li><span><a href=\"#Описание-проекта\" data-toc-modified-id=\"Описание-проекта-1\"><span class=\"toc-item-num\">1&nbsp;&nbsp;</span>Описание проекта</a></span></li><li><span><a href=\"#Предобработка-данных\" data-toc-modified-id=\"Предобработка-данных-2\"><span class=\"toc-item-num\">2&nbsp;&nbsp;</span>Предобработка данных</a></span></li><li><span><a href=\"#Анализ-данных\" data-toc-modified-id=\"Анализ-данных-3\"><span class=\"toc-item-num\">3&nbsp;&nbsp;</span>Анализ данных</a></span><ul class=\"toc-item\"><li><span><a href=\"#Исследование-соотношения-видов-объектов-общественного-питания-по-количеству\" data-toc-modified-id=\"Исследование-соотношения-видов-объектов-общественного-питания-по-количеству-3.1\"><span class=\"toc-item-num\">3.1&nbsp;&nbsp;</span>Исследование соотношения видов объектов общественного питания по количеству</a></span></li><li><span><a href=\"#Исследование-соотношения-сетевых-и-несетевых-заведений-по-количеству\" data-toc-modified-id=\"Исследование-соотношения-сетевых-и-несетевых-заведений-по-количеству-3.2\"><span class=\"toc-item-num\">3.2&nbsp;&nbsp;</span>Исследование соотношения сетевых и несетевых заведений по количеству</a></span></li><li><span><a href=\"#Исследование-видов-объектов-общественного-питания-для-сетевых-заведений\" data-toc-modified-id=\"Исследование-видов-объектов-общественного-питания-для-сетевых-заведений-3.3\"><span class=\"toc-item-num\">3.3&nbsp;&nbsp;</span>Исследование видов объектов общественного питания для сетевых заведений</a></span></li><li><span><a href=\"#Что-характерно-для-сетевых-заведений:-много-заведений-с-небольшим-числом-посадочных-мест-в-каждом-или-мало-заведений-с-большим-количеством-посадочных-мест?\" data-toc-modified-id=\"Что-характерно-для-сетевых-заведений:-много-заведений-с-небольшим-числом-посадочных-мест-в-каждом-или-мало-заведений-с-большим-количеством-посадочных-мест?-3.4\"><span class=\"toc-item-num\">3.4&nbsp;&nbsp;</span>Что характерно для сетевых заведений: много заведений с небольшим числом посадочных мест в каждом или мало заведений с большим количеством посадочных мест?</a></span></li><li><span><a href=\"#Исследование-среднего-количества-посадочных-мест-по-типу-ООП\" data-toc-modified-id=\"Исследование-среднего-количества-посадочных-мест-по-типу-ООП-3.5\"><span class=\"toc-item-num\">3.5&nbsp;&nbsp;</span>Исследование среднего количества посадочных мест по типу ООП</a></span></li><li><span><a href=\"#Выделение-улиц-в-отдельный-столбец\" data-toc-modified-id=\"Выделение-улиц-в-отдельный-столбец-3.6\"><span class=\"toc-item-num\">3.6&nbsp;&nbsp;</span>Выделение улиц в отдельный столбец</a></span></li><li><span><a href=\"#Топ-10-улиц-по-количеству-объектов-общественного-питания\" data-toc-modified-id=\"Топ-10-улиц-по-количеству-объектов-общественного-питания-3.7\"><span class=\"toc-item-num\">3.7&nbsp;&nbsp;</span>Топ-10 улиц по количеству объектов общественного питания</a></span></li><li><span><a href=\"#Найдем-число-улиц-с-одним-ООП\" data-toc-modified-id=\"Найдем-число-улиц-с-одним-ООП-3.8\"><span class=\"toc-item-num\">3.8&nbsp;&nbsp;</span>Найдем число улиц с одним ООП</a></span></li><li><span><a href=\"#Распределение-количества-посадочных-мест-для-улиц-с-большим-количеством-ООП\" data-toc-modified-id=\"Распределение-количества-посадочных-мест-для-улиц-с-большим-количеством-ООП-3.9\"><span class=\"toc-item-num\">3.9&nbsp;&nbsp;</span>Распределение количества посадочных мест для улиц с большим количеством ООП</a></span></li></ul></li><li><span><a href=\"#Общий-вывод\" data-toc-modified-id=\"Общий-вывод-4\"><span class=\"toc-item-num\">4&nbsp;&nbsp;</span>Общий вывод</a></span></li><li><span><a href=\"#Презентация\" data-toc-modified-id=\"Презентация-5\"><span class=\"toc-item-num\">5&nbsp;&nbsp;</span>Презентация</a></span></li></ul></div>"
   ]
  },
  {
   "cell_type": "markdown",
   "id": "6951e10e",
   "metadata": {},
   "source": [
    "# Рынок заведений общественного питания Москвы"
   ]
  },
  {
   "cell_type": "markdown",
   "id": "f9e47081",
   "metadata": {},
   "source": [
    "## Описание проекта\n",
    "Вы решили открыть небольшое кафе в Москве. Оно оригинальное — гостей должны обслуживать роботы. Проект многообещающий, но дорогой. Вместе с партнёрами вы решились обратиться к инвесторам. Их интересует текущее положение дел на рынке — сможете ли вы снискать популярность на долгое время, когда все зеваки насмотрятся на роботов-официантов?\n",
    "Вы — гуру аналитики, и партнёры просят вас подготовить исследование рынка. У вас есть открытые данные о заведениях общественного питания в Москве.  \n",
    "  \n",
    "**Описание данных**  \n",
    "Таблица rest_data:\n",
    "- `id` — идентификатор объекта;\n",
    "- `object_name` — название объекта общественного питания;\n",
    "- `chain` — сетевой ресторан;\n",
    "- `object_type` — тип объекта общественного питания;\n",
    "- `address` — адрес;\n",
    "- `number` — количество посадочных мест."
   ]
  },
  {
   "cell_type": "markdown",
   "id": "ac4711e9",
   "metadata": {},
   "source": [
    "## Предобработка данных"
   ]
  },
  {
   "cell_type": "code",
   "execution_count": 1,
   "id": "8f8e6f95",
   "metadata": {},
   "outputs": [],
   "source": [
    "# Импорт библиотек и настройки\n",
    "import pandas as pd\n",
    "import seaborn as sns\n",
    "import matplotlib.pyplot as plt\n",
    "from plotly import graph_objects as go\n",
    "import numpy as np\n",
    "import warnings\n",
    "warnings.filterwarnings(\"ignore\")"
   ]
  },
  {
   "cell_type": "code",
   "execution_count": 2,
   "id": "7d58e5fc",
   "metadata": {},
   "outputs": [],
   "source": [
    "# Установим стиль по умолчанию\n",
    "plt.style.use('seaborn-whitegrid')\n",
    "plt.rcParams['figure.figsize'] = 11.7,8.27"
   ]
  },
  {
   "cell_type": "code",
   "execution_count": null,
   "id": "e1574664",
   "metadata": {},
   "outputs": [],
   "source": [
    "# Прочитаем датасет с Github и посмотрим первые строки\n",
    "df = pd.read_csv('https://raw.githubusercontent.com/dmiheev/ds/main/rest_data.csv')\n",
    "df.head()"
   ]
  },
  {
   "cell_type": "code",
   "execution_count": null,
   "id": "779d5666",
   "metadata": {},
   "outputs": [],
   "source": [
    "# Прочитаем датасет с Github и посмотрим первые строки\n",
    "df = pd.read_csv('/datasets/rest_data.csv')\n",
    "df.head()"
   ]
  },
  {
   "cell_type": "code",
   "execution_count": null,
   "id": "ad42f4ab",
   "metadata": {},
   "outputs": [],
   "source": [
    "# Посмотрим информацию о датасете\n",
    "df.info()"
   ]
  },
  {
   "cell_type": "code",
   "execution_count": null,
   "id": "45b16b96",
   "metadata": {},
   "outputs": [],
   "source": [
    "# приведем данные всех столбцов с типом object к нижнему регистру\n",
    "for col in df.columns:\n",
    "    if df.dtypes[col] == 'object':\n",
    "        df[col] = df[col].str.lower()\n",
    "        df[col] = df[col].str.strip()"
   ]
  },
  {
   "cell_type": "code",
   "execution_count": null,
   "id": "5f64f6a6",
   "metadata": {},
   "outputs": [],
   "source": [
    "# Проверим наличие дубликатов исключив столбец id\n",
    "print(f\"Дубликатов в датасете: {df.duplicated(subset=['object_name', 'chain', 'object_type', 'address', 'number']).sum()}\")"
   ]
  },
  {
   "cell_type": "code",
   "execution_count": null,
   "id": "8401c82f",
   "metadata": {},
   "outputs": [],
   "source": [
    "# удалим дубликаты\n",
    "df = df.drop_duplicates(subset=['object_name', 'chain', 'object_type', 'address', 'number'])\n",
    "df.count()"
   ]
  },
  {
   "cell_type": "markdown",
   "id": "0ef0434e",
   "metadata": {},
   "source": [
    "**Вывод**  \n",
    "Наш датасет содержит 15281 строк, из выборки было удалено 85 дубликатов,столбцы `id` и `number` в формате int, остальные 4 столбца в object. Все форматы при загрузке определились корректно, менять не будем. Пропуски в данных отсутствуют, как и дубликаты."
   ]
  },
  {
   "cell_type": "markdown",
   "id": "61620e6c",
   "metadata": {},
   "source": [
    "## Анализ данных"
   ]
  },
  {
   "cell_type": "markdown",
   "id": "dcffe126",
   "metadata": {},
   "source": [
    "### Исследование соотношения видов объектов общественного питания по количеству"
   ]
  },
  {
   "cell_type": "code",
   "execution_count": null,
   "id": "a1a783aa",
   "metadata": {},
   "outputs": [],
   "source": [
    "fig1 = sns.countplot(data=df,\n",
    "                     orient='h',\n",
    "                     y='object_type',\n",
    "                     order=df['object_type'].value_counts().index\n",
    "                    )\n",
    "for i in fig1.patches:\n",
    "    fig1.annotate(format(i.get_width()/df.shape[0], '.1%'), \n",
    "                  xy=(i.get_width(),\n",
    "                  i.get_y()+i.get_height()/2),\n",
    "                  xytext=(10, 0),\n",
    "                  textcoords='offset points', \n",
    "                  ha='left', \n",
    "                  va='center')\n",
    "sns.set(font_scale=1.2)\n",
    "plt.title('Количество объектов общественного питания')\n",
    "plt.xlabel('Количество')\n",
    "plt.ylabel('Тип ООП')\n",
    "plt.show()"
   ]
  },
  {
   "cell_type": "markdown",
   "id": "f60f9615",
   "metadata": {},
   "source": [
    "**Вывод:**  \n",
    "Почти 40% датасета принадлежит кафе, ещё 40% делят столовая, ресторан и предприятия быстрого обслуживания."
   ]
  },
  {
   "cell_type": "markdown",
   "id": "b4f0c569",
   "metadata": {},
   "source": [
    "### Исследование соотношения сетевых и несетевых заведений по количеству"
   ]
  },
  {
   "cell_type": "code",
   "execution_count": null,
   "id": "33bc4b08",
   "metadata": {},
   "outputs": [],
   "source": [
    "# Используем функцию replace для замены на категориальные значения\n",
    "df = df.replace({'chain' : { 'нет': 'несетевое заведение', 'да': 'сетевое заведение'}})"
   ]
  },
  {
   "cell_type": "code",
   "execution_count": null,
   "id": "a30ca8f3",
   "metadata": {},
   "outputs": [],
   "source": [
    "# Сохраним метки и значения в списки для формирования круговой диаграммы\n",
    "labels = []\n",
    "cnt = []\n",
    "for z in df['chain'].unique():\n",
    "    labels.append(z)\n",
    "    cnt.append(df.query('chain == @z')['chain'].count())\n",
    "\n",
    "plt.pie(cnt, labels = labels, autopct='%.0f%%')\n",
    "plt.show()"
   ]
  },
  {
   "cell_type": "code",
   "execution_count": null,
   "id": "234910e4",
   "metadata": {},
   "outputs": [],
   "source": [
    "# Сохраним метки и значения в списки для формирования круговой диаграммы\n",
    "plt.pie(\n",
    "    df['chain'].value_counts(), \n",
    "    labels = df['chain'].unique(), \n",
    "    autopct='%.0f%%'\n",
    ")\n",
    "plt.show()"
   ]
  },
  {
   "cell_type": "markdown",
   "id": "ebd058a0",
   "metadata": {},
   "source": [
    "**Вывод:**  \n",
    "Сетевые заведения составляют пятую часть от общего количества."
   ]
  },
  {
   "cell_type": "markdown",
   "id": "529ea40e",
   "metadata": {},
   "source": [
    "### Исследование видов объектов общественного питания для сетевых заведений"
   ]
  },
  {
   "cell_type": "code",
   "execution_count": null,
   "id": "83215d59",
   "metadata": {},
   "outputs": [],
   "source": [
    "net = df.query('chain == \"сетевое заведение\"')\n",
    "plt.style.use('seaborn-whitegrid')\n",
    "fig3 = sns.countplot(data=net,\n",
    "                     orient='h',\n",
    "                     y='object_type',\n",
    "                     order=net['object_type'].value_counts().index\n",
    "                    )\n",
    "for i in fig3.patches:\n",
    "    fig3.annotate(format(i.get_width()/net.shape[0], '.1%'), \n",
    "                  xy=(i.get_width(),\n",
    "                  i.get_y()+i.get_height()/2),\n",
    "                  xytext=(10, 0),\n",
    "                  textcoords='offset points', \n",
    "                  ha='left', \n",
    "                  va='center')\n",
    "    \n",
    "sns.set(font_scale=1.2)\n",
    "plt.title('Количество объектов общественного питания для сетевых заведений')\n",
    "plt.xlabel('Количество')\n",
    "plt.ylabel('Тип ООП')\n",
    "plt.show()"
   ]
  },
  {
   "cell_type": "markdown",
   "id": "cedc3386",
   "metadata": {},
   "source": [
    "**Вывод:**  \n",
    "Среди сетевых заведений кафе занимают 47%, предприятия быстрого питания и рестораны делят 45%, 8% остается на остальные заведения."
   ]
  },
  {
   "cell_type": "markdown",
   "id": "f5835671",
   "metadata": {},
   "source": [
    "### Что характерно для сетевых заведений: много заведений с небольшим числом посадочных мест в каждом или мало заведений с большим количеством посадочных мест?"
   ]
  },
  {
   "cell_type": "code",
   "execution_count": null,
   "id": "ab464a41",
   "metadata": {},
   "outputs": [],
   "source": [
    "# Отберем сетевые заведения\n",
    "df_net = df.loc[df['chain']=='сетевое заведение']\n",
    "df_net"
   ]
  },
  {
   "cell_type": "code",
   "execution_count": null,
   "id": "4f20bd54",
   "metadata": {},
   "outputs": [],
   "source": [
    "df_net_pivot = df_net.pivot_table(index='object_name', values=['number'], aggfunc=[len, np.mean]).reset_index()\n",
    "df_net_pivot.columns = list(map(\"_\".join, df_net_pivot.columns))\n",
    "df_net_pivot.plot.scatter(style='o', \n",
    "                           x='len_number', \n",
    "                           y='mean_number', \n",
    "                           c='DarkBlue',\n",
    "                           grid=True, \n",
    "                           figsize=(13,8))\n",
    "plt.xlabel('Количество ООП в сети')\n",
    "plt.ylabel('Среднее количество посадочных мест в сети')\n",
    "plt.title('График зависимости посадочных мест от размера сети')\n",
    "plt.show()"
   ]
  },
  {
   "cell_type": "markdown",
   "id": "bb63126f",
   "metadata": {},
   "source": [
    "**Вывод:**\n",
    "Как видно из графика для сетей общественного питания характерен небольшой размер, до 10, с средним количеством посадочных мест до 50."
   ]
  },
  {
   "cell_type": "markdown",
   "id": "bb71e983",
   "metadata": {},
   "source": [
    "### Исследование среднего количества посадочных мест по типу ООП"
   ]
  },
  {
   "cell_type": "code",
   "execution_count": null,
   "id": "95cdc4e4",
   "metadata": {},
   "outputs": [],
   "source": [
    "df_number = (\n",
    "    df.pivot_table(index='object_type', values='number', aggfunc='mean')\n",
    "    .reset_index()\n",
    "    .sort_values(by='number', ascending=False)\n",
    ")\n",
    "df_number['number'] = df_number['number'].astype('int')\n",
    "plt.style.use('seaborn-whitegrid')\n",
    "fig5 = sns.barplot(data=df_number,\n",
    "                   orient='h',\n",
    "                   y='object_type',\n",
    "                   x='number')\n",
    "for i in fig5.patches:\n",
    "    fig5.annotate(i.get_width(), \n",
    "                  xy=(i.get_width(),\n",
    "                  i.get_y()+i.get_height()/2),\n",
    "                  xytext=(10, 0),\n",
    "                  textcoords='offset points', \n",
    "                  ha='left', \n",
    "                  va='center')\n",
    "sns.set(font_scale=1.2)\n",
    "plt.title('Среднее количество посадочных мест по типу ООП')\n",
    "plt.xlabel('Количество')\n",
    "plt.ylabel('Тип ООП')\n",
    "plt.show()"
   ]
  },
  {
   "cell_type": "markdown",
   "id": "784b202f",
   "metadata": {},
   "source": [
    "**Вывод:**  \n",
    "Заведения где вероятен большой поток, такие как столовая или ресторан, являются лидерами по количеству посадочных мест, более 100.  \n",
    "В заведениях же не рассчитанных под прием пищи или с небольшим потоком, посадочных мест не много."
   ]
  },
  {
   "cell_type": "markdown",
   "id": "7d65466d",
   "metadata": {},
   "source": [
    "### Выделение улиц в отдельный столбец"
   ]
  },
  {
   "cell_type": "code",
   "execution_count": null,
   "id": "8719054d",
   "metadata": {},
   "outputs": [],
   "source": [
    "df = df.assign(street=lambda x: x['address'].str.split(',')\n",
    "               .apply(lambda x: x[1] if 'город' not in x[1] and 'поселение' not in x[1] \n",
    "                                     else (x[2] if 'корпус' not in x[2] else 'нет улицы')\n",
    "                     )\n",
    "              )\n",
    "df['street'] = df['street'].str.strip()\n",
    "df"
   ]
  },
  {
   "cell_type": "markdown",
   "id": "a7fb27b9",
   "metadata": {},
   "source": [
    "### Топ-10 улиц по количеству объектов общественного питания"
   ]
  },
  {
   "cell_type": "code",
   "execution_count": null,
   "id": "bf4da060",
   "metadata": {},
   "outputs": [],
   "source": [
    "df_streets = (\n",
    "    df.loc[df['street'] != 'нет улицы'].groupby(['street'])\n",
    "    .agg(amount=('id','count'))\n",
    "    .sort_values(by='amount', ascending=False)\n",
    "    .reset_index()\n",
    "    .loc[:10]\n",
    ")\n",
    "df_streets\n",
    "plt.style.use('seaborn-whitegrid')\n",
    "fig7 = sns.barplot(data=df_streets,\n",
    "                   orient='h',\n",
    "                   y='street',\n",
    "                   x='amount')\n",
    "for i in fig7.patches:\n",
    "    fig7.annotate(i.get_width(), \n",
    "                  xy=(i.get_width(),\n",
    "                  i.get_y()+i.get_height()/2),\n",
    "                  xytext=(10, 0),\n",
    "                  textcoords='offset points', \n",
    "                  ha='left', \n",
    "                  va='center')\n",
    "sns.set(font_scale=1.2)\n",
    "plt.title('Топ-10 улиц по количеству ООП')\n",
    "plt.xlabel('Количество')\n",
    "plt.ylabel('Наименование')\n",
    "plt.show()"
   ]
  },
  {
   "cell_type": "code",
   "execution_count": null,
   "id": "70b21184",
   "metadata": {},
   "outputs": [],
   "source": [
    "# В отдельный датасет загрузим справочник Мосгаза по улицам, районам\n",
    "from io import BytesIO\n",
    "import requests\n",
    "spreadsheet_id = '1CPDYDGjKCb6jGoQt9KR5WOvTspK-dHS3NUrVeqsyqJs'\n",
    "file_name = 'https://docs.google.com/spreadsheets/d/{}/export?format=csv'.format(spreadsheet_id)\n",
    "r = requests.get(file_name)\n",
    "df_mosgaz_street = pd.read_csv(BytesIO(r.content))\n",
    "df_mosgaz_street['streetname'] = df_mosgaz_street['streetname'].str.strip().str.lower()\n",
    "df_mosgaz_street = df_mosgaz_street.rename({'streetname': 'street'}, axis=1)\n",
    "df_mosgaz_street.head()"
   ]
  },
  {
   "cell_type": "code",
   "execution_count": null,
   "id": "e5aaecc0",
   "metadata": {},
   "outputs": [],
   "source": [
    "# Объединим наш датасет с улицами со справочником\n",
    "df_area = pd.merge(df_streets, df_mosgaz_street, how='left', on='street')\n",
    "df_area['okrug'].value_counts()"
   ]
  },
  {
   "cell_type": "markdown",
   "id": "8e74d92c",
   "metadata": {},
   "source": [
    "**Вывод:**  \n",
    "Построили график топ-10 улиц по количеству ООП.  \n",
    "Данные улицы в основном проходят по ЮЗАО и ЮАО"
   ]
  },
  {
   "cell_type": "markdown",
   "id": "a3317b5a",
   "metadata": {},
   "source": [
    "### Найдем число улиц с одним ООП"
   ]
  },
  {
   "cell_type": "code",
   "execution_count": null,
   "id": "3e81a73b",
   "metadata": {},
   "outputs": [],
   "source": [
    "# Соберем данные по улицам на которых один ООП в датасет\n",
    "df_with_one = (\n",
    "    df.loc[df['street'] != 'нет улицы'].groupby(['street'])\n",
    "    .agg(amount=('id','count'))\n",
    "    .reset_index()\n",
    "    .query('amount == 1')\n",
    ")\n",
    "df_with_one"
   ]
  },
  {
   "cell_type": "code",
   "execution_count": null,
   "id": "3900ccd2",
   "metadata": {
    "scrolled": false
   },
   "outputs": [],
   "source": [
    "# Объединим наш датасет с улицами со справочником\n",
    "df_area2 = pd.merge(df_with_one, df_mosgaz_street, how='left', on='street')\n",
    "df_area2['okrug'].value_counts().head(20)"
   ]
  },
  {
   "cell_type": "markdown",
   "id": "9a07307b",
   "metadata": {},
   "source": [
    "**Вывод:**  \n",
    "Согласно полученным данным на 629 улицах по одному ООП и эти улицы в большинстве своем располагаются в ЦАО."
   ]
  },
  {
   "cell_type": "markdown",
   "id": "4ed9ff08",
   "metadata": {},
   "source": [
    "### Распределение количества посадочных мест для улиц с большим количеством ООП"
   ]
  },
  {
   "cell_type": "code",
   "execution_count": null,
   "id": "5c64ea1f",
   "metadata": {},
   "outputs": [],
   "source": [
    "# Объединим стартовый датасет с датасетом по улицам топ10, чтобы остались данные только этих улиц\n",
    "df_raspr = pd.merge(df, df_streets, how='inner', on='street')\n",
    "df_raspr\n",
    "plt.style.use('seaborn-whitegrid')\n",
    "fig9 = sns.boxplot(x='street', y='number', data=df_raspr) \n",
    "sns.set(font_scale=1.2)\n",
    "plt.title('Распределение количества посадочных мест для улиц с большим количеством ООП')\n",
    "plt.xlabel('Улица')\n",
    "plt.ylabel('Количество')\n",
    "plt.setp(fig9.get_xticklabels(), rotation=45)\n",
    "plt.show()"
   ]
  },
  {
   "cell_type": "markdown",
   "id": "7de9045a",
   "metadata": {},
   "source": [
    "**Вывод:**  \n",
    "Для улиц с большим количеством объектов характерны заведения с количеством посадочных мест около 40-50."
   ]
  },
  {
   "cell_type": "markdown",
   "id": "f7118da2",
   "metadata": {},
   "source": [
    "## Общий вывод"
   ]
  },
  {
   "cell_type": "markdown",
   "id": "d7f52b77",
   "metadata": {},
   "source": [
    "Исходя из исследованных данных можно сделать вывод:  \n",
    "- Наиболее популярны кафе с количеством посадочных мест 40-50.\n",
    "- Кафе наиболее распространено в сетях.\n",
    "- Открытие кафе лучше всего в ЦАО, а на юге большая конкуренция, там лучше не открываться."
   ]
  },
  {
   "cell_type": "markdown",
   "id": "6586d3b8",
   "metadata": {},
   "source": [
    "## Презентация"
   ]
  },
  {
   "cell_type": "markdown",
   "id": "217b25b3",
   "metadata": {},
   "source": [
    "<a href=\"https://www.canva.com/design/DAE6wL_JyC8/NlbLzgcAz-0h-3CFaih7-g/view#8\">Ссылка на презентацию</a>"
   ]
  }
 ],
 "metadata": {
  "ExecuteTimeLog": [
   {
    "duration": 43942,
    "start_time": "2022-03-12T10:55:17.576Z"
   },
   {
    "duration": 4,
    "start_time": "2022-03-12T10:56:01.520Z"
   },
   {
    "duration": 676,
    "start_time": "2022-03-12T10:56:01.528Z"
   },
   {
    "duration": 12,
    "start_time": "2022-03-12T10:56:02.207Z"
   },
   {
    "duration": 96,
    "start_time": "2022-03-12T10:56:02.221Z"
   },
   {
    "duration": 37,
    "start_time": "2022-03-12T10:56:02.320Z"
   },
   {
    "duration": 503,
    "start_time": "2022-03-12T10:56:02.360Z"
   },
   {
    "duration": 22,
    "start_time": "2022-03-12T10:56:02.866Z"
   },
   {
    "duration": 253,
    "start_time": "2022-03-12T10:56:02.893Z"
   },
   {
    "duration": 687,
    "start_time": "2022-03-12T10:56:03.150Z"
   },
   {
    "duration": 24,
    "start_time": "2022-03-12T10:56:03.840Z"
   },
   {
    "duration": 977,
    "start_time": "2022-03-12T10:56:03.867Z"
   },
   {
    "duration": 56,
    "start_time": "2022-03-12T10:56:04.790Z"
   },
   {
    "duration": 56,
    "start_time": "2022-03-12T10:56:04.792Z"
   },
   {
    "duration": 55,
    "start_time": "2022-03-12T10:56:04.794Z"
   },
   {
    "duration": 55,
    "start_time": "2022-03-12T10:56:04.796Z"
   },
   {
    "duration": 54,
    "start_time": "2022-03-12T10:56:04.798Z"
   },
   {
    "duration": 53,
    "start_time": "2022-03-12T10:56:04.801Z"
   },
   {
    "duration": 34,
    "start_time": "2022-03-12T10:56:04.821Z"
   },
   {
    "duration": 33,
    "start_time": "2022-03-12T10:56:04.823Z"
   },
   {
    "duration": 9,
    "start_time": "2022-03-12T11:01:22.631Z"
   },
   {
    "duration": 10,
    "start_time": "2022-03-12T11:01:36.244Z"
   },
   {
    "duration": 222,
    "start_time": "2022-03-12T11:02:32.415Z"
   },
   {
    "duration": 525,
    "start_time": "2022-03-12T11:19:04.573Z"
   },
   {
    "duration": 1984,
    "start_time": "2022-03-12T11:19:12.339Z"
   },
   {
    "duration": 4,
    "start_time": "2022-03-12T11:19:14.326Z"
   },
   {
    "duration": 596,
    "start_time": "2022-03-12T11:19:14.335Z"
   },
   {
    "duration": 12,
    "start_time": "2022-03-12T11:19:14.933Z"
   },
   {
    "duration": 97,
    "start_time": "2022-03-12T11:19:14.948Z"
   },
   {
    "duration": 48,
    "start_time": "2022-03-12T11:19:15.047Z"
   },
   {
    "duration": 30,
    "start_time": "2022-03-12T11:19:18.684Z"
   },
   {
    "duration": 30,
    "start_time": "2022-03-12T11:19:21.465Z"
   },
   {
    "duration": 19,
    "start_time": "2022-03-12T11:19:28.753Z"
   },
   {
    "duration": 30,
    "start_time": "2022-03-12T11:21:39.810Z"
   },
   {
    "duration": 509,
    "start_time": "2022-03-12T11:21:56.161Z"
   },
   {
    "duration": 2151,
    "start_time": "2022-03-12T11:22:29.627Z"
   },
   {
    "duration": 5,
    "start_time": "2022-03-12T11:22:31.782Z"
   },
   {
    "duration": 498,
    "start_time": "2022-03-12T11:22:31.791Z"
   },
   {
    "duration": 12,
    "start_time": "2022-03-12T11:22:32.292Z"
   },
   {
    "duration": 101,
    "start_time": "2022-03-12T11:22:32.307Z"
   },
   {
    "duration": 50,
    "start_time": "2022-03-12T11:22:32.411Z"
   },
   {
    "duration": 27,
    "start_time": "2022-03-12T11:22:32.462Z"
   },
   {
    "duration": 522,
    "start_time": "2022-03-12T11:22:32.493Z"
   },
   {
    "duration": 9,
    "start_time": "2022-03-12T11:22:33.018Z"
   },
   {
    "duration": 273,
    "start_time": "2022-03-12T11:22:33.029Z"
   },
   {
    "duration": 256,
    "start_time": "2022-03-12T11:22:33.304Z"
   },
   {
    "duration": 731,
    "start_time": "2022-03-12T11:22:33.562Z"
   },
   {
    "duration": 19,
    "start_time": "2022-03-12T11:22:34.296Z"
   },
   {
    "duration": 1581,
    "start_time": "2022-03-12T11:22:34.318Z"
   },
   {
    "duration": -795,
    "start_time": "2022-03-12T11:22:36.697Z"
   },
   {
    "duration": -794,
    "start_time": "2022-03-12T11:22:36.698Z"
   },
   {
    "duration": -794,
    "start_time": "2022-03-12T11:22:36.699Z"
   },
   {
    "duration": -794,
    "start_time": "2022-03-12T11:22:36.700Z"
   },
   {
    "duration": -793,
    "start_time": "2022-03-12T11:22:36.701Z"
   },
   {
    "duration": -793,
    "start_time": "2022-03-12T11:22:36.702Z"
   },
   {
    "duration": -793,
    "start_time": "2022-03-12T11:22:36.703Z"
   },
   {
    "duration": -796,
    "start_time": "2022-03-12T11:22:36.707Z"
   },
   {
    "duration": 20,
    "start_time": "2022-03-12T11:24:42.054Z"
   },
   {
    "duration": 20,
    "start_time": "2022-03-12T11:29:29.459Z"
   },
   {
    "duration": 20,
    "start_time": "2022-03-12T11:29:45.190Z"
   },
   {
    "duration": 29,
    "start_time": "2022-03-12T11:30:38.629Z"
   },
   {
    "duration": 897,
    "start_time": "2022-03-12T11:37:06.260Z"
   },
   {
    "duration": 45,
    "start_time": "2022-03-12T11:38:16.037Z"
   },
   {
    "duration": 1256,
    "start_time": "2022-03-12T11:38:45.384Z"
   },
   {
    "duration": 968,
    "start_time": "2022-03-12T11:38:56.313Z"
   },
   {
    "duration": 894,
    "start_time": "2022-03-12T11:39:27.233Z"
   },
   {
    "duration": 121,
    "start_time": "2022-03-12T11:42:31.428Z"
   },
   {
    "duration": 901,
    "start_time": "2022-03-12T11:42:47.355Z"
   },
   {
    "duration": 741,
    "start_time": "2022-03-12T11:43:26.956Z"
   },
   {
    "duration": 2108,
    "start_time": "2022-03-13T08:42:32.758Z"
   },
   {
    "duration": 3,
    "start_time": "2022-03-13T08:42:34.867Z"
   },
   {
    "duration": 188652,
    "start_time": "2022-03-13T08:42:34.872Z"
   },
   {
    "duration": 66,
    "start_time": "2022-03-13T08:45:43.460Z"
   },
   {
    "duration": 64,
    "start_time": "2022-03-13T08:45:43.463Z"
   },
   {
    "duration": 62,
    "start_time": "2022-03-13T08:45:43.466Z"
   },
   {
    "duration": 60,
    "start_time": "2022-03-13T08:45:43.469Z"
   },
   {
    "duration": 58,
    "start_time": "2022-03-13T08:45:43.472Z"
   },
   {
    "duration": 56,
    "start_time": "2022-03-13T08:45:43.475Z"
   },
   {
    "duration": 58,
    "start_time": "2022-03-13T08:45:43.478Z"
   },
   {
    "duration": 58,
    "start_time": "2022-03-13T08:45:43.480Z"
   },
   {
    "duration": 56,
    "start_time": "2022-03-13T08:45:43.483Z"
   },
   {
    "duration": 56,
    "start_time": "2022-03-13T08:45:43.485Z"
   },
   {
    "duration": 55,
    "start_time": "2022-03-13T08:45:43.487Z"
   },
   {
    "duration": 55,
    "start_time": "2022-03-13T08:45:43.489Z"
   },
   {
    "duration": 54,
    "start_time": "2022-03-13T08:45:43.492Z"
   },
   {
    "duration": 53,
    "start_time": "2022-03-13T08:45:43.494Z"
   },
   {
    "duration": 52,
    "start_time": "2022-03-13T08:45:43.497Z"
   },
   {
    "duration": 51,
    "start_time": "2022-03-13T08:45:43.499Z"
   },
   {
    "duration": 50,
    "start_time": "2022-03-13T08:45:43.501Z"
   },
   {
    "duration": 50,
    "start_time": "2022-03-13T08:45:43.503Z"
   },
   {
    "duration": 48,
    "start_time": "2022-03-13T08:45:43.505Z"
   },
   {
    "duration": 53,
    "start_time": "2022-03-13T08:45:58.222Z"
   },
   {
    "duration": 10,
    "start_time": "2022-03-13T08:46:05.805Z"
   },
   {
    "duration": 58,
    "start_time": "2022-03-13T08:46:05.817Z"
   },
   {
    "duration": 22,
    "start_time": "2022-03-13T08:46:05.877Z"
   },
   {
    "duration": 48,
    "start_time": "2022-03-13T08:46:05.902Z"
   },
   {
    "duration": 293,
    "start_time": "2022-03-13T08:46:05.951Z"
   },
   {
    "duration": 8,
    "start_time": "2022-03-13T08:46:06.246Z"
   },
   {
    "duration": 161,
    "start_time": "2022-03-13T08:46:06.255Z"
   },
   {
    "duration": 197,
    "start_time": "2022-03-13T08:46:06.417Z"
   },
   {
    "duration": 125,
    "start_time": "2022-03-13T08:46:06.491Z"
   },
   {
    "duration": 123,
    "start_time": "2022-03-13T08:46:06.494Z"
   },
   {
    "duration": 122,
    "start_time": "2022-03-13T08:46:06.496Z"
   },
   {
    "duration": 121,
    "start_time": "2022-03-13T08:46:06.498Z"
   },
   {
    "duration": 119,
    "start_time": "2022-03-13T08:46:06.501Z"
   },
   {
    "duration": 118,
    "start_time": "2022-03-13T08:46:06.503Z"
   },
   {
    "duration": 113,
    "start_time": "2022-03-13T08:46:06.509Z"
   },
   {
    "duration": 112,
    "start_time": "2022-03-13T08:46:06.511Z"
   },
   {
    "duration": 110,
    "start_time": "2022-03-13T08:46:06.514Z"
   },
   {
    "duration": 109,
    "start_time": "2022-03-13T08:46:06.516Z"
   },
   {
    "duration": 108,
    "start_time": "2022-03-13T08:46:06.518Z"
   },
   {
    "duration": 141,
    "start_time": "2022-03-13T08:46:19.056Z"
   },
   {
    "duration": 386,
    "start_time": "2022-03-13T08:46:19.199Z"
   },
   {
    "duration": 15,
    "start_time": "2022-03-13T08:46:19.587Z"
   },
   {
    "duration": 541,
    "start_time": "2022-03-13T08:46:19.603Z"
   },
   {
    "duration": 399,
    "start_time": "2022-03-13T08:46:20.149Z"
   },
   {
    "duration": 118,
    "start_time": "2022-03-13T08:46:20.550Z"
   },
   {
    "duration": 449,
    "start_time": "2022-03-13T08:46:20.669Z"
   },
   {
    "duration": 1269,
    "start_time": "2022-03-13T08:46:21.121Z"
   },
   {
    "duration": 13,
    "start_time": "2022-03-13T08:46:22.392Z"
   },
   {
    "duration": 25,
    "start_time": "2022-03-13T08:46:22.407Z"
   },
   {
    "duration": 11,
    "start_time": "2022-03-13T08:46:22.433Z"
   },
   {
    "duration": 466,
    "start_time": "2022-03-13T08:46:22.446Z"
   },
   {
    "duration": 1365,
    "start_time": "2022-03-13T10:35:33.697Z"
   },
   {
    "duration": 3,
    "start_time": "2022-03-13T10:35:35.064Z"
   },
   {
    "duration": 1374,
    "start_time": "2022-03-13T10:36:34.705Z"
   },
   {
    "duration": 3,
    "start_time": "2022-03-13T10:36:36.082Z"
   }
  ],
  "kernelspec": {
   "display_name": "Python 3 (ipykernel)",
   "language": "python",
   "name": "python3"
  },
  "language_info": {
   "codemirror_mode": {
    "name": "ipython",
    "version": 3
   },
   "file_extension": ".py",
   "mimetype": "text/x-python",
   "name": "python",
   "nbconvert_exporter": "python",
   "pygments_lexer": "ipython3",
   "version": "3.9.5"
  },
  "toc": {
   "base_numbering": 1,
   "nav_menu": {},
   "number_sections": true,
   "sideBar": true,
   "skip_h1_title": true,
   "title_cell": "Содержание",
   "title_sidebar": "Содержание",
   "toc_cell": true,
   "toc_position": {
    "height": "calc(100% - 180px)",
    "left": "10px",
    "top": "150px",
    "width": "254px"
   },
   "toc_section_display": true,
   "toc_window_display": true
  }
 },
 "nbformat": 4,
 "nbformat_minor": 5
}
