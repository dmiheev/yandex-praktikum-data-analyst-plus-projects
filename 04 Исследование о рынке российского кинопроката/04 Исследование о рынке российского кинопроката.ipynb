{
 "cells": [
  {
   "cell_type": "markdown",
   "metadata": {
    "id": "sIfNaMOxgFyK"
   },
   "source": [
    "## Исследование данных о российском кинопрокате\n",
    "\n"
   ]
  },
  {
   "cell_type": "markdown",
   "metadata": {},
   "source": [
    "Заказчик этого исследования — Министерство культуры Российской Федерации.  \n",
    "Нужно изучить рынок российского кинопроката и выявить текущие тренды. Уделить внимание фильмам, которые получили государственную поддержку. Попробуем ответить на вопрос, насколько такие фильмы интересны зрителю.  \n",
    "Будем работать с данными, опубликованными на портале открытых данных Министерства культуры. Набор данных содержит информацию о прокатных удостоверениях, сборах и государственной поддержке фильмов, а также информацию с сайта КиноПоиск.  \n",
    "\n",
    "**Описание данных:**  \n",
    "Таблица `mkrf_movies` содержит информацию из реестра прокатных удостоверений. У одного фильма может быть несколько прокатных удостоверений.  \n",
    "- `title` — название фильма;\n",
    "- `puNumber` — номер прокатного удостоверения;\n",
    "- `show_start_date` — дата премьеры фильма;\n",
    "- `type` — тип фильма;\n",
    "- `film_studio` — студия-производитель;\n",
    "- `production_country` — страна-производитель;\n",
    "- `director` — режиссёр;\n",
    "- `producer` — продюсер;\n",
    "- `age_restriction` — возрастная категория;\n",
    "- `refundable_support` — объём возвратных средств государственной поддержки;\n",
    "- `nonrefundable_support` — объём невозвратных средств государственной поддержки;\n",
    "- `financing_source` — источник государственного финансирования;\n",
    "- `budget` — общий бюджет фильма, столбец включает в себя полный объём государственной поддержки. Данные в этом столбце указаны только для тех фильмов, которые получили государственную поддержку;\n",
    "- `ratings` — рейтинг фильма на КиноПоиске;\n",
    "- `genres` — жанр фильма.  \n",
    "\n",
    "Таблица `mkrf_shows` содержит сведения о показах фильмов в российских кинотеатрах.\n",
    "- `puNumber` — номер прокатного удостоверения;\n",
    "- `box_office` — сборы в рублях."
   ]
  },
  {
   "cell_type": "markdown",
   "metadata": {
    "id": "3bSlkCsbgFyL"
   },
   "source": [
    "### Шаг 1. Откройте файлы с данными и объедините их в один датафрейм. \n",
    "\n",
    "Объедините данные таким образом, чтобы все объекты из датасета `mkrf_movies` обязательно вошли в получившийся датафрейм. \n",
    "\n",
    "<div id=\"accordion\">\n",
    "    <div class=\"card\">\n",
    "        <div class=\"card-header\" id=\"headingThree\">\n",
    "            <button class=\"btn btn-link collapsed\" data-toggle=\"collapse\" data-target=\"#collapseHint_0\" aria-expanded=\"false\" aria-controls=\"collapseHint_0\">Подсказка</button>\n",
    "        </div>\n",
    "        <div id=\"collapseHint_0\" class=\"collapse\" aria-labelledby=\"headingThree\" data-parent=\"#accordion\">\n",
    "            <div class=\"card-body\">\n",
    "Обратите внимание на тип данных столбца, по которому будете соединять датафреймы. Тип данных этих столбцов должен быть одинаковым в обоих датафреймах.\n",
    "            </div>\n",
    "        </div>\n",
    "    </div>\n",
    "</div>"
   ]
  },
  {
   "cell_type": "code",
   "execution_count": 1,
   "metadata": {
    "id": "dw87FlzMgFyM"
   },
   "outputs": [],
   "source": [
    "# Импорт необходимых библиотек и настроек\n",
    "%matplotlib inline\n",
    "import pandas as pd\n",
    "import matplotlib.pyplot as plt\n",
    "import numpy as np\n",
    "import warnings\n",
    "warnings.filterwarnings('ignore')"
   ]
  },
  {
   "cell_type": "code",
   "execution_count": 2,
   "metadata": {},
   "outputs": [
    {
     "data": {
      "text/html": [
       "<div>\n",
       "<style scoped>\n",
       "    .dataframe tbody tr th:only-of-type {\n",
       "        vertical-align: middle;\n",
       "    }\n",
       "\n",
       "    .dataframe tbody tr th {\n",
       "        vertical-align: top;\n",
       "    }\n",
       "\n",
       "    .dataframe thead th {\n",
       "        text-align: right;\n",
       "    }\n",
       "</style>\n",
       "<table border=\"1\" class=\"dataframe\">\n",
       "  <thead>\n",
       "    <tr style=\"text-align: right;\">\n",
       "      <th></th>\n",
       "      <th>title</th>\n",
       "      <th>puNumber</th>\n",
       "      <th>show_start_date</th>\n",
       "      <th>type</th>\n",
       "      <th>film_studio</th>\n",
       "      <th>production_country</th>\n",
       "      <th>director</th>\n",
       "      <th>producer</th>\n",
       "      <th>age_restriction</th>\n",
       "      <th>refundable_support</th>\n",
       "      <th>nonrefundable_support</th>\n",
       "      <th>budget</th>\n",
       "      <th>financing_source</th>\n",
       "      <th>ratings</th>\n",
       "      <th>genres</th>\n",
       "    </tr>\n",
       "  </thead>\n",
       "  <tbody>\n",
       "    <tr>\n",
       "      <td>0</td>\n",
       "      <td>Открытый простор</td>\n",
       "      <td>221048915</td>\n",
       "      <td>2015-11-27T12:00:00.000Z</td>\n",
       "      <td>Художественный</td>\n",
       "      <td>Тачстоун Пикчерз, Кобальт Пикчерз, Бикон Пикче...</td>\n",
       "      <td>США</td>\n",
       "      <td>Кевин Костнер</td>\n",
       "      <td>Дэвид Валдес, Кевин Костнер, Джейк Эбертс</td>\n",
       "      <td>«18+» - запрещено для детей</td>\n",
       "      <td>NaN</td>\n",
       "      <td>NaN</td>\n",
       "      <td>NaN</td>\n",
       "      <td>NaN</td>\n",
       "      <td>7.2</td>\n",
       "      <td>боевик,драма,мелодрама</td>\n",
       "    </tr>\n",
       "    <tr>\n",
       "      <td>1</td>\n",
       "      <td>Особо важное задание</td>\n",
       "      <td>111013716</td>\n",
       "      <td>2016-09-13T12:00:00.000Z</td>\n",
       "      <td>Художественный</td>\n",
       "      <td>Киностудия \"Мосфильм\"</td>\n",
       "      <td>СССР</td>\n",
       "      <td>Е.Матвеев</td>\n",
       "      <td>NaN</td>\n",
       "      <td>«6+» - для детей старше 6 лет</td>\n",
       "      <td>NaN</td>\n",
       "      <td>NaN</td>\n",
       "      <td>NaN</td>\n",
       "      <td>NaN</td>\n",
       "      <td>6.6</td>\n",
       "      <td>драма,военный</td>\n",
       "    </tr>\n",
       "    <tr>\n",
       "      <td>2</td>\n",
       "      <td>Особо опасен</td>\n",
       "      <td>221038416</td>\n",
       "      <td>2016-10-10T12:00:00.000Z</td>\n",
       "      <td>Художественный</td>\n",
       "      <td>Юниверсал Пикчерз, Кикстарт Продакшнз, Марк Пл...</td>\n",
       "      <td>США</td>\n",
       "      <td>Тимур Бекмамбетов</td>\n",
       "      <td>Джим Лемли, Джейсон Нетер, Марк Е.Платт, Яйн Смит</td>\n",
       "      <td>«18+» - запрещено для детей</td>\n",
       "      <td>NaN</td>\n",
       "      <td>NaN</td>\n",
       "      <td>NaN</td>\n",
       "      <td>NaN</td>\n",
       "      <td>6.8</td>\n",
       "      <td>фантастика,боевик,триллер</td>\n",
       "    </tr>\n",
       "    <tr>\n",
       "      <td>3</td>\n",
       "      <td>Особо опасен</td>\n",
       "      <td>221026916</td>\n",
       "      <td>2016-06-10T12:00:00.000Z</td>\n",
       "      <td>Художественный</td>\n",
       "      <td>Юниверсал Пикчерз, Кикстарт Продакшнз, Марк Пл...</td>\n",
       "      <td>США</td>\n",
       "      <td>Тимур Бекмамбетов</td>\n",
       "      <td>Джим Лемли, Джейсон Нетер, Марк Е.Платт, Яйн Смит</td>\n",
       "      <td>«18+» - запрещено для детей</td>\n",
       "      <td>NaN</td>\n",
       "      <td>NaN</td>\n",
       "      <td>NaN</td>\n",
       "      <td>NaN</td>\n",
       "      <td>6.8</td>\n",
       "      <td>фантастика,боевик,триллер</td>\n",
       "    </tr>\n",
       "    <tr>\n",
       "      <td>4</td>\n",
       "      <td>Особо опасен</td>\n",
       "      <td>221030815</td>\n",
       "      <td>2015-07-29T12:00:00.000Z</td>\n",
       "      <td>Художественный</td>\n",
       "      <td>Юниверсал Пикчерз, Кикстарт Продакшнз, Марк Пл...</td>\n",
       "      <td>США</td>\n",
       "      <td>Тимур Бекмамбетов</td>\n",
       "      <td>Джим Лемли, Джейсон Нетер, Марк Е.Платт, Яйн Смит</td>\n",
       "      <td>«18+» - запрещено для детей</td>\n",
       "      <td>NaN</td>\n",
       "      <td>NaN</td>\n",
       "      <td>NaN</td>\n",
       "      <td>NaN</td>\n",
       "      <td>6.8</td>\n",
       "      <td>фантастика,боевик,триллер</td>\n",
       "    </tr>\n",
       "  </tbody>\n",
       "</table>\n",
       "</div>"
      ],
      "text/plain": [
       "                  title   puNumber           show_start_date            type  \\\n",
       "0      Открытый простор  221048915  2015-11-27T12:00:00.000Z  Художественный   \n",
       "1  Особо важное задание  111013716  2016-09-13T12:00:00.000Z  Художественный   \n",
       "2          Особо опасен  221038416  2016-10-10T12:00:00.000Z  Художественный   \n",
       "3          Особо опасен  221026916  2016-06-10T12:00:00.000Z  Художественный   \n",
       "4          Особо опасен  221030815  2015-07-29T12:00:00.000Z  Художественный   \n",
       "\n",
       "                                         film_studio production_country  \\\n",
       "0  Тачстоун Пикчерз, Кобальт Пикчерз, Бикон Пикче...                США   \n",
       "1                              Киностудия \"Мосфильм\"               СССР   \n",
       "2  Юниверсал Пикчерз, Кикстарт Продакшнз, Марк Пл...                США   \n",
       "3  Юниверсал Пикчерз, Кикстарт Продакшнз, Марк Пл...                США   \n",
       "4  Юниверсал Пикчерз, Кикстарт Продакшнз, Марк Пл...                США   \n",
       "\n",
       "            director                                           producer  \\\n",
       "0      Кевин Костнер          Дэвид Валдес, Кевин Костнер, Джейк Эбертс   \n",
       "1          Е.Матвеев                                                NaN   \n",
       "2  Тимур Бекмамбетов  Джим Лемли, Джейсон Нетер, Марк Е.Платт, Яйн Смит   \n",
       "3  Тимур Бекмамбетов  Джим Лемли, Джейсон Нетер, Марк Е.Платт, Яйн Смит   \n",
       "4  Тимур Бекмамбетов  Джим Лемли, Джейсон Нетер, Марк Е.Платт, Яйн Смит   \n",
       "\n",
       "                 age_restriction  refundable_support  nonrefundable_support  \\\n",
       "0    «18+» - запрещено для детей                 NaN                    NaN   \n",
       "1  «6+» - для детей старше 6 лет                 NaN                    NaN   \n",
       "2    «18+» - запрещено для детей                 NaN                    NaN   \n",
       "3    «18+» - запрещено для детей                 NaN                    NaN   \n",
       "4    «18+» - запрещено для детей                 NaN                    NaN   \n",
       "\n",
       "   budget financing_source ratings                     genres  \n",
       "0     NaN              NaN     7.2     боевик,драма,мелодрама  \n",
       "1     NaN              NaN     6.6              драма,военный  \n",
       "2     NaN              NaN     6.8  фантастика,боевик,триллер  \n",
       "3     NaN              NaN     6.8  фантастика,боевик,триллер  \n",
       "4     NaN              NaN     6.8  фантастика,боевик,триллер  "
      ]
     },
     "metadata": {},
     "output_type": "display_data"
    },
    {
     "data": {
      "text/html": [
       "<div>\n",
       "<style scoped>\n",
       "    .dataframe tbody tr th:only-of-type {\n",
       "        vertical-align: middle;\n",
       "    }\n",
       "\n",
       "    .dataframe tbody tr th {\n",
       "        vertical-align: top;\n",
       "    }\n",
       "\n",
       "    .dataframe thead th {\n",
       "        text-align: right;\n",
       "    }\n",
       "</style>\n",
       "<table border=\"1\" class=\"dataframe\">\n",
       "  <thead>\n",
       "    <tr style=\"text-align: right;\">\n",
       "      <th></th>\n",
       "      <th>puNumber</th>\n",
       "      <th>box_office</th>\n",
       "    </tr>\n",
       "  </thead>\n",
       "  <tbody>\n",
       "    <tr>\n",
       "      <td>0</td>\n",
       "      <td>111000113</td>\n",
       "      <td>2.450000e+03</td>\n",
       "    </tr>\n",
       "    <tr>\n",
       "      <td>1</td>\n",
       "      <td>111000115</td>\n",
       "      <td>6.104000e+04</td>\n",
       "    </tr>\n",
       "    <tr>\n",
       "      <td>2</td>\n",
       "      <td>111000116</td>\n",
       "      <td>1.530300e+08</td>\n",
       "    </tr>\n",
       "    <tr>\n",
       "      <td>3</td>\n",
       "      <td>111000117</td>\n",
       "      <td>1.226096e+07</td>\n",
       "    </tr>\n",
       "    <tr>\n",
       "      <td>4</td>\n",
       "      <td>111000118</td>\n",
       "      <td>1.636841e+08</td>\n",
       "    </tr>\n",
       "  </tbody>\n",
       "</table>\n",
       "</div>"
      ],
      "text/plain": [
       "    puNumber    box_office\n",
       "0  111000113  2.450000e+03\n",
       "1  111000115  6.104000e+04\n",
       "2  111000116  1.530300e+08\n",
       "3  111000117  1.226096e+07\n",
       "4  111000118  1.636841e+08"
      ]
     },
     "metadata": {},
     "output_type": "display_data"
    }
   ],
   "source": [
    "# Чтение файлов\n",
    "# данные о прокатных удостоверениях.\n",
    "df_movies = pd.read_csv('/datasets/mkrf_movies.csv')\n",
    "display(df_movies.head())\n",
    "# данные о прокате в российских кинотеатрах.\n",
    "df_shows = pd.read_csv('/datasets/mkrf_shows.csv')\n",
    "display(df_shows.head())"
   ]
  },
  {
   "cell_type": "code",
   "execution_count": 3,
   "metadata": {},
   "outputs": [
    {
     "name": "stdout",
     "output_type": "stream",
     "text": [
      "<class 'pandas.core.frame.DataFrame'>\n",
      "RangeIndex: 7486 entries, 0 to 7485\n",
      "Data columns (total 15 columns):\n",
      "title                    7486 non-null object\n",
      "puNumber                 7486 non-null object\n",
      "show_start_date          7486 non-null object\n",
      "type                     7486 non-null object\n",
      "film_studio              7468 non-null object\n",
      "production_country       7484 non-null object\n",
      "director                 7477 non-null object\n",
      "producer                 6918 non-null object\n",
      "age_restriction          7486 non-null object\n",
      "refundable_support       332 non-null float64\n",
      "nonrefundable_support    332 non-null float64\n",
      "budget                   332 non-null float64\n",
      "financing_source         332 non-null object\n",
      "ratings                  6519 non-null object\n",
      "genres                   6510 non-null object\n",
      "dtypes: float64(3), object(12)\n",
      "memory usage: 877.4+ KB\n"
     ]
    }
   ],
   "source": [
    "# посмотрим информацию по датафрейму df_movies\n",
    "df_movies.info()"
   ]
  },
  {
   "cell_type": "code",
   "execution_count": 4,
   "metadata": {},
   "outputs": [
    {
     "name": "stdout",
     "output_type": "stream",
     "text": [
      "<class 'pandas.core.frame.DataFrame'>\n",
      "RangeIndex: 3158 entries, 0 to 3157\n",
      "Data columns (total 2 columns):\n",
      "puNumber      3158 non-null int64\n",
      "box_office    3158 non-null float64\n",
      "dtypes: float64(1), int64(1)\n",
      "memory usage: 49.5 KB\n"
     ]
    }
   ],
   "source": [
    "# посмотрим информацию по датафрейму df_shows\n",
    "df_shows.info()"
   ]
  },
  {
   "cell_type": "markdown",
   "metadata": {},
   "source": [
    "Объединим датафреймы по общему столбцу `puNumber`, предварительно преобразуем столбец в `df_movies` к `int`"
   ]
  },
  {
   "cell_type": "code",
   "execution_count": 5,
   "metadata": {
    "scrolled": true
   },
   "outputs": [
    {
     "name": "stdout",
     "output_type": "stream",
     "text": [
      "<class 'pandas.core.frame.DataFrame'>\n",
      "Int64Index: 7486 entries, 0 to 7485\n",
      "Data columns (total 16 columns):\n",
      "title                    7486 non-null object\n",
      "puNumber                 7486 non-null int64\n",
      "show_start_date          7486 non-null object\n",
      "type                     7486 non-null object\n",
      "film_studio              7468 non-null object\n",
      "production_country       7484 non-null object\n",
      "director                 7477 non-null object\n",
      "producer                 6918 non-null object\n",
      "age_restriction          7486 non-null object\n",
      "refundable_support       332 non-null float64\n",
      "nonrefundable_support    332 non-null float64\n",
      "budget                   332 non-null float64\n",
      "financing_source         332 non-null object\n",
      "ratings                  6519 non-null object\n",
      "genres                   6510 non-null object\n",
      "box_office               3158 non-null float64\n",
      "dtypes: float64(4), int64(1), object(11)\n",
      "memory usage: 994.2+ KB\n"
     ]
    }
   ],
   "source": [
    "df_movies['puNumber'] = pd.to_numeric(df_movies['puNumber'], errors='coerce').fillna(0).astype('int')\n",
    "df = df_movies.merge(df_shows, on='puNumber', how='left')\n",
    "df.info()"
   ]
  },
  {
   "cell_type": "code",
   "execution_count": 6,
   "metadata": {},
   "outputs": [],
   "source": [
    "# преобразуем столбец puNumber к camel_case стилю\n",
    "df = df.rename(columns={'puNumber': 'pu_number'})"
   ]
  },
  {
   "cell_type": "markdown",
   "metadata": {},
   "source": [
    "**Таблица `df` содержит информацию из реестра прокатных удостоверений.  \n",
    "У одного фильма может быть несколько прокатных удостоверений.**\n",
    "- `title` — название фильма;\n",
    "- `pu_number` — номер прокатного удостоверения;\n",
    "- `show_start_date` — дата премьеры фильма;\n",
    "- `type` — тип фильма;\n",
    "- `film_studio` — студия-производитель;\n",
    "- `production_country` — страна-производитель;\n",
    "- `director` — режиссёр;\n",
    "- `producer` — продюсер;\n",
    "- `age_restriction` — возрастная категория;\n",
    "- `refundable_support` — объём возвратных средств государственной поддержки;\n",
    "- `nonrefundable_support` — объём невозвратных средств государственной поддержки;\n",
    "- `financing_source` — источник государственного финансирования;\n",
    "- `budget` — общий бюджет фильма, включает в себя полный объём государственной поддержки. Данные в этом столбце указаны только для тех фильмов, которые получили государственную поддержку;\n",
    "- `ratings` — рейтинг фильма на КиноПоиске;\n",
    "- `genres` — жанр фильма.\n",
    "- `box_office` — сборы в рублях."
   ]
  },
  {
   "cell_type": "markdown",
   "metadata": {
    "id": "KLDGpPG0gFyM"
   },
   "source": [
    "### Шаг 2. Предобработка данных"
   ]
  },
  {
   "cell_type": "markdown",
   "metadata": {
    "id": "ssWwKXsxgFyO"
   },
   "source": [
    "#### Шаг 2.1. Проверьте типы данных\n",
    "\n",
    "- Проверьте типы данных в датафрейме и преобразуйте их там, где это необходимо."
   ]
  },
  {
   "cell_type": "code",
   "execution_count": 7,
   "metadata": {
    "id": "kVGSplJOgFyO"
   },
   "outputs": [
    {
     "name": "stdout",
     "output_type": "stream",
     "text": [
      "<class 'pandas.core.frame.DataFrame'>\n",
      "Int64Index: 7486 entries, 0 to 7485\n",
      "Data columns (total 16 columns):\n",
      "title                    7486 non-null object\n",
      "pu_number                7486 non-null int64\n",
      "show_start_date          7486 non-null object\n",
      "type                     7486 non-null object\n",
      "film_studio              7468 non-null object\n",
      "production_country       7484 non-null object\n",
      "director                 7477 non-null object\n",
      "producer                 6918 non-null object\n",
      "age_restriction          7486 non-null object\n",
      "refundable_support       332 non-null float64\n",
      "nonrefundable_support    332 non-null float64\n",
      "budget                   332 non-null float64\n",
      "financing_source         332 non-null object\n",
      "ratings                  6519 non-null object\n",
      "genres                   6510 non-null object\n",
      "box_office               3158 non-null float64\n",
      "dtypes: float64(4), int64(1), object(11)\n",
      "memory usage: 994.2+ KB\n"
     ]
    }
   ],
   "source": [
    "df.info()"
   ]
  },
  {
   "cell_type": "markdown",
   "metadata": {},
   "source": [
    "**Преобразуем столбцы:**\n",
    "- `show_start_date` к date, дата премьеры\n",
    "- `box_office` к int, поскольку float точность нам не важна\n",
    "- `ratings` к float\n",
    "\n"
   ]
  },
  {
   "cell_type": "code",
   "execution_count": 8,
   "metadata": {},
   "outputs": [],
   "source": [
    "# show_start_date\n",
    "df['show_start_date'] = pd.to_datetime(pd.to_datetime(df['show_start_date']).apply(lambda x: x.strftime('%Y-%m-%d')))"
   ]
  },
  {
   "cell_type": "code",
   "execution_count": 9,
   "metadata": {},
   "outputs": [],
   "source": [
    "# box_office\n",
    "df['box_office'] = pd.to_numeric(df['box_office'], errors='coerce').fillna(0).astype('int')"
   ]
  },
  {
   "cell_type": "code",
   "execution_count": 10,
   "metadata": {},
   "outputs": [
    {
     "data": {
      "text/plain": [
       "array(['7.2', '6.6', '6.8', '7.7', '8.3', '8.0', '7.8', '8.1', '7.1',\n",
       "       '6.0', '7.4', '5.8', '8.7', '6.3', '6.9', '5.0', '4.3', '7.3',\n",
       "       '7.0', '6.4', nan, '8.2', '7.5', '6.7', '7.9', '5.9', '6.2', '5.6',\n",
       "       '6.5', '2.4', '7.6', '6.1', '8.6', '8.5', '8.8', '5.5', '5.1',\n",
       "       '5.7', '5.4', '99%', '4.4', '4.5', '5.3', '4.1', '8.4', '2.6',\n",
       "       '3.8', '4.6', '4.8', '4.0', '3.0', '1.6', '4.2', '5.2', '4.7',\n",
       "       '4.9', '3.9', '2.7', '3.3', '2.9', '28%', '3.7', '1.4', '3.1',\n",
       "       '97%', '3.5', '3.2', '2.8', '1.5', '2.1', '2.5', '9.2', '3.4',\n",
       "       '1.1', '3.6', '83%', '64%', '91%', '94%', '62%', '79%', '90%',\n",
       "       '19%', '88%', '1.0', '89%', '1.3', '1.9', '1.8', '1.2', '1.7',\n",
       "       '9.0', '98%', '8.9', '9.1'], dtype=object)"
      ]
     },
     "execution_count": 10,
     "metadata": {},
     "output_type": "execute_result"
    }
   ],
   "source": [
    "# ratings\n",
    "df['ratings'].unique()"
   ]
  },
  {
   "cell_type": "code",
   "execution_count": 11,
   "metadata": {},
   "outputs": [
    {
     "data": {
      "text/plain": [
       "array([7.2, 6.6, 6.8, 7.7, 8.3, 8. , 7.8, 8.1, 7.1, 6. , 7.4, 5.8, 8.7,\n",
       "       6.3, 6.9, 5. , 4.3, 7.3, 7. , 6.4, 0. , 8.2, 7.5, 6.7, 7.9, 5.9,\n",
       "       6.2, 5.6, 6.5, 2.4, 7.6, 6.1, 8.6, 8.5, 8.8, 5.5, 5.1, 5.7, 5.4,\n",
       "       4.4, 4.5, 5.3, 4.1, 8.4, 2.6, 3.8, 4.6, 4.8, 4. , 3. , 1.6, 4.2,\n",
       "       5.2, 4.7, 4.9, 3.9, 2.7, 3.3, 2.9, 3.7, 1.4, 3.1, 3.5, 3.2, 2.8,\n",
       "       1.5, 2.1, 2.5, 9.2, 3.4, 1.1, 3.6, 1. , 1.3, 1.9, 1.8, 1.2, 1.7,\n",
       "       9. , 8.9, 9.1])"
      ]
     },
     "execution_count": 11,
     "metadata": {},
     "output_type": "execute_result"
    }
   ],
   "source": [
    "df['ratings'] = pd.to_numeric(df['ratings'], errors='coerce').fillna(0)\n",
    "df['ratings'].unique()"
   ]
  },
  {
   "cell_type": "code",
   "execution_count": 12,
   "metadata": {},
   "outputs": [
    {
     "data": {
      "text/html": [
       "<div>\n",
       "<style scoped>\n",
       "    .dataframe tbody tr th:only-of-type {\n",
       "        vertical-align: middle;\n",
       "    }\n",
       "\n",
       "    .dataframe tbody tr th {\n",
       "        vertical-align: top;\n",
       "    }\n",
       "\n",
       "    .dataframe thead th {\n",
       "        text-align: right;\n",
       "    }\n",
       "</style>\n",
       "<table border=\"1\" class=\"dataframe\">\n",
       "  <thead>\n",
       "    <tr style=\"text-align: right;\">\n",
       "      <th></th>\n",
       "      <th>title</th>\n",
       "      <th>pu_number</th>\n",
       "      <th>show_start_date</th>\n",
       "      <th>type</th>\n",
       "      <th>film_studio</th>\n",
       "      <th>production_country</th>\n",
       "      <th>director</th>\n",
       "      <th>producer</th>\n",
       "      <th>age_restriction</th>\n",
       "      <th>refundable_support</th>\n",
       "      <th>nonrefundable_support</th>\n",
       "      <th>budget</th>\n",
       "      <th>financing_source</th>\n",
       "      <th>ratings</th>\n",
       "      <th>genres</th>\n",
       "      <th>box_office</th>\n",
       "    </tr>\n",
       "  </thead>\n",
       "  <tbody>\n",
       "    <tr>\n",
       "      <td>0</td>\n",
       "      <td>Открытый простор</td>\n",
       "      <td>221048915</td>\n",
       "      <td>2015-11-27</td>\n",
       "      <td>Художественный</td>\n",
       "      <td>Тачстоун Пикчерз, Кобальт Пикчерз, Бикон Пикче...</td>\n",
       "      <td>США</td>\n",
       "      <td>Кевин Костнер</td>\n",
       "      <td>Дэвид Валдес, Кевин Костнер, Джейк Эбертс</td>\n",
       "      <td>«18+» - запрещено для детей</td>\n",
       "      <td>NaN</td>\n",
       "      <td>NaN</td>\n",
       "      <td>NaN</td>\n",
       "      <td>NaN</td>\n",
       "      <td>7.2</td>\n",
       "      <td>боевик,драма,мелодрама</td>\n",
       "      <td>0</td>\n",
       "    </tr>\n",
       "    <tr>\n",
       "      <td>1</td>\n",
       "      <td>Особо важное задание</td>\n",
       "      <td>111013716</td>\n",
       "      <td>2016-09-13</td>\n",
       "      <td>Художественный</td>\n",
       "      <td>Киностудия \"Мосфильм\"</td>\n",
       "      <td>СССР</td>\n",
       "      <td>Е.Матвеев</td>\n",
       "      <td>NaN</td>\n",
       "      <td>«6+» - для детей старше 6 лет</td>\n",
       "      <td>NaN</td>\n",
       "      <td>NaN</td>\n",
       "      <td>NaN</td>\n",
       "      <td>NaN</td>\n",
       "      <td>6.6</td>\n",
       "      <td>драма,военный</td>\n",
       "      <td>0</td>\n",
       "    </tr>\n",
       "    <tr>\n",
       "      <td>2</td>\n",
       "      <td>Особо опасен</td>\n",
       "      <td>221038416</td>\n",
       "      <td>2016-10-10</td>\n",
       "      <td>Художественный</td>\n",
       "      <td>Юниверсал Пикчерз, Кикстарт Продакшнз, Марк Пл...</td>\n",
       "      <td>США</td>\n",
       "      <td>Тимур Бекмамбетов</td>\n",
       "      <td>Джим Лемли, Джейсон Нетер, Марк Е.Платт, Яйн Смит</td>\n",
       "      <td>«18+» - запрещено для детей</td>\n",
       "      <td>NaN</td>\n",
       "      <td>NaN</td>\n",
       "      <td>NaN</td>\n",
       "      <td>NaN</td>\n",
       "      <td>6.8</td>\n",
       "      <td>фантастика,боевик,триллер</td>\n",
       "      <td>0</td>\n",
       "    </tr>\n",
       "    <tr>\n",
       "      <td>3</td>\n",
       "      <td>Особо опасен</td>\n",
       "      <td>221026916</td>\n",
       "      <td>2016-06-10</td>\n",
       "      <td>Художественный</td>\n",
       "      <td>Юниверсал Пикчерз, Кикстарт Продакшнз, Марк Пл...</td>\n",
       "      <td>США</td>\n",
       "      <td>Тимур Бекмамбетов</td>\n",
       "      <td>Джим Лемли, Джейсон Нетер, Марк Е.Платт, Яйн Смит</td>\n",
       "      <td>«18+» - запрещено для детей</td>\n",
       "      <td>NaN</td>\n",
       "      <td>NaN</td>\n",
       "      <td>NaN</td>\n",
       "      <td>NaN</td>\n",
       "      <td>6.8</td>\n",
       "      <td>фантастика,боевик,триллер</td>\n",
       "      <td>0</td>\n",
       "    </tr>\n",
       "    <tr>\n",
       "      <td>4</td>\n",
       "      <td>Особо опасен</td>\n",
       "      <td>221030815</td>\n",
       "      <td>2015-07-29</td>\n",
       "      <td>Художественный</td>\n",
       "      <td>Юниверсал Пикчерз, Кикстарт Продакшнз, Марк Пл...</td>\n",
       "      <td>США</td>\n",
       "      <td>Тимур Бекмамбетов</td>\n",
       "      <td>Джим Лемли, Джейсон Нетер, Марк Е.Платт, Яйн Смит</td>\n",
       "      <td>«18+» - запрещено для детей</td>\n",
       "      <td>NaN</td>\n",
       "      <td>NaN</td>\n",
       "      <td>NaN</td>\n",
       "      <td>NaN</td>\n",
       "      <td>6.8</td>\n",
       "      <td>фантастика,боевик,триллер</td>\n",
       "      <td>0</td>\n",
       "    </tr>\n",
       "  </tbody>\n",
       "</table>\n",
       "</div>"
      ],
      "text/plain": [
       "                  title  pu_number show_start_date            type  \\\n",
       "0      Открытый простор  221048915      2015-11-27  Художественный   \n",
       "1  Особо важное задание  111013716      2016-09-13  Художественный   \n",
       "2          Особо опасен  221038416      2016-10-10  Художественный   \n",
       "3          Особо опасен  221026916      2016-06-10  Художественный   \n",
       "4          Особо опасен  221030815      2015-07-29  Художественный   \n",
       "\n",
       "                                         film_studio production_country  \\\n",
       "0  Тачстоун Пикчерз, Кобальт Пикчерз, Бикон Пикче...                США   \n",
       "1                              Киностудия \"Мосфильм\"               СССР   \n",
       "2  Юниверсал Пикчерз, Кикстарт Продакшнз, Марк Пл...                США   \n",
       "3  Юниверсал Пикчерз, Кикстарт Продакшнз, Марк Пл...                США   \n",
       "4  Юниверсал Пикчерз, Кикстарт Продакшнз, Марк Пл...                США   \n",
       "\n",
       "            director                                           producer  \\\n",
       "0      Кевин Костнер          Дэвид Валдес, Кевин Костнер, Джейк Эбертс   \n",
       "1          Е.Матвеев                                                NaN   \n",
       "2  Тимур Бекмамбетов  Джим Лемли, Джейсон Нетер, Марк Е.Платт, Яйн Смит   \n",
       "3  Тимур Бекмамбетов  Джим Лемли, Джейсон Нетер, Марк Е.Платт, Яйн Смит   \n",
       "4  Тимур Бекмамбетов  Джим Лемли, Джейсон Нетер, Марк Е.Платт, Яйн Смит   \n",
       "\n",
       "                 age_restriction  refundable_support  nonrefundable_support  \\\n",
       "0    «18+» - запрещено для детей                 NaN                    NaN   \n",
       "1  «6+» - для детей старше 6 лет                 NaN                    NaN   \n",
       "2    «18+» - запрещено для детей                 NaN                    NaN   \n",
       "3    «18+» - запрещено для детей                 NaN                    NaN   \n",
       "4    «18+» - запрещено для детей                 NaN                    NaN   \n",
       "\n",
       "   budget financing_source  ratings                     genres  box_office  \n",
       "0     NaN              NaN      7.2     боевик,драма,мелодрама           0  \n",
       "1     NaN              NaN      6.6              драма,военный           0  \n",
       "2     NaN              NaN      6.8  фантастика,боевик,триллер           0  \n",
       "3     NaN              NaN      6.8  фантастика,боевик,триллер           0  \n",
       "4     NaN              NaN      6.8  фантастика,боевик,триллер           0  "
      ]
     },
     "execution_count": 12,
     "metadata": {},
     "output_type": "execute_result"
    }
   ],
   "source": [
    "df.head()"
   ]
  },
  {
   "cell_type": "markdown",
   "metadata": {},
   "source": [
    "**Вывод:**  \n",
    "Данные были преобразованы к типам согласно документации."
   ]
  },
  {
   "cell_type": "markdown",
   "metadata": {
    "id": "i0MOLbF-gFyP"
   },
   "source": [
    "#### Шаг 2.2. Изучите пропуски в датафрейме\n",
    "\n",
    "- Объясните, почему заполнили пропуски определённым образом или почему не стали этого делать."
   ]
  },
  {
   "cell_type": "code",
   "execution_count": 13,
   "metadata": {
    "id": "8MJD_lkngFyP"
   },
   "outputs": [
    {
     "data": {
      "text/plain": [
       "title                     0.00\n",
       "pu_number                 0.00\n",
       "show_start_date           0.00\n",
       "type                      0.00\n",
       "film_studio               0.24\n",
       "production_country        0.03\n",
       "director                  0.12\n",
       "producer                  7.59\n",
       "age_restriction           0.00\n",
       "refundable_support       95.57\n",
       "nonrefundable_support    95.57\n",
       "budget                   95.57\n",
       "financing_source         95.57\n",
       "ratings                   0.00\n",
       "genres                   13.04\n",
       "box_office                0.00\n",
       "dtype: float64"
      ]
     },
     "execution_count": 13,
     "metadata": {},
     "output_type": "execute_result"
    }
   ],
   "source": [
    "round(df.isna().sum()/len(df)*100,2)"
   ]
  },
  {
   "cell_type": "code",
   "execution_count": 14,
   "metadata": {},
   "outputs": [
    {
     "data": {
      "text/plain": [
       "title                     0.000000\n",
       "pu_number                 0.000000\n",
       "show_start_date           0.000000\n",
       "type                      0.000000\n",
       "film_studio               0.240449\n",
       "production_country        0.026717\n",
       "director                  0.120224\n",
       "producer                  7.587497\n",
       "age_restriction           0.000000\n",
       "refundable_support       95.565055\n",
       "nonrefundable_support    95.565055\n",
       "budget                   95.565055\n",
       "financing_source         95.565055\n",
       "ratings                   0.000000\n",
       "genres                   13.037670\n",
       "box_office                0.000000\n",
       "dtype: float64"
      ]
     },
     "execution_count": 14,
     "metadata": {},
     "output_type": "execute_result"
    }
   ],
   "source": [
    "df.isna().mean() * 100"
   ]
  },
  {
   "cell_type": "code",
   "execution_count": 15,
   "metadata": {},
   "outputs": [],
   "source": [
    "df['show_start_date']# заполним пропуски в столбцах режиссер и жанр значением 'нет данных'\n",
    "df['director'] = df['director'].fillna('нет данных')\n",
    "df['genres'] = df['genres'].fillna('нет данных')"
   ]
  },
  {
   "cell_type": "markdown",
   "metadata": {},
   "source": [
    "Сделаю предположение, что заполнение пропусков в столбцах `film_studio`, `production_country`, `producer`, `genres` ни на что не повлияет и их можно пропустить, в случае необходимости информацию можно распарсить с сайта Кинопоиска, либо заполнить пропуски значением `'Не определено'`."
   ]
  },
  {
   "cell_type": "markdown",
   "metadata": {},
   "source": [
    "Данные в столбцах `refundable_support`, `nonrefundable_support`, `budget`, `financing_source` заполнены только для фильмов с государственной поддержкой, так что пропуски для остальных корректны."
   ]
  },
  {
   "cell_type": "markdown",
   "metadata": {
    "id": "4c6k1t9ygFyQ"
   },
   "source": [
    "#### Шаг 2.3. Изучите дубликаты в датафрейме\n",
    "- Проверьте, есть ли в данных дубликаты. Опишите причины, которые могли повлиять на появление дублей."
   ]
  },
  {
   "cell_type": "code",
   "execution_count": 16,
   "metadata": {
    "id": "aKck8RIdgFyQ"
   },
   "outputs": [
    {
     "data": {
      "text/html": [
       "<div>\n",
       "<style scoped>\n",
       "    .dataframe tbody tr th:only-of-type {\n",
       "        vertical-align: middle;\n",
       "    }\n",
       "\n",
       "    .dataframe tbody tr th {\n",
       "        vertical-align: top;\n",
       "    }\n",
       "\n",
       "    .dataframe thead th {\n",
       "        text-align: right;\n",
       "    }\n",
       "</style>\n",
       "<table border=\"1\" class=\"dataframe\">\n",
       "  <thead>\n",
       "    <tr style=\"text-align: right;\">\n",
       "      <th></th>\n",
       "      <th>title</th>\n",
       "      <th>pu_number</th>\n",
       "      <th>show_start_date</th>\n",
       "      <th>type</th>\n",
       "      <th>film_studio</th>\n",
       "      <th>production_country</th>\n",
       "      <th>director</th>\n",
       "      <th>producer</th>\n",
       "      <th>age_restriction</th>\n",
       "      <th>refundable_support</th>\n",
       "      <th>nonrefundable_support</th>\n",
       "      <th>budget</th>\n",
       "      <th>financing_source</th>\n",
       "      <th>ratings</th>\n",
       "      <th>genres</th>\n",
       "      <th>box_office</th>\n",
       "    </tr>\n",
       "  </thead>\n",
       "  <tbody>\n",
       "  </tbody>\n",
       "</table>\n",
       "</div>"
      ],
      "text/plain": [
       "Empty DataFrame\n",
       "Columns: [title, pu_number, show_start_date, type, film_studio, production_country, director, producer, age_restriction, refundable_support, nonrefundable_support, budget, financing_source, ratings, genres, box_office]\n",
       "Index: []"
      ]
     },
     "execution_count": 16,
     "metadata": {},
     "output_type": "execute_result"
    }
   ],
   "source": [
    "df.loc[df.duplicated()]"
   ]
  },
  {
   "cell_type": "markdown",
   "metadata": {},
   "source": [
    "**Вывод:**  \n",
    "Дубликаты в датафрейме отсутствуют."
   ]
  },
  {
   "cell_type": "markdown",
   "metadata": {
    "id": "52fOPrEBgFyQ"
   },
   "source": [
    "#### Шаг 2.4. Изучите категориальные значения\n",
    "\n",
    "- Посмотрите, какая общая проблема встречается почти во всех категориальных столбцах;\n",
    "- Исправьте проблемные значения в поле `type`.\n",
    "\n",
    "<div id=\"accordion\">\n",
    "    <div class=\"card\">\n",
    "        <div class=\"card-header\" id=\"headingThree\">\n",
    "            <button class=\"btn btn-link collapsed\" data-toggle=\"collapse\" data-target=\"#collapseHint_1\" aria-expanded=\"false\" aria-controls=\"collapseHint_1\">Подсказка</button>\n",
    "        </div>\n",
    "        <div id=\"collapseHint_1\" class=\"collapse\" aria-labelledby=\"headingThree\" data-parent=\"#accordion\">\n",
    "            <div class=\"card-body\">\n",
    "В поле <code>type</code> есть несколько значений, у которых появился пробел в начале строки. Самый простой способ их «починить» -- использовать метод <a href=\"https://pandas.pydata.org/docs/reference/api/pandas.Series.str.strip.html#pandas.Series.str.strip\">.str.strip</a>. Этот метод удаляет все пробелы, которые встречаются в начале и в конце строки. Применяют его таким образом:<br>\n",
    "<code>df['type'].str.strip()</code>\n",
    "            </div>\n",
    "        </div>\n",
    "    </div>\n",
    "</div>"
   ]
  },
  {
   "cell_type": "code",
   "execution_count": 17,
   "metadata": {},
   "outputs": [
    {
     "data": {
      "text/html": [
       "<div>\n",
       "<style scoped>\n",
       "    .dataframe tbody tr th:only-of-type {\n",
       "        vertical-align: middle;\n",
       "    }\n",
       "\n",
       "    .dataframe tbody tr th {\n",
       "        vertical-align: top;\n",
       "    }\n",
       "\n",
       "    .dataframe thead th {\n",
       "        text-align: right;\n",
       "    }\n",
       "</style>\n",
       "<table border=\"1\" class=\"dataframe\">\n",
       "  <thead>\n",
       "    <tr style=\"text-align: right;\">\n",
       "      <th></th>\n",
       "      <th>title</th>\n",
       "      <th>type</th>\n",
       "      <th>film_studio</th>\n",
       "      <th>production_country</th>\n",
       "      <th>director</th>\n",
       "      <th>producer</th>\n",
       "      <th>age_restriction</th>\n",
       "      <th>financing_source</th>\n",
       "      <th>genres</th>\n",
       "    </tr>\n",
       "  </thead>\n",
       "  <tbody>\n",
       "    <tr>\n",
       "      <td>count</td>\n",
       "      <td>7486</td>\n",
       "      <td>7486</td>\n",
       "      <td>7468</td>\n",
       "      <td>7484</td>\n",
       "      <td>7486</td>\n",
       "      <td>6918</td>\n",
       "      <td>7486</td>\n",
       "      <td>332</td>\n",
       "      <td>7486</td>\n",
       "    </tr>\n",
       "    <tr>\n",
       "      <td>unique</td>\n",
       "      <td>6772</td>\n",
       "      <td>8</td>\n",
       "      <td>5490</td>\n",
       "      <td>950</td>\n",
       "      <td>4812</td>\n",
       "      <td>5349</td>\n",
       "      <td>5</td>\n",
       "      <td>3</td>\n",
       "      <td>743</td>\n",
       "    </tr>\n",
       "    <tr>\n",
       "      <td>top</td>\n",
       "      <td>День святого Валентина_</td>\n",
       "      <td>Художественный</td>\n",
       "      <td>Киностудия \"Мосфильм\"</td>\n",
       "      <td>США</td>\n",
       "      <td>О.Семёнова</td>\n",
       "      <td>П.Смирнов</td>\n",
       "      <td>«16+» - для детей старше 16 лет</td>\n",
       "      <td>Министерство культуры</td>\n",
       "      <td>нет данных</td>\n",
       "    </tr>\n",
       "    <tr>\n",
       "      <td>freq</td>\n",
       "      <td>5</td>\n",
       "      <td>4520</td>\n",
       "      <td>341</td>\n",
       "      <td>2172</td>\n",
       "      <td>47</td>\n",
       "      <td>67</td>\n",
       "      <td>2851</td>\n",
       "      <td>164</td>\n",
       "      <td>976</td>\n",
       "    </tr>\n",
       "  </tbody>\n",
       "</table>\n",
       "</div>"
      ],
      "text/plain": [
       "                          title            type            film_studio  \\\n",
       "count                      7486            7486                   7468   \n",
       "unique                     6772               8                   5490   \n",
       "top     День святого Валентина_  Художественный  Киностудия \"Мосфильм\"   \n",
       "freq                          5            4520                    341   \n",
       "\n",
       "       production_country    director   producer  \\\n",
       "count                7484        7486       6918   \n",
       "unique                950        4812       5349   \n",
       "top                   США  О.Семёнова  П.Смирнов   \n",
       "freq                 2172          47         67   \n",
       "\n",
       "                        age_restriction       financing_source      genres  \n",
       "count                              7486                    332        7486  \n",
       "unique                                5                      3         743  \n",
       "top     «16+» - для детей старше 16 лет  Министерство культуры  нет данных  \n",
       "freq                               2851                    164         976  "
      ]
     },
     "execution_count": 17,
     "metadata": {},
     "output_type": "execute_result"
    }
   ],
   "source": [
    "# посмотрим на категорийные данные\n",
    "df.describe(include='object')"
   ]
  },
  {
   "cell_type": "code",
   "execution_count": 18,
   "metadata": {},
   "outputs": [
    {
     "data": {
      "text/plain": [
       "array(['Художественный', 'Анимационный', 'Прочие', 'Документальный',\n",
       "       'Научно-популярный', ' Художественный', ' Анимационный',\n",
       "       'Музыкально-развлекательный'], dtype=object)"
      ]
     },
     "execution_count": 18,
     "metadata": {},
     "output_type": "execute_result"
    }
   ],
   "source": [
    "df['type'].unique()"
   ]
  },
  {
   "cell_type": "markdown",
   "metadata": {},
   "source": [
    "Проанализировав столбец `type` мы видим, что в данных присутствуют ведущие нули, приведем данные всех столбцов с типом **object** к нижнему регистру и удалим ведущие и конечные пробелы строки, только если данное преобразование сократит количество уникальных значений."
   ]
  },
  {
   "cell_type": "code",
   "execution_count": 19,
   "metadata": {
    "id": "PnXKIVdFgFyR"
   },
   "outputs": [
    {
     "name": "stdout",
     "output_type": "stream",
     "text": [
      "Отформатировали данные столбца = title\n",
      "Количество уникальных значений до преобразования = 6772\n",
      "Количество уникальных значений после преобразования = 6762\n",
      "Отформатировали данные столбца = type\n",
      "Количество уникальных значений до преобразования = 8\n",
      "Количество уникальных значений после преобразования = 6\n",
      "Отформатировали данные столбца = film_studio\n",
      "Количество уникальных значений до преобразования = 5490\n",
      "Количество уникальных значений после преобразования = 5422\n",
      "Отформатировали данные столбца = production_country\n",
      "Количество уникальных значений до преобразования = 950\n",
      "Количество уникальных значений после преобразования = 933\n",
      "Отформатировали данные столбца = director\n",
      "Количество уникальных значений до преобразования = 4812\n",
      "Количество уникальных значений после преобразования = 4797\n",
      "Отформатировали данные столбца = producer\n",
      "Количество уникальных значений до преобразования = 5349\n",
      "Количество уникальных значений после преобразования = 5326\n"
     ]
    }
   ],
   "source": [
    "for col in df.columns:\n",
    "    if df.dtypes[col] == 'object':\n",
    "        unique_before = df[col].value_counts().count()\n",
    "        unique_after = df[col].str.lower().str.strip().value_counts().count()\n",
    "        if unique_before != unique_after:\n",
    "            df[col] = df[col].str.lower().str.strip()\n",
    "            print('Отформатировали данные столбца =',col)\n",
    "            print('Количество уникальных значений до преобразования =', unique_before)\n",
    "            print('Количество уникальных значений после преобразования =', unique_after)"
   ]
  },
  {
   "cell_type": "code",
   "execution_count": 20,
   "metadata": {},
   "outputs": [
    {
     "data": {
      "text/html": [
       "<div>\n",
       "<style scoped>\n",
       "    .dataframe tbody tr th:only-of-type {\n",
       "        vertical-align: middle;\n",
       "    }\n",
       "\n",
       "    .dataframe tbody tr th {\n",
       "        vertical-align: top;\n",
       "    }\n",
       "\n",
       "    .dataframe thead th {\n",
       "        text-align: right;\n",
       "    }\n",
       "</style>\n",
       "<table border=\"1\" class=\"dataframe\">\n",
       "  <thead>\n",
       "    <tr style=\"text-align: right;\">\n",
       "      <th></th>\n",
       "      <th>title</th>\n",
       "      <th>type</th>\n",
       "      <th>film_studio</th>\n",
       "      <th>production_country</th>\n",
       "      <th>director</th>\n",
       "      <th>producer</th>\n",
       "      <th>age_restriction</th>\n",
       "      <th>financing_source</th>\n",
       "      <th>genres</th>\n",
       "    </tr>\n",
       "  </thead>\n",
       "  <tbody>\n",
       "    <tr>\n",
       "      <td>count</td>\n",
       "      <td>7486</td>\n",
       "      <td>7486</td>\n",
       "      <td>7468</td>\n",
       "      <td>7484</td>\n",
       "      <td>7486</td>\n",
       "      <td>6918</td>\n",
       "      <td>7486</td>\n",
       "      <td>332</td>\n",
       "      <td>7486</td>\n",
       "    </tr>\n",
       "    <tr>\n",
       "      <td>unique</td>\n",
       "      <td>6762</td>\n",
       "      <td>6</td>\n",
       "      <td>5422</td>\n",
       "      <td>933</td>\n",
       "      <td>4797</td>\n",
       "      <td>5326</td>\n",
       "      <td>5</td>\n",
       "      <td>3</td>\n",
       "      <td>743</td>\n",
       "    </tr>\n",
       "    <tr>\n",
       "      <td>top</td>\n",
       "      <td>день святого валентина_</td>\n",
       "      <td>художественный</td>\n",
       "      <td>киностудия \"мосфильм\"</td>\n",
       "      <td>сша</td>\n",
       "      <td>о.семёнова</td>\n",
       "      <td>п.смирнов</td>\n",
       "      <td>«16+» - для детей старше 16 лет</td>\n",
       "      <td>Министерство культуры</td>\n",
       "      <td>нет данных</td>\n",
       "    </tr>\n",
       "    <tr>\n",
       "      <td>freq</td>\n",
       "      <td>5</td>\n",
       "      <td>5909</td>\n",
       "      <td>345</td>\n",
       "      <td>2175</td>\n",
       "      <td>60</td>\n",
       "      <td>67</td>\n",
       "      <td>2851</td>\n",
       "      <td>164</td>\n",
       "      <td>976</td>\n",
       "    </tr>\n",
       "  </tbody>\n",
       "</table>\n",
       "</div>"
      ],
      "text/plain": [
       "                          title            type            film_studio  \\\n",
       "count                      7486            7486                   7468   \n",
       "unique                     6762               6                   5422   \n",
       "top     день святого валентина_  художественный  киностудия \"мосфильм\"   \n",
       "freq                          5            5909                    345   \n",
       "\n",
       "       production_country    director   producer  \\\n",
       "count                7484        7486       6918   \n",
       "unique                933        4797       5326   \n",
       "top                   сша  о.семёнова  п.смирнов   \n",
       "freq                 2175          60         67   \n",
       "\n",
       "                        age_restriction       financing_source      genres  \n",
       "count                              7486                    332        7486  \n",
       "unique                                5                      3         743  \n",
       "top     «16+» - для детей старше 16 лет  Министерство культуры  нет данных  \n",
       "freq                               2851                    164         976  "
      ]
     },
     "execution_count": 20,
     "metadata": {},
     "output_type": "execute_result"
    }
   ],
   "source": [
    "# посмотрим на категорийные данные после преобразований\n",
    "df.describe(include='object')"
   ]
  },
  {
   "cell_type": "markdown",
   "metadata": {},
   "source": [
    "**Вывод:**  \n",
    "Данные привели к нижнему регистру и убрали ведущие и конечные пробелы, если они есть. Тем самым сократили количество уникальных значений по столбцам."
   ]
  },
  {
   "cell_type": "markdown",
   "metadata": {
    "id": "XFSN5lrEgFyR"
   },
   "source": [
    "#### Шаг 2.5. Проверьте количественные значения\n",
    "\n",
    "- Проверьте, обнаружились ли в таких столбцах подозрительные данные. Как с такими данными лучше поступить?\n",
    "\n",
    "<div id=\"accordion\">\n",
    "    <div class=\"card\">\n",
    "        <div class=\"card-header\" id=\"headingThree\">\n",
    "            <button class=\"btn btn-link collapsed\" data-toggle=\"collapse\" data-target=\"#collapseHint_budget\" aria-expanded=\"false\" aria-controls=\"collapseHint_budget\">Подсказка</button>\n",
    "        </div>\n",
    "        <div id=\"collapseHint_budget\" class=\"collapse\" aria-labelledby=\"headingThree\" data-parent=\"#accordion\">\n",
    "            <div class=\"card-body\">\n",
    "Обратите внимание на описание столбца <code>budget</code>. Как этот столбец соотносится с двумя другими: <code>refundable_support</code> и <code>nonrefundable_support</code>?\n",
    "            </div>\n",
    "        </div>\n",
    "    </div>\n",
    "</div>"
   ]
  },
  {
   "cell_type": "code",
   "execution_count": 21,
   "metadata": {
    "id": "YbzClBxagFyS"
   },
   "outputs": [
    {
     "data": {
      "text/html": [
       "<div>\n",
       "<style scoped>\n",
       "    .dataframe tbody tr th:only-of-type {\n",
       "        vertical-align: middle;\n",
       "    }\n",
       "\n",
       "    .dataframe tbody tr th {\n",
       "        vertical-align: top;\n",
       "    }\n",
       "\n",
       "    .dataframe thead th {\n",
       "        text-align: right;\n",
       "    }\n",
       "</style>\n",
       "<table border=\"1\" class=\"dataframe\">\n",
       "  <thead>\n",
       "    <tr style=\"text-align: right;\">\n",
       "      <th></th>\n",
       "      <th>budget</th>\n",
       "      <th>refundable_support</th>\n",
       "      <th>nonrefundable_support</th>\n",
       "      <th>box_office</th>\n",
       "    </tr>\n",
       "  </thead>\n",
       "  <tbody>\n",
       "    <tr>\n",
       "      <td>count</td>\n",
       "      <td>332</td>\n",
       "      <td>332</td>\n",
       "      <td>332</td>\n",
       "      <td>7486</td>\n",
       "    </tr>\n",
       "    <tr>\n",
       "      <td>mean</td>\n",
       "      <td>127229716</td>\n",
       "      <td>11864457</td>\n",
       "      <td>48980988</td>\n",
       "      <td>32262853</td>\n",
       "    </tr>\n",
       "    <tr>\n",
       "      <td>std</td>\n",
       "      <td>188588333</td>\n",
       "      <td>24916555</td>\n",
       "      <td>59980117</td>\n",
       "      <td>160600784</td>\n",
       "    </tr>\n",
       "    <tr>\n",
       "      <td>min</td>\n",
       "      <td>0</td>\n",
       "      <td>0</td>\n",
       "      <td>0</td>\n",
       "      <td>0</td>\n",
       "    </tr>\n",
       "    <tr>\n",
       "      <td>25%</td>\n",
       "      <td>42000000</td>\n",
       "      <td>0</td>\n",
       "      <td>25000000</td>\n",
       "      <td>0</td>\n",
       "    </tr>\n",
       "    <tr>\n",
       "      <td>50%</td>\n",
       "      <td>68649916</td>\n",
       "      <td>0</td>\n",
       "      <td>30000000</td>\n",
       "      <td>0</td>\n",
       "    </tr>\n",
       "    <tr>\n",
       "      <td>75%</td>\n",
       "      <td>141985319</td>\n",
       "      <td>15000000</td>\n",
       "      <td>40375000</td>\n",
       "      <td>1080467</td>\n",
       "    </tr>\n",
       "    <tr>\n",
       "      <td>max</td>\n",
       "      <td>2305074303</td>\n",
       "      <td>180000000</td>\n",
       "      <td>400000000</td>\n",
       "      <td>3073568690</td>\n",
       "    </tr>\n",
       "  </tbody>\n",
       "</table>\n",
       "</div>"
      ],
      "text/plain": [
       "           budget  refundable_support  nonrefundable_support  box_office\n",
       "count         332                 332                    332        7486\n",
       "mean    127229716            11864457               48980988    32262853\n",
       "std     188588333            24916555               59980117   160600784\n",
       "min             0                   0                      0           0\n",
       "25%      42000000                   0               25000000           0\n",
       "50%      68649916                   0               30000000           0\n",
       "75%     141985319            15000000               40375000     1080467\n",
       "max    2305074303           180000000              400000000  3073568690"
      ]
     },
     "execution_count": 21,
     "metadata": {},
     "output_type": "execute_result"
    }
   ],
   "source": [
    "# посмотрим на количественные данные\n",
    "df[['budget', 'refundable_support', 'nonrefundable_support', 'box_office']].describe().astype('int')"
   ]
  },
  {
   "cell_type": "code",
   "execution_count": 22,
   "metadata": {},
   "outputs": [],
   "source": [
    "# исправим строки которые не удовлетворяют условию из документации,\n",
    "# budget = refundable_support + nonrefundable_support\n",
    "df.loc[(df['financing_source'].notna()) & \n",
    "       (df['budget'] < df['refundable_support'] + df['nonrefundable_support']), 'budget'] = df['refundable_support'] + df['nonrefundable_support']"
   ]
  },
  {
   "cell_type": "markdown",
   "metadata": {},
   "source": [
    "**Посмотрим на результат после перерасчета бюджетных данных.**"
   ]
  },
  {
   "cell_type": "code",
   "execution_count": 23,
   "metadata": {},
   "outputs": [
    {
     "data": {
      "text/html": [
       "<div>\n",
       "<style scoped>\n",
       "    .dataframe tbody tr th:only-of-type {\n",
       "        vertical-align: middle;\n",
       "    }\n",
       "\n",
       "    .dataframe tbody tr th {\n",
       "        vertical-align: top;\n",
       "    }\n",
       "\n",
       "    .dataframe thead th {\n",
       "        text-align: right;\n",
       "    }\n",
       "</style>\n",
       "<table border=\"1\" class=\"dataframe\">\n",
       "  <thead>\n",
       "    <tr style=\"text-align: right;\">\n",
       "      <th></th>\n",
       "      <th>title</th>\n",
       "      <th>pu_number</th>\n",
       "      <th>show_start_date</th>\n",
       "      <th>type</th>\n",
       "      <th>film_studio</th>\n",
       "      <th>production_country</th>\n",
       "      <th>director</th>\n",
       "      <th>producer</th>\n",
       "      <th>age_restriction</th>\n",
       "      <th>refundable_support</th>\n",
       "      <th>nonrefundable_support</th>\n",
       "      <th>budget</th>\n",
       "      <th>financing_source</th>\n",
       "      <th>ratings</th>\n",
       "      <th>genres</th>\n",
       "      <th>box_office</th>\n",
       "    </tr>\n",
       "  </thead>\n",
       "  <tbody>\n",
       "  </tbody>\n",
       "</table>\n",
       "</div>"
      ],
      "text/plain": [
       "Empty DataFrame\n",
       "Columns: [title, pu_number, show_start_date, type, film_studio, production_country, director, producer, age_restriction, refundable_support, nonrefundable_support, budget, financing_source, ratings, genres, box_office]\n",
       "Index: []"
      ]
     },
     "metadata": {},
     "output_type": "display_data"
    }
   ],
   "source": [
    "display(df.loc[(df['financing_source'].notna()) & \n",
    "       (df['budget'] < df['refundable_support'] + df['nonrefundable_support'])])"
   ]
  },
  {
   "cell_type": "markdown",
   "metadata": {},
   "source": [
    "**Вывод:**  \n",
    "Бюджетные данные заполнены недостающими значениями."
   ]
  },
  {
   "cell_type": "markdown",
   "metadata": {
    "id": "Eu6oWp2CgFyS"
   },
   "source": [
    "#### Шаг 2.6. Добавьте новые столбцы\n",
    "\n",
    "\n",
    "\n"
   ]
  },
  {
   "cell_type": "markdown",
   "metadata": {
    "id": "7GgW-UpAgFyS"
   },
   "source": [
    "- Создайте столбец с информацией о годе проката. Выделите год из даты премьеры фильма."
   ]
  },
  {
   "cell_type": "code",
   "execution_count": 24,
   "metadata": {
    "id": "I-yd1DkWgFyT"
   },
   "outputs": [],
   "source": [
    "df['show_start_date_year'] = pd.DatetimeIndex(df['show_start_date']).year"
   ]
  },
  {
   "cell_type": "markdown",
   "metadata": {
    "id": "nFTDLDYOgFyT"
   },
   "source": [
    "- Создайте два столбца: с именем и фамилией главного режиссёра и основным жанром фильма. В столбцы войдут первые значения из списка режиссёров и жанров соответственно.\n",
    "\n",
    "<div id=\"accordion\">\n",
    "    <div class=\"card\">\n",
    "        <div class=\"card-header\" id=\"headingThree\">\n",
    "            <button class=\"btn btn-link collapsed\" data-toggle=\"collapse\" data-target=\"#collapseHint_2\" aria-expanded=\"false\" aria-controls=\"collapseHint_2\">Подсказка</button>\n",
    "        </div>\n",
    "        <div id=\"collapseHint_2\" class=\"collapse\" aria-labelledby=\"headingThree\" data-parent=\"#accordion\">\n",
    "            <div class=\"card-body\">\n",
    "Чтобы создать такие столбцы, лучше всего использовать собственную функцию. Эту функцию можно применить к двум столбцам сразу. \n",
    "            </div>\n",
    "        </div>\n",
    "    </div>\n",
    "</div>"
   ]
  },
  {
   "cell_type": "code",
   "execution_count": 25,
   "metadata": {},
   "outputs": [],
   "source": [
    "df['main_director'] = df['director'].apply(lambda x: x.split(',')[0])"
   ]
  },
  {
   "cell_type": "code",
   "execution_count": 26,
   "metadata": {},
   "outputs": [],
   "source": [
    "df['main_genres'] = df['genres'].apply(lambda x: x.split(',')[0])"
   ]
  },
  {
   "cell_type": "code",
   "execution_count": 27,
   "metadata": {},
   "outputs": [
    {
     "data": {
      "text/plain": [
       "0           кевин костнер\n",
       "1               е.матвеев\n",
       "2       тимур бекмамбетов\n",
       "3       тимур бекмамбетов\n",
       "4       тимур бекмамбетов\n",
       "              ...        \n",
       "7481          фил грабски\n",
       "7482           ник пауэлл\n",
       "7483     чарльз е.бастьен\n",
       "7484             а.беляев\n",
       "7485             и.трусов\n",
       "Name: director, Length: 7486, dtype: object"
      ]
     },
     "execution_count": 27,
     "metadata": {},
     "output_type": "execute_result"
    }
   ],
   "source": [
    "df['director'].str.split(',').str[0]"
   ]
  },
  {
   "cell_type": "code",
   "execution_count": 28,
   "metadata": {},
   "outputs": [
    {
     "data": {
      "text/html": [
       "<div>\n",
       "<style scoped>\n",
       "    .dataframe tbody tr th:only-of-type {\n",
       "        vertical-align: middle;\n",
       "    }\n",
       "\n",
       "    .dataframe tbody tr th {\n",
       "        vertical-align: top;\n",
       "    }\n",
       "\n",
       "    .dataframe thead th {\n",
       "        text-align: right;\n",
       "    }\n",
       "</style>\n",
       "<table border=\"1\" class=\"dataframe\">\n",
       "  <thead>\n",
       "    <tr style=\"text-align: right;\">\n",
       "      <th></th>\n",
       "      <th>show_start_date</th>\n",
       "      <th>show_start_date_year</th>\n",
       "      <th>director</th>\n",
       "      <th>main_director</th>\n",
       "      <th>genres</th>\n",
       "      <th>main_genres</th>\n",
       "    </tr>\n",
       "  </thead>\n",
       "  <tbody>\n",
       "    <tr>\n",
       "      <td>0</td>\n",
       "      <td>2015-11-27</td>\n",
       "      <td>2015</td>\n",
       "      <td>кевин костнер</td>\n",
       "      <td>кевин костнер</td>\n",
       "      <td>боевик,драма,мелодрама</td>\n",
       "      <td>боевик</td>\n",
       "    </tr>\n",
       "    <tr>\n",
       "      <td>1</td>\n",
       "      <td>2016-09-13</td>\n",
       "      <td>2016</td>\n",
       "      <td>е.матвеев</td>\n",
       "      <td>е.матвеев</td>\n",
       "      <td>драма,военный</td>\n",
       "      <td>драма</td>\n",
       "    </tr>\n",
       "    <tr>\n",
       "      <td>2</td>\n",
       "      <td>2016-10-10</td>\n",
       "      <td>2016</td>\n",
       "      <td>тимур бекмамбетов</td>\n",
       "      <td>тимур бекмамбетов</td>\n",
       "      <td>фантастика,боевик,триллер</td>\n",
       "      <td>фантастика</td>\n",
       "    </tr>\n",
       "    <tr>\n",
       "      <td>3</td>\n",
       "      <td>2016-06-10</td>\n",
       "      <td>2016</td>\n",
       "      <td>тимур бекмамбетов</td>\n",
       "      <td>тимур бекмамбетов</td>\n",
       "      <td>фантастика,боевик,триллер</td>\n",
       "      <td>фантастика</td>\n",
       "    </tr>\n",
       "    <tr>\n",
       "      <td>4</td>\n",
       "      <td>2015-07-29</td>\n",
       "      <td>2015</td>\n",
       "      <td>тимур бекмамбетов</td>\n",
       "      <td>тимур бекмамбетов</td>\n",
       "      <td>фантастика,боевик,триллер</td>\n",
       "      <td>фантастика</td>\n",
       "    </tr>\n",
       "  </tbody>\n",
       "</table>\n",
       "</div>"
      ],
      "text/plain": [
       "  show_start_date  show_start_date_year           director      main_director  \\\n",
       "0      2015-11-27                  2015      кевин костнер      кевин костнер   \n",
       "1      2016-09-13                  2016          е.матвеев          е.матвеев   \n",
       "2      2016-10-10                  2016  тимур бекмамбетов  тимур бекмамбетов   \n",
       "3      2016-06-10                  2016  тимур бекмамбетов  тимур бекмамбетов   \n",
       "4      2015-07-29                  2015  тимур бекмамбетов  тимур бекмамбетов   \n",
       "\n",
       "                      genres main_genres  \n",
       "0     боевик,драма,мелодрама      боевик  \n",
       "1              драма,военный       драма  \n",
       "2  фантастика,боевик,триллер  фантастика  \n",
       "3  фантастика,боевик,триллер  фантастика  \n",
       "4  фантастика,боевик,триллер  фантастика  "
      ]
     },
     "execution_count": 28,
     "metadata": {},
     "output_type": "execute_result"
    }
   ],
   "source": [
    "# посмотрим на новые столбцы\n",
    "df[['show_start_date', 'show_start_date_year',\n",
    "    'director', 'main_director',\n",
    "    'genres', 'main_genres']].head()"
   ]
  },
  {
   "cell_type": "code",
   "execution_count": 29,
   "metadata": {
    "id": "LSbRZKbMgFyU"
   },
   "outputs": [
    {
     "data": {
      "text/plain": [
       "count    332.000000\n",
       "mean       0.542098\n",
       "std        0.196925\n",
       "min        0.044043\n",
       "25%        0.384615\n",
       "50%        0.614038\n",
       "75%        0.661412\n",
       "max        1.000000\n",
       "Name: proportion_state_support, dtype: float64"
      ]
     },
     "execution_count": 29,
     "metadata": {},
     "output_type": "execute_result"
    }
   ],
   "source": [
    "df['proportion_state_support'] = (df['refundable_support'] + df['nonrefundable_support']) / df['budget']\n",
    "df['proportion_state_support'].describe()"
   ]
  },
  {
   "cell_type": "markdown",
   "metadata": {
    "id": "1FsCXHwdgFyU"
   },
   "source": [
    "- Посчитайте, какую долю от общего бюджета фильма составляет государственная поддержка."
   ]
  },
  {
   "cell_type": "markdown",
   "metadata": {
    "id": "LV6qFuZLgFyV"
   },
   "source": [
    "Государственная поддержка составляет долю от 4 до 100%, среднее значение 54%, медианное 61%."
   ]
  },
  {
   "cell_type": "markdown",
   "metadata": {},
   "source": [
    "**Вывод:**  \n",
    "Созданы дополнительные столбцы для дальнейших исследований."
   ]
  },
  {
   "cell_type": "markdown",
   "metadata": {
    "id": "6t4EukPLgFyV"
   },
   "source": [
    "### Шаг 3. Проведите исследовательский анализ данных\n"
   ]
  },
  {
   "cell_type": "markdown",
   "metadata": {
    "id": "vAH8WCzugFyV"
   },
   "source": [
    "- Посмотрите, сколько фильмов выходило в прокат каждый год. Обратите внимание, что данные о прокате в кинотеатрах известны не для всех фильмов. Посчитайте, какую долю составляют фильмы с указанной информацией о прокате в кинотеатрах."
   ]
  },
  {
   "cell_type": "code",
   "execution_count": 30,
   "metadata": {
    "id": "ABeV47y7gFyW"
   },
   "outputs": [
    {
     "data": {
      "text/html": [
       "<div>\n",
       "<style scoped>\n",
       "    .dataframe tbody tr th:only-of-type {\n",
       "        vertical-align: middle;\n",
       "    }\n",
       "\n",
       "    .dataframe tbody tr th {\n",
       "        vertical-align: top;\n",
       "    }\n",
       "\n",
       "    .dataframe thead th {\n",
       "        text-align: right;\n",
       "    }\n",
       "</style>\n",
       "<table border=\"1\" class=\"dataframe\">\n",
       "  <thead>\n",
       "    <tr style=\"text-align: right;\">\n",
       "      <th></th>\n",
       "      <th>box_office</th>\n",
       "    </tr>\n",
       "    <tr>\n",
       "      <th>show_start_date_year</th>\n",
       "      <th></th>\n",
       "    </tr>\n",
       "  </thead>\n",
       "  <tbody>\n",
       "    <tr>\n",
       "      <td>2010</td>\n",
       "      <td>985</td>\n",
       "    </tr>\n",
       "    <tr>\n",
       "      <td>2019</td>\n",
       "      <td>930</td>\n",
       "    </tr>\n",
       "    <tr>\n",
       "      <td>2018</td>\n",
       "      <td>891</td>\n",
       "    </tr>\n",
       "    <tr>\n",
       "      <td>2016</td>\n",
       "      <td>818</td>\n",
       "    </tr>\n",
       "    <tr>\n",
       "      <td>2014</td>\n",
       "      <td>807</td>\n",
       "    </tr>\n",
       "    <tr>\n",
       "      <td>2015</td>\n",
       "      <td>705</td>\n",
       "    </tr>\n",
       "    <tr>\n",
       "      <td>2013</td>\n",
       "      <td>630</td>\n",
       "    </tr>\n",
       "    <tr>\n",
       "      <td>2011</td>\n",
       "      <td>622</td>\n",
       "    </tr>\n",
       "    <tr>\n",
       "      <td>2012</td>\n",
       "      <td>593</td>\n",
       "    </tr>\n",
       "    <tr>\n",
       "      <td>2017</td>\n",
       "      <td>505</td>\n",
       "    </tr>\n",
       "  </tbody>\n",
       "</table>\n",
       "</div>"
      ],
      "text/plain": [
       "                      box_office\n",
       "show_start_date_year            \n",
       "2010                         985\n",
       "2019                         930\n",
       "2018                         891\n",
       "2016                         818\n",
       "2014                         807\n",
       "2015                         705\n",
       "2013                         630\n",
       "2011                         622\n",
       "2012                         593\n",
       "2017                         505"
      ]
     },
     "metadata": {},
     "output_type": "display_data"
    },
    {
     "data": {
      "image/png": "[encoded data removed]",
      "text/plain": [
       "<Figure size 432x288 with 1 Axes>"
      ]
     },
     "metadata": {
      "needs_background": "light"
     },
     "output_type": "display_data"
    },
    {
     "name": "stdout",
     "output_type": "stream",
     "text": [
      "Фильмов с указанной информацией о прокате в кинотеатрах: 41.86%\n"
     ]
    }
   ],
   "source": [
    "# прокат по годам\n",
    "count_per_year = df.pivot_table(index='show_start_date_year', values='box_office', aggfunc='count')\n",
    "display(count_per_year.sort_values('box_office', ascending=False))\n",
    "count_per_year.plot(kind='bar', grid=True, title='прокат по годам')\n",
    "plt.xlabel('год')\n",
    "plt.ylabel('количество показов')\n",
    "plt.show()\n",
    "\n",
    "cnt = df.loc[df['box_office'] > 0]['box_office'].count() / df['box_office'].count()\n",
    "print(f'Фильмов с указанной информацией о прокате в кинотеатрах: {cnt:.2%}')"
   ]
  },
  {
   "cell_type": "markdown",
   "metadata": {
    "id": "BEOdcIrIgFyW"
   },
   "source": [
    "- Изучите, как менялась динамика проката по годам. В каком году сумма сборов была минимальной? А максимальной?"
   ]
  },
  {
   "cell_type": "code",
   "execution_count": 31,
   "metadata": {
    "id": "tfEhofYvgFyX"
   },
   "outputs": [
    {
     "data": {
      "text/html": [
       "<div>\n",
       "<style scoped>\n",
       "    .dataframe tbody tr th:only-of-type {\n",
       "        vertical-align: middle;\n",
       "    }\n",
       "\n",
       "    .dataframe tbody tr th {\n",
       "        vertical-align: top;\n",
       "    }\n",
       "\n",
       "    .dataframe thead th {\n",
       "        text-align: right;\n",
       "    }\n",
       "</style>\n",
       "<table border=\"1\" class=\"dataframe\">\n",
       "  <thead>\n",
       "    <tr style=\"text-align: right;\">\n",
       "      <th></th>\n",
       "      <th>box_office</th>\n",
       "    </tr>\n",
       "    <tr>\n",
       "      <th>show_start_date_year</th>\n",
       "      <th></th>\n",
       "    </tr>\n",
       "  </thead>\n",
       "  <tbody>\n",
       "    <tr>\n",
       "      <td>2010</td>\n",
       "      <td>2.43</td>\n",
       "    </tr>\n",
       "    <tr>\n",
       "      <td>2011</td>\n",
       "      <td>14.10</td>\n",
       "    </tr>\n",
       "    <tr>\n",
       "      <td>2012</td>\n",
       "      <td>6.96</td>\n",
       "    </tr>\n",
       "    <tr>\n",
       "      <td>2013</td>\n",
       "      <td>29.80</td>\n",
       "    </tr>\n",
       "    <tr>\n",
       "      <td>2014</td>\n",
       "      <td>7444.95</td>\n",
       "    </tr>\n",
       "    <tr>\n",
       "      <td>2015</td>\n",
       "      <td>39497.37</td>\n",
       "    </tr>\n",
       "    <tr>\n",
       "      <td>2016</td>\n",
       "      <td>47866.30</td>\n",
       "    </tr>\n",
       "    <tr>\n",
       "      <td>2017</td>\n",
       "      <td>48563.71</td>\n",
       "    </tr>\n",
       "    <tr>\n",
       "      <td>2018</td>\n",
       "      <td>49668.40</td>\n",
       "    </tr>\n",
       "    <tr>\n",
       "      <td>2019</td>\n",
       "      <td>48425.71</td>\n",
       "    </tr>\n",
       "  </tbody>\n",
       "</table>\n",
       "</div>"
      ],
      "text/plain": [
       "                      box_office\n",
       "show_start_date_year            \n",
       "2010                        2.43\n",
       "2011                       14.10\n",
       "2012                        6.96\n",
       "2013                       29.80\n",
       "2014                     7444.95\n",
       "2015                    39497.37\n",
       "2016                    47866.30\n",
       "2017                    48563.71\n",
       "2018                    49668.40\n",
       "2019                    48425.71"
      ]
     },
     "metadata": {},
     "output_type": "display_data"
    },
    {
     "data": {
      "image/png": "[encoded data removed]",
      "text/plain": [
       "<Figure size 432x288 with 1 Axes>"
      ]
     },
     "metadata": {
      "needs_background": "light"
     },
     "output_type": "display_data"
    }
   ],
   "source": [
    "# суммы сборов по годам\n",
    "box_office_per_year = df.pivot_table(index='show_start_date_year', values='box_office', aggfunc='sum')\n",
    "box_office_per_year = round(box_office_per_year/1000000,2)\n",
    "display(box_office_per_year)\n",
    "box_office_per_year.plot(kind='bar', grid=True, title='суммы сборов по годам')\n",
    "plt.xlabel('год')\n",
    "plt.ylabel('млн.руб.')\n",
    "plt.show()"
   ]
  },
  {
   "cell_type": "markdown",
   "metadata": {},
   "source": [
    "До 2015 мало данных, с 2015 произошел стремительный рост, максимальное значение в 2018 почти 50млрд.руб.  \n",
    "Минимальное значение было в 2010 2.43 млн.руб."
   ]
  },
  {
   "cell_type": "markdown",
   "metadata": {
    "id": "G-7qS-N-gFyY"
   },
   "source": [
    "- С помощью сводной таблицы посчитайте среднюю и медианную сумму сборов для каждого года."
   ]
  },
  {
   "cell_type": "code",
   "execution_count": 32,
   "metadata": {
    "id": "jmp-rgg9gFyY"
   },
   "outputs": [
    {
     "data": {
      "text/html": [
       "<div>\n",
       "<style scoped>\n",
       "    .dataframe tbody tr th:only-of-type {\n",
       "        vertical-align: middle;\n",
       "    }\n",
       "\n",
       "    .dataframe tbody tr th {\n",
       "        vertical-align: top;\n",
       "    }\n",
       "\n",
       "    .dataframe thead th {\n",
       "        text-align: right;\n",
       "    }\n",
       "</style>\n",
       "<table border=\"1\" class=\"dataframe\">\n",
       "  <thead>\n",
       "    <tr style=\"text-align: right;\">\n",
       "      <th></th>\n",
       "      <th>mean</th>\n",
       "      <th>median</th>\n",
       "      <th>sum</th>\n",
       "    </tr>\n",
       "    <tr>\n",
       "      <th>show_start_date_year</th>\n",
       "      <th></th>\n",
       "      <th></th>\n",
       "      <th></th>\n",
       "    </tr>\n",
       "  </thead>\n",
       "  <tbody>\n",
       "    <tr>\n",
       "      <td>2010</td>\n",
       "      <td>24046</td>\n",
       "      <td>1710</td>\n",
       "      <td>2428654</td>\n",
       "    </tr>\n",
       "    <tr>\n",
       "      <td>2011</td>\n",
       "      <td>129383</td>\n",
       "      <td>3000</td>\n",
       "      <td>14102765</td>\n",
       "    </tr>\n",
       "    <tr>\n",
       "      <td>2012</td>\n",
       "      <td>56548</td>\n",
       "      <td>6220</td>\n",
       "      <td>6955423</td>\n",
       "    </tr>\n",
       "    <tr>\n",
       "      <td>2013</td>\n",
       "      <td>166478</td>\n",
       "      <td>3580</td>\n",
       "      <td>29799704</td>\n",
       "    </tr>\n",
       "    <tr>\n",
       "      <td>2014</td>\n",
       "      <td>27270885</td>\n",
       "      <td>20400</td>\n",
       "      <td>7444951839</td>\n",
       "    </tr>\n",
       "    <tr>\n",
       "      <td>2015</td>\n",
       "      <td>85492132</td>\n",
       "      <td>5003449</td>\n",
       "      <td>39497365062</td>\n",
       "    </tr>\n",
       "    <tr>\n",
       "      <td>2016</td>\n",
       "      <td>91173903</td>\n",
       "      <td>3915041</td>\n",
       "      <td>47866299596</td>\n",
       "    </tr>\n",
       "    <tr>\n",
       "      <td>2017</td>\n",
       "      <td>136032793</td>\n",
       "      <td>9968340</td>\n",
       "      <td>48563707214</td>\n",
       "    </tr>\n",
       "    <tr>\n",
       "      <td>2018</td>\n",
       "      <td>104565058</td>\n",
       "      <td>8891102</td>\n",
       "      <td>49668402949</td>\n",
       "    </tr>\n",
       "    <tr>\n",
       "      <td>2019</td>\n",
       "      <td>91369261</td>\n",
       "      <td>4627798</td>\n",
       "      <td>48425708592</td>\n",
       "    </tr>\n",
       "  </tbody>\n",
       "</table>\n",
       "</div>"
      ],
      "text/plain": [
       "                           mean   median          sum\n",
       "show_start_date_year                                 \n",
       "2010                      24046     1710      2428654\n",
       "2011                     129383     3000     14102765\n",
       "2012                      56548     6220      6955423\n",
       "2013                     166478     3580     29799704\n",
       "2014                   27270885    20400   7444951839\n",
       "2015                   85492132  5003449  39497365062\n",
       "2016                   91173903  3915041  47866299596\n",
       "2017                  136032793  9968340  48563707214\n",
       "2018                  104565058  8891102  49668402949\n",
       "2019                   91369261  4627798  48425708592"
      ]
     },
     "execution_count": 32,
     "metadata": {},
     "output_type": "execute_result"
    }
   ],
   "source": [
    "df_not_null = df.query('box_office > 0')\n",
    "df_not_null.pivot_table(index='show_start_date_year', values='box_office', aggfunc=('mean', 'median', 'sum')).astype('int')\n"
   ]
  },
  {
   "cell_type": "markdown",
   "metadata": {
    "id": "Ok89WFwJgFyZ"
   },
   "source": [
    "- Определите, влияет ли возрастное ограничение аудитории («6+», «12+», «16+», «18+» и т. д.) на сборы фильма в прокате в период с 2015 по 2019 год? Фильмы с каким возрастным ограничением собрали больше всего денег в прокате? Меняется ли картина в зависимости от года? Если да, предположите, с чем это может быть связано."
   ]
  },
  {
   "cell_type": "code",
   "execution_count": 33,
   "metadata": {
    "id": "jsSbEqfjgFya"
   },
   "outputs": [
    {
     "data": {
      "text/html": [
       "<div>\n",
       "<style scoped>\n",
       "    .dataframe tbody tr th:only-of-type {\n",
       "        vertical-align: middle;\n",
       "    }\n",
       "\n",
       "    .dataframe tbody tr th {\n",
       "        vertical-align: top;\n",
       "    }\n",
       "\n",
       "    .dataframe thead tr th {\n",
       "        text-align: left;\n",
       "    }\n",
       "\n",
       "    .dataframe thead tr:last-of-type th {\n",
       "        text-align: right;\n",
       "    }\n",
       "</style>\n",
       "<table border=\"1\" class=\"dataframe\">\n",
       "  <thead>\n",
       "    <tr>\n",
       "      <th></th>\n",
       "      <th colspan=\"5\" halign=\"left\">sum</th>\n",
       "    </tr>\n",
       "    <tr>\n",
       "      <th>age_restriction</th>\n",
       "      <th>«0+» - для любой зрительской аудитории</th>\n",
       "      <th>«12+» - для детей старше 12 лет</th>\n",
       "      <th>«16+» - для детей старше 16 лет</th>\n",
       "      <th>«18+» - запрещено для детей</th>\n",
       "      <th>«6+» - для детей старше 6 лет</th>\n",
       "    </tr>\n",
       "    <tr>\n",
       "      <th>show_start_date_year</th>\n",
       "      <th></th>\n",
       "      <th></th>\n",
       "      <th></th>\n",
       "      <th></th>\n",
       "      <th></th>\n",
       "    </tr>\n",
       "  </thead>\n",
       "  <tbody>\n",
       "    <tr>\n",
       "      <td>2015</td>\n",
       "      <td>362</td>\n",
       "      <td>13586</td>\n",
       "      <td>11302</td>\n",
       "      <td>5374</td>\n",
       "      <td>8680</td>\n",
       "    </tr>\n",
       "    <tr>\n",
       "      <td>2016</td>\n",
       "      <td>135</td>\n",
       "      <td>12168</td>\n",
       "      <td>16590</td>\n",
       "      <td>6727</td>\n",
       "      <td>12025</td>\n",
       "    </tr>\n",
       "    <tr>\n",
       "      <td>2017</td>\n",
       "      <td>228</td>\n",
       "      <td>7835</td>\n",
       "      <td>18690</td>\n",
       "      <td>9580</td>\n",
       "      <td>12063</td>\n",
       "    </tr>\n",
       "    <tr>\n",
       "      <td>2018</td>\n",
       "      <td>31</td>\n",
       "      <td>14236</td>\n",
       "      <td>16426</td>\n",
       "      <td>8676</td>\n",
       "      <td>10069</td>\n",
       "    </tr>\n",
       "    <tr>\n",
       "      <td>2019</td>\n",
       "      <td>16</td>\n",
       "      <td>12638</td>\n",
       "      <td>12668</td>\n",
       "      <td>10033</td>\n",
       "      <td>12812</td>\n",
       "    </tr>\n",
       "  </tbody>\n",
       "</table>\n",
       "</div>"
      ],
      "text/plain": [
       "                                                        sum  \\\n",
       "age_restriction      «0+» - для любой зрительской аудитории   \n",
       "show_start_date_year                                          \n",
       "2015                                                    362   \n",
       "2016                                                    135   \n",
       "2017                                                    228   \n",
       "2018                                                     31   \n",
       "2019                                                     16   \n",
       "\n",
       "                                                      \\\n",
       "age_restriction      «12+» - для детей старше 12 лет   \n",
       "show_start_date_year                                   \n",
       "2015                                           13586   \n",
       "2016                                           12168   \n",
       "2017                                            7835   \n",
       "2018                                           14236   \n",
       "2019                                           12638   \n",
       "\n",
       "                                                      \\\n",
       "age_restriction      «16+» - для детей старше 16 лет   \n",
       "show_start_date_year                                   \n",
       "2015                                           11302   \n",
       "2016                                           16590   \n",
       "2017                                           18690   \n",
       "2018                                           16426   \n",
       "2019                                           12668   \n",
       "\n",
       "                                                                                \n",
       "age_restriction      «18+» - запрещено для детей «6+» - для детей старше 6 лет  \n",
       "show_start_date_year                                                            \n",
       "2015                                        5374                          8680  \n",
       "2016                                        6727                         12025  \n",
       "2017                                        9580                         12063  \n",
       "2018                                        8676                         10069  \n",
       "2019                                       10033                         12812  "
      ]
     },
     "metadata": {},
     "output_type": "display_data"
    },
    {
     "data": {
      "image/png": "[encoded data removed]",
      "text/plain": [
       "<Figure size 864x360 with 1 Axes>"
      ]
     },
     "metadata": {
      "needs_background": "light"
     },
     "output_type": "display_data"
    }
   ],
   "source": [
    "# отберем данные с 2015 по 2019 с данными проката\n",
    "df_not_null = df[['box_office', 'age_restriction', 'show_start_date_year']].query('box_office > 0 and 2015 <= show_start_date_year <= 2019')\n",
    "# данные проката округлим до миллионов\n",
    "df_not_null['box_office'] = (df_not_null['box_office']/1000000).astype('int')\n",
    "# построим сводную таблицу\n",
    "pivot = df_not_null.pivot_table(index='show_start_date_year', columns='age_restriction', values='box_office', aggfunc=['sum'])\n",
    "display(pivot)\n",
    "pivot.plot(kind='line', grid=True, title='суммы сборов по годам и возрастному цензу', figsize=(12, 5))\n",
    "plt.xlabel('год')\n",
    "plt.ylabel('млн.руб.')\n",
    "plt.legend(loc=4,prop={'size':8})\n",
    "plt.show()\n"
   ]
  },
  {
   "cell_type": "markdown",
   "metadata": {},
   "source": [
    "**Вывод:**  \n",
    "Возрастные ограничения влияют на сборы. \n",
    "Фильмы/мультфильмы для 0+ с самыми низкими сборами каждый год.\n",
    "Фильмы для подростков собирают больше всего, в 2017 сборов становится меньше, возможно это связано с развитием соцсетей и интернета. Сборы же для 18+ можно сказать незначительно растут на протяжении всего периода."
   ]
  },
  {
   "cell_type": "markdown",
   "metadata": {
    "id": "l_Kg6Ku4gFya"
   },
   "source": [
    "### Шаг 4. Исследуйте фильмы, которые получили государственную поддержку\n",
    "\n",
    "На этом этапе нет конкретных инструкций и заданий — поищите интересные закономерности в данных. Посмотрите, сколько выделяют средств на поддержку кино. Проверьте, хорошо ли окупаются такие фильмы, какой у них рейтинг."
   ]
  },
  {
   "cell_type": "code",
   "execution_count": 34,
   "metadata": {
    "id": "W9QKpjUdgFyb"
   },
   "outputs": [
    {
     "data": {
      "text/plain": [
       "count     318.000000\n",
       "mean      132.006698\n",
       "std       184.957293\n",
       "min         6.000000\n",
       "25%        46.150000\n",
       "50%        74.955000\n",
       "75%       150.007500\n",
       "max      2305.070000\n",
       "Name: budget, dtype: float64"
      ]
     },
     "execution_count": 34,
     "metadata": {},
     "output_type": "execute_result"
    }
   ],
   "source": [
    "# Отберем данные с наличием бюджета и сборов\n",
    "df_budget = df.query('budget > 0 and box_office > 0')\n",
    "# переведем в миллионы и округлим до 2 знаков\n",
    "df_budget['budget'] = df_budget['budget'].apply(lambda x: round(x/1000000,2))\n",
    "df_budget['box_office'] = df_budget['box_office'].apply(lambda x: round(x/1000000,2))\n",
    "# посмотрим на статистические данные по бюджету\n",
    "df_budget['budget'].describe()"
   ]
  },
  {
   "cell_type": "markdown",
   "metadata": {},
   "source": [
    "Бюджет фильмов от 6 до 2305 млн.рублей, при среднем значении 132 и медиане 75млн.руб.\n",
    "Посмотрим на окупаемость кино. Добавим дополнительный столбец в котором рассчитаем отношение бюджета к сборам."
   ]
  },
  {
   "cell_type": "code",
   "execution_count": 35,
   "metadata": {},
   "outputs": [
    {
     "data": {
      "text/plain": [
       "count    318.0000\n",
       "mean          inf\n",
       "std           NaN\n",
       "min        0.0500\n",
       "25%        1.0300\n",
       "50%        5.6700\n",
       "75%       42.9175\n",
       "max           inf\n",
       "Name: film_payback, dtype: float64"
      ]
     },
     "execution_count": 35,
     "metadata": {},
     "output_type": "execute_result"
    }
   ],
   "source": [
    "df_budget['film_payback'] = round(df_budget['budget'] / df_budget['box_office'], 2)\n",
    "df_budget['film_payback'].describe()"
   ]
  },
  {
   "cell_type": "markdown",
   "metadata": {},
   "source": [
    "По статистическим данным видим что отношение равно 1 находится на 25%, а это значит что только 1/4 проката окупается."
   ]
  },
  {
   "cell_type": "code",
   "execution_count": 36,
   "metadata": {},
   "outputs": [
    {
     "data": {
      "text/plain": [
       "count    301.000000\n",
       "mean       5.999336\n",
       "std        1.130811\n",
       "min        1.000000\n",
       "25%        5.300000\n",
       "50%        6.200000\n",
       "75%        6.700000\n",
       "max        8.500000\n",
       "Name: ratings, dtype: float64"
      ]
     },
     "metadata": {},
     "output_type": "display_data"
    },
    {
     "data": {
      "image/png": "[encoded data removed]",
      "text/plain": [
       "<Figure size 864x360 with 1 Axes>"
      ]
     },
     "metadata": {
      "needs_background": "light"
     },
     "output_type": "display_data"
    }
   ],
   "source": [
    "# посмотрим рейтинг на Кинопоиске\n",
    "df_budget = df_budget.query('ratings > 0')\n",
    "display(df_budget['ratings'].describe())\n",
    "df_budget.plot.hist(y='ratings', grid=True, bins=11, range=(0, 10), figsize=(12, 5), title='Рейтинг на Кинопоиске')\n",
    "plt.xlabel('рейтинг')\n",
    "plt.ylabel('количество оценок')\n",
    "plt.show()"
   ]
  },
  {
   "cell_type": "markdown",
   "metadata": {},
   "source": [
    "Средний балл выставленный зрителем 6, совпадает с медианой, более 7 баллов приходится на 1/4."
   ]
  },
  {
   "cell_type": "markdown",
   "metadata": {
    "id": "V2gYwMcPgFyd"
   },
   "source": [
    "### Шаг 5. Напишите общий вывод"
   ]
  },
  {
   "cell_type": "markdown",
   "metadata": {
    "id": "AYRg3dzXgFye"
   },
   "source": [
    "**Данную информацию необходимо донести ответственным, за выгрузку данных:**\n",
    "1) В результате подготовки данных выяснили что рейтинг содержит не корректные значения. Данные значения были очищены.  \n",
    "2) Только 4% от всех данных заполнено данными по бюджетам, не везде бюджет рассчитан, пришлось пересчитать.  \n",
    "3) Имеется некоторое количество некорректных данных, лишние пробелы, разный регистр. При преобразовании количество уникальных категорий сократилось.  \n",
    "  \n",
    "  \n",
    "**В результате исследований пришли к следующим выводам:**  \n",
    "1) Сборы по фильмам 0+ минимальны и движение по всему периоду никак не менялось. Сборы по подростковому кино падают, вероятнее всего потому что молодежь уходит в соц.сети и интернет. Доход по Кино 18+ немного растет. По детскому кино доход растет.  \n",
    "2) С 2015 по 2019 года сборы примерно одинаковы, с 2014 был резкий скачек, возможно из-за отсутствия данных.  \n",
    "3) Анализ фильмов получивших государственную поддержку показал что 25% этих фильмов получают хорошую оценку и 25% окупаются. А поддержка государства достигает от 6 до 2300 млн.руб., медиана 75млн.руб."
   ]
  }
 ],
 "metadata": {
  "ExecuteTimeLog": [
   {
    "duration": 537,
    "start_time": "2021-07-07T10:12:08.634Z"
   },
   {
    "duration": 206,
    "start_time": "2021-07-07T10:12:30.191Z"
   },
   {
    "duration": 227,
    "start_time": "2021-07-07T10:12:33.078Z"
   },
   {
    "duration": 153,
    "start_time": "2021-07-07T10:13:42.146Z"
   },
   {
    "duration": 233,
    "start_time": "2021-07-07T10:30:09.252Z"
   },
   {
    "duration": 19,
    "start_time": "2021-07-07T10:30:15.577Z"
   },
   {
    "duration": 18,
    "start_time": "2021-07-07T10:30:57.348Z"
   },
   {
    "duration": 19,
    "start_time": "2021-07-07T10:31:17.452Z"
   },
   {
    "duration": 21,
    "start_time": "2021-07-07T10:31:32.227Z"
   },
   {
    "duration": 27,
    "start_time": "2021-07-07T10:32:06.588Z"
   },
   {
    "duration": 23,
    "start_time": "2021-07-07T10:32:43.645Z"
   },
   {
    "duration": 24,
    "start_time": "2021-07-07T10:33:06.948Z"
   },
   {
    "duration": 7,
    "start_time": "2021-07-07T10:33:28.558Z"
   },
   {
    "duration": 23,
    "start_time": "2021-07-07T10:33:43.761Z"
   },
   {
    "duration": 28,
    "start_time": "2021-07-07T10:34:13.466Z"
   },
   {
    "duration": 23,
    "start_time": "2021-07-07T10:35:56.187Z"
   },
   {
    "duration": 6,
    "start_time": "2021-07-07T10:36:48.182Z"
   },
   {
    "duration": 14,
    "start_time": "2021-07-07T10:37:49.641Z"
   },
   {
    "duration": 6,
    "start_time": "2021-07-07T10:38:06.694Z"
   },
   {
    "duration": 6,
    "start_time": "2021-07-07T10:38:13.493Z"
   },
   {
    "duration": 19,
    "start_time": "2021-07-07T10:38:44.056Z"
   },
   {
    "duration": 186,
    "start_time": "2021-07-07T10:48:35.618Z"
   },
   {
    "duration": 24,
    "start_time": "2021-07-07T10:48:51.498Z"
   },
   {
    "duration": 20,
    "start_time": "2021-07-07T10:48:59.415Z"
   },
   {
    "duration": 20,
    "start_time": "2021-07-07T10:53:02.195Z"
   },
   {
    "duration": 188,
    "start_time": "2021-07-07T10:54:40.486Z"
   },
   {
    "duration": 115,
    "start_time": "2021-07-07T10:54:52.552Z"
   },
   {
    "duration": 214,
    "start_time": "2021-07-07T10:54:56.354Z"
   },
   {
    "duration": 47,
    "start_time": "2021-07-07T10:54:58.282Z"
   },
   {
    "duration": 217,
    "start_time": "2021-07-07T10:59:16.075Z"
   },
   {
    "duration": 51,
    "start_time": "2021-07-07T10:59:16.243Z"
   },
   {
    "duration": 578,
    "start_time": "2021-07-07T10:59:18.774Z"
   },
   {
    "duration": 161,
    "start_time": "2021-07-07T10:59:21.238Z"
   },
   {
    "duration": 59,
    "start_time": "2021-07-07T10:59:21.453Z"
   },
   {
    "duration": 3,
    "start_time": "2021-07-07T11:02:10.786Z"
   },
   {
    "duration": 13,
    "start_time": "2021-07-07T11:07:07.722Z"
   },
   {
    "duration": 26,
    "start_time": "2021-07-07T11:07:17.958Z"
   },
   {
    "duration": 22,
    "start_time": "2021-07-07T11:08:17.939Z"
   },
   {
    "duration": 212,
    "start_time": "2021-07-07T11:08:19.665Z"
   },
   {
    "duration": 21,
    "start_time": "2021-07-07T11:08:29.945Z"
   },
   {
    "duration": 31,
    "start_time": "2021-07-07T11:08:38.899Z"
   },
   {
    "duration": 23,
    "start_time": "2021-07-07T11:08:54.527Z"
   },
   {
    "duration": 8,
    "start_time": "2021-07-07T11:18:55.974Z"
   },
   {
    "duration": 7,
    "start_time": "2021-07-07T11:19:03.639Z"
   },
   {
    "duration": 7,
    "start_time": "2021-07-07T11:19:06.444Z"
   },
   {
    "duration": 578,
    "start_time": "2021-07-07T12:09:59.576Z"
   },
   {
    "duration": 195,
    "start_time": "2021-07-07T12:10:00.156Z"
   },
   {
    "duration": 115,
    "start_time": "2021-07-07T12:10:00.353Z"
   },
   {
    "duration": 3,
    "start_time": "2021-07-07T12:10:00.470Z"
   },
   {
    "duration": 32,
    "start_time": "2021-07-07T12:10:00.474Z"
   },
   {
    "duration": 23,
    "start_time": "2021-07-07T12:10:00.508Z"
   },
   {
    "duration": 19,
    "start_time": "2021-07-07T12:10:00.533Z"
   },
   {
    "duration": 44,
    "start_time": "2021-07-07T12:10:00.553Z"
   },
   {
    "duration": 7,
    "start_time": "2021-07-07T12:10:00.600Z"
   },
   {
    "duration": 7,
    "start_time": "2021-07-07T12:19:45.761Z"
   },
   {
    "duration": 21,
    "start_time": "2021-07-07T12:21:35.482Z"
   },
   {
    "duration": 21,
    "start_time": "2021-07-07T12:29:23.569Z"
   },
   {
    "duration": 525,
    "start_time": "2021-07-07T12:29:44.542Z"
   },
   {
    "duration": 214,
    "start_time": "2021-07-07T12:29:45.069Z"
   },
   {
    "duration": 92,
    "start_time": "2021-07-07T12:29:45.285Z"
   },
   {
    "duration": 3,
    "start_time": "2021-07-07T12:29:45.379Z"
   },
   {
    "duration": 28,
    "start_time": "2021-07-07T12:29:45.384Z"
   },
   {
    "duration": 23,
    "start_time": "2021-07-07T12:29:45.413Z"
   },
   {
    "duration": 21,
    "start_time": "2021-07-07T12:29:45.437Z"
   },
   {
    "duration": 41,
    "start_time": "2021-07-07T12:29:45.460Z"
   },
   {
    "duration": 7,
    "start_time": "2021-07-07T12:29:45.502Z"
   },
   {
    "duration": 20,
    "start_time": "2021-07-07T12:29:45.511Z"
   },
   {
    "duration": 12,
    "start_time": "2021-07-07T12:34:02.800Z"
   },
   {
    "duration": 7,
    "start_time": "2021-07-07T12:35:10.479Z"
   },
   {
    "duration": 8,
    "start_time": "2021-07-07T12:35:22.440Z"
   },
   {
    "duration": 6,
    "start_time": "2021-07-07T12:35:35.649Z"
   },
   {
    "duration": 6,
    "start_time": "2021-07-07T12:35:43.107Z"
   },
   {
    "duration": 22,
    "start_time": "2021-07-07T12:38:03.029Z"
   },
   {
    "duration": 10,
    "start_time": "2021-07-07T12:38:06.592Z"
   },
   {
    "duration": 563,
    "start_time": "2021-07-07T12:38:46.493Z"
   },
   {
    "duration": 265,
    "start_time": "2021-07-07T12:38:47.058Z"
   },
   {
    "duration": 94,
    "start_time": "2021-07-07T12:38:47.325Z"
   },
   {
    "duration": 3,
    "start_time": "2021-07-07T12:38:47.422Z"
   },
   {
    "duration": 30,
    "start_time": "2021-07-07T12:38:47.427Z"
   },
   {
    "duration": 16,
    "start_time": "2021-07-07T12:38:53.305Z"
   },
   {
    "duration": 10,
    "start_time": "2021-07-07T12:38:53.499Z"
   },
   {
    "duration": 8,
    "start_time": "2021-07-07T12:39:48.161Z"
   },
   {
    "duration": 27,
    "start_time": "2021-07-07T12:41:17.629Z"
   },
   {
    "duration": 17,
    "start_time": "2021-07-07T12:41:17.867Z"
   },
   {
    "duration": 21,
    "start_time": "2021-07-07T12:41:19.310Z"
   },
   {
    "duration": 7,
    "start_time": "2021-07-07T12:41:19.544Z"
   },
   {
    "duration": 20,
    "start_time": "2021-07-07T12:41:20.504Z"
   },
   {
    "duration": 554,
    "start_time": "2021-07-07T12:56:23.696Z"
   },
   {
    "duration": 200,
    "start_time": "2021-07-07T12:56:25.234Z"
   },
   {
    "duration": 119,
    "start_time": "2021-07-07T12:56:25.480Z"
   },
   {
    "duration": 4,
    "start_time": "2021-07-07T12:56:25.762Z"
   },
   {
    "duration": 26,
    "start_time": "2021-07-07T12:56:27.172Z"
   },
   {
    "duration": 12,
    "start_time": "2021-07-07T12:56:29.051Z"
   },
   {
    "duration": 10,
    "start_time": "2021-07-07T12:56:29.291Z"
   },
   {
    "duration": 8,
    "start_time": "2021-07-07T12:56:29.623Z"
   },
   {
    "duration": 28,
    "start_time": "2021-07-07T12:56:32.137Z"
   },
   {
    "duration": 19,
    "start_time": "2021-07-07T12:56:39.785Z"
   },
   {
    "duration": 20,
    "start_time": "2021-07-07T12:56:44.297Z"
   },
   {
    "duration": 7,
    "start_time": "2021-07-07T12:56:45.392Z"
   },
   {
    "duration": 23,
    "start_time": "2021-07-07T12:56:46.615Z"
   },
   {
    "duration": 4,
    "start_time": "2021-07-07T12:57:06.625Z"
   },
   {
    "duration": 32,
    "start_time": "2021-07-07T12:57:36.690Z"
   },
   {
    "duration": 18,
    "start_time": "2021-07-07T12:58:00.149Z"
   },
   {
    "duration": 15,
    "start_time": "2021-07-07T12:59:16.793Z"
   },
   {
    "duration": 7,
    "start_time": "2021-07-07T13:19:22.624Z"
   },
   {
    "duration": 6,
    "start_time": "2021-07-07T14:17:33.527Z"
   },
   {
    "duration": 9,
    "start_time": "2021-07-07T14:17:48.409Z"
   },
   {
    "duration": 8,
    "start_time": "2021-07-07T14:20:13.060Z"
   },
   {
    "duration": 8,
    "start_time": "2021-07-07T14:20:37.957Z"
   },
   {
    "duration": 8,
    "start_time": "2021-07-07T14:20:47.470Z"
   },
   {
    "duration": 9,
    "start_time": "2021-07-07T14:20:54.503Z"
   },
   {
    "duration": 10,
    "start_time": "2021-07-07T14:28:57.763Z"
   },
   {
    "duration": 3,
    "start_time": "2021-07-07T14:30:23.377Z"
   },
   {
    "duration": 3,
    "start_time": "2021-07-07T14:30:36.489Z"
   },
   {
    "duration": 103,
    "start_time": "2021-07-07T14:30:52.351Z"
   },
   {
    "duration": 8,
    "start_time": "2021-07-07T14:30:54.763Z"
   },
   {
    "duration": 8,
    "start_time": "2021-07-07T14:31:29.301Z"
   },
   {
    "duration": 13,
    "start_time": "2021-07-07T14:31:44.516Z"
   },
   {
    "duration": 7,
    "start_time": "2021-07-07T14:33:10.972Z"
   },
   {
    "duration": 11,
    "start_time": "2021-07-07T14:33:27.780Z"
   },
   {
    "duration": 8,
    "start_time": "2021-07-07T14:34:44.588Z"
   },
   {
    "duration": 57,
    "start_time": "2021-07-07T14:35:59.042Z"
   },
   {
    "duration": 3,
    "start_time": "2021-07-07T14:36:28.168Z"
   },
   {
    "duration": 5,
    "start_time": "2021-07-07T14:36:46.254Z"
   },
   {
    "duration": 4,
    "start_time": "2021-07-07T14:36:52.714Z"
   },
   {
    "duration": 3,
    "start_time": "2021-07-07T14:36:56.612Z"
   },
   {
    "duration": 4,
    "start_time": "2021-07-07T14:36:57.049Z"
   },
   {
    "duration": 3,
    "start_time": "2021-07-07T14:39:21.214Z"
   },
   {
    "duration": 7,
    "start_time": "2021-07-07T14:39:52.406Z"
   },
   {
    "duration": 11,
    "start_time": "2021-07-07T14:39:58.576Z"
   },
   {
    "duration": 9,
    "start_time": "2021-07-07T14:40:26.301Z"
   },
   {
    "duration": 10,
    "start_time": "2021-07-07T14:40:31.704Z"
   },
   {
    "duration": 11,
    "start_time": "2021-07-07T14:40:36.249Z"
   },
   {
    "duration": 10,
    "start_time": "2021-07-07T14:40:39.783Z"
   },
   {
    "duration": 9,
    "start_time": "2021-07-07T14:40:48.558Z"
   },
   {
    "duration": 10,
    "start_time": "2021-07-07T14:40:57.143Z"
   },
   {
    "duration": 9,
    "start_time": "2021-07-07T14:41:06.074Z"
   },
   {
    "duration": 4324,
    "start_time": "2021-07-07T14:41:22.004Z"
   },
   {
    "duration": 11,
    "start_time": "2021-07-07T14:41:33.392Z"
   },
   {
    "duration": 9,
    "start_time": "2021-07-07T14:41:39.288Z"
   },
   {
    "duration": 569,
    "start_time": "2021-07-07T14:42:14.387Z"
   },
   {
    "duration": 197,
    "start_time": "2021-07-07T14:42:14.959Z"
   },
   {
    "duration": 84,
    "start_time": "2021-07-07T14:42:16.052Z"
   },
   {
    "duration": 4,
    "start_time": "2021-07-07T14:42:16.900Z"
   },
   {
    "duration": 27,
    "start_time": "2021-07-07T14:42:19.898Z"
   },
   {
    "duration": 12,
    "start_time": "2021-07-07T14:42:21.577Z"
   },
   {
    "duration": 9,
    "start_time": "2021-07-07T14:42:21.813Z"
   },
   {
    "duration": 9,
    "start_time": "2021-07-07T14:42:22.569Z"
   },
   {
    "duration": 29,
    "start_time": "2021-07-07T14:42:25.837Z"
   },
   {
    "duration": 20,
    "start_time": "2021-07-07T14:42:27.003Z"
   },
   {
    "duration": 21,
    "start_time": "2021-07-07T14:42:28.767Z"
   },
   {
    "duration": 7,
    "start_time": "2021-07-07T14:42:29.838Z"
   },
   {
    "duration": 4,
    "start_time": "2021-07-07T14:43:25.493Z"
   },
   {
    "duration": 7,
    "start_time": "2021-07-07T14:43:26.573Z"
   },
   {
    "duration": 10,
    "start_time": "2021-07-07T14:43:31.639Z"
   },
   {
    "duration": 9,
    "start_time": "2021-07-07T14:43:32.046Z"
   },
   {
    "duration": 10,
    "start_time": "2021-07-07T14:43:33.301Z"
   },
   {
    "duration": 12,
    "start_time": "2021-07-07T14:43:33.658Z"
   },
   {
    "duration": 8,
    "start_time": "2021-07-07T14:43:34.552Z"
   },
   {
    "duration": 9,
    "start_time": "2021-07-07T14:43:35.058Z"
   },
   {
    "duration": 12,
    "start_time": "2021-07-07T14:43:35.914Z"
   },
   {
    "duration": 17,
    "start_time": "2021-07-07T14:45:34.368Z"
   },
   {
    "duration": 512,
    "start_time": "2021-07-07T14:51:58.236Z"
   },
   {
    "duration": 223,
    "start_time": "2021-07-07T14:51:58.750Z"
   },
   {
    "duration": 93,
    "start_time": "2021-07-07T14:51:58.977Z"
   },
   {
    "duration": 4,
    "start_time": "2021-07-07T14:51:59.071Z"
   },
   {
    "duration": 37,
    "start_time": "2021-07-07T14:51:59.077Z"
   },
   {
    "duration": 18,
    "start_time": "2021-07-07T14:51:59.116Z"
   },
   {
    "duration": 10,
    "start_time": "2021-07-07T14:51:59.137Z"
   },
   {
    "duration": 8,
    "start_time": "2021-07-07T14:51:59.149Z"
   },
   {
    "duration": 54,
    "start_time": "2021-07-07T14:51:59.158Z"
   },
   {
    "duration": 18,
    "start_time": "2021-07-07T14:51:59.213Z"
   },
   {
    "duration": 22,
    "start_time": "2021-07-07T14:51:59.232Z"
   },
   {
    "duration": 36,
    "start_time": "2021-07-07T14:51:59.255Z"
   },
   {
    "duration": 7,
    "start_time": "2021-07-07T14:51:59.293Z"
   },
   {
    "duration": 10,
    "start_time": "2021-07-07T14:51:59.302Z"
   },
   {
    "duration": 9,
    "start_time": "2021-07-07T14:51:59.313Z"
   },
   {
    "duration": 11,
    "start_time": "2021-07-07T14:51:59.324Z"
   },
   {
    "duration": 8,
    "start_time": "2021-07-07T14:51:59.337Z"
   },
   {
    "duration": 46,
    "start_time": "2021-07-07T14:51:59.347Z"
   },
   {
    "duration": 22,
    "start_time": "2021-07-07T14:51:59.395Z"
   },
   {
    "duration": 24,
    "start_time": "2021-07-07T14:57:32.911Z"
   },
   {
    "duration": 7,
    "start_time": "2021-07-07T14:58:22.070Z"
   },
   {
    "duration": 4,
    "start_time": "2021-07-07T14:59:11.239Z"
   },
   {
    "duration": 25,
    "start_time": "2021-07-07T15:07:22.208Z"
   },
   {
    "duration": 16,
    "start_time": "2021-07-07T15:08:25.560Z"
   },
   {
    "duration": 15,
    "start_time": "2021-07-07T15:08:40.647Z"
   },
   {
    "duration": 14,
    "start_time": "2021-07-07T15:08:46.669Z"
   },
   {
    "duration": 533,
    "start_time": "2021-07-07T15:18:07.440Z"
   },
   {
    "duration": 173,
    "start_time": "2021-07-07T15:18:07.974Z"
   },
   {
    "duration": 84,
    "start_time": "2021-07-07T15:18:08.149Z"
   },
   {
    "duration": 3,
    "start_time": "2021-07-07T15:18:08.235Z"
   },
   {
    "duration": 30,
    "start_time": "2021-07-07T15:18:08.240Z"
   },
   {
    "duration": 22,
    "start_time": "2021-07-07T15:18:08.272Z"
   },
   {
    "duration": 11,
    "start_time": "2021-07-07T15:18:08.295Z"
   },
   {
    "duration": 11,
    "start_time": "2021-07-07T15:18:08.309Z"
   },
   {
    "duration": 40,
    "start_time": "2021-07-07T15:18:08.322Z"
   },
   {
    "duration": 42,
    "start_time": "2021-07-07T15:18:08.364Z"
   },
   {
    "duration": 22,
    "start_time": "2021-07-07T15:18:08.408Z"
   },
   {
    "duration": 5,
    "start_time": "2021-07-07T15:18:08.432Z"
   },
   {
    "duration": 13,
    "start_time": "2021-07-07T15:18:08.439Z"
   },
   {
    "duration": 9,
    "start_time": "2021-07-07T15:18:08.454Z"
   },
   {
    "duration": 32,
    "start_time": "2021-07-07T15:18:08.465Z"
   },
   {
    "duration": 10,
    "start_time": "2021-07-07T15:18:08.501Z"
   },
   {
    "duration": 7,
    "start_time": "2021-07-07T15:18:08.513Z"
   },
   {
    "duration": 11,
    "start_time": "2021-07-07T15:18:08.521Z"
   },
   {
    "duration": 17,
    "start_time": "2021-07-07T15:18:08.534Z"
   },
   {
    "duration": 44,
    "start_time": "2021-07-07T15:18:08.553Z"
   },
   {
    "duration": 22,
    "start_time": "2021-07-07T15:18:08.599Z"
   },
   {
    "duration": 61,
    "start_time": "2021-07-07T15:18:08.622Z"
   },
   {
    "duration": 7,
    "start_time": "2021-07-07T15:18:39.457Z"
   },
   {
    "duration": 5,
    "start_time": "2021-07-07T16:05:17.020Z"
   },
   {
    "duration": 5,
    "start_time": "2021-07-07T16:51:28.794Z"
   },
   {
    "duration": 546,
    "start_time": "2021-07-07T16:52:26.306Z"
   },
   {
    "duration": 203,
    "start_time": "2021-07-07T16:52:27.523Z"
   },
   {
    "duration": 85,
    "start_time": "2021-07-07T16:52:27.736Z"
   },
   {
    "duration": 4,
    "start_time": "2021-07-07T16:52:27.899Z"
   },
   {
    "duration": 25,
    "start_time": "2021-07-07T16:52:28.674Z"
   },
   {
    "duration": 8,
    "start_time": "2021-07-07T16:52:32.956Z"
   },
   {
    "duration": 18,
    "start_time": "2021-07-07T16:52:35.616Z"
   },
   {
    "duration": 6,
    "start_time": "2021-07-07T16:52:36.913Z"
   },
   {
    "duration": 11,
    "start_time": "2021-07-07T16:52:40.258Z"
   },
   {
    "duration": 10,
    "start_time": "2021-07-07T16:52:46.251Z"
   },
   {
    "duration": 8,
    "start_time": "2021-07-07T16:52:47.182Z"
   },
   {
    "duration": 27,
    "start_time": "2021-07-07T16:53:20.391Z"
   },
   {
    "duration": 20,
    "start_time": "2021-07-07T16:53:22.022Z"
   },
   {
    "duration": 23,
    "start_time": "2021-07-07T16:53:23.690Z"
   },
   {
    "duration": 8,
    "start_time": "2021-07-07T16:53:24.261Z"
   },
   {
    "duration": 4,
    "start_time": "2021-07-07T16:53:38.733Z"
   },
   {
    "duration": 7,
    "start_time": "2021-07-07T16:53:40.445Z"
   },
   {
    "duration": 11,
    "start_time": "2021-07-07T16:53:41.348Z"
   },
   {
    "duration": 13,
    "start_time": "2021-07-07T16:53:45.250Z"
   },
   {
    "duration": 12,
    "start_time": "2021-07-07T16:53:45.467Z"
   },
   {
    "duration": 4,
    "start_time": "2021-07-07T16:55:32.704Z"
   },
   {
    "duration": 12,
    "start_time": "2021-07-07T16:55:49.012Z"
   },
   {
    "duration": 18,
    "start_time": "2021-07-07T16:55:49.547Z"
   },
   {
    "duration": 611,
    "start_time": "2021-07-07T16:58:35.156Z"
   },
   {
    "duration": 200,
    "start_time": "2021-07-07T16:58:35.770Z"
   },
   {
    "duration": 86,
    "start_time": "2021-07-07T16:58:35.972Z"
   },
   {
    "duration": 3,
    "start_time": "2021-07-07T16:58:36.060Z"
   },
   {
    "duration": 27,
    "start_time": "2021-07-07T16:58:36.065Z"
   },
   {
    "duration": 8,
    "start_time": "2021-07-07T16:58:36.094Z"
   },
   {
    "duration": 17,
    "start_time": "2021-07-07T16:58:36.103Z"
   },
   {
    "duration": 5,
    "start_time": "2021-07-07T16:58:36.123Z"
   },
   {
    "duration": 11,
    "start_time": "2021-07-07T16:58:36.130Z"
   },
   {
    "duration": 7,
    "start_time": "2021-07-07T16:58:36.143Z"
   },
   {
    "duration": 37,
    "start_time": "2021-07-07T16:58:36.152Z"
   },
   {
    "duration": 27,
    "start_time": "2021-07-07T16:58:36.191Z"
   },
   {
    "duration": 19,
    "start_time": "2021-07-07T16:58:36.219Z"
   },
   {
    "duration": 49,
    "start_time": "2021-07-07T16:58:36.240Z"
   },
   {
    "duration": 6,
    "start_time": "2021-07-07T16:58:36.291Z"
   },
   {
    "duration": 3,
    "start_time": "2021-07-07T16:58:36.299Z"
   },
   {
    "duration": 13,
    "start_time": "2021-07-07T16:58:36.304Z"
   },
   {
    "duration": 10,
    "start_time": "2021-07-07T16:58:36.319Z"
   },
   {
    "duration": 10,
    "start_time": "2021-07-07T16:58:36.331Z"
   },
   {
    "duration": 44,
    "start_time": "2021-07-07T16:58:36.343Z"
   },
   {
    "duration": 4,
    "start_time": "2021-07-07T16:58:36.388Z"
   },
   {
    "duration": 13,
    "start_time": "2021-07-07T16:58:36.394Z"
   },
   {
    "duration": 16,
    "start_time": "2021-07-07T16:58:36.410Z"
   },
   {
    "duration": 8,
    "start_time": "2021-07-07T17:02:31.629Z"
   },
   {
    "duration": 8,
    "start_time": "2021-07-07T17:02:34.308Z"
   },
   {
    "duration": 6,
    "start_time": "2021-07-07T17:05:13.483Z"
   },
   {
    "duration": 17,
    "start_time": "2021-07-07T17:05:20.606Z"
   },
   {
    "duration": 7,
    "start_time": "2021-07-07T17:05:34.638Z"
   },
   {
    "duration": 3,
    "start_time": "2021-07-07T17:06:31.883Z"
   },
   {
    "duration": 570,
    "start_time": "2021-07-07T17:06:37.165Z"
   },
   {
    "duration": 174,
    "start_time": "2021-07-07T17:06:37.737Z"
   },
   {
    "duration": 47,
    "start_time": "2021-07-07T17:06:37.913Z"
   },
   {
    "duration": 3,
    "start_time": "2021-07-07T17:06:37.962Z"
   },
   {
    "duration": 27,
    "start_time": "2021-07-07T17:06:37.967Z"
   },
   {
    "duration": 7,
    "start_time": "2021-07-07T17:06:37.996Z"
   },
   {
    "duration": 16,
    "start_time": "2021-07-07T17:06:38.005Z"
   },
   {
    "duration": 6,
    "start_time": "2021-07-07T17:06:38.024Z"
   },
   {
    "duration": 12,
    "start_time": "2021-07-07T17:06:38.031Z"
   },
   {
    "duration": 41,
    "start_time": "2021-07-07T17:06:38.045Z"
   },
   {
    "duration": 8,
    "start_time": "2021-07-07T17:06:38.088Z"
   },
   {
    "duration": 26,
    "start_time": "2021-07-07T17:06:38.098Z"
   },
   {
    "duration": 17,
    "start_time": "2021-07-07T17:06:38.126Z"
   },
   {
    "duration": 43,
    "start_time": "2021-07-07T17:06:38.144Z"
   },
   {
    "duration": 6,
    "start_time": "2021-07-07T17:06:38.188Z"
   },
   {
    "duration": 5,
    "start_time": "2021-07-07T17:06:38.195Z"
   },
   {
    "duration": 9,
    "start_time": "2021-07-07T17:06:38.201Z"
   },
   {
    "duration": 12,
    "start_time": "2021-07-07T17:06:38.212Z"
   },
   {
    "duration": 11,
    "start_time": "2021-07-07T17:06:38.226Z"
   },
   {
    "duration": 47,
    "start_time": "2021-07-07T17:06:38.239Z"
   },
   {
    "duration": 4,
    "start_time": "2021-07-07T17:06:38.288Z"
   },
   {
    "duration": 13,
    "start_time": "2021-07-07T17:06:38.293Z"
   },
   {
    "duration": 5,
    "start_time": "2021-07-07T17:06:38.309Z"
   },
   {
    "duration": 18,
    "start_time": "2021-07-07T17:06:38.325Z"
   },
   {
    "duration": 20,
    "start_time": "2021-07-07T17:07:02.805Z"
   },
   {
    "duration": 19,
    "start_time": "2021-07-07T17:07:08.527Z"
   },
   {
    "duration": 19,
    "start_time": "2021-07-07T17:07:12.758Z"
   },
   {
    "duration": 22,
    "start_time": "2021-07-07T17:07:17.497Z"
   },
   {
    "duration": 19,
    "start_time": "2021-07-07T17:07:19.645Z"
   },
   {
    "duration": 10,
    "start_time": "2021-07-07T17:07:34.239Z"
   },
   {
    "duration": 17,
    "start_time": "2021-07-07T17:07:54.144Z"
   },
   {
    "duration": 14,
    "start_time": "2021-07-07T17:08:14.357Z"
   },
   {
    "duration": 616,
    "start_time": "2021-07-07T17:08:45.254Z"
   },
   {
    "duration": 178,
    "start_time": "2021-07-07T17:08:45.872Z"
   },
   {
    "duration": 60,
    "start_time": "2021-07-07T17:08:46.054Z"
   },
   {
    "duration": 3,
    "start_time": "2021-07-07T17:08:46.116Z"
   },
   {
    "duration": 26,
    "start_time": "2021-07-07T17:08:46.121Z"
   },
   {
    "duration": 7,
    "start_time": "2021-07-07T17:08:46.149Z"
   },
   {
    "duration": 17,
    "start_time": "2021-07-07T17:08:46.158Z"
   },
   {
    "duration": 14,
    "start_time": "2021-07-07T17:08:46.176Z"
   },
   {
    "duration": 17,
    "start_time": "2021-07-07T17:08:46.193Z"
   },
   {
    "duration": 9,
    "start_time": "2021-07-07T17:08:46.211Z"
   },
   {
    "duration": 21,
    "start_time": "2021-07-07T17:08:46.221Z"
   },
   {
    "duration": 49,
    "start_time": "2021-07-07T17:08:46.244Z"
   },
   {
    "duration": 24,
    "start_time": "2021-07-07T17:08:46.295Z"
   },
   {
    "duration": 22,
    "start_time": "2021-07-07T17:08:46.321Z"
   },
   {
    "duration": 6,
    "start_time": "2021-07-07T17:08:46.345Z"
   },
   {
    "duration": 5,
    "start_time": "2021-07-07T17:08:46.353Z"
   },
   {
    "duration": 13,
    "start_time": "2021-07-07T17:08:46.386Z"
   },
   {
    "duration": 12,
    "start_time": "2021-07-07T17:08:46.402Z"
   },
   {
    "duration": 10,
    "start_time": "2021-07-07T17:08:46.415Z"
   },
   {
    "duration": 7,
    "start_time": "2021-07-07T17:08:46.427Z"
   },
   {
    "duration": 8,
    "start_time": "2021-07-07T17:08:46.435Z"
   },
   {
    "duration": 68,
    "start_time": "2021-07-07T17:08:46.446Z"
   },
   {
    "duration": 13,
    "start_time": "2021-07-07T17:08:46.516Z"
   },
   {
    "duration": 78,
    "start_time": "2021-07-07T17:08:46.530Z"
   },
   {
    "duration": 40,
    "start_time": "2021-07-07T17:09:08.185Z"
   },
   {
    "duration": 16,
    "start_time": "2021-07-07T17:09:19.324Z"
   },
   {
    "duration": 21,
    "start_time": "2021-07-07T17:09:23.290Z"
   },
   {
    "duration": 13,
    "start_time": "2021-07-07T17:09:54.812Z"
   },
   {
    "duration": 13,
    "start_time": "2021-07-07T17:10:02.039Z"
   },
   {
    "duration": 10,
    "start_time": "2021-07-07T17:10:29.632Z"
   },
   {
    "duration": 13,
    "start_time": "2021-07-07T17:10:52.372Z"
   },
   {
    "duration": 13,
    "start_time": "2021-07-07T17:11:17.270Z"
   },
   {
    "duration": 13,
    "start_time": "2021-07-07T17:14:59.284Z"
   },
   {
    "duration": 547,
    "start_time": "2021-07-07T17:18:52.403Z"
   },
   {
    "duration": 163,
    "start_time": "2021-07-07T17:18:52.952Z"
   },
   {
    "duration": 44,
    "start_time": "2021-07-07T17:18:53.117Z"
   },
   {
    "duration": 3,
    "start_time": "2021-07-07T17:18:53.162Z"
   },
   {
    "duration": 26,
    "start_time": "2021-07-07T17:18:53.167Z"
   },
   {
    "duration": 6,
    "start_time": "2021-07-07T17:18:53.195Z"
   },
   {
    "duration": 15,
    "start_time": "2021-07-07T17:18:53.203Z"
   },
   {
    "duration": 5,
    "start_time": "2021-07-07T17:18:53.220Z"
   },
   {
    "duration": 11,
    "start_time": "2021-07-07T17:18:53.228Z"
   },
   {
    "duration": 9,
    "start_time": "2021-07-07T17:18:53.241Z"
   },
   {
    "duration": 41,
    "start_time": "2021-07-07T17:18:53.252Z"
   },
   {
    "duration": 33,
    "start_time": "2021-07-07T17:18:53.295Z"
   },
   {
    "duration": 19,
    "start_time": "2021-07-07T17:18:53.330Z"
   },
   {
    "duration": 49,
    "start_time": "2021-07-07T17:18:53.350Z"
   },
   {
    "duration": 5,
    "start_time": "2021-07-07T17:18:53.401Z"
   },
   {
    "duration": 5,
    "start_time": "2021-07-07T17:18:53.408Z"
   },
   {
    "duration": 11,
    "start_time": "2021-07-07T17:18:53.414Z"
   },
   {
    "duration": 9,
    "start_time": "2021-07-07T17:18:53.427Z"
   },
   {
    "duration": 10,
    "start_time": "2021-07-07T17:18:53.437Z"
   },
   {
    "duration": 39,
    "start_time": "2021-07-07T17:18:53.448Z"
   },
   {
    "duration": 26,
    "start_time": "2021-07-07T17:18:55.799Z"
   },
   {
    "duration": 598,
    "start_time": "2021-07-07T17:20:17.862Z"
   },
   {
    "duration": 161,
    "start_time": "2021-07-07T17:20:18.462Z"
   },
   {
    "duration": 45,
    "start_time": "2021-07-07T17:20:18.626Z"
   },
   {
    "duration": 4,
    "start_time": "2021-07-07T17:20:18.673Z"
   },
   {
    "duration": 38,
    "start_time": "2021-07-07T17:20:26.877Z"
   },
   {
    "duration": 7,
    "start_time": "2021-07-07T17:20:37.405Z"
   },
   {
    "duration": 19,
    "start_time": "2021-07-07T17:20:51.534Z"
   },
   {
    "duration": 5,
    "start_time": "2021-07-07T17:20:57.228Z"
   },
   {
    "duration": 7,
    "start_time": "2021-07-07T17:21:08.235Z"
   },
   {
    "duration": 19,
    "start_time": "2021-07-07T17:21:42.158Z"
   },
   {
    "duration": 14,
    "start_time": "2021-07-07T17:21:50.225Z"
   },
   {
    "duration": 22,
    "start_time": "2021-07-07T17:22:54.104Z"
   },
   {
    "duration": 5,
    "start_time": "2021-07-07T17:22:56.371Z"
   },
   {
    "duration": 14,
    "start_time": "2021-07-07T17:22:58.316Z"
   },
   {
    "duration": 5,
    "start_time": "2021-07-07T17:22:58.493Z"
   },
   {
    "duration": 35,
    "start_time": "2021-07-07T17:22:59.666Z"
   },
   {
    "duration": 6,
    "start_time": "2021-07-07T17:23:02.410Z"
   },
   {
    "duration": 611,
    "start_time": "2021-07-07T17:24:59.664Z"
   },
   {
    "duration": 178,
    "start_time": "2021-07-07T17:25:01.945Z"
   },
   {
    "duration": 47,
    "start_time": "2021-07-07T17:25:02.125Z"
   },
   {
    "duration": 2,
    "start_time": "2021-07-07T17:25:07.903Z"
   },
   {
    "duration": 254,
    "start_time": "2021-07-07T17:25:08.232Z"
   },
   {
    "duration": 182,
    "start_time": "2021-07-07T17:25:08.671Z"
   },
   {
    "duration": 6,
    "start_time": "2021-07-07T17:25:13.104Z"
   },
   {
    "duration": 36,
    "start_time": "2021-07-07T17:25:13.662Z"
   },
   {
    "duration": 7,
    "start_time": "2021-07-07T17:25:14.528Z"
   },
   {
    "duration": 24,
    "start_time": "2021-07-07T17:25:27.982Z"
   },
   {
    "duration": 3,
    "start_time": "2021-07-07T17:25:48.982Z"
   },
   {
    "duration": 165,
    "start_time": "2021-07-07T17:25:48.987Z"
   },
   {
    "duration": 50,
    "start_time": "2021-07-07T17:25:49.154Z"
   },
   {
    "duration": 4,
    "start_time": "2021-07-07T17:25:49.206Z"
   },
   {
    "duration": 26,
    "start_time": "2021-07-07T17:25:49.212Z"
   },
   {
    "duration": 7,
    "start_time": "2021-07-07T17:25:49.240Z"
   },
   {
    "duration": 16,
    "start_time": "2021-07-07T17:25:49.249Z"
   },
   {
    "duration": 22,
    "start_time": "2021-07-07T17:25:49.266Z"
   },
   {
    "duration": 16,
    "start_time": "2021-07-07T17:25:49.291Z"
   },
   {
    "duration": 9,
    "start_time": "2021-07-07T17:25:49.309Z"
   },
   {
    "duration": 7,
    "start_time": "2021-07-07T17:25:49.319Z"
   },
   {
    "duration": 28,
    "start_time": "2021-07-07T17:25:49.328Z"
   },
   {
    "duration": 44,
    "start_time": "2021-07-07T17:25:49.357Z"
   },
   {
    "duration": 22,
    "start_time": "2021-07-07T17:25:49.403Z"
   },
   {
    "duration": 7,
    "start_time": "2021-07-07T17:25:49.427Z"
   },
   {
    "duration": 3,
    "start_time": "2021-07-07T17:25:49.436Z"
   },
   {
    "duration": 44,
    "start_time": "2021-07-07T17:25:49.441Z"
   },
   {
    "duration": 12,
    "start_time": "2021-07-07T17:25:49.488Z"
   },
   {
    "duration": 13,
    "start_time": "2021-07-07T17:25:49.502Z"
   },
   {
    "duration": 10,
    "start_time": "2021-07-07T17:25:49.516Z"
   },
   {
    "duration": 62,
    "start_time": "2021-07-07T17:25:49.527Z"
   },
   {
    "duration": 26,
    "start_time": "2021-07-07T17:26:51.809Z"
   },
   {
    "duration": 26,
    "start_time": "2021-07-07T17:26:55.759Z"
   },
   {
    "duration": 26,
    "start_time": "2021-07-07T17:27:04.501Z"
   },
   {
    "duration": 25,
    "start_time": "2021-07-07T17:28:24.859Z"
   },
   {
    "duration": 21,
    "start_time": "2021-07-07T17:28:55.250Z"
   },
   {
    "duration": 21,
    "start_time": "2021-07-07T17:28:58.885Z"
   },
   {
    "duration": 7,
    "start_time": "2021-07-07T17:45:40.972Z"
   },
   {
    "duration": 13,
    "start_time": "2021-07-07T17:45:42.529Z"
   },
   {
    "duration": 27,
    "start_time": "2021-07-07T17:45:51.026Z"
   },
   {
    "duration": 518,
    "start_time": "2021-07-07T17:46:15.532Z"
   },
   {
    "duration": 235,
    "start_time": "2021-07-07T17:46:16.053Z"
   },
   {
    "duration": 80,
    "start_time": "2021-07-07T17:46:16.292Z"
   },
   {
    "duration": 5,
    "start_time": "2021-07-07T17:46:16.373Z"
   },
   {
    "duration": 26,
    "start_time": "2021-07-07T17:46:16.380Z"
   },
   {
    "duration": 7,
    "start_time": "2021-07-07T17:46:16.408Z"
   },
   {
    "duration": 16,
    "start_time": "2021-07-07T17:46:16.418Z"
   },
   {
    "duration": 5,
    "start_time": "2021-07-07T17:46:16.436Z"
   },
   {
    "duration": 13,
    "start_time": "2021-07-07T17:46:16.442Z"
   },
   {
    "duration": 35,
    "start_time": "2021-07-07T17:46:16.456Z"
   },
   {
    "duration": 8,
    "start_time": "2021-07-07T17:46:16.493Z"
   },
   {
    "duration": 28,
    "start_time": "2021-07-07T17:46:16.502Z"
   },
   {
    "duration": 17,
    "start_time": "2021-07-07T17:46:16.532Z"
   },
   {
    "duration": 44,
    "start_time": "2021-07-07T17:46:16.551Z"
   },
   {
    "duration": 6,
    "start_time": "2021-07-07T17:46:16.597Z"
   },
   {
    "duration": 4,
    "start_time": "2021-07-07T17:46:16.605Z"
   },
   {
    "duration": 9,
    "start_time": "2021-07-07T17:46:16.610Z"
   },
   {
    "duration": 9,
    "start_time": "2021-07-07T17:46:16.621Z"
   },
   {
    "duration": 10,
    "start_time": "2021-07-07T17:46:16.632Z"
   },
   {
    "duration": 43,
    "start_time": "2021-07-07T17:46:16.644Z"
   },
   {
    "duration": 26,
    "start_time": "2021-07-07T17:46:16.689Z"
   },
   {
    "duration": 19,
    "start_time": "2021-07-07T17:46:16.718Z"
   },
   {
    "duration": 8,
    "start_time": "2021-07-07T17:46:16.738Z"
   },
   {
    "duration": 43,
    "start_time": "2021-07-07T17:46:16.747Z"
   },
   {
    "duration": 19,
    "start_time": "2021-07-07T17:46:16.791Z"
   },
   {
    "duration": 9,
    "start_time": "2021-07-07T17:46:16.812Z"
   },
   {
    "duration": 60,
    "start_time": "2021-07-07T17:46:16.822Z"
   },
   {
    "duration": -8,
    "start_time": "2021-07-07T17:46:16.892Z"
   },
   {
    "duration": 12,
    "start_time": "2021-07-07T17:48:47.707Z"
   },
   {
    "duration": 553,
    "start_time": "2021-07-07T18:10:09.350Z"
   },
   {
    "duration": 230,
    "start_time": "2021-07-07T18:10:09.905Z"
   },
   {
    "duration": 97,
    "start_time": "2021-07-07T18:10:10.137Z"
   },
   {
    "duration": 5,
    "start_time": "2021-07-07T18:10:10.236Z"
   },
   {
    "duration": 29,
    "start_time": "2021-07-07T18:10:10.242Z"
   },
   {
    "duration": 7,
    "start_time": "2021-07-07T18:10:10.272Z"
   },
   {
    "duration": 15,
    "start_time": "2021-07-07T18:10:10.281Z"
   },
   {
    "duration": 4,
    "start_time": "2021-07-07T18:10:10.299Z"
   },
   {
    "duration": 14,
    "start_time": "2021-07-07T18:10:10.305Z"
   },
   {
    "duration": 8,
    "start_time": "2021-07-07T18:10:10.321Z"
   },
   {
    "duration": 8,
    "start_time": "2021-07-07T18:10:10.331Z"
   },
   {
    "duration": 56,
    "start_time": "2021-07-07T18:10:10.341Z"
   },
   {
    "duration": 19,
    "start_time": "2021-07-07T18:10:10.399Z"
   },
   {
    "duration": 23,
    "start_time": "2021-07-07T18:10:10.419Z"
   },
   {
    "duration": 6,
    "start_time": "2021-07-07T18:10:10.444Z"
   },
   {
    "duration": 9,
    "start_time": "2021-07-07T18:10:10.451Z"
   },
   {
    "duration": 30,
    "start_time": "2021-07-07T18:10:10.462Z"
   },
   {
    "duration": 9,
    "start_time": "2021-07-07T18:10:10.494Z"
   },
   {
    "duration": 14,
    "start_time": "2021-07-07T18:10:10.505Z"
   },
   {
    "duration": 7,
    "start_time": "2021-07-07T18:10:10.521Z"
   },
   {
    "duration": 26,
    "start_time": "2021-07-07T18:10:10.530Z"
   },
   {
    "duration": 44,
    "start_time": "2021-07-07T18:10:10.558Z"
   },
   {
    "duration": 7,
    "start_time": "2021-07-07T18:10:10.605Z"
   },
   {
    "duration": 11,
    "start_time": "2021-07-07T18:10:10.614Z"
   },
   {
    "duration": 19,
    "start_time": "2021-07-07T18:10:10.626Z"
   },
   {
    "duration": 44,
    "start_time": "2021-07-07T18:10:10.646Z"
   },
   {
    "duration": 516,
    "start_time": "2021-07-07T18:14:00.826Z"
   },
   {
    "duration": 230,
    "start_time": "2021-07-07T18:14:01.344Z"
   },
   {
    "duration": 105,
    "start_time": "2021-07-07T18:14:01.576Z"
   },
   {
    "duration": 5,
    "start_time": "2021-07-07T18:14:01.683Z"
   },
   {
    "duration": 46,
    "start_time": "2021-07-07T18:14:01.690Z"
   },
   {
    "duration": 7,
    "start_time": "2021-07-07T18:14:01.738Z"
   },
   {
    "duration": 20,
    "start_time": "2021-07-07T18:14:01.747Z"
   },
   {
    "duration": 16,
    "start_time": "2021-07-07T18:14:01.769Z"
   },
   {
    "duration": 14,
    "start_time": "2021-07-07T18:14:01.787Z"
   },
   {
    "duration": 15,
    "start_time": "2021-07-07T18:14:01.803Z"
   },
   {
    "duration": 12,
    "start_time": "2021-07-07T18:14:01.820Z"
   },
   {
    "duration": 35,
    "start_time": "2021-07-07T18:14:01.833Z"
   },
   {
    "duration": 31,
    "start_time": "2021-07-07T18:14:01.869Z"
   },
   {
    "duration": 37,
    "start_time": "2021-07-07T18:14:01.902Z"
   },
   {
    "duration": 8,
    "start_time": "2021-07-07T18:14:01.942Z"
   },
   {
    "duration": 16,
    "start_time": "2021-07-07T18:14:01.952Z"
   },
   {
    "duration": 13,
    "start_time": "2021-07-07T18:14:01.970Z"
   },
   {
    "duration": 32,
    "start_time": "2021-07-07T18:14:01.985Z"
   },
   {
    "duration": 11,
    "start_time": "2021-07-07T18:14:02.019Z"
   },
   {
    "duration": 22,
    "start_time": "2021-07-07T18:14:02.031Z"
   },
   {
    "duration": 27,
    "start_time": "2021-07-07T18:14:02.055Z"
   },
   {
    "duration": 18,
    "start_time": "2021-07-07T18:14:02.084Z"
   },
   {
    "duration": 18,
    "start_time": "2021-07-07T18:14:02.106Z"
   },
   {
    "duration": 11,
    "start_time": "2021-07-07T18:14:02.126Z"
   },
   {
    "duration": 21,
    "start_time": "2021-07-07T18:14:02.138Z"
   },
   {
    "duration": 32,
    "start_time": "2021-07-07T18:14:02.161Z"
   },
   {
    "duration": 28,
    "start_time": "2021-07-07T18:14:44.295Z"
   },
   {
    "duration": 6,
    "start_time": "2021-07-07T18:15:05.834Z"
   },
   {
    "duration": 511,
    "start_time": "2021-07-07T18:15:41.541Z"
   },
   {
    "duration": 183,
    "start_time": "2021-07-07T18:15:42.054Z"
   },
   {
    "duration": 50,
    "start_time": "2021-07-07T18:15:42.239Z"
   },
   {
    "duration": 5,
    "start_time": "2021-07-07T18:15:42.291Z"
   },
   {
    "duration": 48,
    "start_time": "2021-07-07T18:15:42.297Z"
   },
   {
    "duration": 8,
    "start_time": "2021-07-07T18:15:42.346Z"
   },
   {
    "duration": 17,
    "start_time": "2021-07-07T18:15:42.356Z"
   },
   {
    "duration": 15,
    "start_time": "2021-07-07T18:15:42.375Z"
   },
   {
    "duration": 12,
    "start_time": "2021-07-07T18:15:42.392Z"
   },
   {
    "duration": 7,
    "start_time": "2021-07-07T18:15:42.406Z"
   },
   {
    "duration": 7,
    "start_time": "2021-07-07T18:15:42.415Z"
   },
   {
    "duration": 29,
    "start_time": "2021-07-07T18:15:42.423Z"
   },
   {
    "duration": 43,
    "start_time": "2021-07-07T18:15:42.453Z"
   },
   {
    "duration": 18,
    "start_time": "2021-07-07T18:15:42.497Z"
   },
   {
    "duration": 6,
    "start_time": "2021-07-07T18:15:42.516Z"
   },
   {
    "duration": 3,
    "start_time": "2021-07-07T18:15:42.523Z"
   },
   {
    "duration": 18,
    "start_time": "2021-07-07T18:15:42.528Z"
   },
   {
    "duration": 10,
    "start_time": "2021-07-07T18:15:42.547Z"
   },
   {
    "duration": 36,
    "start_time": "2021-07-07T18:15:42.559Z"
   },
   {
    "duration": 8,
    "start_time": "2021-07-07T18:15:42.597Z"
   },
   {
    "duration": 28,
    "start_time": "2021-07-07T18:15:42.606Z"
   },
   {
    "duration": 52,
    "start_time": "2021-07-07T18:15:42.635Z"
   },
   {
    "duration": 7,
    "start_time": "2021-07-07T18:15:42.690Z"
   },
   {
    "duration": 10,
    "start_time": "2021-07-07T18:15:42.699Z"
   },
   {
    "duration": 19,
    "start_time": "2021-07-07T18:15:42.711Z"
   },
   {
    "duration": 9,
    "start_time": "2021-07-07T18:15:42.732Z"
   },
   {
    "duration": 5,
    "start_time": "2021-07-07T18:15:42.743Z"
   },
   {
    "duration": 1450,
    "start_time": "2021-07-07T18:15:51.984Z"
   },
   {
    "duration": 161,
    "start_time": "2021-07-07T18:15:53.435Z"
   },
   {
    "duration": 124,
    "start_time": "2021-07-07T18:15:53.598Z"
   },
   {
    "duration": 5,
    "start_time": "2021-07-07T18:15:53.724Z"
   },
   {
    "duration": 34,
    "start_time": "2021-07-07T18:15:53.730Z"
   },
   {
    "duration": 7,
    "start_time": "2021-07-07T18:15:53.765Z"
   },
   {
    "duration": 15,
    "start_time": "2021-07-07T18:15:53.773Z"
   },
   {
    "duration": 5,
    "start_time": "2021-07-07T18:15:53.791Z"
   },
   {
    "duration": 19,
    "start_time": "2021-07-07T18:15:53.798Z"
   },
   {
    "duration": 9,
    "start_time": "2021-07-07T18:15:53.818Z"
   },
   {
    "duration": 19,
    "start_time": "2021-07-07T18:15:53.828Z"
   },
   {
    "duration": 27,
    "start_time": "2021-07-07T18:15:53.848Z"
   },
   {
    "duration": 16,
    "start_time": "2021-07-07T18:15:53.884Z"
   },
   {
    "duration": 29,
    "start_time": "2021-07-07T18:15:53.901Z"
   },
   {
    "duration": 5,
    "start_time": "2021-07-07T18:15:53.932Z"
   },
   {
    "duration": 15,
    "start_time": "2021-07-07T18:15:53.939Z"
   },
   {
    "duration": 13,
    "start_time": "2021-07-07T18:15:53.956Z"
   },
   {
    "duration": 20,
    "start_time": "2021-07-07T18:15:53.971Z"
   },
   {
    "duration": 14,
    "start_time": "2021-07-07T18:15:53.992Z"
   },
   {
    "duration": 9,
    "start_time": "2021-07-07T18:15:54.009Z"
   },
   {
    "duration": 28,
    "start_time": "2021-07-07T18:15:54.020Z"
   },
   {
    "duration": 50,
    "start_time": "2021-07-07T18:15:54.051Z"
   },
   {
    "duration": 8,
    "start_time": "2021-07-07T18:15:54.105Z"
   },
   {
    "duration": 11,
    "start_time": "2021-07-07T18:15:54.115Z"
   },
   {
    "duration": 20,
    "start_time": "2021-07-07T18:15:54.128Z"
   },
   {
    "duration": 13,
    "start_time": "2021-07-07T18:15:54.184Z"
   },
   {
    "duration": 7,
    "start_time": "2021-07-07T18:15:54.199Z"
   },
   {
    "duration": 7,
    "start_time": "2021-07-07T18:17:08.042Z"
   },
   {
    "duration": 8,
    "start_time": "2021-07-07T18:17:21.008Z"
   },
   {
    "duration": 7,
    "start_time": "2021-07-07T18:17:29.003Z"
   },
   {
    "duration": 8,
    "start_time": "2021-07-07T18:17:32.492Z"
   },
   {
    "duration": 9,
    "start_time": "2021-07-07T18:17:41.758Z"
   },
   {
    "duration": 255,
    "start_time": "2021-07-07T18:20:20.897Z"
   },
   {
    "duration": 173,
    "start_time": "2021-07-07T18:20:26.636Z"
   },
   {
    "duration": 7,
    "start_time": "2021-07-07T18:21:47.164Z"
   },
   {
    "duration": 254,
    "start_time": "2021-07-07T18:23:08.703Z"
   },
   {
    "duration": 21,
    "start_time": "2021-07-07T18:23:22.506Z"
   },
   {
    "duration": 315,
    "start_time": "2021-07-07T18:25:54.801Z"
   },
   {
    "duration": 34,
    "start_time": "2021-07-07T18:26:51.817Z"
   },
   {
    "duration": 327,
    "start_time": "2021-07-07T18:26:56.147Z"
   },
   {
    "duration": 342,
    "start_time": "2021-07-07T18:27:15.887Z"
   },
   {
    "duration": 302,
    "start_time": "2021-07-07T18:28:18.569Z"
   },
   {
    "duration": 226,
    "start_time": "2021-07-07T18:29:20.879Z"
   },
   {
    "duration": 207,
    "start_time": "2021-07-07T18:29:58.114Z"
   },
   {
    "duration": 140,
    "start_time": "2021-07-07T18:32:04.372Z"
   },
   {
    "duration": 158,
    "start_time": "2021-07-07T18:32:32.508Z"
   },
   {
    "duration": 145,
    "start_time": "2021-07-07T18:32:41.365Z"
   },
   {
    "duration": 132,
    "start_time": "2021-07-07T18:32:45.199Z"
   },
   {
    "duration": 11,
    "start_time": "2021-07-07T18:35:24.679Z"
   },
   {
    "duration": 268,
    "start_time": "2021-07-07T18:36:16.145Z"
   },
   {
    "duration": 227,
    "start_time": "2021-07-07T18:37:04.918Z"
   },
   {
    "duration": 3,
    "start_time": "2021-07-07T18:37:33.012Z"
   },
   {
    "duration": 671,
    "start_time": "2021-07-07T18:37:38.295Z"
   },
   {
    "duration": 54,
    "start_time": "2021-07-07T18:37:53.406Z"
   },
   {
    "duration": 631,
    "start_time": "2021-07-07T18:37:56.463Z"
   },
   {
    "duration": 19,
    "start_time": "2021-07-07T18:39:40.535Z"
   },
   {
    "duration": 20,
    "start_time": "2021-07-07T18:40:12.236Z"
   },
   {
    "duration": 633,
    "start_time": "2021-07-07T18:42:00.398Z"
   },
   {
    "duration": 218,
    "start_time": "2021-07-07T18:42:01.033Z"
   },
   {
    "duration": 49,
    "start_time": "2021-07-07T18:42:01.253Z"
   },
   {
    "duration": 5,
    "start_time": "2021-07-07T18:42:01.303Z"
   },
   {
    "duration": 27,
    "start_time": "2021-07-07T18:42:01.310Z"
   },
   {
    "duration": 8,
    "start_time": "2021-07-07T18:42:01.339Z"
   },
   {
    "duration": 20,
    "start_time": "2021-07-07T18:42:01.348Z"
   },
   {
    "duration": 6,
    "start_time": "2021-07-07T18:42:01.386Z"
   },
   {
    "duration": 16,
    "start_time": "2021-07-07T18:42:01.394Z"
   },
   {
    "duration": 9,
    "start_time": "2021-07-07T18:42:01.411Z"
   },
   {
    "duration": 11,
    "start_time": "2021-07-07T18:42:01.421Z"
   },
   {
    "duration": 31,
    "start_time": "2021-07-07T18:42:01.434Z"
   },
   {
    "duration": 18,
    "start_time": "2021-07-07T18:42:01.485Z"
   },
   {
    "duration": 23,
    "start_time": "2021-07-07T18:42:01.505Z"
   },
   {
    "duration": 6,
    "start_time": "2021-07-07T18:42:01.530Z"
   },
   {
    "duration": 10,
    "start_time": "2021-07-07T18:42:01.538Z"
   },
   {
    "duration": 13,
    "start_time": "2021-07-07T18:42:01.550Z"
   },
   {
    "duration": 24,
    "start_time": "2021-07-07T18:42:01.564Z"
   },
   {
    "duration": 20,
    "start_time": "2021-07-07T18:42:01.590Z"
   },
   {
    "duration": 8,
    "start_time": "2021-07-07T18:42:01.611Z"
   },
   {
    "duration": 31,
    "start_time": "2021-07-07T18:42:01.620Z"
   },
   {
    "duration": 39,
    "start_time": "2021-07-07T18:42:01.653Z"
   },
   {
    "duration": 8,
    "start_time": "2021-07-07T18:42:01.696Z"
   },
   {
    "duration": 13,
    "start_time": "2021-07-07T18:42:01.705Z"
   },
   {
    "duration": 20,
    "start_time": "2021-07-07T18:42:01.720Z"
   },
   {
    "duration": 12,
    "start_time": "2021-07-07T18:42:01.741Z"
   },
   {
    "duration": 35,
    "start_time": "2021-07-07T18:42:01.755Z"
   },
   {
    "duration": 14,
    "start_time": "2021-07-07T18:42:01.792Z"
   },
   {
    "duration": 188,
    "start_time": "2021-07-07T18:42:01.808Z"
   },
   {
    "duration": 19,
    "start_time": "2021-07-07T18:42:01.998Z"
   },
   {
    "duration": 175,
    "start_time": "2021-07-07T18:42:02.019Z"
   },
   {
    "duration": 134,
    "start_time": "2021-07-07T18:42:02.196Z"
   },
   {
    "duration": 10,
    "start_time": "2021-07-07T18:42:02.331Z"
   },
   {
    "duration": 19,
    "start_time": "2021-07-07T18:42:02.343Z"
   },
   {
    "duration": 628,
    "start_time": "2021-07-07T18:46:30.701Z"
   },
   {
    "duration": 183,
    "start_time": "2021-07-07T18:46:31.331Z"
   },
   {
    "duration": 48,
    "start_time": "2021-07-07T18:46:31.516Z"
   },
   {
    "duration": 5,
    "start_time": "2021-07-07T18:46:31.566Z"
   },
   {
    "duration": 28,
    "start_time": "2021-07-07T18:46:31.572Z"
   },
   {
    "duration": 8,
    "start_time": "2021-07-07T18:46:31.602Z"
   },
   {
    "duration": 19,
    "start_time": "2021-07-07T18:46:31.611Z"
   },
   {
    "duration": 6,
    "start_time": "2021-07-07T18:46:31.633Z"
   },
   {
    "duration": 17,
    "start_time": "2021-07-07T18:46:31.642Z"
   },
   {
    "duration": 10,
    "start_time": "2021-07-07T18:46:31.684Z"
   },
   {
    "duration": 9,
    "start_time": "2021-07-07T18:46:31.695Z"
   },
   {
    "duration": 28,
    "start_time": "2021-07-07T18:46:31.705Z"
   },
   {
    "duration": 18,
    "start_time": "2021-07-07T18:46:31.735Z"
   },
   {
    "duration": 48,
    "start_time": "2021-07-07T18:46:31.755Z"
   },
   {
    "duration": 6,
    "start_time": "2021-07-07T18:46:31.804Z"
   },
   {
    "duration": 4,
    "start_time": "2021-07-07T18:46:31.812Z"
   },
   {
    "duration": 9,
    "start_time": "2021-07-07T18:46:31.817Z"
   },
   {
    "duration": 10,
    "start_time": "2021-07-07T18:46:31.827Z"
   },
   {
    "duration": 12,
    "start_time": "2021-07-07T18:46:31.838Z"
   },
   {
    "duration": 39,
    "start_time": "2021-07-07T18:46:31.851Z"
   },
   {
    "duration": 24,
    "start_time": "2021-07-07T18:46:31.892Z"
   },
   {
    "duration": 15,
    "start_time": "2021-07-07T18:46:31.918Z"
   },
   {
    "duration": 7,
    "start_time": "2021-07-07T18:46:31.936Z"
   },
   {
    "duration": 8,
    "start_time": "2021-07-07T18:46:31.944Z"
   },
   {
    "duration": 19,
    "start_time": "2021-07-07T18:46:31.984Z"
   },
   {
    "duration": 10,
    "start_time": "2021-07-07T18:46:32.004Z"
   },
   {
    "duration": 5,
    "start_time": "2021-07-07T18:46:32.016Z"
   },
   {
    "duration": 9,
    "start_time": "2021-07-07T18:46:32.023Z"
   },
   {
    "duration": 199,
    "start_time": "2021-07-07T18:46:32.033Z"
   },
   {
    "duration": 19,
    "start_time": "2021-07-07T18:46:32.234Z"
   },
   {
    "duration": 159,
    "start_time": "2021-07-07T18:46:32.255Z"
   },
   {
    "duration": 134,
    "start_time": "2021-07-07T18:46:32.416Z"
   },
   {
    "duration": 10,
    "start_time": "2021-07-07T18:46:32.552Z"
   },
   {
    "duration": 34,
    "start_time": "2021-07-07T18:46:32.563Z"
   },
   {
    "duration": 1039,
    "start_time": "2021-07-08T08:41:09.419Z"
   },
   {
    "duration": 333,
    "start_time": "2021-07-08T08:41:10.459Z"
   },
   {
    "duration": 173,
    "start_time": "2021-07-08T08:41:10.794Z"
   },
   {
    "duration": 5,
    "start_time": "2021-07-08T08:41:10.968Z"
   },
   {
    "duration": 25,
    "start_time": "2021-07-08T08:41:10.975Z"
   },
   {
    "duration": 9,
    "start_time": "2021-07-08T08:41:11.002Z"
   },
   {
    "duration": 18,
    "start_time": "2021-07-08T08:41:11.013Z"
   },
   {
    "duration": 6,
    "start_time": "2021-07-08T08:41:11.033Z"
   },
   {
    "duration": 44,
    "start_time": "2021-07-08T08:41:11.042Z"
   },
   {
    "duration": 10,
    "start_time": "2021-07-08T08:41:11.088Z"
   },
   {
    "duration": 9,
    "start_time": "2021-07-08T08:41:11.100Z"
   },
   {
    "duration": 27,
    "start_time": "2021-07-08T08:41:11.111Z"
   },
   {
    "duration": 46,
    "start_time": "2021-07-08T08:41:11.140Z"
   },
   {
    "duration": 17,
    "start_time": "2021-07-08T08:41:11.187Z"
   },
   {
    "duration": 6,
    "start_time": "2021-07-08T08:41:11.206Z"
   },
   {
    "duration": 5,
    "start_time": "2021-07-08T08:41:11.213Z"
   },
   {
    "duration": 10,
    "start_time": "2021-07-08T08:41:11.219Z"
   },
   {
    "duration": 9,
    "start_time": "2021-07-08T08:41:11.230Z"
   },
   {
    "duration": 45,
    "start_time": "2021-07-08T08:41:11.241Z"
   },
   {
    "duration": 7,
    "start_time": "2021-07-08T08:41:11.287Z"
   },
   {
    "duration": 24,
    "start_time": "2021-07-08T08:41:11.296Z"
   },
   {
    "duration": 16,
    "start_time": "2021-07-08T08:41:11.322Z"
   },
   {
    "duration": 7,
    "start_time": "2021-07-08T08:41:11.341Z"
   },
   {
    "duration": 41,
    "start_time": "2021-07-08T08:41:11.349Z"
   },
   {
    "duration": 17,
    "start_time": "2021-07-08T08:41:11.391Z"
   },
   {
    "duration": 9,
    "start_time": "2021-07-08T08:41:11.410Z"
   },
   {
    "duration": 5,
    "start_time": "2021-07-08T08:41:11.421Z"
   },
   {
    "duration": 6,
    "start_time": "2021-07-08T08:41:11.428Z"
   },
   {
    "duration": 198,
    "start_time": "2021-07-08T08:41:11.435Z"
   },
   {
    "duration": 18,
    "start_time": "2021-07-08T08:41:11.635Z"
   },
   {
    "duration": 155,
    "start_time": "2021-07-08T08:41:11.655Z"
   },
   {
    "duration": 138,
    "start_time": "2021-07-08T08:41:11.811Z"
   },
   {
    "duration": 10,
    "start_time": "2021-07-08T08:41:11.950Z"
   },
   {
    "duration": 29,
    "start_time": "2021-07-08T08:41:11.961Z"
   },
   {
    "duration": 171,
    "start_time": "2021-07-08T08:47:44.522Z"
   },
   {
    "duration": 124,
    "start_time": "2021-07-08T08:47:46.872Z"
   },
   {
    "duration": 191,
    "start_time": "2021-07-08T08:47:58.148Z"
   },
   {
    "duration": 191,
    "start_time": "2021-07-08T08:48:07.412Z"
   },
   {
    "duration": 261,
    "start_time": "2021-07-08T08:48:10.385Z"
   },
   {
    "duration": 255,
    "start_time": "2021-07-08T08:48:14.494Z"
   },
   {
    "duration": 219,
    "start_time": "2021-07-08T08:48:22.752Z"
   },
   {
    "duration": 173,
    "start_time": "2021-07-08T08:49:06.395Z"
   },
   {
    "duration": 180,
    "start_time": "2021-07-08T08:49:21.011Z"
   },
   {
    "duration": 6,
    "start_time": "2021-07-08T08:50:31.697Z"
   },
   {
    "duration": 10,
    "start_time": "2021-07-08T08:50:47.394Z"
   },
   {
    "duration": 11,
    "start_time": "2021-07-08T08:53:49.332Z"
   },
   {
    "duration": 171,
    "start_time": "2021-07-08T08:54:28.408Z"
   },
   {
    "duration": 636,
    "start_time": "2021-07-08T09:02:48.385Z"
   },
   {
    "duration": 227,
    "start_time": "2021-07-08T09:02:49.023Z"
   },
   {
    "duration": 104,
    "start_time": "2021-07-08T09:02:49.252Z"
   },
   {
    "duration": 5,
    "start_time": "2021-07-08T09:02:49.358Z"
   },
   {
    "duration": 27,
    "start_time": "2021-07-08T09:02:49.365Z"
   },
   {
    "duration": 8,
    "start_time": "2021-07-08T09:02:49.394Z"
   },
   {
    "duration": 18,
    "start_time": "2021-07-08T09:02:49.404Z"
   },
   {
    "duration": 6,
    "start_time": "2021-07-08T09:02:49.424Z"
   },
   {
    "duration": 11,
    "start_time": "2021-07-08T09:02:49.433Z"
   },
   {
    "duration": 13,
    "start_time": "2021-07-08T09:02:49.485Z"
   },
   {
    "duration": 9,
    "start_time": "2021-07-08T09:02:49.500Z"
   },
   {
    "duration": 38,
    "start_time": "2021-07-08T09:02:49.511Z"
   },
   {
    "duration": 42,
    "start_time": "2021-07-08T09:02:49.551Z"
   },
   {
    "duration": 21,
    "start_time": "2021-07-08T09:02:49.594Z"
   },
   {
    "duration": 6,
    "start_time": "2021-07-08T09:02:49.616Z"
   },
   {
    "duration": 3,
    "start_time": "2021-07-08T09:02:49.623Z"
   },
   {
    "duration": 9,
    "start_time": "2021-07-08T09:02:49.628Z"
   },
   {
    "duration": 52,
    "start_time": "2021-07-08T09:02:49.638Z"
   },
   {
    "duration": 11,
    "start_time": "2021-07-08T09:02:49.692Z"
   },
   {
    "duration": 8,
    "start_time": "2021-07-08T09:02:49.704Z"
   },
   {
    "duration": 27,
    "start_time": "2021-07-08T09:02:49.713Z"
   },
   {
    "duration": 59,
    "start_time": "2021-07-08T09:02:49.741Z"
   },
   {
    "duration": 8,
    "start_time": "2021-07-08T09:02:49.803Z"
   },
   {
    "duration": 14,
    "start_time": "2021-07-08T09:02:49.813Z"
   },
   {
    "duration": 20,
    "start_time": "2021-07-08T09:02:49.829Z"
   },
   {
    "duration": 44,
    "start_time": "2021-07-08T09:02:49.851Z"
   },
   {
    "duration": 14,
    "start_time": "2021-07-08T09:02:49.896Z"
   },
   {
    "duration": 221,
    "start_time": "2021-07-08T09:02:49.912Z"
   },
   {
    "duration": 6,
    "start_time": "2021-07-08T09:02:50.134Z"
   },
   {
    "duration": 206,
    "start_time": "2021-07-08T09:02:50.142Z"
   },
   {
    "duration": 19,
    "start_time": "2021-07-08T09:02:50.350Z"
   },
   {
    "duration": 21,
    "start_time": "2021-07-08T09:02:50.370Z"
   },
   {
    "duration": 20,
    "start_time": "2021-07-08T09:02:50.393Z"
   },
   {
    "duration": 5,
    "start_time": "2021-07-08T09:02:50.414Z"
   },
   {
    "duration": 5,
    "start_time": "2021-07-08T09:03:34.173Z"
   },
   {
    "duration": 6,
    "start_time": "2021-07-08T09:04:49.062Z"
   },
   {
    "duration": 9,
    "start_time": "2021-07-08T09:04:50.118Z"
   },
   {
    "duration": 14,
    "start_time": "2021-07-08T09:04:58.512Z"
   },
   {
    "duration": 9,
    "start_time": "2021-07-08T09:05:10.988Z"
   },
   {
    "duration": 11,
    "start_time": "2021-07-08T09:05:11.743Z"
   },
   {
    "duration": 7,
    "start_time": "2021-07-08T09:05:25.677Z"
   },
   {
    "duration": 13,
    "start_time": "2021-07-08T09:05:47.189Z"
   },
   {
    "duration": 13,
    "start_time": "2021-07-08T09:05:54.755Z"
   },
   {
    "duration": 4,
    "start_time": "2021-07-08T09:06:29.189Z"
   },
   {
    "duration": 244,
    "start_time": "2021-07-08T09:06:29.195Z"
   },
   {
    "duration": 91,
    "start_time": "2021-07-08T09:06:29.441Z"
   },
   {
    "duration": 4,
    "start_time": "2021-07-08T09:06:29.534Z"
   },
   {
    "duration": 28,
    "start_time": "2021-07-08T09:06:29.540Z"
   },
   {
    "duration": 6,
    "start_time": "2021-07-08T09:06:29.570Z"
   },
   {
    "duration": 18,
    "start_time": "2021-07-08T09:06:29.578Z"
   },
   {
    "duration": 5,
    "start_time": "2021-07-08T09:06:29.597Z"
   },
   {
    "duration": 13,
    "start_time": "2021-07-08T09:06:29.605Z"
   },
   {
    "duration": 8,
    "start_time": "2021-07-08T09:06:29.620Z"
   },
   {
    "duration": 7,
    "start_time": "2021-07-08T09:06:29.630Z"
   },
   {
    "duration": 63,
    "start_time": "2021-07-08T09:06:29.639Z"
   },
   {
    "duration": 17,
    "start_time": "2021-07-08T09:06:29.704Z"
   },
   {
    "duration": 20,
    "start_time": "2021-07-08T09:06:29.723Z"
   },
   {
    "duration": 6,
    "start_time": "2021-07-08T09:06:29.745Z"
   },
   {
    "duration": 3,
    "start_time": "2021-07-08T09:06:29.752Z"
   },
   {
    "duration": 7,
    "start_time": "2021-07-08T09:06:29.785Z"
   },
   {
    "duration": 11,
    "start_time": "2021-07-08T09:06:29.794Z"
   },
   {
    "duration": 15,
    "start_time": "2021-07-08T09:06:29.807Z"
   },
   {
    "duration": 8,
    "start_time": "2021-07-08T09:06:29.823Z"
   },
   {
    "duration": 70,
    "start_time": "2021-07-08T09:06:29.832Z"
   },
   {
    "duration": 17,
    "start_time": "2021-07-08T09:06:29.903Z"
   },
   {
    "duration": 9,
    "start_time": "2021-07-08T09:06:29.921Z"
   },
   {
    "duration": 9,
    "start_time": "2021-07-08T09:06:29.932Z"
   },
   {
    "duration": 57,
    "start_time": "2021-07-08T09:06:29.942Z"
   },
   {
    "duration": 11,
    "start_time": "2021-07-08T09:06:30.001Z"
   },
   {
    "duration": 19,
    "start_time": "2021-07-08T09:06:30.016Z"
   },
   {
    "duration": 217,
    "start_time": "2021-07-08T09:06:30.037Z"
   },
   {
    "duration": 6,
    "start_time": "2021-07-08T09:06:30.255Z"
   },
   {
    "duration": 205,
    "start_time": "2021-07-08T09:06:30.263Z"
   },
   {
    "duration": 27,
    "start_time": "2021-07-08T09:06:30.470Z"
   },
   {
    "duration": 11,
    "start_time": "2021-07-08T09:06:30.500Z"
   },
   {
    "duration": 31,
    "start_time": "2021-07-08T09:06:30.513Z"
   },
   {
    "duration": 18,
    "start_time": "2021-07-08T09:06:30.546Z"
   },
   {
    "duration": 11,
    "start_time": "2021-07-08T09:06:30.566Z"
   },
   {
    "duration": 19,
    "start_time": "2021-07-08T09:06:30.579Z"
   },
   {
    "duration": 20,
    "start_time": "2021-07-08T09:06:49.466Z"
   },
   {
    "duration": 9,
    "start_time": "2021-07-08T09:06:51.994Z"
   },
   {
    "duration": 20,
    "start_time": "2021-07-08T09:06:52.273Z"
   },
   {
    "duration": 246,
    "start_time": "2021-07-08T09:10:21.272Z"
   },
   {
    "duration": 84,
    "start_time": "2021-07-08T09:10:21.436Z"
   },
   {
    "duration": 7,
    "start_time": "2021-07-08T09:10:37.608Z"
   },
   {
    "duration": 189,
    "start_time": "2021-07-08T09:10:38.573Z"
   },
   {
    "duration": 185,
    "start_time": "2021-07-08T09:10:53.181Z"
   },
   {
    "duration": 11,
    "start_time": "2021-07-08T09:10:59.549Z"
   },
   {
    "duration": 42,
    "start_time": "2021-07-08T09:10:59.709Z"
   },
   {
    "duration": 12,
    "start_time": "2021-07-08T09:11:02.857Z"
   },
   {
    "duration": 28,
    "start_time": "2021-07-08T09:11:10.062Z"
   },
   {
    "duration": 249,
    "start_time": "2021-07-08T09:11:37.388Z"
   },
   {
    "duration": 232,
    "start_time": "2021-07-08T09:11:49.485Z"
   },
   {
    "duration": 453,
    "start_time": "2021-07-08T09:12:01.546Z"
   },
   {
    "duration": 440,
    "start_time": "2021-07-08T09:12:12.347Z"
   },
   {
    "duration": 213,
    "start_time": "2021-07-08T09:13:32.196Z"
   },
   {
    "duration": 172,
    "start_time": "2021-07-08T09:14:07.400Z"
   },
   {
    "duration": 185,
    "start_time": "2021-07-08T09:14:14.905Z"
   },
   {
    "duration": 209,
    "start_time": "2021-07-08T09:14:40.109Z"
   },
   {
    "duration": 201,
    "start_time": "2021-07-08T09:14:54.506Z"
   },
   {
    "duration": 622,
    "start_time": "2021-07-08T09:18:14.497Z"
   },
   {
    "duration": 220,
    "start_time": "2021-07-08T09:18:15.121Z"
   },
   {
    "duration": 79,
    "start_time": "2021-07-08T09:18:15.343Z"
   },
   {
    "duration": 4,
    "start_time": "2021-07-08T09:18:15.425Z"
   },
   {
    "duration": 24,
    "start_time": "2021-07-08T09:18:15.431Z"
   },
   {
    "duration": 8,
    "start_time": "2021-07-08T09:18:15.457Z"
   },
   {
    "duration": 16,
    "start_time": "2021-07-08T09:18:15.466Z"
   },
   {
    "duration": 5,
    "start_time": "2021-07-08T09:18:15.484Z"
   },
   {
    "duration": 10,
    "start_time": "2021-07-08T09:18:15.493Z"
   },
   {
    "duration": 8,
    "start_time": "2021-07-08T09:18:15.504Z"
   },
   {
    "duration": 7,
    "start_time": "2021-07-08T09:18:15.513Z"
   },
   {
    "duration": 26,
    "start_time": "2021-07-08T09:18:15.522Z"
   },
   {
    "duration": 49,
    "start_time": "2021-07-08T09:18:15.550Z"
   },
   {
    "duration": 21,
    "start_time": "2021-07-08T09:18:15.601Z"
   },
   {
    "duration": 8,
    "start_time": "2021-07-08T09:18:15.624Z"
   },
   {
    "duration": 3,
    "start_time": "2021-07-08T09:18:15.634Z"
   },
   {
    "duration": 8,
    "start_time": "2021-07-08T09:18:15.639Z"
   },
   {
    "duration": 45,
    "start_time": "2021-07-08T09:18:15.649Z"
   },
   {
    "duration": 13,
    "start_time": "2021-07-08T09:18:15.696Z"
   },
   {
    "duration": 10,
    "start_time": "2021-07-08T09:18:15.711Z"
   },
   {
    "duration": 64,
    "start_time": "2021-07-08T09:18:15.722Z"
   },
   {
    "duration": 19,
    "start_time": "2021-07-08T09:18:15.788Z"
   },
   {
    "duration": 9,
    "start_time": "2021-07-08T09:18:15.809Z"
   },
   {
    "duration": 9,
    "start_time": "2021-07-08T09:18:15.820Z"
   },
   {
    "duration": 18,
    "start_time": "2021-07-08T09:18:15.831Z"
   },
   {
    "duration": 43,
    "start_time": "2021-07-08T09:18:15.851Z"
   },
   {
    "duration": 12,
    "start_time": "2021-07-08T09:18:15.897Z"
   },
   {
    "duration": 219,
    "start_time": "2021-07-08T09:18:15.911Z"
   },
   {
    "duration": 8,
    "start_time": "2021-07-08T09:18:16.132Z"
   },
   {
    "duration": 199,
    "start_time": "2021-07-08T09:18:16.141Z"
   },
   {
    "duration": 18,
    "start_time": "2021-07-08T09:18:16.341Z"
   },
   {
    "duration": 24,
    "start_time": "2021-07-08T09:18:16.361Z"
   },
   {
    "duration": 24,
    "start_time": "2021-07-08T09:18:16.387Z"
   },
   {
    "duration": 211,
    "start_time": "2021-07-08T09:18:16.413Z"
   },
   {
    "duration": 18,
    "start_time": "2021-07-08T09:18:16.626Z"
   },
   {
    "duration": 596,
    "start_time": "2021-07-08T10:06:33.623Z"
   },
   {
    "duration": 181,
    "start_time": "2021-07-08T10:06:34.221Z"
   },
   {
    "duration": 176,
    "start_time": "2021-07-08T10:06:34.635Z"
   },
   {
    "duration": 239,
    "start_time": "2021-07-08T10:06:55.572Z"
   },
   {
    "duration": 6,
    "start_time": "2021-07-08T10:06:57.687Z"
   },
   {
    "duration": 4,
    "start_time": "2021-07-08T10:07:03.956Z"
   },
   {
    "duration": 4,
    "start_time": "2021-07-08T10:07:10.376Z"
   },
   {
    "duration": 4,
    "start_time": "2021-07-08T10:17:19.889Z"
   },
   {
    "duration": 3,
    "start_time": "2021-07-08T10:19:19.407Z"
   },
   {
    "duration": 197,
    "start_time": "2021-07-08T10:19:19.412Z"
   },
   {
    "duration": 127,
    "start_time": "2021-07-08T10:19:19.611Z"
   },
   {
    "duration": 4,
    "start_time": "2021-07-08T10:19:19.740Z"
   },
   {
    "duration": 27,
    "start_time": "2021-07-08T10:19:19.746Z"
   },
   {
    "duration": 7,
    "start_time": "2021-07-08T10:19:19.775Z"
   },
   {
    "duration": 30,
    "start_time": "2021-07-08T10:19:19.784Z"
   },
   {
    "duration": 7,
    "start_time": "2021-07-08T10:19:19.817Z"
   },
   {
    "duration": 26,
    "start_time": "2021-07-08T10:19:19.826Z"
   },
   {
    "duration": 18,
    "start_time": "2021-07-08T10:19:19.854Z"
   },
   {
    "duration": 14,
    "start_time": "2021-07-08T10:19:19.874Z"
   },
   {
    "duration": 48,
    "start_time": "2021-07-08T10:19:19.890Z"
   },
   {
    "duration": 17,
    "start_time": "2021-07-08T10:19:19.940Z"
   },
   {
    "duration": 38,
    "start_time": "2021-07-08T10:19:19.959Z"
   },
   {
    "duration": 8,
    "start_time": "2021-07-08T10:19:19.999Z"
   },
   {
    "duration": 15,
    "start_time": "2021-07-08T10:19:20.009Z"
   },
   {
    "duration": 22,
    "start_time": "2021-07-08T10:19:20.026Z"
   },
   {
    "duration": 10,
    "start_time": "2021-07-08T10:19:20.050Z"
   },
   {
    "duration": 10,
    "start_time": "2021-07-08T10:19:20.062Z"
   },
   {
    "duration": 20,
    "start_time": "2021-07-08T10:19:20.073Z"
   },
   {
    "duration": 29,
    "start_time": "2021-07-08T10:19:20.095Z"
   },
   {
    "duration": 17,
    "start_time": "2021-07-08T10:19:20.126Z"
   },
   {
    "duration": 40,
    "start_time": "2021-07-08T10:19:20.146Z"
   },
   {
    "duration": 15,
    "start_time": "2021-07-08T10:19:20.189Z"
   },
   {
    "duration": 19,
    "start_time": "2021-07-08T10:19:20.206Z"
   },
   {
    "duration": 10,
    "start_time": "2021-07-08T10:19:20.226Z"
   },
   {
    "duration": 11,
    "start_time": "2021-07-08T10:19:20.238Z"
   },
   {
    "duration": 297,
    "start_time": "2021-07-08T10:19:20.250Z"
   },
   {
    "duration": 6,
    "start_time": "2021-07-08T10:19:20.549Z"
   },
   {
    "duration": 191,
    "start_time": "2021-07-08T10:19:20.557Z"
   },
   {
    "duration": 19,
    "start_time": "2021-07-08T10:19:20.750Z"
   },
   {
    "duration": 20,
    "start_time": "2021-07-08T10:19:20.771Z"
   },
   {
    "duration": 15,
    "start_time": "2021-07-08T10:19:20.793Z"
   },
   {
    "duration": 222,
    "start_time": "2021-07-08T10:19:20.809Z"
   },
   {
    "duration": 20,
    "start_time": "2021-07-08T10:19:21.033Z"
   },
   {
    "duration": 27,
    "start_time": "2021-07-08T10:45:04.055Z"
   },
   {
    "duration": 8,
    "start_time": "2021-07-08T10:45:08.478Z"
   },
   {
    "duration": 8,
    "start_time": "2021-07-08T10:45:31.982Z"
   },
   {
    "duration": 10,
    "start_time": "2021-07-08T10:46:01.221Z"
   },
   {
    "duration": 17,
    "start_time": "2021-07-08T10:46:40.011Z"
   },
   {
    "duration": 193,
    "start_time": "2021-07-08T10:48:19.471Z"
   },
   {
    "duration": 225,
    "start_time": "2021-07-08T10:49:26.480Z"
   },
   {
    "duration": 204,
    "start_time": "2021-07-08T10:49:59.992Z"
   },
   {
    "duration": 435,
    "start_time": "2021-07-08T10:50:06.779Z"
   },
   {
    "duration": 199,
    "start_time": "2021-07-08T10:50:14.891Z"
   },
   {
    "duration": 204,
    "start_time": "2021-07-08T10:50:18.501Z"
   },
   {
    "duration": 244,
    "start_time": "2021-07-08T10:50:23.359Z"
   },
   {
    "duration": 192,
    "start_time": "2021-07-08T10:50:29.135Z"
   },
   {
    "duration": 218,
    "start_time": "2021-07-08T10:50:33.092Z"
   },
   {
    "duration": 207,
    "start_time": "2021-07-08T10:52:45.381Z"
   },
   {
    "duration": 5,
    "start_time": "2021-07-08T10:53:34.641Z"
   },
   {
    "duration": 196,
    "start_time": "2021-07-08T10:53:41.478Z"
   },
   {
    "duration": 43,
    "start_time": "2021-07-08T10:53:50.335Z"
   },
   {
    "duration": 32,
    "start_time": "2021-07-08T10:53:55.294Z"
   },
   {
    "duration": 55,
    "start_time": "2021-07-08T10:54:09.675Z"
   },
   {
    "duration": 16,
    "start_time": "2021-07-08T10:54:12.260Z"
   },
   {
    "duration": 15,
    "start_time": "2021-07-08T10:54:49.150Z"
   },
   {
    "duration": 20,
    "start_time": "2021-07-08T10:56:07.596Z"
   },
   {
    "duration": 16,
    "start_time": "2021-07-08T10:58:26.276Z"
   },
   {
    "duration": 22,
    "start_time": "2021-07-08T10:59:00.486Z"
   },
   {
    "duration": 18,
    "start_time": "2021-07-08T11:02:09.653Z"
   },
   {
    "duration": 10,
    "start_time": "2021-07-08T11:03:44.331Z"
   },
   {
    "duration": 10,
    "start_time": "2021-07-08T11:03:54.055Z"
   },
   {
    "duration": 12,
    "start_time": "2021-07-08T11:04:41.967Z"
   },
   {
    "duration": 24,
    "start_time": "2021-07-08T11:07:30.732Z"
   },
   {
    "duration": 6,
    "start_time": "2021-07-08T11:07:37.364Z"
   },
   {
    "duration": 16,
    "start_time": "2021-07-08T11:08:01.819Z"
   },
   {
    "duration": 17,
    "start_time": "2021-07-08T11:09:47.488Z"
   },
   {
    "duration": 246,
    "start_time": "2021-07-08T11:10:00.830Z"
   },
   {
    "duration": 18,
    "start_time": "2021-07-08T11:13:55.195Z"
   },
   {
    "duration": 204,
    "start_time": "2021-07-08T11:14:04.951Z"
   },
   {
    "duration": 19,
    "start_time": "2021-07-08T11:15:10.613Z"
   },
   {
    "duration": 680,
    "start_time": "2021-07-08T11:16:25.793Z"
   },
   {
    "duration": 451,
    "start_time": "2021-07-08T11:16:40.313Z"
   },
   {
    "duration": 469,
    "start_time": "2021-07-08T11:17:21.286Z"
   },
   {
    "duration": 20,
    "start_time": "2021-07-08T11:19:12.554Z"
   },
   {
    "duration": 35,
    "start_time": "2021-07-08T11:20:05.484Z"
   },
   {
    "duration": 53,
    "start_time": "2021-07-08T11:21:40.050Z"
   },
   {
    "duration": 13,
    "start_time": "2021-07-08T11:22:26.059Z"
   },
   {
    "duration": 19,
    "start_time": "2021-07-08T11:22:47.419Z"
   },
   {
    "duration": 25,
    "start_time": "2021-07-08T11:23:19.958Z"
   },
   {
    "duration": 29,
    "start_time": "2021-07-08T11:23:25.415Z"
   },
   {
    "duration": 10,
    "start_time": "2021-07-08T11:24:45.138Z"
   },
   {
    "duration": 19,
    "start_time": "2021-07-08T11:24:54.498Z"
   },
   {
    "duration": 12,
    "start_time": "2021-07-08T11:25:32.225Z"
   },
   {
    "duration": 19,
    "start_time": "2021-07-08T11:25:37.092Z"
   },
   {
    "duration": 17,
    "start_time": "2021-07-08T11:25:58.116Z"
   },
   {
    "duration": 15,
    "start_time": "2021-07-08T11:26:02.258Z"
   },
   {
    "duration": 8,
    "start_time": "2021-07-08T11:26:59.682Z"
   },
   {
    "duration": 184,
    "start_time": "2021-07-08T11:27:21.894Z"
   },
   {
    "duration": 8,
    "start_time": "2021-07-08T11:27:23.824Z"
   },
   {
    "duration": 202,
    "start_time": "2021-07-08T11:27:23.962Z"
   },
   {
    "duration": 360,
    "start_time": "2021-07-08T11:28:33.215Z"
   },
   {
    "duration": 231,
    "start_time": "2021-07-08T11:32:05.542Z"
   },
   {
    "duration": 607,
    "start_time": "2021-07-08T11:36:27.854Z"
   },
   {
    "duration": 241,
    "start_time": "2021-07-08T11:36:28.463Z"
   },
   {
    "duration": 67,
    "start_time": "2021-07-08T11:36:28.709Z"
   },
   {
    "duration": 5,
    "start_time": "2021-07-08T11:36:28.778Z"
   },
   {
    "duration": 32,
    "start_time": "2021-07-08T11:36:28.784Z"
   },
   {
    "duration": 11,
    "start_time": "2021-07-08T11:36:28.819Z"
   },
   {
    "duration": 20,
    "start_time": "2021-07-08T11:36:28.834Z"
   },
   {
    "duration": 36,
    "start_time": "2021-07-08T11:36:28.857Z"
   },
   {
    "duration": 16,
    "start_time": "2021-07-08T11:36:28.895Z"
   },
   {
    "duration": 14,
    "start_time": "2021-07-08T11:36:28.913Z"
   },
   {
    "duration": 9,
    "start_time": "2021-07-08T11:36:28.930Z"
   },
   {
    "duration": 55,
    "start_time": "2021-07-08T11:36:28.941Z"
   },
   {
    "duration": 27,
    "start_time": "2021-07-08T11:36:28.999Z"
   },
   {
    "duration": 30,
    "start_time": "2021-07-08T11:36:29.028Z"
   },
   {
    "duration": 31,
    "start_time": "2021-07-08T11:36:29.060Z"
   },
   {
    "duration": 3,
    "start_time": "2021-07-08T11:36:29.093Z"
   },
   {
    "duration": 12,
    "start_time": "2021-07-08T11:36:29.099Z"
   },
   {
    "duration": 11,
    "start_time": "2021-07-08T11:36:29.112Z"
   },
   {
    "duration": 12,
    "start_time": "2021-07-08T11:36:29.125Z"
   },
   {
    "duration": 9,
    "start_time": "2021-07-08T11:36:29.139Z"
   },
   {
    "duration": 31,
    "start_time": "2021-07-08T11:36:29.191Z"
   },
   {
    "duration": 17,
    "start_time": "2021-07-08T11:36:29.226Z"
   },
   {
    "duration": 7,
    "start_time": "2021-07-08T11:36:29.245Z"
   },
   {
    "duration": 10,
    "start_time": "2021-07-08T11:36:29.254Z"
   },
   {
    "duration": 30,
    "start_time": "2021-07-08T11:36:29.292Z"
   },
   {
    "duration": 11,
    "start_time": "2021-07-08T11:36:29.324Z"
   },
   {
    "duration": 11,
    "start_time": "2021-07-08T11:36:29.337Z"
   },
   {
    "duration": 230,
    "start_time": "2021-07-08T11:36:29.349Z"
   },
   {
    "duration": 13,
    "start_time": "2021-07-08T11:36:29.588Z"
   },
   {
    "duration": 205,
    "start_time": "2021-07-08T11:36:29.603Z"
   },
   {
    "duration": 20,
    "start_time": "2021-07-08T11:36:29.810Z"
   },
   {
    "duration": 9,
    "start_time": "2021-07-08T11:36:29.832Z"
   },
   {
    "duration": 16,
    "start_time": "2021-07-08T11:36:29.843Z"
   },
   {
    "duration": 283,
    "start_time": "2021-07-08T11:36:29.861Z"
   },
   {
    "duration": 50,
    "start_time": "2021-07-08T11:36:30.146Z"
   },
   {
    "duration": 14,
    "start_time": "2021-07-08T11:36:30.198Z"
   },
   {
    "duration": 11,
    "start_time": "2021-07-08T11:36:30.214Z"
   },
   {
    "duration": 245,
    "start_time": "2021-07-08T11:36:30.227Z"
   },
   {
    "duration": 439,
    "start_time": "2021-07-08T11:36:30.474Z"
   },
   {
    "duration": 210,
    "start_time": "2021-07-08T11:36:30.915Z"
   },
   {
    "duration": 15,
    "start_time": "2021-07-08T11:36:31.127Z"
   },
   {
    "duration": 17,
    "start_time": "2021-07-08T11:38:20.451Z"
   },
   {
    "duration": 642,
    "start_time": "2021-07-08T11:46:17.881Z"
   },
   {
    "duration": 210,
    "start_time": "2021-07-08T11:46:18.525Z"
   },
   {
    "duration": 104,
    "start_time": "2021-07-08T11:46:18.741Z"
   },
   {
    "duration": 8,
    "start_time": "2021-07-08T11:46:18.847Z"
   },
   {
    "duration": 25,
    "start_time": "2021-07-08T11:46:18.857Z"
   },
   {
    "duration": 14,
    "start_time": "2021-07-08T11:46:18.884Z"
   },
   {
    "duration": 22,
    "start_time": "2021-07-08T11:46:18.900Z"
   },
   {
    "duration": 5,
    "start_time": "2021-07-08T11:46:18.924Z"
   },
   {
    "duration": 13,
    "start_time": "2021-07-08T11:46:18.931Z"
   },
   {
    "duration": 45,
    "start_time": "2021-07-08T11:46:18.946Z"
   },
   {
    "duration": 12,
    "start_time": "2021-07-08T11:46:18.993Z"
   },
   {
    "duration": 38,
    "start_time": "2021-07-08T11:46:19.006Z"
   },
   {
    "duration": 50,
    "start_time": "2021-07-08T11:46:19.046Z"
   },
   {
    "duration": 29,
    "start_time": "2021-07-08T11:46:19.099Z"
   },
   {
    "duration": 7,
    "start_time": "2021-07-08T11:46:19.130Z"
   },
   {
    "duration": 3,
    "start_time": "2021-07-08T11:46:19.139Z"
   },
   {
    "duration": 11,
    "start_time": "2021-07-08T11:46:19.144Z"
   },
   {
    "duration": 40,
    "start_time": "2021-07-08T11:46:19.157Z"
   },
   {
    "duration": 15,
    "start_time": "2021-07-08T11:46:19.199Z"
   },
   {
    "duration": 10,
    "start_time": "2021-07-08T11:46:19.217Z"
   },
   {
    "duration": 68,
    "start_time": "2021-07-08T11:46:19.230Z"
   },
   {
    "duration": 17,
    "start_time": "2021-07-08T11:46:19.301Z"
   },
   {
    "duration": 7,
    "start_time": "2021-07-08T11:46:19.321Z"
   },
   {
    "duration": 11,
    "start_time": "2021-07-08T11:46:19.330Z"
   },
   {
    "duration": 59,
    "start_time": "2021-07-08T11:46:19.343Z"
   },
   {
    "duration": 17,
    "start_time": "2021-07-08T11:46:19.405Z"
   },
   {
    "duration": 16,
    "start_time": "2021-07-08T11:46:19.424Z"
   },
   {
    "duration": 252,
    "start_time": "2021-07-08T11:46:19.443Z"
   },
   {
    "duration": 9,
    "start_time": "2021-07-08T11:46:19.697Z"
   },
   {
    "duration": 224,
    "start_time": "2021-07-08T11:46:19.708Z"
   },
   {
    "duration": 21,
    "start_time": "2021-07-08T11:46:19.934Z"
   },
   {
    "duration": 9,
    "start_time": "2021-07-08T11:46:19.956Z"
   },
   {
    "duration": 32,
    "start_time": "2021-07-08T11:46:19.967Z"
   },
   {
    "duration": 288,
    "start_time": "2021-07-08T11:46:20.004Z"
   },
   {
    "duration": 23,
    "start_time": "2021-07-08T11:46:20.300Z"
   },
   {
    "duration": 11,
    "start_time": "2021-07-08T11:46:20.325Z"
   },
   {
    "duration": 11,
    "start_time": "2021-07-08T11:46:20.339Z"
   },
   {
    "duration": 259,
    "start_time": "2021-07-08T11:46:20.352Z"
   },
   {
    "duration": 438,
    "start_time": "2021-07-08T11:46:20.613Z"
   },
   {
    "duration": 207,
    "start_time": "2021-07-08T11:46:21.054Z"
   },
   {
    "duration": 27,
    "start_time": "2021-07-08T11:46:21.262Z"
   },
   {
    "duration": 19,
    "start_time": "2021-07-08T11:46:21.291Z"
   },
   {
    "duration": 820,
    "start_time": "2021-07-08T11:49:01.655Z"
   },
   {
    "duration": 372,
    "start_time": "2021-07-08T11:49:02.478Z"
   },
   {
    "duration": 98,
    "start_time": "2021-07-08T11:49:02.853Z"
   },
   {
    "duration": 6,
    "start_time": "2021-07-08T11:49:02.953Z"
   },
   {
    "duration": 39,
    "start_time": "2021-07-08T11:49:02.960Z"
   },
   {
    "duration": 9,
    "start_time": "2021-07-08T11:49:03.003Z"
   },
   {
    "duration": 23,
    "start_time": "2021-07-08T11:49:03.014Z"
   },
   {
    "duration": 6,
    "start_time": "2021-07-08T11:49:03.041Z"
   },
   {
    "duration": 20,
    "start_time": "2021-07-08T11:49:03.049Z"
   },
   {
    "duration": 18,
    "start_time": "2021-07-08T11:49:03.084Z"
   },
   {
    "duration": 14,
    "start_time": "2021-07-08T11:49:03.104Z"
   },
   {
    "duration": 39,
    "start_time": "2021-07-08T11:49:03.119Z"
   },
   {
    "duration": 38,
    "start_time": "2021-07-08T11:49:03.160Z"
   },
   {
    "duration": 26,
    "start_time": "2021-07-08T11:49:03.200Z"
   },
   {
    "duration": 7,
    "start_time": "2021-07-08T11:49:03.227Z"
   },
   {
    "duration": 4,
    "start_time": "2021-07-08T11:49:03.236Z"
   },
   {
    "duration": 15,
    "start_time": "2021-07-08T11:49:03.243Z"
   },
   {
    "duration": 21,
    "start_time": "2021-07-08T11:49:03.285Z"
   },
   {
    "duration": 17,
    "start_time": "2021-07-08T11:49:03.309Z"
   },
   {
    "duration": 10,
    "start_time": "2021-07-08T11:49:03.328Z"
   },
   {
    "duration": 65,
    "start_time": "2021-07-08T11:49:03.340Z"
   },
   {
    "duration": 18,
    "start_time": "2021-07-08T11:49:03.407Z"
   },
   {
    "duration": 8,
    "start_time": "2021-07-08T11:49:03.428Z"
   },
   {
    "duration": 15,
    "start_time": "2021-07-08T11:49:03.438Z"
   },
   {
    "duration": 40,
    "start_time": "2021-07-08T11:49:03.455Z"
   },
   {
    "duration": 12,
    "start_time": "2021-07-08T11:49:03.497Z"
   },
   {
    "duration": 29,
    "start_time": "2021-07-08T11:49:03.511Z"
   },
   {
    "duration": 285,
    "start_time": "2021-07-08T11:49:03.542Z"
   },
   {
    "duration": 8,
    "start_time": "2021-07-08T11:49:03.829Z"
   },
   {
    "duration": 227,
    "start_time": "2021-07-08T11:49:03.838Z"
   },
   {
    "duration": 40,
    "start_time": "2021-07-08T11:49:04.066Z"
   },
   {
    "duration": 10,
    "start_time": "2021-07-08T11:49:04.108Z"
   },
   {
    "duration": 26,
    "start_time": "2021-07-08T11:49:04.121Z"
   },
   {
    "duration": 290,
    "start_time": "2021-07-08T11:49:04.149Z"
   },
   {
    "duration": 26,
    "start_time": "2021-07-08T11:49:04.441Z"
   },
   {
    "duration": 31,
    "start_time": "2021-07-08T11:49:04.470Z"
   },
   {
    "duration": 14,
    "start_time": "2021-07-08T11:49:04.503Z"
   },
   {
    "duration": 259,
    "start_time": "2021-07-08T11:49:04.521Z"
   },
   {
    "duration": 480,
    "start_time": "2021-07-08T11:49:04.782Z"
   },
   {
    "duration": 225,
    "start_time": "2021-07-08T11:49:05.264Z"
   },
   {
    "duration": 22,
    "start_time": "2021-07-08T11:49:05.491Z"
   },
   {
    "duration": 24,
    "start_time": "2021-07-08T11:49:05.515Z"
   },
   {
    "duration": 634,
    "start_time": "2021-07-08T11:52:24.960Z"
   },
   {
    "duration": 199,
    "start_time": "2021-07-08T11:52:25.599Z"
   },
   {
    "duration": 106,
    "start_time": "2021-07-08T11:52:25.803Z"
   },
   {
    "duration": 7,
    "start_time": "2021-07-08T11:52:25.911Z"
   },
   {
    "duration": 29,
    "start_time": "2021-07-08T11:52:25.920Z"
   },
   {
    "duration": 7,
    "start_time": "2021-07-08T11:52:25.951Z"
   },
   {
    "duration": 26,
    "start_time": "2021-07-08T11:52:25.961Z"
   },
   {
    "duration": 11,
    "start_time": "2021-07-08T11:52:25.990Z"
   },
   {
    "duration": 29,
    "start_time": "2021-07-08T11:52:26.005Z"
   },
   {
    "duration": 9,
    "start_time": "2021-07-08T11:52:26.036Z"
   },
   {
    "duration": 8,
    "start_time": "2021-07-08T11:52:26.047Z"
   },
   {
    "duration": 63,
    "start_time": "2021-07-08T11:52:26.057Z"
   },
   {
    "duration": 17,
    "start_time": "2021-07-08T11:52:26.122Z"
   },
   {
    "duration": 43,
    "start_time": "2021-07-08T11:52:26.142Z"
   },
   {
    "duration": 17,
    "start_time": "2021-07-08T11:52:26.187Z"
   },
   {
    "duration": 5,
    "start_time": "2021-07-08T11:52:26.206Z"
   },
   {
    "duration": 12,
    "start_time": "2021-07-08T11:52:26.212Z"
   },
   {
    "duration": 11,
    "start_time": "2021-07-08T11:52:26.226Z"
   },
   {
    "duration": 12,
    "start_time": "2021-07-08T11:52:26.238Z"
   },
   {
    "duration": 38,
    "start_time": "2021-07-08T11:52:26.252Z"
   },
   {
    "duration": 40,
    "start_time": "2021-07-08T11:52:26.292Z"
   },
   {
    "duration": 17,
    "start_time": "2021-07-08T11:52:26.336Z"
   },
   {
    "duration": 39,
    "start_time": "2021-07-08T11:52:26.355Z"
   },
   {
    "duration": 11,
    "start_time": "2021-07-08T11:52:26.395Z"
   },
   {
    "duration": 23,
    "start_time": "2021-07-08T11:52:26.408Z"
   },
   {
    "duration": 12,
    "start_time": "2021-07-08T11:52:26.432Z"
   },
   {
    "duration": 41,
    "start_time": "2021-07-08T11:52:26.446Z"
   },
   {
    "duration": 215,
    "start_time": "2021-07-08T11:52:26.493Z"
   },
   {
    "duration": 8,
    "start_time": "2021-07-08T11:52:26.710Z"
   },
   {
    "duration": 228,
    "start_time": "2021-07-08T11:52:26.720Z"
   },
   {
    "duration": 18,
    "start_time": "2021-07-08T11:52:26.950Z"
   },
   {
    "duration": 35,
    "start_time": "2021-07-08T11:52:26.969Z"
   },
   {
    "duration": 23,
    "start_time": "2021-07-08T11:52:27.006Z"
   },
   {
    "duration": 258,
    "start_time": "2021-07-08T11:52:27.030Z"
   },
   {
    "duration": 24,
    "start_time": "2021-07-08T11:52:27.290Z"
   },
   {
    "duration": 12,
    "start_time": "2021-07-08T11:52:27.316Z"
   },
   {
    "duration": 10,
    "start_time": "2021-07-08T11:52:27.329Z"
   },
   {
    "duration": 298,
    "start_time": "2021-07-08T11:52:27.341Z"
   },
   {
    "duration": 436,
    "start_time": "2021-07-08T11:52:27.641Z"
   },
   {
    "duration": 216,
    "start_time": "2021-07-08T11:52:28.079Z"
   },
   {
    "duration": 20,
    "start_time": "2021-07-08T11:52:28.297Z"
   },
   {
    "duration": 17,
    "start_time": "2021-07-08T11:52:28.319Z"
   },
   {
    "duration": 633,
    "start_time": "2022-01-23T05:48:10.341Z"
   },
   {
    "duration": 66,
    "start_time": "2022-01-23T05:48:13.020Z"
   },
   {
    "duration": 91,
    "start_time": "2022-01-23T05:49:02.980Z"
   },
   {
    "duration": 99,
    "start_time": "2022-01-23T05:49:46.396Z"
   },
   {
    "duration": 128,
    "start_time": "2022-01-23T05:50:57.877Z"
   },
   {
    "duration": 364,
    "start_time": "2022-01-23T05:52:07.103Z"
   },
   {
    "duration": 285,
    "start_time": "2022-01-23T05:52:23.351Z"
   },
   {
    "duration": 5,
    "start_time": "2022-01-23T05:52:28.548Z"
   },
   {
    "duration": 11,
    "start_time": "2022-01-23T05:54:09.587Z"
   },
   {
    "duration": 278,
    "start_time": "2022-01-23T05:54:43.064Z"
   },
   {
    "duration": 6,
    "start_time": "2022-01-23T05:54:51.827Z"
   },
   {
    "duration": 11,
    "start_time": "2022-01-23T05:55:41.100Z"
   },
   {
    "duration": 291,
    "start_time": "2022-01-23T05:56:00.186Z"
   },
   {
    "duration": 10,
    "start_time": "2022-01-23T05:56:33.107Z"
   },
   {
    "duration": 14,
    "start_time": "2022-01-23T05:58:06.431Z"
   },
   {
    "duration": 11,
    "start_time": "2022-01-23T05:58:32.464Z"
   },
   {
    "duration": 13,
    "start_time": "2022-01-23T05:59:24.344Z"
   },
   {
    "duration": 10,
    "start_time": "2022-01-23T06:03:48.197Z"
   },
   {
    "duration": 283,
    "start_time": "2022-01-23T06:05:10.921Z"
   },
   {
    "duration": 20,
    "start_time": "2022-01-23T06:05:48.957Z"
   },
   {
    "duration": 19,
    "start_time": "2022-01-23T06:07:00.774Z"
   },
   {
    "duration": 29,
    "start_time": "2022-01-23T06:07:10.603Z"
   },
   {
    "duration": 21,
    "start_time": "2022-01-23T06:07:17.003Z"
   },
   {
    "duration": 6,
    "start_time": "2022-01-23T06:07:45.335Z"
   },
   {
    "duration": 1061,
    "start_time": "2022-01-23T06:13:17.085Z"
   },
   {
    "duration": 13,
    "start_time": "2022-01-23T06:16:31.263Z"
   },
   {
    "duration": 16,
    "start_time": "2022-01-23T06:16:46.008Z"
   },
   {
    "duration": 291,
    "start_time": "2022-01-23T06:20:52.650Z"
   },
   {
    "duration": 619,
    "start_time": "2022-01-23T06:21:14.064Z"
   },
   {
    "duration": 104,
    "start_time": "2022-01-23T06:21:14.685Z"
   },
   {
    "duration": 9,
    "start_time": "2022-01-23T06:21:14.791Z"
   },
   {
    "duration": 5,
    "start_time": "2022-01-23T06:21:14.801Z"
   },
   {
    "duration": 1168,
    "start_time": "2022-01-23T06:21:14.807Z"
   },
   {
    "duration": 15,
    "start_time": "2022-01-23T06:24:22.850Z"
   },
   {
    "duration": 10,
    "start_time": "2022-01-23T06:24:40.243Z"
   },
   {
    "duration": 334,
    "start_time": "2022-01-23T06:25:10.987Z"
   },
   {
    "duration": 351,
    "start_time": "2022-01-23T06:25:36.468Z"
   },
   {
    "duration": 324,
    "start_time": "2022-01-23T06:25:49.432Z"
   },
   {
    "duration": 11,
    "start_time": "2022-01-23T06:26:30.478Z"
   },
   {
    "duration": 26,
    "start_time": "2022-01-23T06:27:20.071Z"
   },
   {
    "duration": 19,
    "start_time": "2022-01-23T06:28:08.204Z"
   },
   {
    "duration": 131,
    "start_time": "2022-01-23T06:28:53.030Z"
   },
   {
    "duration": 32,
    "start_time": "2022-01-23T06:28:57.933Z"
   },
   {
    "duration": 25,
    "start_time": "2022-01-23T06:30:47.859Z"
   },
   {
    "duration": 25,
    "start_time": "2022-01-23T06:31:04.301Z"
   },
   {
    "duration": 26,
    "start_time": "2022-01-23T06:31:12.061Z"
   },
   {
    "duration": 26,
    "start_time": "2022-01-23T06:32:33.584Z"
   },
   {
    "duration": 24,
    "start_time": "2022-01-23T06:32:53.441Z"
   },
   {
    "duration": 5,
    "start_time": "2022-01-23T06:38:43.304Z"
   },
   {
    "duration": 10,
    "start_time": "2022-01-23T06:46:34.881Z"
   },
   {
    "duration": 16,
    "start_time": "2022-01-23T06:47:36.495Z"
   },
   {
    "duration": 636,
    "start_time": "2022-01-23T07:03:09.686Z"
   },
   {
    "duration": 105,
    "start_time": "2022-01-23T07:03:10.324Z"
   },
   {
    "duration": 9,
    "start_time": "2022-01-23T07:03:10.432Z"
   },
   {
    "duration": 12,
    "start_time": "2022-01-23T07:03:10.442Z"
   },
   {
    "duration": 1234,
    "start_time": "2022-01-23T07:03:10.455Z"
   },
   {
    "duration": -1834,
    "start_time": "2022-01-23T07:03:13.525Z"
   },
   {
    "duration": -1834,
    "start_time": "2022-01-23T07:03:13.526Z"
   },
   {
    "duration": 267,
    "start_time": "2022-01-23T07:08:52.487Z"
   },
   {
    "duration": 1143,
    "start_time": "2022-01-23T07:12:53.873Z"
   },
   {
    "duration": 650,
    "start_time": "2022-01-23T07:13:07.675Z"
   },
   {
    "duration": 106,
    "start_time": "2022-01-23T07:13:08.327Z"
   },
   {
    "duration": 11,
    "start_time": "2022-01-23T07:13:08.435Z"
   },
   {
    "duration": 11,
    "start_time": "2022-01-23T07:13:08.448Z"
   },
   {
    "duration": 1206,
    "start_time": "2022-01-23T07:13:08.461Z"
   },
   {
    "duration": -1833,
    "start_time": "2022-01-23T07:13:11.502Z"
   },
   {
    "duration": -1832,
    "start_time": "2022-01-23T07:13:11.503Z"
   },
   {
    "duration": 291,
    "start_time": "2022-01-23T07:15:05.236Z"
   },
   {
    "duration": 4,
    "start_time": "2022-01-23T07:15:16.123Z"
   },
   {
    "duration": 104,
    "start_time": "2022-01-23T07:15:17.306Z"
   },
   {
    "duration": 10,
    "start_time": "2022-01-23T07:15:18.775Z"
   },
   {
    "duration": 6,
    "start_time": "2022-01-23T07:15:19.788Z"
   },
   {
    "duration": 1108,
    "start_time": "2022-01-23T07:15:25.520Z"
   },
   {
    "duration": 22,
    "start_time": "2022-01-23T07:15:48.007Z"
   },
   {
    "duration": 30,
    "start_time": "2022-01-23T07:16:11.325Z"
   },
   {
    "duration": 7,
    "start_time": "2022-01-23T07:16:27.914Z"
   },
   {
    "duration": 10,
    "start_time": "2022-01-23T07:16:37.735Z"
   },
   {
    "duration": 7,
    "start_time": "2022-01-23T07:24:42.414Z"
   },
   {
    "duration": 15,
    "start_time": "2022-01-23T07:24:59.693Z"
   },
   {
    "duration": 10,
    "start_time": "2022-01-23T07:25:15.586Z"
   },
   {
    "duration": 41,
    "start_time": "2022-01-23T07:27:22.188Z"
   },
   {
    "duration": 11,
    "start_time": "2022-01-23T07:27:22.966Z"
   },
   {
    "duration": 15,
    "start_time": "2022-01-23T07:27:31.516Z"
   },
   {
    "duration": 7251,
    "start_time": "2022-01-23T07:29:10.469Z"
   },
   {
    "duration": 5,
    "start_time": "2022-01-23T07:29:35.504Z"
   },
   {
    "duration": 5,
    "start_time": "2022-01-23T07:30:08.236Z"
   },
   {
    "duration": 7035,
    "start_time": "2022-01-23T07:31:16.715Z"
   },
   {
    "duration": 15,
    "start_time": "2022-01-23T07:31:42.151Z"
   },
   {
    "duration": 683,
    "start_time": "2022-01-23T07:36:58.844Z"
   },
   {
    "duration": 118,
    "start_time": "2022-01-23T07:36:59.529Z"
   },
   {
    "duration": 10,
    "start_time": "2022-01-23T07:36:59.649Z"
   },
   {
    "duration": 7,
    "start_time": "2022-01-23T07:36:59.661Z"
   },
   {
    "duration": 25,
    "start_time": "2022-01-23T07:36:59.669Z"
   },
   {
    "duration": 4,
    "start_time": "2022-01-23T07:36:59.695Z"
   },
   {
    "duration": 11,
    "start_time": "2022-01-23T07:36:59.701Z"
   },
   {
    "duration": 1916,
    "start_time": "2022-01-23T07:36:59.714Z"
   },
   {
    "duration": -1810,
    "start_time": "2022-01-23T07:37:03.442Z"
   },
   {
    "duration": -1809,
    "start_time": "2022-01-23T07:37:03.443Z"
   },
   {
    "duration": -1809,
    "start_time": "2022-01-23T07:37:03.444Z"
   },
   {
    "duration": -1809,
    "start_time": "2022-01-23T07:37:03.445Z"
   },
   {
    "duration": 44,
    "start_time": "2022-01-23T07:39:15.258Z"
   },
   {
    "duration": 5,
    "start_time": "2022-01-23T07:39:23.325Z"
   },
   {
    "duration": 5,
    "start_time": "2022-01-23T07:39:25.983Z"
   },
   {
    "duration": 8,
    "start_time": "2022-01-23T07:39:28.282Z"
   },
   {
    "duration": 10,
    "start_time": "2022-01-23T07:39:46.511Z"
   },
   {
    "duration": 24,
    "start_time": "2022-01-23T07:40:00.281Z"
   },
   {
    "duration": 14,
    "start_time": "2022-01-23T07:40:42.356Z"
   },
   {
    "duration": 34,
    "start_time": "2022-01-23T07:44:45.363Z"
   },
   {
    "duration": 10,
    "start_time": "2022-01-23T07:45:02.345Z"
   },
   {
    "duration": 664,
    "start_time": "2022-01-23T07:45:26.004Z"
   },
   {
    "duration": 108,
    "start_time": "2022-01-23T07:45:26.670Z"
   },
   {
    "duration": 9,
    "start_time": "2022-01-23T07:45:26.782Z"
   },
   {
    "duration": 7,
    "start_time": "2022-01-23T07:45:26.793Z"
   },
   {
    "duration": 25,
    "start_time": "2022-01-23T07:45:26.802Z"
   },
   {
    "duration": 5,
    "start_time": "2022-01-23T07:45:26.829Z"
   },
   {
    "duration": 12,
    "start_time": "2022-01-23T07:45:26.836Z"
   },
   {
    "duration": 48,
    "start_time": "2022-01-23T07:45:26.850Z"
   },
   {
    "duration": 4,
    "start_time": "2022-01-23T07:45:26.899Z"
   },
   {
    "duration": 25,
    "start_time": "2022-01-23T07:45:26.904Z"
   },
   {
    "duration": 8,
    "start_time": "2022-01-23T07:45:26.930Z"
   },
   {
    "duration": 14,
    "start_time": "2022-01-23T07:45:26.940Z"
   },
   {
    "duration": 9,
    "start_time": "2022-01-23T07:45:26.955Z"
   },
   {
    "duration": 13,
    "start_time": "2022-01-23T07:47:08.596Z"
   },
   {
    "duration": 23,
    "start_time": "2022-01-23T07:48:16.318Z"
   },
   {
    "duration": 1413,
    "start_time": "2022-01-23T08:10:34.072Z"
   },
   {
    "duration": 284,
    "start_time": "2022-01-23T08:15:38.368Z"
   },
   {
    "duration": 5,
    "start_time": "2022-01-23T08:15:51.185Z"
   },
   {
    "duration": 8,
    "start_time": "2022-01-23T08:17:09.156Z"
   },
   {
    "duration": 55,
    "start_time": "2022-01-23T08:17:38.328Z"
   },
   {
    "duration": 28,
    "start_time": "2022-01-23T08:17:59.054Z"
   },
   {
    "duration": 8,
    "start_time": "2022-01-23T08:18:16.580Z"
   },
   {
    "duration": 8,
    "start_time": "2022-01-23T08:18:36.767Z"
   },
   {
    "duration": 9,
    "start_time": "2022-01-23T08:21:17.388Z"
   },
   {
    "duration": 92,
    "start_time": "2022-01-23T08:21:37.305Z"
   },
   {
    "duration": 9,
    "start_time": "2022-01-23T08:21:54.138Z"
   },
   {
    "duration": 11,
    "start_time": "2022-01-23T08:29:37.734Z"
   },
   {
    "duration": 283,
    "start_time": "2022-01-23T08:34:25.195Z"
   },
   {
    "duration": 319,
    "start_time": "2022-01-23T08:34:33.125Z"
   },
   {
    "duration": 1845,
    "start_time": "2022-01-23T08:35:39.330Z"
   },
   {
    "duration": 798,
    "start_time": "2022-01-23T08:35:51.728Z"
   },
   {
    "duration": 27,
    "start_time": "2022-01-23T08:36:49.364Z"
   },
   {
    "duration": 320,
    "start_time": "2022-01-23T08:37:18.554Z"
   },
   {
    "duration": 288,
    "start_time": "2022-01-23T08:38:13.053Z"
   },
   {
    "duration": 26,
    "start_time": "2022-01-23T08:38:41.701Z"
   },
   {
    "duration": 27,
    "start_time": "2022-01-23T08:39:19.257Z"
   },
   {
    "duration": 10,
    "start_time": "2022-01-23T08:39:58.249Z"
   },
   {
    "duration": 17,
    "start_time": "2022-01-23T08:40:20.032Z"
   },
   {
    "duration": 286,
    "start_time": "2022-01-23T08:44:24.516Z"
   },
   {
    "duration": 291,
    "start_time": "2022-01-23T08:45:10.036Z"
   },
   {
    "duration": 22,
    "start_time": "2022-01-23T08:45:36.151Z"
   },
   {
    "duration": 609,
    "start_time": "2022-01-23T09:42:43.565Z"
   },
   {
    "duration": 108,
    "start_time": "2022-01-23T09:42:44.176Z"
   },
   {
    "duration": 10,
    "start_time": "2022-01-23T09:42:44.286Z"
   },
   {
    "duration": 5,
    "start_time": "2022-01-23T09:42:44.298Z"
   },
   {
    "duration": 26,
    "start_time": "2022-01-23T09:42:44.304Z"
   },
   {
    "duration": 5,
    "start_time": "2022-01-23T09:42:44.332Z"
   },
   {
    "duration": 10,
    "start_time": "2022-01-23T09:42:44.339Z"
   },
   {
    "duration": 43,
    "start_time": "2022-01-23T09:42:44.352Z"
   },
   {
    "duration": 5,
    "start_time": "2022-01-23T09:42:44.396Z"
   },
   {
    "duration": 33,
    "start_time": "2022-01-23T09:42:44.402Z"
   },
   {
    "duration": 9,
    "start_time": "2022-01-23T09:42:44.437Z"
   },
   {
    "duration": 14,
    "start_time": "2022-01-23T09:42:44.448Z"
   },
   {
    "duration": 11,
    "start_time": "2022-01-23T09:42:44.464Z"
   },
   {
    "duration": 21,
    "start_time": "2022-01-23T09:42:44.476Z"
   },
   {
    "duration": 92,
    "start_time": "2022-01-23T09:42:44.528Z"
   },
   {
    "duration": 389,
    "start_time": "2022-01-23T09:43:11.381Z"
   },
   {
    "duration": 298,
    "start_time": "2022-01-23T09:43:53.748Z"
   },
   {
    "duration": 122,
    "start_time": "2022-01-23T09:44:29.821Z"
   },
   {
    "duration": 85,
    "start_time": "2022-01-23T09:47:47.678Z"
   },
   {
    "duration": 628,
    "start_time": "2022-01-23T09:47:56.655Z"
   },
   {
    "duration": 108,
    "start_time": "2022-01-23T09:47:57.284Z"
   },
   {
    "duration": 11,
    "start_time": "2022-01-23T09:47:57.394Z"
   },
   {
    "duration": 5,
    "start_time": "2022-01-23T09:47:57.407Z"
   },
   {
    "duration": 26,
    "start_time": "2022-01-23T09:47:57.414Z"
   },
   {
    "duration": 5,
    "start_time": "2022-01-23T09:47:57.442Z"
   },
   {
    "duration": 14,
    "start_time": "2022-01-23T09:47:57.449Z"
   },
   {
    "duration": 62,
    "start_time": "2022-01-23T09:47:57.465Z"
   },
   {
    "duration": 4,
    "start_time": "2022-01-23T09:47:57.530Z"
   },
   {
    "duration": 8,
    "start_time": "2022-01-23T09:47:57.536Z"
   },
   {
    "duration": 13,
    "start_time": "2022-01-23T09:47:57.546Z"
   },
   {
    "duration": 14,
    "start_time": "2022-01-23T09:47:57.561Z"
   },
   {
    "duration": 12,
    "start_time": "2022-01-23T09:47:57.577Z"
   },
   {
    "duration": 47,
    "start_time": "2022-01-23T09:47:57.591Z"
   },
   {
    "duration": 141,
    "start_time": "2022-01-23T09:47:57.640Z"
   },
   {
    "duration": 5,
    "start_time": "2022-01-23T09:49:16.996Z"
   },
   {
    "duration": 7,
    "start_time": "2022-01-23T09:50:47.488Z"
   },
   {
    "duration": 107,
    "start_time": "2022-01-23T09:50:47.497Z"
   },
   {
    "duration": 10,
    "start_time": "2022-01-23T09:50:47.605Z"
   },
   {
    "duration": 5,
    "start_time": "2022-01-23T09:50:47.616Z"
   },
   {
    "duration": 26,
    "start_time": "2022-01-23T09:50:47.622Z"
   },
   {
    "duration": 4,
    "start_time": "2022-01-23T09:50:47.650Z"
   },
   {
    "duration": 10,
    "start_time": "2022-01-23T09:50:47.656Z"
   },
   {
    "duration": 44,
    "start_time": "2022-01-23T09:50:47.668Z"
   },
   {
    "duration": 4,
    "start_time": "2022-01-23T09:50:47.727Z"
   },
   {
    "duration": 6,
    "start_time": "2022-01-23T09:50:47.733Z"
   },
   {
    "duration": 9,
    "start_time": "2022-01-23T09:50:47.740Z"
   },
   {
    "duration": 13,
    "start_time": "2022-01-23T09:50:47.751Z"
   },
   {
    "duration": 10,
    "start_time": "2022-01-23T09:50:47.766Z"
   },
   {
    "duration": 22,
    "start_time": "2022-01-23T09:50:47.778Z"
   },
   {
    "duration": 4,
    "start_time": "2022-01-23T09:51:00.554Z"
   },
   {
    "duration": 5,
    "start_time": "2022-01-23T09:51:31.905Z"
   },
   {
    "duration": 60,
    "start_time": "2022-01-23T09:52:27.580Z"
   },
   {
    "duration": 43,
    "start_time": "2022-01-23T09:52:47.300Z"
   },
   {
    "duration": 42,
    "start_time": "2022-01-23T09:54:00.767Z"
   },
   {
    "duration": 4,
    "start_time": "2022-01-23T09:54:34.605Z"
   },
   {
    "duration": 52,
    "start_time": "2022-01-23T09:59:44.646Z"
   },
   {
    "duration": 4,
    "start_time": "2022-01-23T09:59:55.024Z"
   },
   {
    "duration": 129,
    "start_time": "2022-01-23T09:59:57.802Z"
   },
   {
    "duration": 51,
    "start_time": "2022-01-23T10:00:02.011Z"
   },
   {
    "duration": 19,
    "start_time": "2022-01-23T10:04:51.912Z"
   },
   {
    "duration": 17,
    "start_time": "2022-01-23T10:10:08.068Z"
   },
   {
    "duration": 798,
    "start_time": "2022-01-23T10:10:24.067Z"
   },
   {
    "duration": 103,
    "start_time": "2022-01-23T10:10:24.867Z"
   },
   {
    "duration": 10,
    "start_time": "2022-01-23T10:10:24.972Z"
   },
   {
    "duration": 7,
    "start_time": "2022-01-23T10:10:24.984Z"
   },
   {
    "duration": 31,
    "start_time": "2022-01-23T10:10:24.992Z"
   },
   {
    "duration": 6,
    "start_time": "2022-01-23T10:10:25.025Z"
   },
   {
    "duration": 12,
    "start_time": "2022-01-23T10:10:25.032Z"
   },
   {
    "duration": 43,
    "start_time": "2022-01-23T10:10:25.046Z"
   },
   {
    "duration": 5,
    "start_time": "2022-01-23T10:10:25.091Z"
   },
   {
    "duration": 6,
    "start_time": "2022-01-23T10:10:25.097Z"
   },
   {
    "duration": 26,
    "start_time": "2022-01-23T10:10:25.105Z"
   },
   {
    "duration": 14,
    "start_time": "2022-01-23T10:10:25.132Z"
   },
   {
    "duration": 14,
    "start_time": "2022-01-23T10:10:25.148Z"
   },
   {
    "duration": 22,
    "start_time": "2022-01-23T10:10:25.163Z"
   },
   {
    "duration": 72,
    "start_time": "2022-01-23T10:10:25.187Z"
   },
   {
    "duration": 5,
    "start_time": "2022-01-23T10:10:25.261Z"
   },
   {
    "duration": 138,
    "start_time": "2022-01-23T10:10:25.267Z"
   },
   {
    "duration": 82,
    "start_time": "2022-01-23T10:10:25.407Z"
   },
   {
    "duration": 20,
    "start_time": "2022-01-23T10:10:25.491Z"
   },
   {
    "duration": 21,
    "start_time": "2022-01-23T10:12:01.759Z"
   },
   {
    "duration": 14,
    "start_time": "2022-01-23T10:13:12.433Z"
   },
   {
    "duration": 24,
    "start_time": "2022-01-23T10:19:41.478Z"
   },
   {
    "duration": 351,
    "start_time": "2022-01-23T10:21:14.295Z"
   },
   {
    "duration": 26,
    "start_time": "2022-01-23T10:21:22.817Z"
   },
   {
    "duration": 98,
    "start_time": "2022-01-23T10:21:39.269Z"
   },
   {
    "duration": 23,
    "start_time": "2022-01-23T10:22:45.311Z"
   },
   {
    "duration": 107,
    "start_time": "2022-01-23T10:23:02.997Z"
   },
   {
    "duration": 27,
    "start_time": "2022-01-23T10:23:09.040Z"
   },
   {
    "duration": 21,
    "start_time": "2022-01-23T10:24:24.620Z"
   },
   {
    "duration": 7,
    "start_time": "2022-01-23T10:26:57.472Z"
   },
   {
    "duration": 8,
    "start_time": "2022-01-23T10:27:21.529Z"
   },
   {
    "duration": 8,
    "start_time": "2022-01-23T10:27:42.085Z"
   },
   {
    "duration": 8,
    "start_time": "2022-01-23T10:28:18.151Z"
   },
   {
    "duration": 123,
    "start_time": "2022-01-23T10:36:31.030Z"
   },
   {
    "duration": 16,
    "start_time": "2022-01-23T10:37:26.000Z"
   },
   {
    "duration": 20,
    "start_time": "2022-01-23T10:37:48.198Z"
   },
   {
    "duration": 10,
    "start_time": "2022-01-23T10:39:25.463Z"
   },
   {
    "duration": 11,
    "start_time": "2022-01-23T10:40:29.188Z"
   },
   {
    "duration": 11,
    "start_time": "2022-01-23T10:40:39.430Z"
   },
   {
    "duration": 3,
    "start_time": "2022-01-23T10:42:11.429Z"
   },
   {
    "duration": 109,
    "start_time": "2022-01-23T10:42:11.434Z"
   },
   {
    "duration": 12,
    "start_time": "2022-01-23T10:42:11.545Z"
   },
   {
    "duration": 5,
    "start_time": "2022-01-23T10:42:11.559Z"
   },
   {
    "duration": 24,
    "start_time": "2022-01-23T10:42:11.566Z"
   },
   {
    "duration": 4,
    "start_time": "2022-01-23T10:42:11.592Z"
   },
   {
    "duration": 10,
    "start_time": "2022-01-23T10:42:11.598Z"
   },
   {
    "duration": 40,
    "start_time": "2022-01-23T10:42:11.627Z"
   },
   {
    "duration": 4,
    "start_time": "2022-01-23T10:42:11.669Z"
   },
   {
    "duration": 6,
    "start_time": "2022-01-23T10:42:11.674Z"
   },
   {
    "duration": 9,
    "start_time": "2022-01-23T10:42:11.681Z"
   },
   {
    "duration": 37,
    "start_time": "2022-01-23T10:42:11.691Z"
   },
   {
    "duration": 8,
    "start_time": "2022-01-23T10:42:11.730Z"
   },
   {
    "duration": 22,
    "start_time": "2022-01-23T10:42:11.739Z"
   },
   {
    "duration": 65,
    "start_time": "2022-01-23T10:42:11.762Z"
   },
   {
    "duration": 4,
    "start_time": "2022-01-23T10:42:11.829Z"
   },
   {
    "duration": 129,
    "start_time": "2022-01-23T10:42:11.835Z"
   },
   {
    "duration": 48,
    "start_time": "2022-01-23T10:42:11.966Z"
   },
   {
    "duration": 27,
    "start_time": "2022-01-23T10:42:12.016Z"
   },
   {
    "duration": 18,
    "start_time": "2022-01-23T10:42:17.372Z"
   },
   {
    "duration": 12,
    "start_time": "2022-01-23T10:43:20.866Z"
   },
   {
    "duration": 15,
    "start_time": "2022-01-23T10:44:14.671Z"
   },
   {
    "duration": 23,
    "start_time": "2022-01-23T10:44:29.282Z"
   },
   {
    "duration": 15,
    "start_time": "2022-01-23T10:44:34.382Z"
   },
   {
    "duration": 15,
    "start_time": "2022-01-23T10:44:38.328Z"
   },
   {
    "duration": 24,
    "start_time": "2022-01-23T10:45:04.010Z"
   },
   {
    "duration": 4,
    "start_time": "2022-01-23T10:48:07.935Z"
   },
   {
    "duration": 15,
    "start_time": "2022-01-23T10:48:23.153Z"
   },
   {
    "duration": 8,
    "start_time": "2022-01-23T10:49:58.928Z"
   },
   {
    "duration": 14,
    "start_time": "2022-01-23T10:50:25.260Z"
   },
   {
    "duration": 16,
    "start_time": "2022-01-23T10:52:01.797Z"
   },
   {
    "duration": 6,
    "start_time": "2022-01-23T10:52:32.706Z"
   },
   {
    "duration": 28,
    "start_time": "2022-01-23T10:54:50.859Z"
   },
   {
    "duration": 300,
    "start_time": "2022-01-23T10:56:25.392Z"
   },
   {
    "duration": 329,
    "start_time": "2022-01-23T10:56:49.648Z"
   },
   {
    "duration": 4,
    "start_time": "2022-01-23T10:58:50.370Z"
   },
   {
    "duration": 4,
    "start_time": "2022-01-23T10:58:58.623Z"
   },
   {
    "duration": 4,
    "start_time": "2022-01-23T10:59:07.010Z"
   },
   {
    "duration": 478,
    "start_time": "2022-01-23T11:00:00.663Z"
   },
   {
    "duration": 112,
    "start_time": "2022-01-23T11:01:32.989Z"
   },
   {
    "duration": 6,
    "start_time": "2022-01-23T11:05:15.563Z"
   },
   {
    "duration": 4,
    "start_time": "2022-01-23T11:05:55.140Z"
   },
   {
    "duration": 5,
    "start_time": "2022-01-23T11:06:44.337Z"
   },
   {
    "duration": 103,
    "start_time": "2022-01-23T11:06:44.344Z"
   },
   {
    "duration": 10,
    "start_time": "2022-01-23T11:06:44.449Z"
   },
   {
    "duration": 5,
    "start_time": "2022-01-23T11:06:44.461Z"
   },
   {
    "duration": 26,
    "start_time": "2022-01-23T11:06:44.468Z"
   },
   {
    "duration": 4,
    "start_time": "2022-01-23T11:06:44.495Z"
   },
   {
    "duration": 9,
    "start_time": "2022-01-23T11:06:44.501Z"
   },
   {
    "duration": 53,
    "start_time": "2022-01-23T11:06:44.512Z"
   },
   {
    "duration": 3,
    "start_time": "2022-01-23T11:06:44.568Z"
   },
   {
    "duration": 8,
    "start_time": "2022-01-23T11:06:44.573Z"
   },
   {
    "duration": 11,
    "start_time": "2022-01-23T11:06:44.582Z"
   },
   {
    "duration": 13,
    "start_time": "2022-01-23T11:06:44.594Z"
   },
   {
    "duration": 11,
    "start_time": "2022-01-23T11:06:44.627Z"
   },
   {
    "duration": 3,
    "start_time": "2022-01-23T11:06:44.640Z"
   },
   {
    "duration": 24,
    "start_time": "2022-01-23T11:06:44.645Z"
   },
   {
    "duration": 62,
    "start_time": "2022-01-23T11:06:44.670Z"
   },
   {
    "duration": 5,
    "start_time": "2022-01-23T11:06:44.733Z"
   },
   {
    "duration": 142,
    "start_time": "2022-01-23T11:06:44.739Z"
   },
   {
    "duration": 56,
    "start_time": "2022-01-23T11:06:44.882Z"
   },
   {
    "duration": 23,
    "start_time": "2022-01-23T11:06:44.940Z"
   },
   {
    "duration": 20,
    "start_time": "2022-01-23T11:06:44.965Z"
   },
   {
    "duration": 60,
    "start_time": "2022-01-23T11:06:44.987Z"
   },
   {
    "duration": 4,
    "start_time": "2022-01-23T11:06:45.048Z"
   },
   {
    "duration": 310,
    "start_time": "2022-01-23T11:06:48.823Z"
   },
   {
    "duration": 14,
    "start_time": "2022-01-23T11:07:57.962Z"
   },
   {
    "duration": 13,
    "start_time": "2022-01-23T11:08:04.278Z"
   },
   {
    "duration": 7,
    "start_time": "2022-01-23T11:08:38.835Z"
   },
   {
    "duration": 13,
    "start_time": "2022-01-23T11:09:57.671Z"
   },
   {
    "duration": 51,
    "start_time": "2022-01-23T11:11:36.072Z"
   },
   {
    "duration": 2535,
    "start_time": "2022-01-23T11:12:16.693Z"
   },
   {
    "duration": 10,
    "start_time": "2022-01-23T11:12:44.949Z"
   },
   {
    "duration": 5,
    "start_time": "2022-01-23T11:13:50.905Z"
   },
   {
    "duration": 124,
    "start_time": "2022-01-23T11:13:50.912Z"
   },
   {
    "duration": 14,
    "start_time": "2022-01-23T11:13:51.038Z"
   },
   {
    "duration": 5,
    "start_time": "2022-01-23T11:13:51.054Z"
   },
   {
    "duration": 27,
    "start_time": "2022-01-23T11:13:51.061Z"
   },
   {
    "duration": 5,
    "start_time": "2022-01-23T11:13:51.090Z"
   },
   {
    "duration": 35,
    "start_time": "2022-01-23T11:13:51.097Z"
   },
   {
    "duration": 46,
    "start_time": "2022-01-23T11:13:51.135Z"
   },
   {
    "duration": 4,
    "start_time": "2022-01-23T11:13:51.183Z"
   },
   {
    "duration": 7,
    "start_time": "2022-01-23T11:13:51.188Z"
   },
   {
    "duration": 40,
    "start_time": "2022-01-23T11:13:51.196Z"
   },
   {
    "duration": 14,
    "start_time": "2022-01-23T11:13:51.237Z"
   },
   {
    "duration": 8,
    "start_time": "2022-01-23T11:13:51.252Z"
   },
   {
    "duration": 3,
    "start_time": "2022-01-23T11:13:51.262Z"
   },
   {
    "duration": 23,
    "start_time": "2022-01-23T11:13:51.266Z"
   },
   {
    "duration": 80,
    "start_time": "2022-01-23T11:13:51.290Z"
   },
   {
    "duration": 9,
    "start_time": "2022-01-23T11:13:51.372Z"
   },
   {
    "duration": 136,
    "start_time": "2022-01-23T11:13:51.383Z"
   },
   {
    "duration": 52,
    "start_time": "2022-01-23T11:13:51.521Z"
   },
   {
    "duration": 18,
    "start_time": "2022-01-23T11:13:51.575Z"
   },
   {
    "duration": 38,
    "start_time": "2022-01-23T11:13:51.595Z"
   },
   {
    "duration": 25,
    "start_time": "2022-01-23T11:13:51.635Z"
   },
   {
    "duration": 4,
    "start_time": "2022-01-23T11:13:51.663Z"
   },
   {
    "duration": 346,
    "start_time": "2022-01-23T11:13:56.875Z"
   },
   {
    "duration": 288,
    "start_time": "2022-01-23T11:14:08.711Z"
   },
   {
    "duration": 6,
    "start_time": "2022-01-23T11:17:44.059Z"
   },
   {
    "duration": 1362,
    "start_time": "2022-01-23T11:18:57.111Z"
   },
   {
    "duration": 6,
    "start_time": "2022-01-23T11:19:30.135Z"
   },
   {
    "duration": 1618,
    "start_time": "2022-01-23T11:19:45.476Z"
   },
   {
    "duration": 7,
    "start_time": "2022-01-23T11:20:50.192Z"
   },
   {
    "duration": 680,
    "start_time": "2022-01-23T11:22:47.794Z"
   },
   {
    "duration": 106,
    "start_time": "2022-01-23T11:22:48.476Z"
   },
   {
    "duration": 11,
    "start_time": "2022-01-23T11:22:48.587Z"
   },
   {
    "duration": 6,
    "start_time": "2022-01-23T11:22:48.599Z"
   },
   {
    "duration": 25,
    "start_time": "2022-01-23T11:22:48.606Z"
   },
   {
    "duration": 4,
    "start_time": "2022-01-23T11:22:48.632Z"
   },
   {
    "duration": 9,
    "start_time": "2022-01-23T11:22:48.638Z"
   },
   {
    "duration": 41,
    "start_time": "2022-01-23T11:22:48.649Z"
   },
   {
    "duration": 3,
    "start_time": "2022-01-23T11:22:48.692Z"
   },
   {
    "duration": 31,
    "start_time": "2022-01-23T11:22:48.697Z"
   },
   {
    "duration": 8,
    "start_time": "2022-01-23T11:22:48.729Z"
   },
   {
    "duration": 14,
    "start_time": "2022-01-23T11:22:48.739Z"
   },
   {
    "duration": 10,
    "start_time": "2022-01-23T11:22:48.754Z"
   },
   {
    "duration": 4,
    "start_time": "2022-01-23T11:22:48.765Z"
   },
   {
    "duration": 23,
    "start_time": "2022-01-23T11:22:48.771Z"
   },
   {
    "duration": 73,
    "start_time": "2022-01-23T11:22:48.795Z"
   },
   {
    "duration": 4,
    "start_time": "2022-01-23T11:22:48.870Z"
   },
   {
    "duration": 152,
    "start_time": "2022-01-23T11:22:48.875Z"
   },
   {
    "duration": 45,
    "start_time": "2022-01-23T11:22:49.029Z"
   },
   {
    "duration": 18,
    "start_time": "2022-01-23T11:22:49.076Z"
   },
   {
    "duration": 42,
    "start_time": "2022-01-23T11:22:49.096Z"
   },
   {
    "duration": 26,
    "start_time": "2022-01-23T11:22:49.141Z"
   },
   {
    "duration": 5,
    "start_time": "2022-01-23T11:22:49.169Z"
   },
   {
    "duration": 7,
    "start_time": "2022-01-23T11:22:49.175Z"
   },
   {
    "duration": 6,
    "start_time": "2022-01-23T11:22:49.183Z"
   },
   {
    "duration": 54,
    "start_time": "2022-01-23T11:22:49.190Z"
   },
   {
    "duration": 9,
    "start_time": "2022-01-23T11:30:26.952Z"
   },
   {
    "duration": 686,
    "start_time": "2022-01-23T11:32:40.662Z"
   },
   {
    "duration": 112,
    "start_time": "2022-01-23T11:32:41.350Z"
   },
   {
    "duration": 9,
    "start_time": "2022-01-23T11:32:41.465Z"
   },
   {
    "duration": 7,
    "start_time": "2022-01-23T11:32:41.477Z"
   },
   {
    "duration": 30,
    "start_time": "2022-01-23T11:32:41.486Z"
   },
   {
    "duration": 7,
    "start_time": "2022-01-23T11:32:41.518Z"
   },
   {
    "duration": 9,
    "start_time": "2022-01-23T11:32:41.527Z"
   },
   {
    "duration": 45,
    "start_time": "2022-01-23T11:32:41.537Z"
   },
   {
    "duration": 3,
    "start_time": "2022-01-23T11:32:41.585Z"
   },
   {
    "duration": 6,
    "start_time": "2022-01-23T11:32:41.590Z"
   },
   {
    "duration": 34,
    "start_time": "2022-01-23T11:32:41.598Z"
   },
   {
    "duration": 14,
    "start_time": "2022-01-23T11:32:41.634Z"
   },
   {
    "duration": 11,
    "start_time": "2022-01-23T11:32:41.650Z"
   },
   {
    "duration": 4,
    "start_time": "2022-01-23T11:32:41.663Z"
   },
   {
    "duration": 27,
    "start_time": "2022-01-23T11:32:41.669Z"
   },
   {
    "duration": 70,
    "start_time": "2022-01-23T11:32:41.698Z"
   },
   {
    "duration": 5,
    "start_time": "2022-01-23T11:32:41.770Z"
   },
   {
    "duration": 156,
    "start_time": "2022-01-23T11:32:41.776Z"
   },
   {
    "duration": 55,
    "start_time": "2022-01-23T11:32:41.934Z"
   },
   {
    "duration": 19,
    "start_time": "2022-01-23T11:32:41.990Z"
   },
   {
    "duration": 21,
    "start_time": "2022-01-23T11:32:42.011Z"
   },
   {
    "duration": 11,
    "start_time": "2022-01-23T11:32:42.033Z"
   },
   {
    "duration": 8,
    "start_time": "2022-01-23T11:32:42.046Z"
   },
   {
    "duration": 6,
    "start_time": "2022-01-23T11:32:42.055Z"
   },
   {
    "duration": 7,
    "start_time": "2022-01-23T11:32:42.063Z"
   },
   {
    "duration": 15,
    "start_time": "2022-01-23T11:32:42.071Z"
   },
   {
    "duration": 39,
    "start_time": "2022-01-23T11:32:42.089Z"
   },
   {
    "duration": 330,
    "start_time": "2022-01-23T11:38:59.204Z"
   },
   {
    "duration": 16,
    "start_time": "2022-01-23T11:39:41.027Z"
   },
   {
    "duration": 12,
    "start_time": "2022-01-23T11:39:56.397Z"
   },
   {
    "duration": 206,
    "start_time": "2022-01-23T11:41:29.342Z"
   },
   {
    "duration": 209,
    "start_time": "2022-01-23T11:41:47.828Z"
   },
   {
    "duration": 169,
    "start_time": "2022-01-23T11:42:15.491Z"
   },
   {
    "duration": 210,
    "start_time": "2022-01-23T11:43:04.519Z"
   },
   {
    "duration": 213,
    "start_time": "2022-01-23T11:44:32.808Z"
   },
   {
    "duration": 179,
    "start_time": "2022-01-23T11:45:08.596Z"
   },
   {
    "duration": 174,
    "start_time": "2022-01-23T11:46:03.813Z"
   },
   {
    "duration": 175,
    "start_time": "2022-01-23T11:55:25.138Z"
   },
   {
    "duration": 202,
    "start_time": "2022-01-23T11:56:11.066Z"
   },
   {
    "duration": 173,
    "start_time": "2022-01-23T11:59:30.510Z"
   },
   {
    "duration": 181,
    "start_time": "2022-01-23T12:00:24.176Z"
   },
   {
    "duration": 270,
    "start_time": "2022-01-23T12:01:26.825Z"
   },
   {
    "duration": 335,
    "start_time": "2022-01-23T12:02:12.775Z"
   },
   {
    "duration": 182,
    "start_time": "2022-01-23T12:04:01.892Z"
   },
   {
    "duration": 4,
    "start_time": "2022-01-23T12:09:20.838Z"
   },
   {
    "duration": 8,
    "start_time": "2022-01-23T12:10:16.336Z"
   },
   {
    "duration": 10,
    "start_time": "2022-01-23T12:11:18.287Z"
   },
   {
    "duration": 15,
    "start_time": "2022-01-23T12:11:43.670Z"
   },
   {
    "duration": 13,
    "start_time": "2022-01-23T12:12:10.115Z"
   },
   {
    "duration": 8,
    "start_time": "2022-01-23T12:13:17.231Z"
   },
   {
    "duration": 104,
    "start_time": "2022-01-23T12:15:20.228Z"
   },
   {
    "duration": 115,
    "start_time": "2022-01-23T12:15:33.397Z"
   },
   {
    "duration": 100,
    "start_time": "2022-01-23T12:15:44.104Z"
   },
   {
    "duration": 88,
    "start_time": "2022-01-23T12:15:53.283Z"
   },
   {
    "duration": 113,
    "start_time": "2022-01-23T12:18:24.075Z"
   },
   {
    "duration": 340,
    "start_time": "2022-01-23T12:19:25.134Z"
   },
   {
    "duration": 180,
    "start_time": "2022-01-23T12:19:49.963Z"
   },
   {
    "duration": 177,
    "start_time": "2022-01-23T12:20:05.383Z"
   },
   {
    "duration": 343,
    "start_time": "2022-01-23T12:23:46.495Z"
   },
   {
    "duration": 267,
    "start_time": "2022-01-23T12:25:22.770Z"
   },
   {
    "duration": 271,
    "start_time": "2022-01-23T12:26:03.191Z"
   },
   {
    "duration": 183,
    "start_time": "2022-01-23T12:26:09.772Z"
   },
   {
    "duration": 241,
    "start_time": "2022-01-23T12:26:26.547Z"
   },
   {
    "duration": 4,
    "start_time": "2022-01-23T12:26:33.987Z"
   },
   {
    "duration": 143,
    "start_time": "2022-01-23T12:26:33.993Z"
   },
   {
    "duration": 9,
    "start_time": "2022-01-23T12:26:34.138Z"
   },
   {
    "duration": 5,
    "start_time": "2022-01-23T12:26:34.149Z"
   },
   {
    "duration": 25,
    "start_time": "2022-01-23T12:26:34.155Z"
   },
   {
    "duration": 5,
    "start_time": "2022-01-23T12:26:34.181Z"
   },
   {
    "duration": 43,
    "start_time": "2022-01-23T12:26:34.188Z"
   },
   {
    "duration": 42,
    "start_time": "2022-01-23T12:26:34.234Z"
   },
   {
    "duration": 4,
    "start_time": "2022-01-23T12:26:34.278Z"
   },
   {
    "duration": 5,
    "start_time": "2022-01-23T12:26:34.284Z"
   },
   {
    "duration": 10,
    "start_time": "2022-01-23T12:26:34.291Z"
   },
   {
    "duration": 35,
    "start_time": "2022-01-23T12:26:34.302Z"
   },
   {
    "duration": 9,
    "start_time": "2022-01-23T12:26:34.338Z"
   },
   {
    "duration": 6,
    "start_time": "2022-01-23T12:26:34.348Z"
   },
   {
    "duration": 22,
    "start_time": "2022-01-23T12:26:34.356Z"
   },
   {
    "duration": 72,
    "start_time": "2022-01-23T12:26:34.380Z"
   },
   {
    "duration": 4,
    "start_time": "2022-01-23T12:26:34.453Z"
   },
   {
    "duration": 132,
    "start_time": "2022-01-23T12:26:34.459Z"
   },
   {
    "duration": 59,
    "start_time": "2022-01-23T12:26:34.592Z"
   },
   {
    "duration": 18,
    "start_time": "2022-01-23T12:26:34.652Z"
   },
   {
    "duration": 8,
    "start_time": "2022-01-23T12:26:34.671Z"
   },
   {
    "duration": 19,
    "start_time": "2022-01-23T12:26:34.681Z"
   },
   {
    "duration": 25,
    "start_time": "2022-01-23T12:26:34.704Z"
   },
   {
    "duration": 7,
    "start_time": "2022-01-23T12:26:34.731Z"
   },
   {
    "duration": 8,
    "start_time": "2022-01-23T12:26:34.739Z"
   },
   {
    "duration": 14,
    "start_time": "2022-01-23T12:26:34.748Z"
   },
   {
    "duration": 7,
    "start_time": "2022-01-23T12:26:34.764Z"
   },
   {
    "duration": 205,
    "start_time": "2022-01-23T12:26:34.773Z"
   },
   {
    "duration": 182,
    "start_time": "2022-01-23T12:26:38.680Z"
   },
   {
    "duration": 175,
    "start_time": "2022-01-23T12:26:47.428Z"
   },
   {
    "duration": 4,
    "start_time": "2022-01-23T12:26:54.593Z"
   },
   {
    "duration": 122,
    "start_time": "2022-01-23T12:26:54.599Z"
   },
   {
    "duration": 10,
    "start_time": "2022-01-23T12:26:54.723Z"
   },
   {
    "duration": 8,
    "start_time": "2022-01-23T12:26:54.735Z"
   },
   {
    "duration": 25,
    "start_time": "2022-01-23T12:26:54.744Z"
   },
   {
    "duration": 6,
    "start_time": "2022-01-23T12:26:54.770Z"
   },
   {
    "duration": 12,
    "start_time": "2022-01-23T12:26:54.777Z"
   },
   {
    "duration": 57,
    "start_time": "2022-01-23T12:26:54.790Z"
   },
   {
    "duration": 64,
    "start_time": "2022-01-23T12:26:54.849Z"
   },
   {
    "duration": 14,
    "start_time": "2022-01-23T12:26:54.915Z"
   },
   {
    "duration": 7,
    "start_time": "2022-01-23T12:26:54.930Z"
   },
   {
    "duration": 14,
    "start_time": "2022-01-23T12:26:54.939Z"
   },
   {
    "duration": 12,
    "start_time": "2022-01-23T12:26:54.955Z"
   },
   {
    "duration": 6,
    "start_time": "2022-01-23T12:26:54.968Z"
   },
   {
    "duration": 62,
    "start_time": "2022-01-23T12:26:54.976Z"
   },
   {
    "duration": 69,
    "start_time": "2022-01-23T12:26:55.040Z"
   },
   {
    "duration": 17,
    "start_time": "2022-01-23T12:26:55.111Z"
   },
   {
    "duration": 140,
    "start_time": "2022-01-23T12:26:55.130Z"
   },
   {
    "duration": 61,
    "start_time": "2022-01-23T12:26:55.271Z"
   },
   {
    "duration": 20,
    "start_time": "2022-01-23T12:26:55.334Z"
   },
   {
    "duration": 7,
    "start_time": "2022-01-23T12:26:55.356Z"
   },
   {
    "duration": 10,
    "start_time": "2022-01-23T12:26:55.365Z"
   },
   {
    "duration": 6,
    "start_time": "2022-01-23T12:26:55.377Z"
   },
   {
    "duration": 6,
    "start_time": "2022-01-23T12:26:55.384Z"
   },
   {
    "duration": 38,
    "start_time": "2022-01-23T12:26:55.391Z"
   },
   {
    "duration": 12,
    "start_time": "2022-01-23T12:26:55.430Z"
   },
   {
    "duration": 7,
    "start_time": "2022-01-23T12:26:55.445Z"
   },
   {
    "duration": 273,
    "start_time": "2022-01-23T12:27:00.134Z"
   },
   {
    "duration": 273,
    "start_time": "2022-01-23T12:27:28.947Z"
   },
   {
    "duration": 272,
    "start_time": "2022-01-23T12:28:34.007Z"
   },
   {
    "duration": 277,
    "start_time": "2022-01-23T12:29:00.900Z"
   },
   {
    "duration": 9,
    "start_time": "2022-01-23T12:44:42.537Z"
   },
   {
    "duration": 45,
    "start_time": "2022-01-23T12:45:51.003Z"
   },
   {
    "duration": 23,
    "start_time": "2022-01-23T12:45:58.932Z"
   },
   {
    "duration": 23,
    "start_time": "2022-01-23T12:46:23.550Z"
   },
   {
    "duration": 24,
    "start_time": "2022-01-23T12:47:17.838Z"
   },
   {
    "duration": 21,
    "start_time": "2022-01-23T12:48:08.103Z"
   },
   {
    "duration": 114,
    "start_time": "2022-01-23T12:53:57.123Z"
   },
   {
    "duration": 10,
    "start_time": "2022-01-23T12:54:31.334Z"
   },
   {
    "duration": 15,
    "start_time": "2022-01-23T12:57:34.168Z"
   },
   {
    "duration": 16,
    "start_time": "2022-01-23T12:58:38.062Z"
   },
   {
    "duration": 598,
    "start_time": "2022-01-23T12:59:06.948Z"
   },
   {
    "duration": 126,
    "start_time": "2022-01-23T12:59:07.547Z"
   },
   {
    "duration": 9,
    "start_time": "2022-01-23T12:59:07.675Z"
   },
   {
    "duration": 4,
    "start_time": "2022-01-23T12:59:07.686Z"
   },
   {
    "duration": 24,
    "start_time": "2022-01-23T12:59:07.692Z"
   },
   {
    "duration": 5,
    "start_time": "2022-01-23T12:59:07.717Z"
   },
   {
    "duration": 14,
    "start_time": "2022-01-23T12:59:07.723Z"
   },
   {
    "duration": 75,
    "start_time": "2022-01-23T12:59:07.740Z"
   },
   {
    "duration": 9,
    "start_time": "2022-01-23T12:59:07.818Z"
   },
   {
    "duration": 5,
    "start_time": "2022-01-23T12:59:07.829Z"
   },
   {
    "duration": 11,
    "start_time": "2022-01-23T12:59:07.836Z"
   },
   {
    "duration": 20,
    "start_time": "2022-01-23T12:59:07.849Z"
   },
   {
    "duration": 14,
    "start_time": "2022-01-23T12:59:07.871Z"
   },
   {
    "duration": 5,
    "start_time": "2022-01-23T12:59:07.887Z"
   },
   {
    "duration": 53,
    "start_time": "2022-01-23T12:59:07.894Z"
   },
   {
    "duration": 45,
    "start_time": "2022-01-23T12:59:07.948Z"
   },
   {
    "duration": 4,
    "start_time": "2022-01-23T12:59:07.994Z"
   },
   {
    "duration": 141,
    "start_time": "2022-01-23T12:59:07.999Z"
   },
   {
    "duration": 48,
    "start_time": "2022-01-23T12:59:08.141Z"
   },
   {
    "duration": 16,
    "start_time": "2022-01-23T12:59:08.191Z"
   },
   {
    "duration": 22,
    "start_time": "2022-01-23T12:59:08.209Z"
   },
   {
    "duration": 10,
    "start_time": "2022-01-23T12:59:08.233Z"
   },
   {
    "duration": 8,
    "start_time": "2022-01-23T12:59:08.246Z"
   },
   {
    "duration": 23,
    "start_time": "2022-01-23T12:59:08.256Z"
   },
   {
    "duration": 8,
    "start_time": "2022-01-23T12:59:08.281Z"
   },
   {
    "duration": 23,
    "start_time": "2022-01-23T12:59:08.291Z"
   },
   {
    "duration": 9,
    "start_time": "2022-01-23T12:59:08.315Z"
   },
   {
    "duration": 197,
    "start_time": "2022-01-23T12:59:08.325Z"
   },
   {
    "duration": 178,
    "start_time": "2022-01-23T12:59:08.524Z"
   },
   {
    "duration": 30,
    "start_time": "2022-01-23T12:59:08.703Z"
   },
   {
    "duration": 11,
    "start_time": "2022-01-23T12:59:08.734Z"
   },
   {
    "duration": 391,
    "start_time": "2022-01-23T12:59:38.567Z"
   },
   {
    "duration": 12,
    "start_time": "2022-01-23T13:00:48.477Z"
   },
   {
    "duration": 14,
    "start_time": "2022-01-23T13:01:22.766Z"
   },
   {
    "duration": 14,
    "start_time": "2022-01-23T13:02:28.627Z"
   },
   {
    "duration": 15,
    "start_time": "2022-01-23T13:05:04.153Z"
   },
   {
    "duration": 10,
    "start_time": "2022-01-23T13:05:44.328Z"
   },
   {
    "duration": 1488,
    "start_time": "2022-01-23T13:14:36.456Z"
   },
   {
    "duration": 20,
    "start_time": "2022-01-23T13:17:40.337Z"
   },
   {
    "duration": 40,
    "start_time": "2022-01-23T13:18:45.466Z"
   },
   {
    "duration": 7968,
    "start_time": "2022-01-23T13:20:18.636Z"
   },
   {
    "duration": 16,
    "start_time": "2022-01-23T13:20:46.096Z"
   },
   {
    "duration": 19,
    "start_time": "2022-01-23T13:21:10.823Z"
   },
   {
    "duration": 13,
    "start_time": "2022-01-23T13:21:22.298Z"
   },
   {
    "duration": 13,
    "start_time": "2022-01-23T13:21:45.935Z"
   },
   {
    "duration": 16,
    "start_time": "2022-01-23T13:21:56.753Z"
   },
   {
    "duration": 19,
    "start_time": "2022-01-23T13:30:38.110Z"
   },
   {
    "duration": 252,
    "start_time": "2022-01-23T13:32:07.909Z"
   },
   {
    "duration": 28,
    "start_time": "2022-01-23T13:34:53.676Z"
   },
   {
    "duration": 30,
    "start_time": "2022-01-23T13:36:19.139Z"
   },
   {
    "duration": 370,
    "start_time": "2022-01-23T13:37:12.975Z"
   },
   {
    "duration": 322,
    "start_time": "2022-01-23T13:37:23.658Z"
   },
   {
    "duration": 28,
    "start_time": "2022-01-23T13:37:40.736Z"
   },
   {
    "duration": 33,
    "start_time": "2022-01-23T13:37:57.616Z"
   },
   {
    "duration": 314,
    "start_time": "2022-01-23T13:39:18.447Z"
   },
   {
    "duration": 23,
    "start_time": "2022-01-23T13:39:49.783Z"
   },
   {
    "duration": 8446,
    "start_time": "2022-01-23T13:44:01.054Z"
   },
   {
    "duration": 24,
    "start_time": "2022-01-23T13:45:06.351Z"
   },
   {
    "duration": 8083,
    "start_time": "2022-01-23T13:47:44.712Z"
   },
   {
    "duration": 218,
    "start_time": "2022-01-23T13:53:16.802Z"
   },
   {
    "duration": 251,
    "start_time": "2022-01-23T13:56:44.830Z"
   },
   {
    "duration": 7575,
    "start_time": "2022-01-23T13:57:20.829Z"
   },
   {
    "duration": 25,
    "start_time": "2022-01-23T14:03:22.234Z"
   },
   {
    "duration": 302,
    "start_time": "2022-01-23T14:05:22.269Z"
   },
   {
    "duration": 309,
    "start_time": "2022-01-23T14:05:39.137Z"
   },
   {
    "duration": 373,
    "start_time": "2022-01-23T14:05:48.368Z"
   },
   {
    "duration": 343,
    "start_time": "2022-01-23T14:05:57.988Z"
   },
   {
    "duration": 18,
    "start_time": "2022-01-23T14:06:10.049Z"
   },
   {
    "duration": 27,
    "start_time": "2022-01-23T14:06:19.147Z"
   },
   {
    "duration": 305,
    "start_time": "2022-01-23T14:06:49.559Z"
   },
   {
    "duration": 8255,
    "start_time": "2022-01-23T14:07:58.915Z"
   },
   {
    "duration": 210,
    "start_time": "2022-01-23T14:09:03.760Z"
   },
   {
    "duration": 7301,
    "start_time": "2022-01-23T14:09:16.977Z"
   },
   {
    "duration": 22,
    "start_time": "2022-01-23T14:09:39.831Z"
   },
   {
    "duration": 11,
    "start_time": "2022-01-23T14:16:35.972Z"
   },
   {
    "duration": 295,
    "start_time": "2022-01-23T14:17:34.178Z"
   },
   {
    "duration": 290,
    "start_time": "2022-01-23T14:18:19.226Z"
   },
   {
    "duration": 16,
    "start_time": "2022-01-23T14:18:34.023Z"
   },
   {
    "duration": 17,
    "start_time": "2022-01-23T14:18:49.559Z"
   },
   {
    "duration": 25,
    "start_time": "2022-01-23T14:21:50.537Z"
   },
   {
    "duration": 310,
    "start_time": "2022-01-23T14:22:06.680Z"
   },
   {
    "duration": 659,
    "start_time": "2022-01-23T14:22:17.117Z"
   },
   {
    "duration": 365,
    "start_time": "2022-01-23T14:23:56.214Z"
   },
   {
    "duration": 269,
    "start_time": "2022-01-23T14:25:41.137Z"
   },
   {
    "duration": 352,
    "start_time": "2022-01-23T14:27:47.500Z"
   },
   {
    "duration": 238,
    "start_time": "2022-01-23T14:27:59.960Z"
   },
   {
    "duration": 233,
    "start_time": "2022-01-23T14:28:16.377Z"
   },
   {
    "duration": 36350,
    "start_time": "2022-01-23T14:29:30.739Z"
   },
   {
    "duration": 529,
    "start_time": "2022-01-23T14:30:25.228Z"
   },
   {
    "duration": 279,
    "start_time": "2022-01-23T14:32:04.065Z"
   },
   {
    "duration": 267,
    "start_time": "2022-01-23T14:33:22.705Z"
   },
   {
    "duration": 281,
    "start_time": "2022-01-23T14:37:20.585Z"
   },
   {
    "duration": 277,
    "start_time": "2022-01-23T14:37:30.580Z"
   },
   {
    "duration": 843,
    "start_time": "2022-01-23T19:08:40.491Z"
   },
   {
    "duration": 206,
    "start_time": "2022-01-23T19:08:41.337Z"
   },
   {
    "duration": 14,
    "start_time": "2022-01-23T19:08:41.547Z"
   },
   {
    "duration": 9,
    "start_time": "2022-01-23T19:08:41.564Z"
   },
   {
    "duration": 49,
    "start_time": "2022-01-23T19:08:41.575Z"
   },
   {
    "duration": 7,
    "start_time": "2022-01-23T19:08:41.626Z"
   },
   {
    "duration": 14,
    "start_time": "2022-01-23T19:08:41.635Z"
   },
   {
    "duration": 88,
    "start_time": "2022-01-23T19:08:41.651Z"
   },
   {
    "duration": 5,
    "start_time": "2022-01-23T19:08:41.742Z"
   },
   {
    "duration": 8,
    "start_time": "2022-01-23T19:08:41.750Z"
   },
   {
    "duration": 12,
    "start_time": "2022-01-23T19:08:41.760Z"
   },
   {
    "duration": 55,
    "start_time": "2022-01-23T19:08:41.774Z"
   },
   {
    "duration": 19,
    "start_time": "2022-01-23T19:08:41.832Z"
   },
   {
    "duration": 6,
    "start_time": "2022-01-23T19:08:41.853Z"
   },
   {
    "duration": 63,
    "start_time": "2022-01-23T19:08:41.862Z"
   },
   {
    "duration": 72,
    "start_time": "2022-01-23T19:08:41.928Z"
   },
   {
    "duration": 24,
    "start_time": "2022-01-23T19:08:42.003Z"
   },
   {
    "duration": 216,
    "start_time": "2022-01-23T19:08:42.030Z"
   },
   {
    "duration": 81,
    "start_time": "2022-01-23T19:08:42.249Z"
   },
   {
    "duration": 29,
    "start_time": "2022-01-23T19:08:42.332Z"
   },
   {
    "duration": 11,
    "start_time": "2022-01-23T19:08:42.364Z"
   },
   {
    "duration": 48,
    "start_time": "2022-01-23T19:08:42.377Z"
   },
   {
    "duration": 5,
    "start_time": "2022-01-23T19:08:42.428Z"
   },
   {
    "duration": 10,
    "start_time": "2022-01-23T19:08:42.435Z"
   },
   {
    "duration": 10,
    "start_time": "2022-01-23T19:08:42.448Z"
   },
   {
    "duration": 19,
    "start_time": "2022-01-23T19:08:42.460Z"
   },
   {
    "duration": 49,
    "start_time": "2022-01-23T19:08:42.483Z"
   },
   {
    "duration": 323,
    "start_time": "2022-01-23T19:08:42.534Z"
   },
   {
    "duration": 327,
    "start_time": "2022-01-23T19:08:42.860Z"
   },
   {
    "duration": 48,
    "start_time": "2022-01-23T19:08:43.189Z"
   },
   {
    "duration": 476,
    "start_time": "2022-01-23T19:08:43.240Z"
   },
   {
    "duration": 52,
    "start_time": "2022-01-23T19:08:43.719Z"
   },
   {
    "duration": 56,
    "start_time": "2022-01-23T19:09:58.019Z"
   },
   {
    "duration": 55,
    "start_time": "2022-01-23T19:11:10.649Z"
   },
   {
    "duration": 394,
    "start_time": "2022-01-23T19:11:38.503Z"
   },
   {
    "duration": 2435,
    "start_time": "2022-01-23T19:12:11.764Z"
   },
   {
    "duration": 25,
    "start_time": "2022-01-23T19:12:39.542Z"
   },
   {
    "duration": 2254,
    "start_time": "2022-01-23T19:13:27.138Z"
   },
   {
    "duration": 44,
    "start_time": "2022-01-23T19:14:14.411Z"
   },
   {
    "duration": 51,
    "start_time": "2022-01-23T19:14:38.817Z"
   },
   {
    "duration": 57,
    "start_time": "2022-01-23T19:15:15.939Z"
   },
   {
    "duration": 12,
    "start_time": "2022-01-23T19:15:47.331Z"
   },
   {
    "duration": 7,
    "start_time": "2022-01-23T19:15:51.926Z"
   },
   {
    "duration": 57,
    "start_time": "2022-01-23T19:18:05.867Z"
   },
   {
    "duration": 991,
    "start_time": "2022-01-23T19:18:17.099Z"
   },
   {
    "duration": 161,
    "start_time": "2022-01-23T19:18:18.093Z"
   },
   {
    "duration": 15,
    "start_time": "2022-01-23T19:18:18.257Z"
   },
   {
    "duration": 8,
    "start_time": "2022-01-23T19:18:18.275Z"
   },
   {
    "duration": 53,
    "start_time": "2022-01-23T19:18:18.286Z"
   },
   {
    "duration": 30,
    "start_time": "2022-01-23T19:18:18.341Z"
   },
   {
    "duration": 18,
    "start_time": "2022-01-23T19:18:18.374Z"
   },
   {
    "duration": 76,
    "start_time": "2022-01-23T19:18:18.396Z"
   },
   {
    "duration": 7,
    "start_time": "2022-01-23T19:18:18.475Z"
   },
   {
    "duration": 9,
    "start_time": "2022-01-23T19:18:18.484Z"
   },
   {
    "duration": 34,
    "start_time": "2022-01-23T19:18:18.496Z"
   },
   {
    "duration": 33,
    "start_time": "2022-01-23T19:18:18.533Z"
   },
   {
    "duration": 18,
    "start_time": "2022-01-23T19:18:18.569Z"
   },
   {
    "duration": 40,
    "start_time": "2022-01-23T19:18:18.590Z"
   },
   {
    "duration": 40,
    "start_time": "2022-01-23T19:18:18.633Z"
   },
   {
    "duration": 103,
    "start_time": "2022-01-23T19:18:18.676Z"
   },
   {
    "duration": 9,
    "start_time": "2022-01-23T19:18:18.781Z"
   },
   {
    "duration": 268,
    "start_time": "2022-01-23T19:18:18.792Z"
   },
   {
    "duration": 97,
    "start_time": "2022-01-23T19:18:19.063Z"
   },
   {
    "duration": 33,
    "start_time": "2022-01-23T19:18:19.163Z"
   },
   {
    "duration": 31,
    "start_time": "2022-01-23T19:18:19.199Z"
   },
   {
    "duration": 17,
    "start_time": "2022-01-23T19:18:19.232Z"
   },
   {
    "duration": 6,
    "start_time": "2022-01-23T19:18:19.255Z"
   },
   {
    "duration": 9,
    "start_time": "2022-01-23T19:18:19.264Z"
   },
   {
    "duration": 10,
    "start_time": "2022-01-23T19:18:19.275Z"
   },
   {
    "duration": 18,
    "start_time": "2022-01-23T19:18:19.324Z"
   },
   {
    "duration": 13,
    "start_time": "2022-01-23T19:18:19.344Z"
   },
   {
    "duration": 339,
    "start_time": "2022-01-23T19:18:19.359Z"
   },
   {
    "duration": 308,
    "start_time": "2022-01-23T19:18:19.700Z"
   },
   {
    "duration": 44,
    "start_time": "2022-01-23T19:18:20.012Z"
   },
   {
    "duration": 468,
    "start_time": "2022-01-23T19:18:20.059Z"
   },
   {
    "duration": 56,
    "start_time": "2022-01-23T19:18:20.530Z"
   },
   {
    "duration": 62,
    "start_time": "2022-01-23T19:19:43.334Z"
   },
   {
    "duration": 805,
    "start_time": "2022-01-23T19:20:57.104Z"
   },
   {
    "duration": 159,
    "start_time": "2022-01-23T19:20:57.915Z"
   },
   {
    "duration": 14,
    "start_time": "2022-01-23T19:20:58.077Z"
   },
   {
    "duration": 10,
    "start_time": "2022-01-23T19:20:58.093Z"
   },
   {
    "duration": 34,
    "start_time": "2022-01-23T19:20:58.106Z"
   },
   {
    "duration": 6,
    "start_time": "2022-01-23T19:20:58.142Z"
   },
   {
    "duration": 14,
    "start_time": "2022-01-23T19:20:58.151Z"
   },
   {
    "duration": 88,
    "start_time": "2022-01-23T19:20:58.169Z"
   },
   {
    "duration": 5,
    "start_time": "2022-01-23T19:20:58.260Z"
   },
   {
    "duration": 9,
    "start_time": "2022-01-23T19:20:58.267Z"
   },
   {
    "duration": 18,
    "start_time": "2022-01-23T19:20:58.278Z"
   },
   {
    "duration": 41,
    "start_time": "2022-01-23T19:20:58.299Z"
   },
   {
    "duration": 24,
    "start_time": "2022-01-23T19:20:58.343Z"
   },
   {
    "duration": 6,
    "start_time": "2022-01-23T19:20:58.370Z"
   },
   {
    "duration": 63,
    "start_time": "2022-01-23T19:20:58.379Z"
   },
   {
    "duration": 81,
    "start_time": "2022-01-23T19:20:58.444Z"
   },
   {
    "duration": 5,
    "start_time": "2022-01-23T19:20:58.527Z"
   },
   {
    "duration": 201,
    "start_time": "2022-01-23T19:20:58.534Z"
   },
   {
    "duration": 88,
    "start_time": "2022-01-23T19:20:58.737Z"
   },
   {
    "duration": 28,
    "start_time": "2022-01-23T19:20:58.828Z"
   },
   {
    "duration": 9,
    "start_time": "2022-01-23T19:20:58.858Z"
   },
   {
    "duration": 14,
    "start_time": "2022-01-23T19:20:58.869Z"
   },
   {
    "duration": 38,
    "start_time": "2022-01-23T19:20:58.886Z"
   },
   {
    "duration": 8,
    "start_time": "2022-01-23T19:20:58.926Z"
   },
   {
    "duration": 11,
    "start_time": "2022-01-23T19:20:58.937Z"
   },
   {
    "duration": 24,
    "start_time": "2022-01-23T19:20:58.955Z"
   },
   {
    "duration": 47,
    "start_time": "2022-01-23T19:20:58.982Z"
   },
   {
    "duration": 309,
    "start_time": "2022-01-23T19:20:59.031Z"
   },
   {
    "duration": 313,
    "start_time": "2022-01-23T19:20:59.342Z"
   },
   {
    "duration": 35,
    "start_time": "2022-01-23T19:20:59.658Z"
   },
   {
    "duration": 483,
    "start_time": "2022-01-23T19:20:59.695Z"
   },
   {
    "duration": 71,
    "start_time": "2022-01-23T19:21:00.180Z"
   },
   {
    "duration": 17,
    "start_time": "2022-01-23T19:22:15.167Z"
   },
   {
    "duration": 10,
    "start_time": "2022-01-23T19:28:30.238Z"
   },
   {
    "duration": 17,
    "start_time": "2022-01-23T19:31:50.826Z"
   },
   {
    "duration": 1009,
    "start_time": "2022-01-23T19:33:20.856Z"
   },
   {
    "duration": 176,
    "start_time": "2022-01-23T19:33:21.868Z"
   },
   {
    "duration": 19,
    "start_time": "2022-01-23T19:33:22.047Z"
   },
   {
    "duration": 16,
    "start_time": "2022-01-23T19:33:22.070Z"
   },
   {
    "duration": 77,
    "start_time": "2022-01-23T19:33:22.089Z"
   },
   {
    "duration": 8,
    "start_time": "2022-01-23T19:33:22.169Z"
   },
   {
    "duration": 42,
    "start_time": "2022-01-23T19:33:22.180Z"
   },
   {
    "duration": 79,
    "start_time": "2022-01-23T19:33:22.227Z"
   },
   {
    "duration": 6,
    "start_time": "2022-01-23T19:33:22.325Z"
   },
   {
    "duration": 11,
    "start_time": "2022-01-23T19:33:22.334Z"
   },
   {
    "duration": 22,
    "start_time": "2022-01-23T19:33:22.348Z"
   },
   {
    "duration": 57,
    "start_time": "2022-01-23T19:33:22.372Z"
   },
   {
    "duration": 16,
    "start_time": "2022-01-23T19:33:22.432Z"
   },
   {
    "duration": 7,
    "start_time": "2022-01-23T19:33:22.451Z"
   },
   {
    "duration": 72,
    "start_time": "2022-01-23T19:33:22.461Z"
   },
   {
    "duration": 72,
    "start_time": "2022-01-23T19:33:22.536Z"
   },
   {
    "duration": 7,
    "start_time": "2022-01-23T19:33:22.623Z"
   },
   {
    "duration": 218,
    "start_time": "2022-01-23T19:33:22.633Z"
   },
   {
    "duration": 89,
    "start_time": "2022-01-23T19:33:22.854Z"
   },
   {
    "duration": 30,
    "start_time": "2022-01-23T19:33:22.946Z"
   },
   {
    "duration": 10,
    "start_time": "2022-01-23T19:33:22.979Z"
   },
   {
    "duration": 15,
    "start_time": "2022-01-23T19:33:23.024Z"
   },
   {
    "duration": 6,
    "start_time": "2022-01-23T19:33:23.045Z"
   },
   {
    "duration": 9,
    "start_time": "2022-01-23T19:33:23.054Z"
   },
   {
    "duration": 9,
    "start_time": "2022-01-23T19:33:23.066Z"
   },
   {
    "duration": 56,
    "start_time": "2022-01-23T19:33:23.077Z"
   },
   {
    "duration": 13,
    "start_time": "2022-01-23T19:33:23.136Z"
   },
   {
    "duration": 357,
    "start_time": "2022-01-23T19:33:23.152Z"
   },
   {
    "duration": 319,
    "start_time": "2022-01-23T19:33:23.511Z"
   },
   {
    "duration": 35,
    "start_time": "2022-01-23T19:33:23.833Z"
   },
   {
    "duration": 489,
    "start_time": "2022-01-23T19:33:23.871Z"
   },
   {
    "duration": 22,
    "start_time": "2022-01-23T19:33:24.364Z"
   },
   {
    "duration": 41,
    "start_time": "2022-01-23T19:33:24.389Z"
   },
   {
    "duration": 15,
    "start_time": "2022-01-23T19:34:11.481Z"
   },
   {
    "duration": 1076,
    "start_time": "2022-01-23T19:34:26.580Z"
   },
   {
    "duration": 202,
    "start_time": "2022-01-23T19:34:27.660Z"
   },
   {
    "duration": 15,
    "start_time": "2022-01-23T19:34:27.865Z"
   },
   {
    "duration": 8,
    "start_time": "2022-01-23T19:34:27.883Z"
   },
   {
    "duration": 53,
    "start_time": "2022-01-23T19:34:27.893Z"
   },
   {
    "duration": 8,
    "start_time": "2022-01-23T19:34:27.948Z"
   },
   {
    "duration": 15,
    "start_time": "2022-01-23T19:34:27.958Z"
   },
   {
    "duration": 134,
    "start_time": "2022-01-23T19:34:27.978Z"
   },
   {
    "duration": 9,
    "start_time": "2022-01-23T19:34:28.131Z"
   },
   {
    "duration": 23,
    "start_time": "2022-01-23T19:34:28.143Z"
   },
   {
    "duration": 45,
    "start_time": "2022-01-23T19:34:28.169Z"
   },
   {
    "duration": 46,
    "start_time": "2022-01-23T19:34:28.218Z"
   },
   {
    "duration": 22,
    "start_time": "2022-01-23T19:34:28.267Z"
   },
   {
    "duration": 32,
    "start_time": "2022-01-23T19:34:28.294Z"
   },
   {
    "duration": 60,
    "start_time": "2022-01-23T19:34:28.330Z"
   },
   {
    "duration": 152,
    "start_time": "2022-01-23T19:34:28.393Z"
   },
   {
    "duration": 8,
    "start_time": "2022-01-23T19:34:28.548Z"
   },
   {
    "duration": 277,
    "start_time": "2022-01-23T19:34:28.559Z"
   },
   {
    "duration": 166,
    "start_time": "2022-01-23T19:34:28.840Z"
   },
   {
    "duration": 66,
    "start_time": "2022-01-23T19:34:29.010Z"
   },
   {
    "duration": 17,
    "start_time": "2022-01-23T19:34:29.081Z"
   },
   {
    "duration": 31,
    "start_time": "2022-01-23T19:34:29.122Z"
   },
   {
    "duration": 8,
    "start_time": "2022-01-23T19:34:29.163Z"
   },
   {
    "duration": 14,
    "start_time": "2022-01-23T19:34:29.175Z"
   },
   {
    "duration": 17,
    "start_time": "2022-01-23T19:34:29.223Z"
   },
   {
    "duration": 31,
    "start_time": "2022-01-23T19:34:29.243Z"
   },
   {
    "duration": 51,
    "start_time": "2022-01-23T19:34:29.278Z"
   },
   {
    "duration": 672,
    "start_time": "2022-01-23T19:34:29.333Z"
   },
   {
    "duration": 509,
    "start_time": "2022-01-23T19:34:30.009Z"
   },
   {
    "duration": 36,
    "start_time": "2022-01-23T19:34:30.523Z"
   },
   {
    "duration": 550,
    "start_time": "2022-01-23T19:34:30.562Z"
   },
   {
    "duration": 26,
    "start_time": "2022-01-23T19:34:31.115Z"
   },
   {
    "duration": 18,
    "start_time": "2022-01-23T19:34:31.144Z"
   },
   {
    "duration": 881,
    "start_time": "2022-01-23T19:35:26.381Z"
   },
   {
    "duration": 138,
    "start_time": "2022-01-23T19:35:27.265Z"
   },
   {
    "duration": 21,
    "start_time": "2022-01-23T19:35:27.410Z"
   },
   {
    "duration": 7,
    "start_time": "2022-01-23T19:35:27.434Z"
   },
   {
    "duration": 42,
    "start_time": "2022-01-23T19:35:27.444Z"
   },
   {
    "duration": 35,
    "start_time": "2022-01-23T19:35:27.489Z"
   },
   {
    "duration": 15,
    "start_time": "2022-01-23T19:35:27.528Z"
   },
   {
    "duration": 111,
    "start_time": "2022-01-23T19:35:27.546Z"
   },
   {
    "duration": 6,
    "start_time": "2022-01-23T19:35:27.659Z"
   },
   {
    "duration": 12,
    "start_time": "2022-01-23T19:35:27.668Z"
   },
   {
    "duration": 39,
    "start_time": "2022-01-23T19:35:27.683Z"
   },
   {
    "duration": 26,
    "start_time": "2022-01-23T19:35:27.724Z"
   },
   {
    "duration": 37,
    "start_time": "2022-01-23T19:35:27.753Z"
   },
   {
    "duration": 9,
    "start_time": "2022-01-23T19:35:27.793Z"
   },
   {
    "duration": 57,
    "start_time": "2022-01-23T19:35:27.804Z"
   },
   {
    "duration": 141,
    "start_time": "2022-01-23T19:35:27.865Z"
   },
   {
    "duration": 17,
    "start_time": "2022-01-23T19:35:28.008Z"
   },
   {
    "duration": 244,
    "start_time": "2022-01-23T19:35:28.028Z"
   },
   {
    "duration": 105,
    "start_time": "2022-01-23T19:35:28.274Z"
   },
   {
    "duration": 56,
    "start_time": "2022-01-23T19:35:28.383Z"
   },
   {
    "duration": 10,
    "start_time": "2022-01-23T19:35:28.442Z"
   },
   {
    "duration": 27,
    "start_time": "2022-01-23T19:35:28.458Z"
   },
   {
    "duration": 7,
    "start_time": "2022-01-23T19:35:28.488Z"
   },
   {
    "duration": 37,
    "start_time": "2022-01-23T19:35:28.497Z"
   },
   {
    "duration": 17,
    "start_time": "2022-01-23T19:35:28.537Z"
   },
   {
    "duration": 18,
    "start_time": "2022-01-23T19:35:28.556Z"
   },
   {
    "duration": 58,
    "start_time": "2022-01-23T19:35:28.577Z"
   },
   {
    "duration": 369,
    "start_time": "2022-01-23T19:35:28.638Z"
   },
   {
    "duration": 355,
    "start_time": "2022-01-23T19:35:29.009Z"
   },
   {
    "duration": 37,
    "start_time": "2022-01-23T19:35:29.367Z"
   },
   {
    "duration": 537,
    "start_time": "2022-01-23T19:35:29.423Z"
   },
   {
    "duration": 21,
    "start_time": "2022-01-23T19:35:29.962Z"
   },
   {
    "duration": 46,
    "start_time": "2022-01-23T19:35:29.986Z"
   },
   {
    "duration": 923,
    "start_time": "2022-01-23T19:36:32.842Z"
   },
   {
    "duration": 136,
    "start_time": "2022-01-23T19:36:33.768Z"
   },
   {
    "duration": 14,
    "start_time": "2022-01-23T19:36:33.907Z"
   },
   {
    "duration": 10,
    "start_time": "2022-01-23T19:36:33.924Z"
   },
   {
    "duration": 37,
    "start_time": "2022-01-23T19:36:33.936Z"
   },
   {
    "duration": 7,
    "start_time": "2022-01-23T19:36:33.976Z"
   },
   {
    "duration": 47,
    "start_time": "2022-01-23T19:36:33.985Z"
   },
   {
    "duration": 89,
    "start_time": "2022-01-23T19:36:34.036Z"
   },
   {
    "duration": 5,
    "start_time": "2022-01-23T19:36:34.128Z"
   },
   {
    "duration": 9,
    "start_time": "2022-01-23T19:36:34.136Z"
   },
   {
    "duration": 15,
    "start_time": "2022-01-23T19:36:34.148Z"
   },
   {
    "duration": 60,
    "start_time": "2022-01-23T19:36:34.165Z"
   },
   {
    "duration": 17,
    "start_time": "2022-01-23T19:36:34.227Z"
   },
   {
    "duration": 7,
    "start_time": "2022-01-23T19:36:34.246Z"
   },
   {
    "duration": 73,
    "start_time": "2022-01-23T19:36:34.255Z"
   },
   {
    "duration": 102,
    "start_time": "2022-01-23T19:36:34.333Z"
   },
   {
    "duration": 9,
    "start_time": "2022-01-23T19:36:34.438Z"
   },
   {
    "duration": 274,
    "start_time": "2022-01-23T19:36:34.450Z"
   },
   {
    "duration": 96,
    "start_time": "2022-01-23T19:36:34.727Z"
   },
   {
    "duration": 28,
    "start_time": "2022-01-23T19:36:34.826Z"
   },
   {
    "duration": 9,
    "start_time": "2022-01-23T19:36:34.857Z"
   },
   {
    "duration": 54,
    "start_time": "2022-01-23T19:36:34.869Z"
   },
   {
    "duration": 5,
    "start_time": "2022-01-23T19:36:34.928Z"
   },
   {
    "duration": 9,
    "start_time": "2022-01-23T19:36:34.936Z"
   },
   {
    "duration": 16,
    "start_time": "2022-01-23T19:36:34.947Z"
   },
   {
    "duration": 71,
    "start_time": "2022-01-23T19:36:34.968Z"
   },
   {
    "duration": 17,
    "start_time": "2022-01-23T19:36:35.043Z"
   },
   {
    "duration": 346,
    "start_time": "2022-01-23T19:36:35.064Z"
   },
   {
    "duration": 334,
    "start_time": "2022-01-23T19:36:35.413Z"
   },
   {
    "duration": 42,
    "start_time": "2022-01-23T19:36:35.751Z"
   },
   {
    "duration": 504,
    "start_time": "2022-01-23T19:36:35.796Z"
   },
   {
    "duration": 31,
    "start_time": "2022-01-23T19:36:36.303Z"
   },
   {
    "duration": 14,
    "start_time": "2022-01-23T19:36:36.336Z"
   },
   {
    "duration": 17,
    "start_time": "2022-01-23T19:37:19.390Z"
   },
   {
    "duration": 439,
    "start_time": "2022-01-23T19:42:43.906Z"
   },
   {
    "duration": 13,
    "start_time": "2022-01-23T19:43:01.249Z"
   },
   {
    "duration": 380,
    "start_time": "2022-01-23T19:44:46.971Z"
   },
   {
    "duration": 385,
    "start_time": "2022-01-23T19:45:24.385Z"
   },
   {
    "duration": 388,
    "start_time": "2022-01-23T19:45:36.576Z"
   },
   {
    "duration": 367,
    "start_time": "2022-01-23T19:46:03.759Z"
   },
   {
    "duration": 871,
    "start_time": "2022-01-23T20:09:26.404Z"
   },
   {
    "duration": 1985,
    "start_time": "2022-01-23T20:09:27.278Z"
   },
   {
    "duration": 16,
    "start_time": "2022-01-23T20:09:29.270Z"
   },
   {
    "duration": 15,
    "start_time": "2022-01-23T20:09:29.289Z"
   },
   {
    "duration": 39,
    "start_time": "2022-01-23T20:09:29.307Z"
   },
   {
    "duration": 7,
    "start_time": "2022-01-23T20:09:29.348Z"
   },
   {
    "duration": 18,
    "start_time": "2022-01-23T20:09:29.360Z"
   },
   {
    "duration": 96,
    "start_time": "2022-01-23T20:09:29.381Z"
   },
   {
    "duration": 6,
    "start_time": "2022-01-23T20:09:29.479Z"
   },
   {
    "duration": 8,
    "start_time": "2022-01-23T20:09:29.488Z"
   },
   {
    "duration": 33,
    "start_time": "2022-01-23T20:09:29.498Z"
   },
   {
    "duration": 25,
    "start_time": "2022-01-23T20:09:29.534Z"
   },
   {
    "duration": 18,
    "start_time": "2022-01-23T20:09:29.562Z"
   },
   {
    "duration": 7,
    "start_time": "2022-01-23T20:09:29.583Z"
   },
   {
    "duration": 80,
    "start_time": "2022-01-23T20:09:29.592Z"
   },
   {
    "duration": 105,
    "start_time": "2022-01-23T20:09:29.675Z"
   },
   {
    "duration": 6,
    "start_time": "2022-01-23T20:09:29.783Z"
   },
   {
    "duration": 235,
    "start_time": "2022-01-23T20:09:29.792Z"
   },
   {
    "duration": 131,
    "start_time": "2022-01-23T20:09:30.031Z"
   },
   {
    "duration": 30,
    "start_time": "2022-01-23T20:09:30.165Z"
   },
   {
    "duration": 31,
    "start_time": "2022-01-23T20:09:30.198Z"
   },
   {
    "duration": 21,
    "start_time": "2022-01-23T20:09:30.234Z"
   },
   {
    "duration": 12,
    "start_time": "2022-01-23T20:09:30.259Z"
   },
   {
    "duration": 18,
    "start_time": "2022-01-23T20:09:30.275Z"
   },
   {
    "duration": 40,
    "start_time": "2022-01-23T20:09:30.296Z"
   },
   {
    "duration": 42,
    "start_time": "2022-01-23T20:09:30.340Z"
   },
   {
    "duration": 16,
    "start_time": "2022-01-23T20:09:30.385Z"
   },
   {
    "duration": 362,
    "start_time": "2022-01-23T20:09:30.404Z"
   },
   {
    "duration": 328,
    "start_time": "2022-01-23T20:09:30.768Z"
   },
   {
    "duration": 48,
    "start_time": "2022-01-23T20:09:31.099Z"
   },
   {
    "duration": 510,
    "start_time": "2022-01-23T20:09:31.150Z"
   },
   {
    "duration": 20,
    "start_time": "2022-01-23T20:09:31.662Z"
   },
   {
    "duration": 40,
    "start_time": "2022-01-23T20:09:31.685Z"
   },
   {
    "duration": 383,
    "start_time": "2022-01-23T20:09:31.728Z"
   },
   {
    "duration": 306,
    "start_time": "2022-01-31T05:36:42.909Z"
   },
   {
    "duration": 650,
    "start_time": "2022-01-31T05:37:47.660Z"
   },
   {
    "duration": 113,
    "start_time": "2022-01-31T05:37:48.312Z"
   },
   {
    "duration": 9,
    "start_time": "2022-01-31T05:37:48.427Z"
   },
   {
    "duration": 4,
    "start_time": "2022-01-31T05:37:48.438Z"
   },
   {
    "duration": 23,
    "start_time": "2022-01-31T05:37:48.443Z"
   },
   {
    "duration": 4,
    "start_time": "2022-01-31T05:37:48.468Z"
   },
   {
    "duration": 9,
    "start_time": "2022-01-31T05:37:48.473Z"
   },
   {
    "duration": 44,
    "start_time": "2022-01-31T05:37:48.484Z"
   },
   {
    "duration": 3,
    "start_time": "2022-01-31T05:37:48.530Z"
   },
   {
    "duration": 5,
    "start_time": "2022-01-31T05:37:48.535Z"
   },
   {
    "duration": 8,
    "start_time": "2022-01-31T05:37:48.542Z"
   },
   {
    "duration": 31,
    "start_time": "2022-01-31T05:37:48.552Z"
   },
   {
    "duration": 10,
    "start_time": "2022-01-31T05:37:48.585Z"
   },
   {
    "duration": 7,
    "start_time": "2022-01-31T05:37:48.597Z"
   },
   {
    "duration": 5,
    "start_time": "2022-01-31T05:37:48.605Z"
   },
   {
    "duration": 29,
    "start_time": "2022-01-31T05:37:48.611Z"
   },
   {
    "duration": 63,
    "start_time": "2022-01-31T05:37:48.641Z"
   },
   {
    "duration": 4,
    "start_time": "2022-01-31T05:37:48.705Z"
   },
   {
    "duration": 135,
    "start_time": "2022-01-31T05:37:48.710Z"
   },
   {
    "duration": 55,
    "start_time": "2022-01-31T05:37:48.847Z"
   },
   {
    "duration": 17,
    "start_time": "2022-01-31T05:37:48.904Z"
   },
   {
    "duration": 6,
    "start_time": "2022-01-31T05:37:48.923Z"
   },
   {
    "duration": 9,
    "start_time": "2022-01-31T05:37:48.932Z"
   },
   {
    "duration": 3,
    "start_time": "2022-01-31T05:37:48.943Z"
   },
   {
    "duration": 27,
    "start_time": "2022-01-31T05:37:48.948Z"
   },
   {
    "duration": 10,
    "start_time": "2022-01-31T05:37:48.977Z"
   },
   {
    "duration": 15,
    "start_time": "2022-01-31T05:37:48.988Z"
   },
   {
    "duration": 11,
    "start_time": "2022-01-31T05:37:49.005Z"
   },
   {
    "duration": 7,
    "start_time": "2022-01-31T05:37:49.018Z"
   },
   {
    "duration": 203,
    "start_time": "2022-01-31T05:37:49.026Z"
   },
   {
    "duration": 182,
    "start_time": "2022-01-31T05:37:49.231Z"
   },
   {
    "duration": 21,
    "start_time": "2022-01-31T05:37:49.415Z"
   },
   {
    "duration": 284,
    "start_time": "2022-01-31T05:37:49.437Z"
   },
   {
    "duration": 12,
    "start_time": "2022-01-31T05:37:49.723Z"
   },
   {
    "duration": 9,
    "start_time": "2022-01-31T05:37:49.736Z"
   },
   {
    "duration": 268,
    "start_time": "2022-01-31T05:37:49.746Z"
   }
  ],
  "colab": {
   "name": "DA+. Сборный проект 1. Шаблон (1).ipynb",
   "provenance": []
  },
  "kernelspec": {
   "display_name": "Python 3 (ipykernel)",
   "language": "python",
   "name": "python3"
  },
  "language_info": {
   "codemirror_mode": {
    "name": "ipython",
    "version": 3
   },
   "file_extension": ".py",
   "mimetype": "text/x-python",
   "name": "python",
   "nbconvert_exporter": "python",
   "pygments_lexer": "ipython3",
   "version": "3.9.5"
  },
  "toc": {
   "base_numbering": 1,
   "nav_menu": {},
   "number_sections": true,
   "sideBar": true,
   "skip_h1_title": true,
   "title_cell": "Table of Contents",
   "title_sidebar": "Contents",
   "toc_cell": false,
   "toc_position": {
    "height": "calc(100% - 180px)",
    "left": "10px",
    "top": "150px",
    "width": "213.391px"
   },
   "toc_section_display": true,
   "toc_window_display": true
  }
 },
 "nbformat": 4,
 "nbformat_minor": 1
}
