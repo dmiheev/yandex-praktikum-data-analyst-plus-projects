{
 "cells": [
  {
   "cell_type": "markdown",
   "metadata": {},
   "source": [
    "# Исследование надёжности заёмщиков\n",
    "\n",
    "Заказчик — кредитный отдел банка. Нужно разобраться, влияет ли семейное положение и количество детей клиента на факт погашения кредита в срок. Входные данные от банка — статистика о платёжеспособности клиентов.\n",
    "\n",
    "Результаты исследования будут учтены при построении модели **кредитного скоринга** — специальной системы, которая оценивает способность потенциального заёмщика вернуть кредит банку."
   ]
  },
  {
   "cell_type": "markdown",
   "metadata": {},
   "source": [
    "## Шаг 1. Откройте файл с данными и изучите общую информацию"
   ]
  },
  {
   "cell_type": "code",
   "execution_count": 1,
   "metadata": {},
   "outputs": [],
   "source": [
    "# импорт библиотек\n",
    "import pandas as pd\n",
    "from pymystem3 import Mystem"
   ]
  },
  {
   "cell_type": "code",
   "execution_count": 2,
   "metadata": {},
   "outputs": [],
   "source": [
    "# чтение файла с данными и сохранение в df\n",
    "df = pd.read_csv('/datasets/data.csv')"
   ]
  },
  {
   "cell_type": "code",
   "execution_count": 3,
   "metadata": {},
   "outputs": [
    {
     "data": {
      "text/html": [
       "<div>\n",
       "<style scoped>\n",
       "    .dataframe tbody tr th:only-of-type {\n",
       "        vertical-align: middle;\n",
       "    }\n",
       "\n",
       "    .dataframe tbody tr th {\n",
       "        vertical-align: top;\n",
       "    }\n",
       "\n",
       "    .dataframe thead th {\n",
       "        text-align: right;\n",
       "    }\n",
       "</style>\n",
       "<table border=\"1\" class=\"dataframe\">\n",
       "  <thead>\n",
       "    <tr style=\"text-align: right;\">\n",
       "      <th></th>\n",
       "      <th>children</th>\n",
       "      <th>days_employed</th>\n",
       "      <th>dob_years</th>\n",
       "      <th>education</th>\n",
       "      <th>education_id</th>\n",
       "      <th>family_status</th>\n",
       "      <th>family_status_id</th>\n",
       "      <th>gender</th>\n",
       "      <th>income_type</th>\n",
       "      <th>debt</th>\n",
       "      <th>total_income</th>\n",
       "      <th>purpose</th>\n",
       "    </tr>\n",
       "  </thead>\n",
       "  <tbody>\n",
       "    <tr>\n",
       "      <td>0</td>\n",
       "      <td>1</td>\n",
       "      <td>-8437.673028</td>\n",
       "      <td>42</td>\n",
       "      <td>высшее</td>\n",
       "      <td>0</td>\n",
       "      <td>женат / замужем</td>\n",
       "      <td>0</td>\n",
       "      <td>F</td>\n",
       "      <td>сотрудник</td>\n",
       "      <td>0</td>\n",
       "      <td>253875.639453</td>\n",
       "      <td>покупка жилья</td>\n",
       "    </tr>\n",
       "    <tr>\n",
       "      <td>1</td>\n",
       "      <td>1</td>\n",
       "      <td>-4024.803754</td>\n",
       "      <td>36</td>\n",
       "      <td>среднее</td>\n",
       "      <td>1</td>\n",
       "      <td>женат / замужем</td>\n",
       "      <td>0</td>\n",
       "      <td>F</td>\n",
       "      <td>сотрудник</td>\n",
       "      <td>0</td>\n",
       "      <td>112080.014102</td>\n",
       "      <td>приобретение автомобиля</td>\n",
       "    </tr>\n",
       "    <tr>\n",
       "      <td>2</td>\n",
       "      <td>0</td>\n",
       "      <td>-5623.422610</td>\n",
       "      <td>33</td>\n",
       "      <td>Среднее</td>\n",
       "      <td>1</td>\n",
       "      <td>женат / замужем</td>\n",
       "      <td>0</td>\n",
       "      <td>M</td>\n",
       "      <td>сотрудник</td>\n",
       "      <td>0</td>\n",
       "      <td>145885.952297</td>\n",
       "      <td>покупка жилья</td>\n",
       "    </tr>\n",
       "    <tr>\n",
       "      <td>3</td>\n",
       "      <td>3</td>\n",
       "      <td>-4124.747207</td>\n",
       "      <td>32</td>\n",
       "      <td>среднее</td>\n",
       "      <td>1</td>\n",
       "      <td>женат / замужем</td>\n",
       "      <td>0</td>\n",
       "      <td>M</td>\n",
       "      <td>сотрудник</td>\n",
       "      <td>0</td>\n",
       "      <td>267628.550329</td>\n",
       "      <td>дополнительное образование</td>\n",
       "    </tr>\n",
       "    <tr>\n",
       "      <td>4</td>\n",
       "      <td>0</td>\n",
       "      <td>340266.072047</td>\n",
       "      <td>53</td>\n",
       "      <td>среднее</td>\n",
       "      <td>1</td>\n",
       "      <td>гражданский брак</td>\n",
       "      <td>1</td>\n",
       "      <td>F</td>\n",
       "      <td>пенсионер</td>\n",
       "      <td>0</td>\n",
       "      <td>158616.077870</td>\n",
       "      <td>сыграть свадьбу</td>\n",
       "    </tr>\n",
       "    <tr>\n",
       "      <td>5</td>\n",
       "      <td>0</td>\n",
       "      <td>-926.185831</td>\n",
       "      <td>27</td>\n",
       "      <td>высшее</td>\n",
       "      <td>0</td>\n",
       "      <td>гражданский брак</td>\n",
       "      <td>1</td>\n",
       "      <td>M</td>\n",
       "      <td>компаньон</td>\n",
       "      <td>0</td>\n",
       "      <td>255763.565419</td>\n",
       "      <td>покупка жилья</td>\n",
       "    </tr>\n",
       "    <tr>\n",
       "      <td>6</td>\n",
       "      <td>0</td>\n",
       "      <td>-2879.202052</td>\n",
       "      <td>43</td>\n",
       "      <td>высшее</td>\n",
       "      <td>0</td>\n",
       "      <td>женат / замужем</td>\n",
       "      <td>0</td>\n",
       "      <td>F</td>\n",
       "      <td>компаньон</td>\n",
       "      <td>0</td>\n",
       "      <td>240525.971920</td>\n",
       "      <td>операции с жильем</td>\n",
       "    </tr>\n",
       "    <tr>\n",
       "      <td>7</td>\n",
       "      <td>0</td>\n",
       "      <td>-152.779569</td>\n",
       "      <td>50</td>\n",
       "      <td>СРЕДНЕЕ</td>\n",
       "      <td>1</td>\n",
       "      <td>женат / замужем</td>\n",
       "      <td>0</td>\n",
       "      <td>M</td>\n",
       "      <td>сотрудник</td>\n",
       "      <td>0</td>\n",
       "      <td>135823.934197</td>\n",
       "      <td>образование</td>\n",
       "    </tr>\n",
       "    <tr>\n",
       "      <td>8</td>\n",
       "      <td>2</td>\n",
       "      <td>-6929.865299</td>\n",
       "      <td>35</td>\n",
       "      <td>ВЫСШЕЕ</td>\n",
       "      <td>0</td>\n",
       "      <td>гражданский брак</td>\n",
       "      <td>1</td>\n",
       "      <td>F</td>\n",
       "      <td>сотрудник</td>\n",
       "      <td>0</td>\n",
       "      <td>95856.832424</td>\n",
       "      <td>на проведение свадьбы</td>\n",
       "    </tr>\n",
       "    <tr>\n",
       "      <td>9</td>\n",
       "      <td>0</td>\n",
       "      <td>-2188.756445</td>\n",
       "      <td>41</td>\n",
       "      <td>среднее</td>\n",
       "      <td>1</td>\n",
       "      <td>женат / замужем</td>\n",
       "      <td>0</td>\n",
       "      <td>M</td>\n",
       "      <td>сотрудник</td>\n",
       "      <td>0</td>\n",
       "      <td>144425.938277</td>\n",
       "      <td>покупка жилья для семьи</td>\n",
       "    </tr>\n",
       "  </tbody>\n",
       "</table>\n",
       "</div>"
      ],
      "text/plain": [
       "   children  days_employed  dob_years education  education_id  \\\n",
       "0         1   -8437.673028         42    высшее             0   \n",
       "1         1   -4024.803754         36   среднее             1   \n",
       "2         0   -5623.422610         33   Среднее             1   \n",
       "3         3   -4124.747207         32   среднее             1   \n",
       "4         0  340266.072047         53   среднее             1   \n",
       "5         0    -926.185831         27    высшее             0   \n",
       "6         0   -2879.202052         43    высшее             0   \n",
       "7         0    -152.779569         50   СРЕДНЕЕ             1   \n",
       "8         2   -6929.865299         35    ВЫСШЕЕ             0   \n",
       "9         0   -2188.756445         41   среднее             1   \n",
       "\n",
       "      family_status  family_status_id gender income_type  debt   total_income  \\\n",
       "0   женат / замужем                 0      F   сотрудник     0  253875.639453   \n",
       "1   женат / замужем                 0      F   сотрудник     0  112080.014102   \n",
       "2   женат / замужем                 0      M   сотрудник     0  145885.952297   \n",
       "3   женат / замужем                 0      M   сотрудник     0  267628.550329   \n",
       "4  гражданский брак                 1      F   пенсионер     0  158616.077870   \n",
       "5  гражданский брак                 1      M   компаньон     0  255763.565419   \n",
       "6   женат / замужем                 0      F   компаньон     0  240525.971920   \n",
       "7   женат / замужем                 0      M   сотрудник     0  135823.934197   \n",
       "8  гражданский брак                 1      F   сотрудник     0   95856.832424   \n",
       "9   женат / замужем                 0      M   сотрудник     0  144425.938277   \n",
       "\n",
       "                      purpose  \n",
       "0               покупка жилья  \n",
       "1     приобретение автомобиля  \n",
       "2               покупка жилья  \n",
       "3  дополнительное образование  \n",
       "4             сыграть свадьбу  \n",
       "5               покупка жилья  \n",
       "6           операции с жильем  \n",
       "7                 образование  \n",
       "8       на проведение свадьбы  \n",
       "9     покупка жилья для семьи  "
      ]
     },
     "execution_count": 3,
     "metadata": {},
     "output_type": "execute_result"
    }
   ],
   "source": [
    "# получение первых 10 строк таблицы df\n",
    "df.head(10)"
   ]
  },
  {
   "cell_type": "code",
   "execution_count": 4,
   "metadata": {},
   "outputs": [
    {
     "name": "stdout",
     "output_type": "stream",
     "text": [
      "<class 'pandas.core.frame.DataFrame'>\n",
      "RangeIndex: 21525 entries, 0 to 21524\n",
      "Data columns (total 12 columns):\n",
      "children            21525 non-null int64\n",
      "days_employed       19351 non-null float64\n",
      "dob_years           21525 non-null int64\n",
      "education           21525 non-null object\n",
      "education_id        21525 non-null int64\n",
      "family_status       21525 non-null object\n",
      "family_status_id    21525 non-null int64\n",
      "gender              21525 non-null object\n",
      "income_type         21525 non-null object\n",
      "debt                21525 non-null int64\n",
      "total_income        19351 non-null float64\n",
      "purpose             21525 non-null object\n",
      "dtypes: float64(2), int64(5), object(5)\n",
      "memory usage: 2.0+ MB\n"
     ]
    }
   ],
   "source": [
    "# получение общей информации о данных в таблице df\n",
    "df.info()"
   ]
  },
  {
   "cell_type": "code",
   "execution_count": 5,
   "metadata": {},
   "outputs": [
    {
     "data": {
      "text/html": [
       "<div>\n",
       "<style scoped>\n",
       "    .dataframe tbody tr th:only-of-type {\n",
       "        vertical-align: middle;\n",
       "    }\n",
       "\n",
       "    .dataframe tbody tr th {\n",
       "        vertical-align: top;\n",
       "    }\n",
       "\n",
       "    .dataframe thead th {\n",
       "        text-align: right;\n",
       "    }\n",
       "</style>\n",
       "<table border=\"1\" class=\"dataframe\">\n",
       "  <thead>\n",
       "    <tr style=\"text-align: right;\">\n",
       "      <th></th>\n",
       "      <th>children</th>\n",
       "      <th>days_employed</th>\n",
       "      <th>dob_years</th>\n",
       "      <th>education_id</th>\n",
       "      <th>family_status_id</th>\n",
       "      <th>debt</th>\n",
       "      <th>total_income</th>\n",
       "    </tr>\n",
       "  </thead>\n",
       "  <tbody>\n",
       "    <tr>\n",
       "      <td>count</td>\n",
       "      <td>21525.000000</td>\n",
       "      <td>19351.000000</td>\n",
       "      <td>21525.000000</td>\n",
       "      <td>21525.000000</td>\n",
       "      <td>21525.000000</td>\n",
       "      <td>21525.000000</td>\n",
       "      <td>1.935100e+04</td>\n",
       "    </tr>\n",
       "    <tr>\n",
       "      <td>mean</td>\n",
       "      <td>0.538908</td>\n",
       "      <td>63046.497661</td>\n",
       "      <td>43.293380</td>\n",
       "      <td>0.817236</td>\n",
       "      <td>0.972544</td>\n",
       "      <td>0.080883</td>\n",
       "      <td>1.674223e+05</td>\n",
       "    </tr>\n",
       "    <tr>\n",
       "      <td>std</td>\n",
       "      <td>1.381587</td>\n",
       "      <td>140827.311974</td>\n",
       "      <td>12.574584</td>\n",
       "      <td>0.548138</td>\n",
       "      <td>1.420324</td>\n",
       "      <td>0.272661</td>\n",
       "      <td>1.029716e+05</td>\n",
       "    </tr>\n",
       "    <tr>\n",
       "      <td>min</td>\n",
       "      <td>-1.000000</td>\n",
       "      <td>-18388.949901</td>\n",
       "      <td>0.000000</td>\n",
       "      <td>0.000000</td>\n",
       "      <td>0.000000</td>\n",
       "      <td>0.000000</td>\n",
       "      <td>2.066726e+04</td>\n",
       "    </tr>\n",
       "    <tr>\n",
       "      <td>25%</td>\n",
       "      <td>0.000000</td>\n",
       "      <td>-2747.423625</td>\n",
       "      <td>33.000000</td>\n",
       "      <td>1.000000</td>\n",
       "      <td>0.000000</td>\n",
       "      <td>0.000000</td>\n",
       "      <td>1.030532e+05</td>\n",
       "    </tr>\n",
       "    <tr>\n",
       "      <td>50%</td>\n",
       "      <td>0.000000</td>\n",
       "      <td>-1203.369529</td>\n",
       "      <td>42.000000</td>\n",
       "      <td>1.000000</td>\n",
       "      <td>0.000000</td>\n",
       "      <td>0.000000</td>\n",
       "      <td>1.450179e+05</td>\n",
       "    </tr>\n",
       "    <tr>\n",
       "      <td>75%</td>\n",
       "      <td>1.000000</td>\n",
       "      <td>-291.095954</td>\n",
       "      <td>53.000000</td>\n",
       "      <td>1.000000</td>\n",
       "      <td>1.000000</td>\n",
       "      <td>0.000000</td>\n",
       "      <td>2.034351e+05</td>\n",
       "    </tr>\n",
       "    <tr>\n",
       "      <td>max</td>\n",
       "      <td>20.000000</td>\n",
       "      <td>401755.400475</td>\n",
       "      <td>75.000000</td>\n",
       "      <td>4.000000</td>\n",
       "      <td>4.000000</td>\n",
       "      <td>1.000000</td>\n",
       "      <td>2.265604e+06</td>\n",
       "    </tr>\n",
       "  </tbody>\n",
       "</table>\n",
       "</div>"
      ],
      "text/plain": [
       "           children  days_employed     dob_years  education_id  \\\n",
       "count  21525.000000   19351.000000  21525.000000  21525.000000   \n",
       "mean       0.538908   63046.497661     43.293380      0.817236   \n",
       "std        1.381587  140827.311974     12.574584      0.548138   \n",
       "min       -1.000000  -18388.949901      0.000000      0.000000   \n",
       "25%        0.000000   -2747.423625     33.000000      1.000000   \n",
       "50%        0.000000   -1203.369529     42.000000      1.000000   \n",
       "75%        1.000000    -291.095954     53.000000      1.000000   \n",
       "max       20.000000  401755.400475     75.000000      4.000000   \n",
       "\n",
       "       family_status_id          debt  total_income  \n",
       "count      21525.000000  21525.000000  1.935100e+04  \n",
       "mean           0.972544      0.080883  1.674223e+05  \n",
       "std            1.420324      0.272661  1.029716e+05  \n",
       "min            0.000000      0.000000  2.066726e+04  \n",
       "25%            0.000000      0.000000  1.030532e+05  \n",
       "50%            0.000000      0.000000  1.450179e+05  \n",
       "75%            1.000000      0.000000  2.034351e+05  \n",
       "max            4.000000      1.000000  2.265604e+06  "
      ]
     },
     "execution_count": 5,
     "metadata": {},
     "output_type": "execute_result"
    }
   ],
   "source": [
    "df.describe()"
   ]
  },
  {
   "cell_type": "markdown",
   "metadata": {},
   "source": [
    "**Согласно документации к данным:**\n",
    "* `children` — количество детей в семье\n",
    "* `days_employed` — общий трудовой стаж в днях\n",
    "* `dob_years` — возраст клиента в годах\n",
    "* `education` — уровень образования клиента\n",
    "* `education_id` — идентификатор уровня образования\n",
    "* `family_status` — семейное положение\n",
    "* `family_status_id` — идентификатор семейного положения\n",
    "* `gender` — пол клиента\n",
    "* `income_type` — тип занятости\n",
    "* `debt` — имел ли задолженность по возврату кредитов\n",
    "* `total_income` — ежемесячный доход\n",
    "* `purpose` — цель получения кредита\n",
    "\n",
    "В названиях колонок нарушений не выявлено.\n",
    "\n",
    "Количество значений в столбцах различается. Значит, в данных есть пропущенные значения.\n",
    "\n",
    "Колонка `days_employed`, судя по описанию, должна быть целочисленной и положительной,\n",
    "остальные колонки определились правильно.\n",
    "Такой точности для `total_income` не требуется, можем преобразовать в целочисленный формат."
   ]
  },
  {
   "cell_type": "markdown",
   "metadata": {},
   "source": [
    "**Вывод**"
   ]
  },
  {
   "cell_type": "markdown",
   "metadata": {},
   "source": [
    "В каждой строке таблицы — данные о заемщиках. Данные рассказывают о заемщике: возраст, образование, занятость, семейное положение и количество детей, доход, а также цель получения кредита.\n",
    "\n",
    "Предварительно можно утверждать, что, данных достаточно для проверки гипотез. Но встречаются пропуски в данных.\n",
    "\n",
    "Чтобы двигаться дальше, нужно устранить проблемы в данных."
   ]
  },
  {
   "cell_type": "markdown",
   "metadata": {},
   "source": [
    "## Шаг 2. Предобработка данных"
   ]
  },
  {
   "cell_type": "markdown",
   "metadata": {},
   "source": [
    "### Обработка пропусков"
   ]
  },
  {
   "cell_type": "code",
   "execution_count": 6,
   "metadata": {},
   "outputs": [
    {
     "data": {
      "text/plain": [
       "children               0\n",
       "days_employed       2174\n",
       "dob_years              0\n",
       "education              0\n",
       "education_id           0\n",
       "family_status          0\n",
       "family_status_id       0\n",
       "gender                 0\n",
       "income_type            0\n",
       "debt                   0\n",
       "total_income        2174\n",
       "purpose                0\n",
       "dtype: int64"
      ]
     },
     "execution_count": 6,
     "metadata": {},
     "output_type": "execute_result"
    }
   ],
   "source": [
    "df.isnull().sum()"
   ]
  },
  {
   "cell_type": "code",
   "execution_count": 7,
   "metadata": {},
   "outputs": [
    {
     "data": {
      "text/plain": [
       "2174"
      ]
     },
     "execution_count": 7,
     "metadata": {},
     "output_type": "execute_result"
    }
   ],
   "source": [
    "df[(df['days_employed'].isna() == True) & (df['total_income'].isna() == True)]['children'].count()"
   ]
  },
  {
   "cell_type": "markdown",
   "metadata": {},
   "source": [
    "#### Обработка пропусков `days_employed`"
   ]
  },
  {
   "cell_type": "code",
   "execution_count": 8,
   "metadata": {},
   "outputs": [
    {
     "name": "stdout",
     "output_type": "stream",
     "text": [
      "Пропуски до: 2174\n"
     ]
    },
    {
     "data": {
      "text/html": [
       "<div>\n",
       "<style scoped>\n",
       "    .dataframe tbody tr th:only-of-type {\n",
       "        vertical-align: middle;\n",
       "    }\n",
       "\n",
       "    .dataframe tbody tr th {\n",
       "        vertical-align: top;\n",
       "    }\n",
       "\n",
       "    .dataframe thead th {\n",
       "        text-align: right;\n",
       "    }\n",
       "</style>\n",
       "<table border=\"1\" class=\"dataframe\">\n",
       "  <thead>\n",
       "    <tr style=\"text-align: right;\">\n",
       "      <th></th>\n",
       "      <th>family_status</th>\n",
       "      <th>education</th>\n",
       "      <th>days_employed</th>\n",
       "      <th>median_days_employed</th>\n",
       "    </tr>\n",
       "  </thead>\n",
       "  <tbody>\n",
       "    <tr>\n",
       "      <td>6</td>\n",
       "      <td>женат / замужем</td>\n",
       "      <td>высшее</td>\n",
       "      <td>NaN</td>\n",
       "      <td>-1443.773383</td>\n",
       "    </tr>\n",
       "    <tr>\n",
       "      <td>9</td>\n",
       "      <td>женат / замужем</td>\n",
       "      <td>высшее</td>\n",
       "      <td>NaN</td>\n",
       "      <td>-1443.773383</td>\n",
       "    </tr>\n",
       "    <tr>\n",
       "      <td>12</td>\n",
       "      <td>женат / замужем</td>\n",
       "      <td>высшее</td>\n",
       "      <td>NaN</td>\n",
       "      <td>-1443.773383</td>\n",
       "    </tr>\n",
       "    <tr>\n",
       "      <td>13</td>\n",
       "      <td>женат / замужем</td>\n",
       "      <td>высшее</td>\n",
       "      <td>NaN</td>\n",
       "      <td>-1443.773383</td>\n",
       "    </tr>\n",
       "    <tr>\n",
       "      <td>15</td>\n",
       "      <td>женат / замужем</td>\n",
       "      <td>высшее</td>\n",
       "      <td>NaN</td>\n",
       "      <td>-1443.773383</td>\n",
       "    </tr>\n",
       "  </tbody>\n",
       "</table>\n",
       "</div>"
      ],
      "text/plain": [
       "      family_status education  days_employed  median_days_employed\n",
       "6   женат / замужем    высшее            NaN          -1443.773383\n",
       "9   женат / замужем    высшее            NaN          -1443.773383\n",
       "12  женат / замужем    высшее            NaN          -1443.773383\n",
       "13  женат / замужем    высшее            NaN          -1443.773383\n",
       "15  женат / замужем    высшее            NaN          -1443.773383"
      ]
     },
     "execution_count": 8,
     "metadata": {},
     "output_type": "execute_result"
    }
   ],
   "source": [
    "# подсчёт пропусков до обработки\n",
    "print('Пропуски до:', df['days_employed'].isna().sum())\n",
    "\n",
    "# фрейм с группированными значениями\n",
    "medians = (df.groupby(['family_status_id', 'education_id'])\n",
    "             .agg({'days_employed': 'median'})\n",
    "             .rename(columns={'days_employed': 'median_days_employed'}))\n",
    "\n",
    "# приджойним медиану к исходному датафрейму\n",
    "df = df.merge(medians, on=['family_status_id', 'education_id'])\n",
    "\n",
    "# в результате получим дополнительную колонку median_days_employed\n",
    "df[['family_status', 'education', 'days_employed', 'median_days_employed']][df['days_employed'].isna()].head()"
   ]
  },
  {
   "cell_type": "code",
   "execution_count": 9,
   "metadata": {},
   "outputs": [
    {
     "name": "stdout",
     "output_type": "stream",
     "text": [
      "Пропуски после: 0\n"
     ]
    }
   ],
   "source": [
    "# те значения где days_employed пустой заполним значениями из median_days_employed\n",
    "df.loc[df['days_employed'].isna(),'days_employed'] = df.loc[df['days_employed'].isna(),'median_days_employed']\n",
    "\n",
    "# подсчёт пропусков после обработки\n",
    "print('Пропуски после:', df['days_employed'].isna().sum())\n",
    "\n",
    "# удалим расчетный столбец\n",
    "df = df.drop('median_days_employed', 1)"
   ]
  },
  {
   "cell_type": "markdown",
   "metadata": {},
   "source": [
    "#### Обработка пропусков `total_income`"
   ]
  },
  {
   "cell_type": "code",
   "execution_count": 10,
   "metadata": {},
   "outputs": [
    {
     "name": "stdout",
     "output_type": "stream",
     "text": [
      "Пропуски до: 2174\n"
     ]
    },
    {
     "data": {
      "text/html": [
       "<div>\n",
       "<style scoped>\n",
       "    .dataframe tbody tr th:only-of-type {\n",
       "        vertical-align: middle;\n",
       "    }\n",
       "\n",
       "    .dataframe tbody tr th {\n",
       "        vertical-align: top;\n",
       "    }\n",
       "\n",
       "    .dataframe thead th {\n",
       "        text-align: right;\n",
       "    }\n",
       "</style>\n",
       "<table border=\"1\" class=\"dataframe\">\n",
       "  <thead>\n",
       "    <tr style=\"text-align: right;\">\n",
       "      <th></th>\n",
       "      <th>family_status</th>\n",
       "      <th>education</th>\n",
       "      <th>total_income</th>\n",
       "      <th>median_total_income</th>\n",
       "    </tr>\n",
       "  </thead>\n",
       "  <tbody>\n",
       "    <tr>\n",
       "      <td>6</td>\n",
       "      <td>женат / замужем</td>\n",
       "      <td>высшее</td>\n",
       "      <td>NaN</td>\n",
       "      <td>177914.29425</td>\n",
       "    </tr>\n",
       "    <tr>\n",
       "      <td>9</td>\n",
       "      <td>женат / замужем</td>\n",
       "      <td>высшее</td>\n",
       "      <td>NaN</td>\n",
       "      <td>177914.29425</td>\n",
       "    </tr>\n",
       "    <tr>\n",
       "      <td>12</td>\n",
       "      <td>женат / замужем</td>\n",
       "      <td>высшее</td>\n",
       "      <td>NaN</td>\n",
       "      <td>177914.29425</td>\n",
       "    </tr>\n",
       "    <tr>\n",
       "      <td>13</td>\n",
       "      <td>женат / замужем</td>\n",
       "      <td>высшее</td>\n",
       "      <td>NaN</td>\n",
       "      <td>177914.29425</td>\n",
       "    </tr>\n",
       "    <tr>\n",
       "      <td>15</td>\n",
       "      <td>женат / замужем</td>\n",
       "      <td>высшее</td>\n",
       "      <td>NaN</td>\n",
       "      <td>177914.29425</td>\n",
       "    </tr>\n",
       "  </tbody>\n",
       "</table>\n",
       "</div>"
      ],
      "text/plain": [
       "      family_status education  total_income  median_total_income\n",
       "6   женат / замужем    высшее           NaN         177914.29425\n",
       "9   женат / замужем    высшее           NaN         177914.29425\n",
       "12  женат / замужем    высшее           NaN         177914.29425\n",
       "13  женат / замужем    высшее           NaN         177914.29425\n",
       "15  женат / замужем    высшее           NaN         177914.29425"
      ]
     },
     "execution_count": 10,
     "metadata": {},
     "output_type": "execute_result"
    }
   ],
   "source": [
    "# подсчёт пропусков до обработки\n",
    "print('Пропуски до:', df['total_income'].isna().sum())\n",
    "\n",
    "# фрейм с группированными значениями\n",
    "medians = (df.groupby(['family_status_id', 'education_id'])\n",
    "             .agg({'total_income': 'median'})\n",
    "             .rename(columns={'total_income': 'median_total_income'}))\n",
    "\n",
    "# приджойним медиану к исходному датафрейму\n",
    "df = df.merge(medians, on=['family_status_id', 'education_id'])\n",
    "\n",
    "# в результате получим дополнительную колонку median_total_income\n",
    "df[['family_status', 'education', 'total_income', 'median_total_income']][df['total_income'].isna()].head()"
   ]
  },
  {
   "cell_type": "code",
   "execution_count": 11,
   "metadata": {},
   "outputs": [
    {
     "name": "stdout",
     "output_type": "stream",
     "text": [
      "Пропуски после: 0\n"
     ]
    }
   ],
   "source": [
    "# те значения где days_employed пустой заполним значениями из median_days_employed\n",
    "df.loc[df['total_income'].isna(),'total_income'] = df.loc[df['total_income'].isna(),'median_total_income']\n",
    "\n",
    "# подсчёт пропусков после обработки\n",
    "print('Пропуски после:', df['total_income'].isna().sum())\n",
    "\n",
    "# удалим расчетный столбец\n",
    "df = df.drop('median_total_income', 1)"
   ]
  },
  {
   "cell_type": "markdown",
   "metadata": {},
   "source": [
    "**Вывод**"
   ]
  },
  {
   "cell_type": "markdown",
   "metadata": {},
   "source": [
    "В результате исследования данных на пропуски было выявлено 2174 пропуска, пропуски присутствуют в двух колонках `days_employed` и `total_income` и присутствуют в строке одновременно, вероятно технический сбой и нужно указать на ошибку поставщику данных.\n",
    "Пропуски были заполнены медианными значениями по группам **Семейный статус / Образование**."
   ]
  },
  {
   "cell_type": "markdown",
   "metadata": {},
   "source": [
    "### Замена типа данных"
   ]
  },
  {
   "cell_type": "markdown",
   "metadata": {},
   "source": [
    "Согласно документации `days_employed` содержит данные в днях, поэтому необходимо их привести к целочисленному положительному формату."
   ]
  },
  {
   "cell_type": "code",
   "execution_count": 12,
   "metadata": {},
   "outputs": [
    {
     "data": {
      "text/html": [
       "<div>\n",
       "<style scoped>\n",
       "    .dataframe tbody tr th:only-of-type {\n",
       "        vertical-align: middle;\n",
       "    }\n",
       "\n",
       "    .dataframe tbody tr th {\n",
       "        vertical-align: top;\n",
       "    }\n",
       "\n",
       "    .dataframe thead th {\n",
       "        text-align: right;\n",
       "    }\n",
       "</style>\n",
       "<table border=\"1\" class=\"dataframe\">\n",
       "  <thead>\n",
       "    <tr style=\"text-align: right;\">\n",
       "      <th></th>\n",
       "      <th>dob_years</th>\n",
       "      <th>days_employed</th>\n",
       "    </tr>\n",
       "  </thead>\n",
       "  <tbody>\n",
       "    <tr>\n",
       "      <td>16467</td>\n",
       "      <td>56</td>\n",
       "      <td>401755</td>\n",
       "    </tr>\n",
       "    <tr>\n",
       "      <td>20108</td>\n",
       "      <td>69</td>\n",
       "      <td>401715</td>\n",
       "    </tr>\n",
       "    <tr>\n",
       "      <td>6158</td>\n",
       "      <td>61</td>\n",
       "      <td>401675</td>\n",
       "    </tr>\n",
       "    <tr>\n",
       "      <td>3899</td>\n",
       "      <td>60</td>\n",
       "      <td>401674</td>\n",
       "    </tr>\n",
       "    <tr>\n",
       "      <td>12956</td>\n",
       "      <td>61</td>\n",
       "      <td>401663</td>\n",
       "    </tr>\n",
       "    <tr>\n",
       "      <td>...</td>\n",
       "      <td>...</td>\n",
       "      <td>...</td>\n",
       "    </tr>\n",
       "    <tr>\n",
       "      <td>290</td>\n",
       "      <td>31</td>\n",
       "      <td>34</td>\n",
       "    </tr>\n",
       "    <tr>\n",
       "      <td>18583</td>\n",
       "      <td>43</td>\n",
       "      <td>33</td>\n",
       "    </tr>\n",
       "    <tr>\n",
       "      <td>12745</td>\n",
       "      <td>47</td>\n",
       "      <td>30</td>\n",
       "    </tr>\n",
       "    <tr>\n",
       "      <td>20045</td>\n",
       "      <td>32</td>\n",
       "      <td>24</td>\n",
       "    </tr>\n",
       "    <tr>\n",
       "      <td>10196</td>\n",
       "      <td>31</td>\n",
       "      <td>24</td>\n",
       "    </tr>\n",
       "  </tbody>\n",
       "</table>\n",
       "<p>21525 rows × 2 columns</p>\n",
       "</div>"
      ],
      "text/plain": [
       "       dob_years  days_employed\n",
       "16467         56         401755\n",
       "20108         69         401715\n",
       "6158          61         401675\n",
       "3899          60         401674\n",
       "12956         61         401663\n",
       "...          ...            ...\n",
       "290           31             34\n",
       "18583         43             33\n",
       "12745         47             30\n",
       "20045         32             24\n",
       "10196         31             24\n",
       "\n",
       "[21525 rows x 2 columns]"
      ]
     },
     "execution_count": 12,
     "metadata": {},
     "output_type": "execute_result"
    }
   ],
   "source": [
    "# преобразуем days_employed в int\n",
    "df['days_employed'] = df['days_employed'].astype('int')\n",
    "\n",
    "# значения столбца перезапишем по модулю\n",
    "df['days_employed'] = abs(df['days_employed'])\n",
    "\n",
    "df[['dob_years', 'days_employed']].sort_values(by='days_employed', ascending=False)"
   ]
  },
  {
   "cell_type": "markdown",
   "metadata": {},
   "source": [
    "В результате сортировки данных обнаружились аномально высокие данные, где стаж явно превосходит возраст,\n",
    "сделаем предположение что в таких данных стаж записан в часах, пересчитаем стаж используя функцию."
   ]
  },
  {
   "cell_type": "code",
   "execution_count": 13,
   "metadata": {},
   "outputs": [],
   "source": [
    "def calculate_days_employed(row):\n",
    "    \"\"\"\n",
    "    Если возраст меньше трудового стажа, то считаем что трудовой стаж записан в часах и переводим его в дни.\n",
    "    Иначе значение не пересчитывается.\n",
    "    \"\"\"\n",
    "    years = row['dob_years']\n",
    "    days_employed = row['days_employed']\n",
    "    if years < days_employed // 365:\n",
    "        return days_employed // 24\n",
    "    return days_employed"
   ]
  },
  {
   "cell_type": "code",
   "execution_count": 14,
   "metadata": {},
   "outputs": [
    {
     "data": {
      "text/html": [
       "<div>\n",
       "<style scoped>\n",
       "    .dataframe tbody tr th:only-of-type {\n",
       "        vertical-align: middle;\n",
       "    }\n",
       "\n",
       "    .dataframe tbody tr th {\n",
       "        vertical-align: top;\n",
       "    }\n",
       "\n",
       "    .dataframe thead th {\n",
       "        text-align: right;\n",
       "    }\n",
       "</style>\n",
       "<table border=\"1\" class=\"dataframe\">\n",
       "  <thead>\n",
       "    <tr style=\"text-align: right;\">\n",
       "      <th></th>\n",
       "      <th>children</th>\n",
       "      <th>days_employed</th>\n",
       "      <th>dob_years</th>\n",
       "      <th>education</th>\n",
       "      <th>education_id</th>\n",
       "      <th>family_status</th>\n",
       "      <th>family_status_id</th>\n",
       "      <th>gender</th>\n",
       "      <th>income_type</th>\n",
       "      <th>debt</th>\n",
       "      <th>total_income</th>\n",
       "      <th>purpose</th>\n",
       "    </tr>\n",
       "  </thead>\n",
       "  <tbody>\n",
       "    <tr>\n",
       "      <td>9769</td>\n",
       "      <td>1</td>\n",
       "      <td>18388</td>\n",
       "      <td>61</td>\n",
       "      <td>среднее</td>\n",
       "      <td>1</td>\n",
       "      <td>женат / замужем</td>\n",
       "      <td>0</td>\n",
       "      <td>F</td>\n",
       "      <td>сотрудник</td>\n",
       "      <td>0</td>\n",
       "      <td>186178.934089</td>\n",
       "      <td>операции с недвижимостью</td>\n",
       "    </tr>\n",
       "    <tr>\n",
       "      <td>4798</td>\n",
       "      <td>0</td>\n",
       "      <td>17615</td>\n",
       "      <td>61</td>\n",
       "      <td>среднее</td>\n",
       "      <td>1</td>\n",
       "      <td>женат / замужем</td>\n",
       "      <td>0</td>\n",
       "      <td>F</td>\n",
       "      <td>компаньон</td>\n",
       "      <td>0</td>\n",
       "      <td>122560.741753</td>\n",
       "      <td>покупка жилья</td>\n",
       "    </tr>\n",
       "    <tr>\n",
       "      <td>16467</td>\n",
       "      <td>0</td>\n",
       "      <td>16739</td>\n",
       "      <td>56</td>\n",
       "      <td>среднее</td>\n",
       "      <td>1</td>\n",
       "      <td>вдовец / вдова</td>\n",
       "      <td>2</td>\n",
       "      <td>F</td>\n",
       "      <td>пенсионер</td>\n",
       "      <td>0</td>\n",
       "      <td>176278.441171</td>\n",
       "      <td>ремонт жилью</td>\n",
       "    </tr>\n",
       "    <tr>\n",
       "      <td>20108</td>\n",
       "      <td>0</td>\n",
       "      <td>16738</td>\n",
       "      <td>69</td>\n",
       "      <td>высшее</td>\n",
       "      <td>0</td>\n",
       "      <td>Не женат / не замужем</td>\n",
       "      <td>4</td>\n",
       "      <td>F</td>\n",
       "      <td>пенсионер</td>\n",
       "      <td>0</td>\n",
       "      <td>57390.256908</td>\n",
       "      <td>получение образования</td>\n",
       "    </tr>\n",
       "    <tr>\n",
       "      <td>6158</td>\n",
       "      <td>1</td>\n",
       "      <td>16736</td>\n",
       "      <td>61</td>\n",
       "      <td>среднее</td>\n",
       "      <td>1</td>\n",
       "      <td>женат / замужем</td>\n",
       "      <td>0</td>\n",
       "      <td>F</td>\n",
       "      <td>пенсионер</td>\n",
       "      <td>0</td>\n",
       "      <td>126214.519212</td>\n",
       "      <td>операции с жильем</td>\n",
       "    </tr>\n",
       "  </tbody>\n",
       "</table>\n",
       "</div>"
      ],
      "text/plain": [
       "       children  days_employed  dob_years education  education_id  \\\n",
       "9769          1          18388         61   среднее             1   \n",
       "4798          0          17615         61   среднее             1   \n",
       "16467         0          16739         56   среднее             1   \n",
       "20108         0          16738         69    высшее             0   \n",
       "6158          1          16736         61   среднее             1   \n",
       "\n",
       "               family_status  family_status_id gender income_type  debt  \\\n",
       "9769         женат / замужем                 0      F   сотрудник     0   \n",
       "4798         женат / замужем                 0      F   компаньон     0   \n",
       "16467         вдовец / вдова                 2      F   пенсионер     0   \n",
       "20108  Не женат / не замужем                 4      F   пенсионер     0   \n",
       "6158         женат / замужем                 0      F   пенсионер     0   \n",
       "\n",
       "        total_income                   purpose  \n",
       "9769   186178.934089  операции с недвижимостью  \n",
       "4798   122560.741753             покупка жилья  \n",
       "16467  176278.441171              ремонт жилью  \n",
       "20108   57390.256908     получение образования  \n",
       "6158   126214.519212         операции с жильем  "
      ]
     },
     "execution_count": 14,
     "metadata": {},
     "output_type": "execute_result"
    }
   ],
   "source": [
    "df['days_employed'] = df.apply(calculate_days_employed, axis=1)\n",
    "df.sort_values(by='days_employed', ascending=False).head()"
   ]
  },
  {
   "cell_type": "code",
   "execution_count": 15,
   "metadata": {},
   "outputs": [],
   "source": [
    "# преобразуем total_income в int\n",
    "df['total_income'] = df['total_income'].astype('int')"
   ]
  },
  {
   "cell_type": "markdown",
   "metadata": {},
   "source": [
    "**Вывод**"
   ]
  },
  {
   "cell_type": "markdown",
   "metadata": {},
   "source": [
    "Столбец `days_employed` был преобразован к положительным int согласно документации к данным. Аномальные значения были пересчитаны и перезаписаны. Столбец `total_income` преобразован в int."
   ]
  },
  {
   "cell_type": "markdown",
   "metadata": {},
   "source": [
    "### Обработка дубликатов"
   ]
  },
  {
   "cell_type": "code",
   "execution_count": 16,
   "metadata": {},
   "outputs": [
    {
     "name": "stdout",
     "output_type": "stream",
     "text": [
      "Привели к нижнему регистру данные столбца = education\n",
      "Количество уникальных значений до преобразования = 15\n",
      "Количество уникальных значений после преобразования = 5\n"
     ]
    }
   ],
   "source": [
    "# приведем данные всех столбцов с типом object к нижнему регистру\n",
    "# только если данное преобразование сократит количество уникальных значений\n",
    "for col in df.columns:\n",
    "    if df.dtypes[col] == 'object':\n",
    "        unique_before = df[col].value_counts().count()\n",
    "        unique_after = df[col].str.lower().value_counts().count()\n",
    "        if unique_before != unique_after:\n",
    "            df[col] = df[col].str.lower()\n",
    "            print('Привели к нижнему регистру данные столбца =',col)\n",
    "            print('Количество уникальных значений до преобразования =', unique_before)\n",
    "            print('Количество уникальных значений после преобразования =', unique_after)"
   ]
  },
  {
   "cell_type": "code",
   "execution_count": 17,
   "metadata": {},
   "outputs": [
    {
     "data": {
      "text/html": [
       "<div>\n",
       "<style scoped>\n",
       "    .dataframe tbody tr th:only-of-type {\n",
       "        vertical-align: middle;\n",
       "    }\n",
       "\n",
       "    .dataframe tbody tr th {\n",
       "        vertical-align: top;\n",
       "    }\n",
       "\n",
       "    .dataframe thead th {\n",
       "        text-align: right;\n",
       "    }\n",
       "</style>\n",
       "<table border=\"1\" class=\"dataframe\">\n",
       "  <thead>\n",
       "    <tr style=\"text-align: right;\">\n",
       "      <th></th>\n",
       "      <th>children</th>\n",
       "      <th>days_employed</th>\n",
       "      <th>dob_years</th>\n",
       "      <th>education</th>\n",
       "      <th>education_id</th>\n",
       "      <th>family_status</th>\n",
       "      <th>family_status_id</th>\n",
       "      <th>gender</th>\n",
       "      <th>income_type</th>\n",
       "      <th>debt</th>\n",
       "      <th>total_income</th>\n",
       "      <th>purpose</th>\n",
       "    </tr>\n",
       "  </thead>\n",
       "  <tbody>\n",
       "    <tr>\n",
       "      <td>16557</td>\n",
       "      <td>0</td>\n",
       "      <td>14069</td>\n",
       "      <td>66</td>\n",
       "      <td>среднее</td>\n",
       "      <td>1</td>\n",
       "      <td>вдовец / вдова</td>\n",
       "      <td>2</td>\n",
       "      <td>F</td>\n",
       "      <td>пенсионер</td>\n",
       "      <td>0</td>\n",
       "      <td>127269</td>\n",
       "      <td>операции со своей недвижимостью</td>\n",
       "    </tr>\n",
       "    <tr>\n",
       "      <td>19018</td>\n",
       "      <td>0</td>\n",
       "      <td>1025</td>\n",
       "      <td>50</td>\n",
       "      <td>среднее</td>\n",
       "      <td>1</td>\n",
       "      <td>Не женат / не замужем</td>\n",
       "      <td>4</td>\n",
       "      <td>F</td>\n",
       "      <td>сотрудник</td>\n",
       "      <td>0</td>\n",
       "      <td>135824</td>\n",
       "      <td>недвижимость</td>\n",
       "    </tr>\n",
       "    <tr>\n",
       "      <td>19400</td>\n",
       "      <td>0</td>\n",
       "      <td>1025</td>\n",
       "      <td>23</td>\n",
       "      <td>среднее</td>\n",
       "      <td>1</td>\n",
       "      <td>Не женат / не замужем</td>\n",
       "      <td>4</td>\n",
       "      <td>F</td>\n",
       "      <td>сотрудник</td>\n",
       "      <td>0</td>\n",
       "      <td>135824</td>\n",
       "      <td>сделка с подержанным автомобилем</td>\n",
       "    </tr>\n",
       "    <tr>\n",
       "      <td>14690</td>\n",
       "      <td>0</td>\n",
       "      <td>1174</td>\n",
       "      <td>57</td>\n",
       "      <td>среднее</td>\n",
       "      <td>1</td>\n",
       "      <td>гражданский брак</td>\n",
       "      <td>1</td>\n",
       "      <td>M</td>\n",
       "      <td>пенсионер</td>\n",
       "      <td>0</td>\n",
       "      <td>136548</td>\n",
       "      <td>свадьба</td>\n",
       "    </tr>\n",
       "    <tr>\n",
       "      <td>14567</td>\n",
       "      <td>0</td>\n",
       "      <td>1174</td>\n",
       "      <td>45</td>\n",
       "      <td>среднее</td>\n",
       "      <td>1</td>\n",
       "      <td>гражданский брак</td>\n",
       "      <td>1</td>\n",
       "      <td>F</td>\n",
       "      <td>компаньон</td>\n",
       "      <td>0</td>\n",
       "      <td>136548</td>\n",
       "      <td>свадьба</td>\n",
       "    </tr>\n",
       "    <tr>\n",
       "      <td>12369</td>\n",
       "      <td>0</td>\n",
       "      <td>1174</td>\n",
       "      <td>58</td>\n",
       "      <td>среднее</td>\n",
       "      <td>1</td>\n",
       "      <td>гражданский брак</td>\n",
       "      <td>1</td>\n",
       "      <td>F</td>\n",
       "      <td>пенсионер</td>\n",
       "      <td>0</td>\n",
       "      <td>136548</td>\n",
       "      <td>сыграть свадьбу</td>\n",
       "    </tr>\n",
       "    <tr>\n",
       "      <td>12574</td>\n",
       "      <td>0</td>\n",
       "      <td>1174</td>\n",
       "      <td>60</td>\n",
       "      <td>среднее</td>\n",
       "      <td>1</td>\n",
       "      <td>гражданский брак</td>\n",
       "      <td>1</td>\n",
       "      <td>F</td>\n",
       "      <td>пенсионер</td>\n",
       "      <td>0</td>\n",
       "      <td>136548</td>\n",
       "      <td>свадьба</td>\n",
       "    </tr>\n",
       "    <tr>\n",
       "      <td>12672</td>\n",
       "      <td>0</td>\n",
       "      <td>1174</td>\n",
       "      <td>58</td>\n",
       "      <td>среднее</td>\n",
       "      <td>1</td>\n",
       "      <td>гражданский брак</td>\n",
       "      <td>1</td>\n",
       "      <td>F</td>\n",
       "      <td>пенсионер</td>\n",
       "      <td>0</td>\n",
       "      <td>136548</td>\n",
       "      <td>сыграть свадьбу</td>\n",
       "    </tr>\n",
       "    <tr>\n",
       "      <td>12958</td>\n",
       "      <td>0</td>\n",
       "      <td>1174</td>\n",
       "      <td>57</td>\n",
       "      <td>среднее</td>\n",
       "      <td>1</td>\n",
       "      <td>гражданский брак</td>\n",
       "      <td>1</td>\n",
       "      <td>F</td>\n",
       "      <td>пенсионер</td>\n",
       "      <td>0</td>\n",
       "      <td>136548</td>\n",
       "      <td>на проведение свадьбы</td>\n",
       "    </tr>\n",
       "    <tr>\n",
       "      <td>12975</td>\n",
       "      <td>0</td>\n",
       "      <td>1174</td>\n",
       "      <td>71</td>\n",
       "      <td>среднее</td>\n",
       "      <td>1</td>\n",
       "      <td>гражданский брак</td>\n",
       "      <td>1</td>\n",
       "      <td>F</td>\n",
       "      <td>пенсионер</td>\n",
       "      <td>0</td>\n",
       "      <td>136548</td>\n",
       "      <td>на проведение свадьбы</td>\n",
       "    </tr>\n",
       "  </tbody>\n",
       "</table>\n",
       "</div>"
      ],
      "text/plain": [
       "       children  days_employed  dob_years education  education_id  \\\n",
       "16557         0          14069         66   среднее             1   \n",
       "19018         0           1025         50   среднее             1   \n",
       "19400         0           1025         23   среднее             1   \n",
       "14690         0           1174         57   среднее             1   \n",
       "14567         0           1174         45   среднее             1   \n",
       "12369         0           1174         58   среднее             1   \n",
       "12574         0           1174         60   среднее             1   \n",
       "12672         0           1174         58   среднее             1   \n",
       "12958         0           1174         57   среднее             1   \n",
       "12975         0           1174         71   среднее             1   \n",
       "\n",
       "               family_status  family_status_id gender income_type  debt  \\\n",
       "16557         вдовец / вдова                 2      F   пенсионер     0   \n",
       "19018  Не женат / не замужем                 4      F   сотрудник     0   \n",
       "19400  Не женат / не замужем                 4      F   сотрудник     0   \n",
       "14690       гражданский брак                 1      M   пенсионер     0   \n",
       "14567       гражданский брак                 1      F   компаньон     0   \n",
       "12369       гражданский брак                 1      F   пенсионер     0   \n",
       "12574       гражданский брак                 1      F   пенсионер     0   \n",
       "12672       гражданский брак                 1      F   пенсионер     0   \n",
       "12958       гражданский брак                 1      F   пенсионер     0   \n",
       "12975       гражданский брак                 1      F   пенсионер     0   \n",
       "\n",
       "       total_income                           purpose  \n",
       "16557        127269   операции со своей недвижимостью  \n",
       "19018        135824                      недвижимость  \n",
       "19400        135824  сделка с подержанным автомобилем  \n",
       "14690        136548                           свадьба  \n",
       "14567        136548                           свадьба  \n",
       "12369        136548                   сыграть свадьбу  \n",
       "12574        136548                           свадьба  \n",
       "12672        136548                   сыграть свадьбу  \n",
       "12958        136548             на проведение свадьбы  \n",
       "12975        136548             на проведение свадьбы  "
      ]
     },
     "execution_count": 17,
     "metadata": {},
     "output_type": "execute_result"
    }
   ],
   "source": [
    "df[df.duplicated() == True].sort_values(by='total_income').head(10)"
   ]
  },
  {
   "cell_type": "code",
   "execution_count": 18,
   "metadata": {},
   "outputs": [
    {
     "name": "stdout",
     "output_type": "stream",
     "text": [
      "До удаления: 71\n",
      "После удаления: 0\n"
     ]
    }
   ],
   "source": [
    "# подсчитаем явные дубликаты\n",
    "print('До удаления:', df.duplicated().sum())\n",
    "# удалим их\n",
    "df = df.drop_duplicates().reset_index(drop=True)\n",
    "# проверим результат\n",
    "print('После удаления:', df.duplicated().sum())"
   ]
  },
  {
   "cell_type": "markdown",
   "metadata": {},
   "source": [
    "**Вывод**"
   ]
  },
  {
   "cell_type": "markdown",
   "metadata": {},
   "source": [
    "Столбец `education` содержал данные в разных регистрах, данные были приведены к нижнему регистру, для более корректного отображения справочника категории.\n",
    "\n",
    "В результате поиска дубликатов было найдено и удалено 71 строк с данными.\n",
    "\n",
    "Данные поставляются из разных источников, это можно понять из разных вариантов предоставления данных, например стаж в часах, а не в днях, или разные регистры в справочнике Образования, и вероятно это причина появления дубликатов."
   ]
  },
  {
   "cell_type": "markdown",
   "metadata": {},
   "source": [
    "### Лемматизация"
   ]
  },
  {
   "cell_type": "code",
   "execution_count": 19,
   "metadata": {},
   "outputs": [
    {
     "name": "stdout",
     "output_type": "stream",
     "text": [
      "['покупка жилья' 'операции с жильем' 'покупка недвижимости'\n",
      " 'строительство собственной недвижимости' 'недвижимость'\n",
      " 'покупка жилья для семьи' 'операции с коммерческой недвижимостью'\n",
      " 'покупка коммерческой недвижимости' 'на покупку подержанного автомобиля'\n",
      " 'сделка с автомобилем' 'жилье' 'автомобиль' 'профильное образование'\n",
      " 'покупка жилья для сдачи' 'операции со своей недвижимостью' 'автомобили'\n",
      " 'приобретение автомобиля' 'на покупку своего автомобиля'\n",
      " 'покупка своего жилья' 'покупка жилой недвижимости'\n",
      " 'заняться высшим образованием' 'получение высшего образования'\n",
      " 'сделка с подержанным автомобилем' 'ремонт жилью' 'свой автомобиль'\n",
      " 'строительство жилой недвижимости' 'высшее образование'\n",
      " 'строительство недвижимости' 'операции с недвижимостью'\n",
      " 'получение образования' 'образование' 'заняться образованием'\n",
      " 'на покупку автомобиля' 'дополнительное образование'\n",
      " 'получение дополнительного образования' 'сыграть свадьбу'\n",
      " 'на проведение свадьбы' 'свадьба']\n"
     ]
    }
   ],
   "source": [
    "m = Mystem()\n",
    "\n",
    "# делаем уникальный список для Цели получения кредита\n",
    "purpose_list = df['purpose'].unique()\n",
    "print(purpose_list)"
   ]
  },
  {
   "cell_type": "code",
   "execution_count": 20,
   "metadata": {},
   "outputs": [
    {
     "name": "stdout",
     "output_type": "stream",
     "text": [
      "{'покупка': 10, ' ': 59, 'жилье': 7, '\\n': 38, 'операция': 4, 'с': 5, 'недвижимость': 10, 'строительство': 3, 'собственный': 1, 'для': 2, 'семья': 1, 'коммерческий': 2, 'на': 4, 'подержать': 1, 'автомобиль': 9, 'сделка': 2, 'профильный': 1, 'образование': 9, 'сдача': 1, 'со': 1, 'свой': 4, 'приобретение': 1, 'жилой': 2, 'заниматься': 2, 'высокий': 3, 'получение': 3, 'подержанный': 1, 'ремонт': 1, 'дополнительный': 2, 'сыграть': 1, 'свадьба': 3, 'проведение': 1}\n"
     ]
    }
   ],
   "source": [
    "# каждое значение в 'purpose_list' лемматизируем, получаем список лемм и добавляем значения в словарь 'lemmas'\n",
    "lemmas = {}\n",
    "for i in purpose_list:\n",
    "    lemma = m.lemmatize(i)\n",
    "    for j in lemma:\n",
    "        if j not in lemmas:\n",
    "            lemmas[j] = 0\n",
    "        lemmas[j] += 1\n",
    "print(lemmas)"
   ]
  },
  {
   "cell_type": "markdown",
   "metadata": {},
   "source": [
    "**Вывод**"
   ]
  },
  {
   "cell_type": "markdown",
   "metadata": {},
   "source": [
    "Из полученных данных были собраны уникальные Цели и лемматизированы.\n",
    "Из результата лемматизации выделено четыре категории.\n"
   ]
  },
  {
   "cell_type": "markdown",
   "metadata": {},
   "source": [
    "### Категоризация данных"
   ]
  },
  {
   "cell_type": "code",
   "execution_count": 21,
   "metadata": {},
   "outputs": [
    {
     "data": {
      "text/plain": [
       "недвижимость    19244\n",
       "автомобиль        972\n",
       "свадьба           791\n",
       "образование       447\n",
       "Name: purpose_category, dtype: int64"
      ]
     },
     "execution_count": 21,
     "metadata": {},
     "output_type": "execute_result"
    }
   ],
   "source": [
    "# разбиваем на категории по леммам: автомобиль, недвижимость, образование, свадьба и прочее\n",
    "def purpose_category(purpose):\n",
    "    lemmas_row = m.lemmatize(purpose)\n",
    "    for i in lemmas_row:\n",
    "        if 'свад' in i:\n",
    "            return  'свадьба'\n",
    "        if 'образов' in i:\n",
    "            return 'образование'\n",
    "        if 'авто' in i: \n",
    "            return 'автомобиль'\n",
    "        if 'ремонт' or 'недвиж' or 'жил' in i:\n",
    "            return  'недвижимость'\n",
    "        return 'прочее'\n",
    "\n",
    "\n",
    "df['purpose_category'] = df['purpose'].apply(purpose_category)\n",
    "df['purpose_category'].value_counts()"
   ]
  },
  {
   "cell_type": "code",
   "execution_count": 22,
   "metadata": {},
   "outputs": [
    {
     "data": {
      "text/plain": [
       "нет детей    14091\n",
       "есть дети     7363\n",
       "Name: children_category, dtype: int64"
      ]
     },
     "execution_count": 22,
     "metadata": {},
     "output_type": "execute_result"
    }
   ],
   "source": [
    "# добавим категорию по наличию детей\n",
    "def children_category(children):\n",
    "    if children == 0:\n",
    "        return 'нет детей'\n",
    "    return 'есть дети'\n",
    "\n",
    "\n",
    "df['children_category'] = df['children'].apply(children_category)\n",
    "df['children_category'].value_counts()"
   ]
  },
  {
   "cell_type": "code",
   "execution_count": 23,
   "metadata": {},
   "outputs": [
    {
     "data": {
      "text/plain": [
       "60001 - 150000     10873\n",
       "150001 - 500000     9553\n",
       "30001 - 60000        784\n",
       "более 500000         222\n",
       "0 - 30000             22\n",
       "Name: total_income_category, dtype: int64"
      ]
     },
     "execution_count": 23,
     "metadata": {},
     "output_type": "execute_result"
    }
   ],
   "source": [
    "# напишем функцию для категоризации по доходу\n",
    "def get_total_income_category(total_income):\n",
    "    if total_income <= 30000:\n",
    "        return '0 - 30000'\n",
    "    elif total_income <= 60000:\n",
    "        return '30001 - 60000'\n",
    "    elif total_income <= 150000:\n",
    "        return '60001 - 150000'\n",
    "    elif total_income <= 500000:\n",
    "        return '150001 - 500000'\n",
    "    else:\n",
    "        return 'более 500000'\n",
    "\n",
    "\n",
    "df['total_income_category'] = df['total_income'].apply(get_total_income_category)\n",
    "df['total_income_category'].value_counts()"
   ]
  },
  {
   "cell_type": "markdown",
   "metadata": {},
   "source": [
    "**Вывод**"
   ]
  },
  {
   "cell_type": "markdown",
   "metadata": {},
   "source": [
    "В результате применения функции для присвоения категории по Цели кредита все данные были категаризованы по четырем группам авто, недвижимость, образование и свадьбы. В категорию Прочее данных не попало.\n",
    "Также добавили категорию по признаку наличия детей и по доходу.\n",
    "\n",
    "По подсчету созданных признаков видно что кредиты больше всего берут на недвижимость, а также бездетные, меньше всего берут кредитов граждане с низким доходом"
   ]
  },
  {
   "cell_type": "markdown",
   "metadata": {},
   "source": [
    "## Шаг 3. Ответьте на вопросы"
   ]
  },
  {
   "cell_type": "code",
   "execution_count": 24,
   "metadata": {},
   "outputs": [],
   "source": [
    "# напишем функцию для рисования сводной таблицы\n",
    "\n",
    "def draw_pivot_table(pdata, pindex, pvalues='debt', pfunc=['sum', 'count']):\n",
    "    pdata_pivot = pdata.pivot_table(index=pindex, values=pvalues, aggfunc=pfunc)\n",
    "    pdata_pivot['debt_conversion, %'] = round(100 * pdata_pivot.iloc[:, 0] / pdata_pivot.iloc[:, 1], 2)\n",
    "    return pdata_pivot.sort_values(by='debt_conversion, %', ascending=False)"
   ]
  },
  {
   "cell_type": "markdown",
   "metadata": {},
   "source": [
    "- Есть ли зависимость между наличием детей и возвратом кредита в срок?"
   ]
  },
  {
   "cell_type": "code",
   "execution_count": 25,
   "metadata": {},
   "outputs": [
    {
     "data": {
      "text/html": [
       "<div>\n",
       "<style scoped>\n",
       "    .dataframe tbody tr th:only-of-type {\n",
       "        vertical-align: middle;\n",
       "    }\n",
       "\n",
       "    .dataframe tbody tr th {\n",
       "        vertical-align: top;\n",
       "    }\n",
       "\n",
       "    .dataframe thead tr th {\n",
       "        text-align: left;\n",
       "    }\n",
       "\n",
       "    .dataframe thead tr:last-of-type th {\n",
       "        text-align: right;\n",
       "    }\n",
       "</style>\n",
       "<table border=\"1\" class=\"dataframe\">\n",
       "  <thead>\n",
       "    <tr>\n",
       "      <th></th>\n",
       "      <th>sum</th>\n",
       "      <th>count</th>\n",
       "      <th>debt_conversion, %</th>\n",
       "    </tr>\n",
       "    <tr>\n",
       "      <th></th>\n",
       "      <th>debt</th>\n",
       "      <th>debt</th>\n",
       "      <th></th>\n",
       "    </tr>\n",
       "    <tr>\n",
       "      <th>children_category</th>\n",
       "      <th></th>\n",
       "      <th></th>\n",
       "      <th></th>\n",
       "    </tr>\n",
       "  </thead>\n",
       "  <tbody>\n",
       "    <tr>\n",
       "      <td>есть дети</td>\n",
       "      <td>678</td>\n",
       "      <td>7363</td>\n",
       "      <td>9.21</td>\n",
       "    </tr>\n",
       "    <tr>\n",
       "      <td>нет детей</td>\n",
       "      <td>1063</td>\n",
       "      <td>14091</td>\n",
       "      <td>7.54</td>\n",
       "    </tr>\n",
       "  </tbody>\n",
       "</table>\n",
       "</div>"
      ],
      "text/plain": [
       "                    sum  count debt_conversion, %\n",
       "                   debt   debt                   \n",
       "children_category                                \n",
       "есть дети           678   7363               9.21\n",
       "нет детей          1063  14091               7.54"
      ]
     },
     "execution_count": 25,
     "metadata": {},
     "output_type": "execute_result"
    }
   ],
   "source": [
    "draw_pivot_table(df, 'children_category')"
   ]
  },
  {
   "cell_type": "markdown",
   "metadata": {},
   "source": [
    "**Вывод**"
   ]
  },
  {
   "cell_type": "markdown",
   "metadata": {},
   "source": [
    "Из полученных данных можно сделать вывод, что чаще становятся имеющие детей."
   ]
  },
  {
   "cell_type": "markdown",
   "metadata": {},
   "source": [
    "- Есть ли зависимость между семейным положением и возвратом кредита в срок?"
   ]
  },
  {
   "cell_type": "code",
   "execution_count": 26,
   "metadata": {},
   "outputs": [
    {
     "data": {
      "text/html": [
       "<div>\n",
       "<style scoped>\n",
       "    .dataframe tbody tr th:only-of-type {\n",
       "        vertical-align: middle;\n",
       "    }\n",
       "\n",
       "    .dataframe tbody tr th {\n",
       "        vertical-align: top;\n",
       "    }\n",
       "\n",
       "    .dataframe thead tr th {\n",
       "        text-align: left;\n",
       "    }\n",
       "\n",
       "    .dataframe thead tr:last-of-type th {\n",
       "        text-align: right;\n",
       "    }\n",
       "</style>\n",
       "<table border=\"1\" class=\"dataframe\">\n",
       "  <thead>\n",
       "    <tr>\n",
       "      <th></th>\n",
       "      <th>sum</th>\n",
       "      <th>count</th>\n",
       "      <th>debt_conversion, %</th>\n",
       "    </tr>\n",
       "    <tr>\n",
       "      <th></th>\n",
       "      <th>debt</th>\n",
       "      <th>debt</th>\n",
       "      <th></th>\n",
       "    </tr>\n",
       "    <tr>\n",
       "      <th>family_status</th>\n",
       "      <th></th>\n",
       "      <th></th>\n",
       "      <th></th>\n",
       "    </tr>\n",
       "  </thead>\n",
       "  <tbody>\n",
       "    <tr>\n",
       "      <td>Не женат / не замужем</td>\n",
       "      <td>274</td>\n",
       "      <td>2810</td>\n",
       "      <td>9.75</td>\n",
       "    </tr>\n",
       "    <tr>\n",
       "      <td>гражданский брак</td>\n",
       "      <td>388</td>\n",
       "      <td>4151</td>\n",
       "      <td>9.35</td>\n",
       "    </tr>\n",
       "    <tr>\n",
       "      <td>женат / замужем</td>\n",
       "      <td>931</td>\n",
       "      <td>12339</td>\n",
       "      <td>7.55</td>\n",
       "    </tr>\n",
       "    <tr>\n",
       "      <td>в разводе</td>\n",
       "      <td>85</td>\n",
       "      <td>1195</td>\n",
       "      <td>7.11</td>\n",
       "    </tr>\n",
       "    <tr>\n",
       "      <td>вдовец / вдова</td>\n",
       "      <td>63</td>\n",
       "      <td>959</td>\n",
       "      <td>6.57</td>\n",
       "    </tr>\n",
       "  </tbody>\n",
       "</table>\n",
       "</div>"
      ],
      "text/plain": [
       "                       sum  count debt_conversion, %\n",
       "                      debt   debt                   \n",
       "family_status                                       \n",
       "Не женат / не замужем  274   2810               9.75\n",
       "гражданский брак       388   4151               9.35\n",
       "женат / замужем        931  12339               7.55\n",
       "в разводе               85   1195               7.11\n",
       "вдовец / вдова          63    959               6.57"
      ]
     },
     "execution_count": 26,
     "metadata": {},
     "output_type": "execute_result"
    }
   ],
   "source": [
    "draw_pivot_table(df, 'family_status')"
   ]
  },
  {
   "cell_type": "markdown",
   "metadata": {},
   "source": [
    "**Вывод**"
   ]
  },
  {
   "cell_type": "markdown",
   "metadata": {},
   "source": [
    "Из полученных данных можно сделать вывод, что люди не женатые и в браке становятся чаще должниками, чем люди разведенные и вдовцы/вы."
   ]
  },
  {
   "cell_type": "markdown",
   "metadata": {},
   "source": [
    "- Есть ли зависимость между уровнем дохода и возвратом кредита в срок?"
   ]
  },
  {
   "cell_type": "code",
   "execution_count": 27,
   "metadata": {},
   "outputs": [
    {
     "data": {
      "text/html": [
       "<div>\n",
       "<style scoped>\n",
       "    .dataframe tbody tr th:only-of-type {\n",
       "        vertical-align: middle;\n",
       "    }\n",
       "\n",
       "    .dataframe tbody tr th {\n",
       "        vertical-align: top;\n",
       "    }\n",
       "\n",
       "    .dataframe thead tr th {\n",
       "        text-align: left;\n",
       "    }\n",
       "\n",
       "    .dataframe thead tr:last-of-type th {\n",
       "        text-align: right;\n",
       "    }\n",
       "</style>\n",
       "<table border=\"1\" class=\"dataframe\">\n",
       "  <thead>\n",
       "    <tr>\n",
       "      <th></th>\n",
       "      <th>sum</th>\n",
       "      <th>count</th>\n",
       "      <th>debt_conversion, %</th>\n",
       "    </tr>\n",
       "    <tr>\n",
       "      <th></th>\n",
       "      <th>debt</th>\n",
       "      <th>debt</th>\n",
       "      <th></th>\n",
       "    </tr>\n",
       "    <tr>\n",
       "      <th>total_income_category</th>\n",
       "      <th></th>\n",
       "      <th></th>\n",
       "      <th></th>\n",
       "    </tr>\n",
       "  </thead>\n",
       "  <tbody>\n",
       "    <tr>\n",
       "      <td>0 - 30000</td>\n",
       "      <td>2</td>\n",
       "      <td>22</td>\n",
       "      <td>9.09</td>\n",
       "    </tr>\n",
       "    <tr>\n",
       "      <td>60001 - 150000</td>\n",
       "      <td>938</td>\n",
       "      <td>10873</td>\n",
       "      <td>8.63</td>\n",
       "    </tr>\n",
       "    <tr>\n",
       "      <td>150001 - 500000</td>\n",
       "      <td>740</td>\n",
       "      <td>9553</td>\n",
       "      <td>7.75</td>\n",
       "    </tr>\n",
       "    <tr>\n",
       "      <td>более 500000</td>\n",
       "      <td>14</td>\n",
       "      <td>222</td>\n",
       "      <td>6.31</td>\n",
       "    </tr>\n",
       "    <tr>\n",
       "      <td>30001 - 60000</td>\n",
       "      <td>47</td>\n",
       "      <td>784</td>\n",
       "      <td>5.99</td>\n",
       "    </tr>\n",
       "  </tbody>\n",
       "</table>\n",
       "</div>"
      ],
      "text/plain": [
       "                       sum  count debt_conversion, %\n",
       "                      debt   debt                   \n",
       "total_income_category                               \n",
       "0 - 30000                2     22               9.09\n",
       "60001 - 150000         938  10873               8.63\n",
       "150001 - 500000        740   9553               7.75\n",
       "более 500000            14    222               6.31\n",
       "30001 - 60000           47    784               5.99"
      ]
     },
     "execution_count": 27,
     "metadata": {},
     "output_type": "execute_result"
    }
   ],
   "source": [
    "draw_pivot_table(df, 'total_income_category')"
   ]
  },
  {
   "cell_type": "markdown",
   "metadata": {},
   "source": [
    "**Вывод**"
   ]
  },
  {
   "cell_type": "markdown",
   "metadata": {},
   "source": [
    "Люди с маленькими доходами, чаще закрывают кредиты досрочно, чем те у которых доход средний или высокий."
   ]
  },
  {
   "cell_type": "markdown",
   "metadata": {},
   "source": [
    "- Как разные цели кредита влияют на его возврат в срок?"
   ]
  },
  {
   "cell_type": "code",
   "execution_count": 28,
   "metadata": {},
   "outputs": [
    {
     "data": {
      "text/html": [
       "<div>\n",
       "<style scoped>\n",
       "    .dataframe tbody tr th:only-of-type {\n",
       "        vertical-align: middle;\n",
       "    }\n",
       "\n",
       "    .dataframe tbody tr th {\n",
       "        vertical-align: top;\n",
       "    }\n",
       "\n",
       "    .dataframe thead tr th {\n",
       "        text-align: left;\n",
       "    }\n",
       "\n",
       "    .dataframe thead tr:last-of-type th {\n",
       "        text-align: right;\n",
       "    }\n",
       "</style>\n",
       "<table border=\"1\" class=\"dataframe\">\n",
       "  <thead>\n",
       "    <tr>\n",
       "      <th></th>\n",
       "      <th>sum</th>\n",
       "      <th>count</th>\n",
       "      <th>debt_conversion, %</th>\n",
       "    </tr>\n",
       "    <tr>\n",
       "      <th></th>\n",
       "      <th>debt</th>\n",
       "      <th>debt</th>\n",
       "      <th></th>\n",
       "    </tr>\n",
       "    <tr>\n",
       "      <th>purpose_category</th>\n",
       "      <th></th>\n",
       "      <th></th>\n",
       "      <th></th>\n",
       "    </tr>\n",
       "  </thead>\n",
       "  <tbody>\n",
       "    <tr>\n",
       "      <td>автомобиль</td>\n",
       "      <td>86</td>\n",
       "      <td>972</td>\n",
       "      <td>8.85</td>\n",
       "    </tr>\n",
       "    <tr>\n",
       "      <td>недвижимость</td>\n",
       "      <td>1559</td>\n",
       "      <td>19244</td>\n",
       "      <td>8.10</td>\n",
       "    </tr>\n",
       "    <tr>\n",
       "      <td>свадьба</td>\n",
       "      <td>64</td>\n",
       "      <td>791</td>\n",
       "      <td>8.09</td>\n",
       "    </tr>\n",
       "    <tr>\n",
       "      <td>образование</td>\n",
       "      <td>32</td>\n",
       "      <td>447</td>\n",
       "      <td>7.16</td>\n",
       "    </tr>\n",
       "  </tbody>\n",
       "</table>\n",
       "</div>"
      ],
      "text/plain": [
       "                   sum  count debt_conversion, %\n",
       "                  debt   debt                   \n",
       "purpose_category                                \n",
       "автомобиль          86    972               8.85\n",
       "недвижимость      1559  19244               8.10\n",
       "свадьба             64    791               8.09\n",
       "образование         32    447               7.16"
      ]
     },
     "execution_count": 28,
     "metadata": {},
     "output_type": "execute_result"
    }
   ],
   "source": [
    "draw_pivot_table(df, 'purpose_category')"
   ]
  },
  {
   "cell_type": "markdown",
   "metadata": {},
   "source": [
    "**Вывод**"
   ]
  },
  {
   "cell_type": "markdown",
   "metadata": {},
   "source": [
    "Чаще досрочно выплачивают кредиты на авто/недвижимость, меньше за образование."
   ]
  },
  {
   "cell_type": "markdown",
   "metadata": {},
   "source": [
    "## Шаг 4. Общий вывод"
   ]
  },
  {
   "cell_type": "markdown",
   "metadata": {},
   "source": [
    "Отвечая на вопрос влияет ли семейное положение и количество детей клиента на факт погашения кредита в срок.\n",
    "Можно с уверенностью сказать что влияет, люди без детей и с узаконенными отношениями более ответственные заемщики."
   ]
  },
  {
   "cell_type": "markdown",
   "metadata": {},
   "source": [
    "## Чек-лист готовности проекта\n",
    "\n",
    "Поставьте 'x' в выполненных пунктах. Далее нажмите Shift+Enter."
   ]
  },
  {
   "cell_type": "markdown",
   "metadata": {},
   "source": [
    "- [x]  открыт файл;\n",
    "- [x]  файл изучен;\n",
    "- [x]  определены пропущенные значения;\n",
    "- [x]  заполнены пропущенные значения;\n",
    "- [x]  есть пояснение, какие пропущенные значения обнаружены;\n",
    "- [x]  описаны возможные причины появления пропусков в данных;\n",
    "- [x]  объяснено, по какому принципу заполнены пропуски;\n",
    "- [x]  заменен вещественный тип данных на целочисленный;\n",
    "- [x]  есть пояснение, какой метод используется для изменения типа данных и почему;\n",
    "- [x]  удалены дубликаты;\n",
    "- [x]  есть пояснение, какой метод используется для поиска и удаления дубликатов;\n",
    "- [x]  описаны возможные причины появления дубликатов в данных;\n",
    "- [x]  выделены леммы в значениях столбца с целями получения кредита;\n",
    "- [x]  описан процесс лемматизации;\n",
    "- [x]  данные категоризированы;\n",
    "- [x]  есть объяснение принципа категоризации данных;\n",
    "- [x]  есть ответ на вопрос: \"Есть ли зависимость между наличием детей и возвратом кредита в срок?\";\n",
    "- [x]  есть ответ на вопрос: \"Есть ли зависимость между семейным положением и возвратом кредита в срок?\";\n",
    "- [x]  есть ответ на вопрос: \"Есть ли зависимость между уровнем дохода и возвратом кредита в срок?\";\n",
    "- [x]  есть ответ на вопрос: \"Как разные цели кредита влияют на его возврат в срок?\";\n",
    "- [x]  в каждом этапе есть выводы;\n",
    "- [x]  есть общий вывод."
   ]
  }
 ],
 "metadata": {
  "ExecuteTimeLog": [
   {
    "duration": 722,
    "start_time": "2021-12-04T04:49:05.659Z"
   },
   {
    "duration": 2185,
    "start_time": "2021-12-04T04:49:06.384Z"
   },
   {
    "duration": 63,
    "start_time": "2021-12-04T04:49:13.938Z"
   },
   {
    "duration": 30,
    "start_time": "2021-12-04T04:49:15.722Z"
   },
   {
    "duration": 16,
    "start_time": "2021-12-04T04:51:08.486Z"
   },
   {
    "duration": 3,
    "start_time": "2021-12-04T05:00:23.583Z"
   },
   {
    "duration": 64,
    "start_time": "2021-12-04T05:00:23.589Z"
   },
   {
    "duration": 18,
    "start_time": "2021-12-04T05:00:23.656Z"
   },
   {
    "duration": 17,
    "start_time": "2021-12-04T05:00:23.676Z"
   },
   {
    "duration": 17,
    "start_time": "2021-12-04T05:00:46.779Z"
   },
   {
    "duration": 26,
    "start_time": "2021-12-04T05:21:23.877Z"
   },
   {
    "duration": 19,
    "start_time": "2021-12-04T05:30:10.084Z"
   },
   {
    "duration": 22,
    "start_time": "2021-12-04T05:33:23.392Z"
   },
   {
    "duration": 12,
    "start_time": "2021-12-04T05:34:45.738Z"
   },
   {
    "duration": 12,
    "start_time": "2021-12-04T05:36:10.616Z"
   },
   {
    "duration": 11,
    "start_time": "2021-12-04T05:36:43.951Z"
   },
   {
    "duration": 1361,
    "start_time": "2021-12-04T05:42:45.103Z"
   },
   {
    "duration": 10,
    "start_time": "2021-12-04T06:07:20.151Z"
   },
   {
    "duration": 9,
    "start_time": "2021-12-04T06:08:17.197Z"
   },
   {
    "duration": 9,
    "start_time": "2021-12-04T06:12:01.576Z"
   },
   {
    "duration": 46,
    "start_time": "2021-12-04T06:53:26.128Z"
   },
   {
    "duration": 327,
    "start_time": "2021-12-04T06:57:04.895Z"
   },
   {
    "duration": 3,
    "start_time": "2021-12-04T06:57:19.340Z"
   },
   {
    "duration": 63,
    "start_time": "2021-12-04T06:57:19.346Z"
   },
   {
    "duration": 18,
    "start_time": "2021-12-04T06:57:19.412Z"
   },
   {
    "duration": 19,
    "start_time": "2021-12-04T06:57:19.432Z"
   },
   {
    "duration": 51,
    "start_time": "2021-12-04T06:57:19.453Z"
   },
   {
    "duration": 323,
    "start_time": "2021-12-04T06:58:04.728Z"
   },
   {
    "duration": 3,
    "start_time": "2021-12-04T06:58:11.215Z"
   },
   {
    "duration": 65,
    "start_time": "2021-12-04T06:58:11.221Z"
   },
   {
    "duration": 17,
    "start_time": "2021-12-04T06:58:11.289Z"
   },
   {
    "duration": 20,
    "start_time": "2021-12-04T06:58:11.309Z"
   },
   {
    "duration": 47,
    "start_time": "2021-12-04T06:58:11.331Z"
   },
   {
    "duration": 3,
    "start_time": "2021-12-04T07:05:42.177Z"
   },
   {
    "duration": 65,
    "start_time": "2021-12-04T07:05:42.182Z"
   },
   {
    "duration": 17,
    "start_time": "2021-12-04T07:05:42.250Z"
   },
   {
    "duration": 16,
    "start_time": "2021-12-04T07:05:42.270Z"
   },
   {
    "duration": 73,
    "start_time": "2021-12-04T07:05:42.288Z"
   },
   {
    "duration": 10,
    "start_time": "2021-12-04T07:05:42.363Z"
   },
   {
    "duration": 3,
    "start_time": "2021-12-04T07:10:31.713Z"
   },
   {
    "duration": 77,
    "start_time": "2021-12-04T07:10:31.718Z"
   },
   {
    "duration": 22,
    "start_time": "2021-12-04T07:10:31.798Z"
   },
   {
    "duration": 24,
    "start_time": "2021-12-04T07:10:31.822Z"
   },
   {
    "duration": 54,
    "start_time": "2021-12-04T07:10:31.849Z"
   },
   {
    "duration": 29,
    "start_time": "2021-12-04T07:10:31.906Z"
   },
   {
    "duration": 43,
    "start_time": "2021-12-04T07:12:56.165Z"
   },
   {
    "duration": 14,
    "start_time": "2021-12-04T07:12:58.437Z"
   },
   {
    "duration": 12,
    "start_time": "2021-12-04T07:14:17.251Z"
   },
   {
    "duration": 3,
    "start_time": "2021-12-04T07:14:49.986Z"
   },
   {
    "duration": 69,
    "start_time": "2021-12-04T07:14:49.991Z"
   },
   {
    "duration": 17,
    "start_time": "2021-12-04T07:14:50.063Z"
   },
   {
    "duration": 18,
    "start_time": "2021-12-04T07:14:50.083Z"
   },
   {
    "duration": 35,
    "start_time": "2021-12-04T07:14:50.104Z"
   },
   {
    "duration": 47,
    "start_time": "2021-12-04T07:14:50.141Z"
   },
   {
    "duration": 46,
    "start_time": "2021-12-04T07:14:50.190Z"
   },
   {
    "duration": 7984,
    "start_time": "2021-12-04T07:15:03.158Z"
   },
   {
    "duration": 4,
    "start_time": "2021-12-04T07:15:26.079Z"
   },
   {
    "duration": 64,
    "start_time": "2021-12-04T07:15:26.085Z"
   },
   {
    "duration": 17,
    "start_time": "2021-12-04T07:15:26.152Z"
   },
   {
    "duration": 18,
    "start_time": "2021-12-04T07:15:26.172Z"
   },
   {
    "duration": 42,
    "start_time": "2021-12-04T07:15:26.192Z"
   },
   {
    "duration": 50,
    "start_time": "2021-12-04T07:15:26.237Z"
   },
   {
    "duration": 15,
    "start_time": "2021-12-04T07:15:26.289Z"
   },
   {
    "duration": 4,
    "start_time": "2021-12-04T07:17:44.650Z"
   },
   {
    "duration": 68,
    "start_time": "2021-12-04T07:17:44.657Z"
   },
   {
    "duration": 17,
    "start_time": "2021-12-04T07:17:44.728Z"
   },
   {
    "duration": 18,
    "start_time": "2021-12-04T07:17:44.748Z"
   },
   {
    "duration": 13,
    "start_time": "2021-12-04T07:17:44.768Z"
   },
   {
    "duration": 84,
    "start_time": "2021-12-04T07:17:44.783Z"
   },
   {
    "duration": 13,
    "start_time": "2021-12-04T07:17:44.870Z"
   },
   {
    "duration": 65,
    "start_time": "2021-12-04T07:17:44.885Z"
   },
   {
    "duration": 13,
    "start_time": "2021-12-04T07:17:44.953Z"
   },
   {
    "duration": 4,
    "start_time": "2021-12-04T07:30:21.341Z"
   },
   {
    "duration": 73,
    "start_time": "2021-12-04T07:30:21.349Z"
   },
   {
    "duration": 18,
    "start_time": "2021-12-04T07:30:21.425Z"
   },
   {
    "duration": 18,
    "start_time": "2021-12-04T07:30:21.447Z"
   },
   {
    "duration": 14,
    "start_time": "2021-12-04T07:30:21.468Z"
   },
   {
    "duration": 83,
    "start_time": "2021-12-04T07:30:21.485Z"
   },
   {
    "duration": 15,
    "start_time": "2021-12-04T07:30:21.571Z"
   },
   {
    "duration": 76,
    "start_time": "2021-12-04T07:30:21.591Z"
   },
   {
    "duration": 16,
    "start_time": "2021-12-04T07:30:21.671Z"
   },
   {
    "duration": 38,
    "start_time": "2021-12-04T07:30:21.690Z"
   },
   {
    "duration": 39,
    "start_time": "2021-12-04T07:32:10.519Z"
   },
   {
    "duration": 5,
    "start_time": "2021-12-04T07:32:40.211Z"
   },
   {
    "duration": 41,
    "start_time": "2021-12-04T07:32:47.360Z"
   },
   {
    "duration": 12,
    "start_time": "2021-12-04T07:33:19.950Z"
   },
   {
    "duration": 16,
    "start_time": "2021-12-04T07:34:05.461Z"
   },
   {
    "duration": 16,
    "start_time": "2021-12-04T07:38:56.035Z"
   },
   {
    "duration": 237,
    "start_time": "2021-12-04T07:46:12.425Z"
   },
   {
    "duration": 4,
    "start_time": "2021-12-04T07:46:45.977Z"
   },
   {
    "duration": 79,
    "start_time": "2021-12-04T07:46:45.984Z"
   },
   {
    "duration": 16,
    "start_time": "2021-12-04T07:46:46.066Z"
   },
   {
    "duration": 17,
    "start_time": "2021-12-04T07:46:46.085Z"
   },
   {
    "duration": 34,
    "start_time": "2021-12-04T07:46:46.104Z"
   },
   {
    "duration": 48,
    "start_time": "2021-12-04T07:46:46.140Z"
   },
   {
    "duration": 41,
    "start_time": "2021-12-04T07:46:46.191Z"
   },
   {
    "duration": 59,
    "start_time": "2021-12-04T07:46:46.234Z"
   },
   {
    "duration": 43,
    "start_time": "2021-12-04T07:46:46.296Z"
   },
   {
    "duration": 5,
    "start_time": "2021-12-04T07:46:46.342Z"
   },
   {
    "duration": 19,
    "start_time": "2021-12-04T07:46:46.349Z"
   },
   {
    "duration": 273,
    "start_time": "2021-12-04T07:46:46.371Z"
   },
   {
    "duration": 95,
    "start_time": "2021-12-04T07:48:45.072Z"
   },
   {
    "duration": 4,
    "start_time": "2021-12-04T07:49:09.623Z"
   },
   {
    "duration": 5,
    "start_time": "2021-12-04T07:49:32.611Z"
   },
   {
    "duration": 4,
    "start_time": "2021-12-04T07:53:02.448Z"
   },
   {
    "duration": 4,
    "start_time": "2021-12-04T07:53:22.209Z"
   },
   {
    "duration": 5,
    "start_time": "2021-12-04T07:53:36.343Z"
   },
   {
    "duration": 3,
    "start_time": "2021-12-04T07:55:29.089Z"
   },
   {
    "duration": 69,
    "start_time": "2021-12-04T07:55:29.094Z"
   },
   {
    "duration": 18,
    "start_time": "2021-12-04T07:55:29.166Z"
   },
   {
    "duration": 16,
    "start_time": "2021-12-04T07:55:29.187Z"
   },
   {
    "duration": 35,
    "start_time": "2021-12-04T07:55:29.205Z"
   },
   {
    "duration": 46,
    "start_time": "2021-12-04T07:55:29.243Z"
   },
   {
    "duration": 47,
    "start_time": "2021-12-04T07:55:29.291Z"
   },
   {
    "duration": 65,
    "start_time": "2021-12-04T07:55:29.341Z"
   },
   {
    "duration": 35,
    "start_time": "2021-12-04T07:55:29.411Z"
   },
   {
    "duration": 6,
    "start_time": "2021-12-04T07:55:29.450Z"
   },
   {
    "duration": 23,
    "start_time": "2021-12-04T07:55:29.459Z"
   },
   {
    "duration": 45,
    "start_time": "2021-12-04T07:55:29.485Z"
   },
   {
    "duration": 1807,
    "start_time": "2021-12-04T07:55:29.534Z"
   },
   {
    "duration": 1438,
    "start_time": "2021-12-04T07:55:52.133Z"
   },
   {
    "duration": 4,
    "start_time": "2021-12-04T07:56:38.650Z"
   },
   {
    "duration": 1444,
    "start_time": "2021-12-04T07:56:40.029Z"
   },
   {
    "duration": 4,
    "start_time": "2021-12-04T07:56:55.575Z"
   },
   {
    "duration": 70,
    "start_time": "2021-12-04T07:56:55.582Z"
   },
   {
    "duration": 17,
    "start_time": "2021-12-04T07:56:55.655Z"
   },
   {
    "duration": 22,
    "start_time": "2021-12-04T07:56:55.674Z"
   },
   {
    "duration": 36,
    "start_time": "2021-12-04T07:56:55.699Z"
   },
   {
    "duration": 66,
    "start_time": "2021-12-04T07:56:55.738Z"
   },
   {
    "duration": 18,
    "start_time": "2021-12-04T07:56:55.830Z"
   },
   {
    "duration": 89,
    "start_time": "2021-12-04T07:56:55.851Z"
   },
   {
    "duration": 19,
    "start_time": "2021-12-04T07:56:55.945Z"
   },
   {
    "duration": 6,
    "start_time": "2021-12-04T07:56:55.968Z"
   },
   {
    "duration": 61,
    "start_time": "2021-12-04T07:56:55.978Z"
   },
   {
    "duration": 5,
    "start_time": "2021-12-04T07:56:56.042Z"
   },
   {
    "duration": 1407,
    "start_time": "2021-12-04T07:56:56.050Z"
   },
   {
    "duration": 1596,
    "start_time": "2021-12-04T07:57:55.941Z"
   },
   {
    "duration": 1113,
    "start_time": "2021-12-04T07:58:35.831Z"
   },
   {
    "duration": 4,
    "start_time": "2021-12-04T08:01:58.698Z"
   },
   {
    "duration": 89,
    "start_time": "2021-12-04T08:01:58.705Z"
   },
   {
    "duration": 32,
    "start_time": "2021-12-04T08:01:58.798Z"
   },
   {
    "duration": 14,
    "start_time": "2021-12-04T08:01:58.833Z"
   },
   {
    "duration": 13,
    "start_time": "2021-12-04T08:01:58.850Z"
   },
   {
    "duration": 82,
    "start_time": "2021-12-04T08:01:58.865Z"
   },
   {
    "duration": 13,
    "start_time": "2021-12-04T08:01:58.950Z"
   },
   {
    "duration": 71,
    "start_time": "2021-12-04T08:01:58.965Z"
   },
   {
    "duration": 14,
    "start_time": "2021-12-04T08:01:59.039Z"
   },
   {
    "duration": 19,
    "start_time": "2021-12-04T08:01:59.056Z"
   },
   {
    "duration": 4,
    "start_time": "2021-12-04T08:10:07.404Z"
   },
   {
    "duration": 1240,
    "start_time": "2021-12-04T08:10:10.822Z"
   },
   {
    "duration": 5,
    "start_time": "2021-12-04T08:12:47.565Z"
   },
   {
    "duration": 64,
    "start_time": "2021-12-04T08:12:47.574Z"
   },
   {
    "duration": 16,
    "start_time": "2021-12-04T08:12:47.641Z"
   },
   {
    "duration": 18,
    "start_time": "2021-12-04T08:12:47.661Z"
   },
   {
    "duration": 17,
    "start_time": "2021-12-04T08:12:47.682Z"
   },
   {
    "duration": 91,
    "start_time": "2021-12-04T08:12:47.701Z"
   },
   {
    "duration": 57,
    "start_time": "2021-12-04T08:12:47.795Z"
   },
   {
    "duration": 46,
    "start_time": "2021-12-04T08:12:47.856Z"
   },
   {
    "duration": 16,
    "start_time": "2021-12-04T08:12:47.929Z"
   },
   {
    "duration": 27,
    "start_time": "2021-12-04T08:12:47.949Z"
   },
   {
    "duration": 5,
    "start_time": "2021-12-04T08:12:47.979Z"
   },
   {
    "duration": 1138,
    "start_time": "2021-12-04T08:12:56.082Z"
   },
   {
    "duration": 1244,
    "start_time": "2021-12-04T08:13:12.607Z"
   },
   {
    "duration": 588,
    "start_time": "2021-12-04T08:17:30.894Z"
   },
   {
    "duration": 30,
    "start_time": "2021-12-04T08:18:46.782Z"
   },
   {
    "duration": 31,
    "start_time": "2021-12-04T08:23:06.779Z"
   },
   {
    "duration": 25,
    "start_time": "2021-12-04T08:23:25.769Z"
   },
   {
    "duration": 67,
    "start_time": "2021-12-04T08:23:54.161Z"
   },
   {
    "duration": 7731,
    "start_time": "2021-12-04T08:27:31.509Z"
   },
   {
    "duration": 4,
    "start_time": "2021-12-04T08:27:56.901Z"
   },
   {
    "duration": 70,
    "start_time": "2021-12-04T08:27:56.908Z"
   },
   {
    "duration": 19,
    "start_time": "2021-12-04T08:27:56.982Z"
   },
   {
    "duration": 37,
    "start_time": "2021-12-04T08:27:57.005Z"
   },
   {
    "duration": 13,
    "start_time": "2021-12-04T08:27:57.045Z"
   },
   {
    "duration": 79,
    "start_time": "2021-12-04T08:27:57.061Z"
   },
   {
    "duration": 14,
    "start_time": "2021-12-04T08:27:57.144Z"
   },
   {
    "duration": 74,
    "start_time": "2021-12-04T08:27:57.161Z"
   },
   {
    "duration": 13,
    "start_time": "2021-12-04T08:27:57.238Z"
   },
   {
    "duration": 20,
    "start_time": "2021-12-04T08:27:57.253Z"
   },
   {
    "duration": 3,
    "start_time": "2021-12-04T08:27:57.275Z"
   },
   {
    "duration": 700,
    "start_time": "2021-12-04T08:27:57.281Z"
   },
   {
    "duration": 7289,
    "start_time": "2021-12-04T08:28:02.162Z"
   },
   {
    "duration": 33,
    "start_time": "2021-12-04T08:28:24.981Z"
   },
   {
    "duration": 4,
    "start_time": "2021-12-04T08:28:50.869Z"
   },
   {
    "duration": 94,
    "start_time": "2021-12-04T08:28:50.877Z"
   },
   {
    "duration": 26,
    "start_time": "2021-12-04T08:28:50.976Z"
   },
   {
    "duration": 35,
    "start_time": "2021-12-04T08:28:51.006Z"
   },
   {
    "duration": 19,
    "start_time": "2021-12-04T08:28:51.044Z"
   },
   {
    "duration": 100,
    "start_time": "2021-12-04T08:28:51.067Z"
   },
   {
    "duration": 18,
    "start_time": "2021-12-04T08:28:51.170Z"
   },
   {
    "duration": 89,
    "start_time": "2021-12-04T08:28:51.192Z"
   },
   {
    "duration": 19,
    "start_time": "2021-12-04T08:28:51.286Z"
   },
   {
    "duration": 22,
    "start_time": "2021-12-04T08:28:51.330Z"
   },
   {
    "duration": 5,
    "start_time": "2021-12-04T08:28:51.355Z"
   },
   {
    "duration": 619,
    "start_time": "2021-12-04T08:28:51.363Z"
   },
   {
    "duration": 20,
    "start_time": "2021-12-04T08:28:51.985Z"
   },
   {
    "duration": 21,
    "start_time": "2021-12-04T08:29:14.994Z"
   },
   {
    "duration": 24,
    "start_time": "2021-12-04T08:29:58.219Z"
   },
   {
    "duration": 26,
    "start_time": "2021-12-04T08:30:50.812Z"
   },
   {
    "duration": 24,
    "start_time": "2021-12-04T08:31:44.344Z"
   },
   {
    "duration": 22,
    "start_time": "2021-12-04T08:31:55.995Z"
   },
   {
    "duration": 67,
    "start_time": "2021-12-04T08:34:37.853Z"
   },
   {
    "duration": 65,
    "start_time": "2021-12-04T08:35:30.427Z"
   },
   {
    "duration": 59,
    "start_time": "2021-12-04T08:37:18.331Z"
   },
   {
    "duration": 63,
    "start_time": "2021-12-04T08:37:50.471Z"
   },
   {
    "duration": 3,
    "start_time": "2021-12-04T09:02:11.232Z"
   },
   {
    "duration": 67,
    "start_time": "2021-12-04T09:02:11.238Z"
   },
   {
    "duration": 23,
    "start_time": "2021-12-04T09:02:11.308Z"
   },
   {
    "duration": 18,
    "start_time": "2021-12-04T09:02:11.334Z"
   },
   {
    "duration": 12,
    "start_time": "2021-12-04T09:02:11.355Z"
   },
   {
    "duration": 83,
    "start_time": "2021-12-04T09:02:11.369Z"
   },
   {
    "duration": 14,
    "start_time": "2021-12-04T09:02:11.454Z"
   },
   {
    "duration": 74,
    "start_time": "2021-12-04T09:02:11.471Z"
   },
   {
    "duration": 13,
    "start_time": "2021-12-04T09:02:11.549Z"
   },
   {
    "duration": 20,
    "start_time": "2021-12-04T09:02:11.565Z"
   },
   {
    "duration": 4,
    "start_time": "2021-12-04T09:02:11.588Z"
   },
   {
    "duration": 606,
    "start_time": "2021-12-04T09:02:11.630Z"
   },
   {
    "duration": 127,
    "start_time": "2021-12-04T09:02:12.238Z"
   },
   {
    "duration": 75,
    "start_time": "2021-12-04T09:02:12.367Z"
   },
   {
    "duration": 4,
    "start_time": "2021-12-04T09:03:23.473Z"
   },
   {
    "duration": 70,
    "start_time": "2021-12-04T09:03:23.480Z"
   },
   {
    "duration": 18,
    "start_time": "2021-12-04T09:03:23.554Z"
   },
   {
    "duration": 19,
    "start_time": "2021-12-04T09:03:23.575Z"
   },
   {
    "duration": 34,
    "start_time": "2021-12-04T09:03:23.596Z"
   },
   {
    "duration": 49,
    "start_time": "2021-12-04T09:03:23.633Z"
   },
   {
    "duration": 14,
    "start_time": "2021-12-04T09:03:23.684Z"
   },
   {
    "duration": 44,
    "start_time": "2021-12-04T09:03:23.728Z"
   },
   {
    "duration": 12,
    "start_time": "2021-12-04T09:03:23.776Z"
   },
   {
    "duration": 49,
    "start_time": "2021-12-04T09:03:23.791Z"
   },
   {
    "duration": 4,
    "start_time": "2021-12-04T09:03:23.843Z"
   },
   {
    "duration": 612,
    "start_time": "2021-12-04T09:03:23.849Z"
   },
   {
    "duration": 124,
    "start_time": "2021-12-04T09:03:24.464Z"
   },
   {
    "duration": 67,
    "start_time": "2021-12-04T09:03:24.590Z"
   },
   {
    "duration": 4,
    "start_time": "2021-12-04T09:03:45.650Z"
   },
   {
    "duration": 70,
    "start_time": "2021-12-04T09:03:45.656Z"
   },
   {
    "duration": 17,
    "start_time": "2021-12-04T09:03:45.729Z"
   },
   {
    "duration": 20,
    "start_time": "2021-12-04T09:03:45.749Z"
   },
   {
    "duration": 12,
    "start_time": "2021-12-04T09:03:45.771Z"
   },
   {
    "duration": 83,
    "start_time": "2021-12-04T09:03:45.785Z"
   },
   {
    "duration": 14,
    "start_time": "2021-12-04T09:03:45.870Z"
   },
   {
    "duration": 75,
    "start_time": "2021-12-04T09:03:45.886Z"
   },
   {
    "duration": 12,
    "start_time": "2021-12-04T09:03:45.964Z"
   },
   {
    "duration": 21,
    "start_time": "2021-12-04T09:03:45.979Z"
   },
   {
    "duration": 4,
    "start_time": "2021-12-04T09:03:46.030Z"
   },
   {
    "duration": 722,
    "start_time": "2021-12-04T09:03:46.036Z"
   },
   {
    "duration": 127,
    "start_time": "2021-12-04T09:03:46.760Z"
   },
   {
    "duration": 74,
    "start_time": "2021-12-04T09:03:46.890Z"
   },
   {
    "duration": 79,
    "start_time": "2021-12-04T09:04:15.318Z"
   },
   {
    "duration": 3,
    "start_time": "2021-12-04T09:10:34.718Z"
   },
   {
    "duration": 68,
    "start_time": "2021-12-04T09:10:34.724Z"
   },
   {
    "duration": 42,
    "start_time": "2021-12-04T09:10:34.795Z"
   },
   {
    "duration": 19,
    "start_time": "2021-12-04T09:10:34.847Z"
   },
   {
    "duration": 13,
    "start_time": "2021-12-04T09:10:34.869Z"
   },
   {
    "duration": 83,
    "start_time": "2021-12-04T09:10:34.885Z"
   },
   {
    "duration": 16,
    "start_time": "2021-12-04T09:10:34.971Z"
   },
   {
    "duration": 69,
    "start_time": "2021-12-04T09:10:34.990Z"
   },
   {
    "duration": 13,
    "start_time": "2021-12-04T09:10:35.063Z"
   },
   {
    "duration": 55,
    "start_time": "2021-12-04T09:10:35.079Z"
   },
   {
    "duration": 5,
    "start_time": "2021-12-04T09:10:35.137Z"
   },
   {
    "duration": 611,
    "start_time": "2021-12-04T09:10:35.145Z"
   },
   {
    "duration": 135,
    "start_time": "2021-12-04T09:10:35.759Z"
   },
   {
    "duration": 82,
    "start_time": "2021-12-04T09:10:35.897Z"
   },
   {
    "duration": 58,
    "start_time": "2021-12-04T09:13:24.039Z"
   },
   {
    "duration": 12,
    "start_time": "2021-12-04T09:14:03.996Z"
   },
   {
    "duration": 12,
    "start_time": "2021-12-04T09:14:13.460Z"
   },
   {
    "duration": 4,
    "start_time": "2021-12-04T09:14:17.574Z"
   },
   {
    "duration": 75,
    "start_time": "2021-12-04T09:14:17.581Z"
   },
   {
    "duration": 17,
    "start_time": "2021-12-04T09:14:17.659Z"
   },
   {
    "duration": 26,
    "start_time": "2021-12-04T09:14:17.679Z"
   },
   {
    "duration": 33,
    "start_time": "2021-12-04T09:14:17.708Z"
   },
   {
    "duration": 37,
    "start_time": "2021-12-04T09:14:17.744Z"
   },
   {
    "duration": 35,
    "start_time": "2021-12-04T09:15:27.546Z"
   },
   {
    "duration": 3,
    "start_time": "2021-12-04T09:15:35.652Z"
   },
   {
    "duration": 72,
    "start_time": "2021-12-04T09:15:35.658Z"
   },
   {
    "duration": 17,
    "start_time": "2021-12-04T09:15:35.733Z"
   },
   {
    "duration": 43,
    "start_time": "2021-12-04T09:15:35.754Z"
   },
   {
    "duration": 19,
    "start_time": "2021-12-04T09:15:35.801Z"
   },
   {
    "duration": 43,
    "start_time": "2021-12-04T09:15:35.823Z"
   },
   {
    "duration": 12,
    "start_time": "2021-12-04T09:16:23.910Z"
   },
   {
    "duration": 34,
    "start_time": "2021-12-04T09:16:42.873Z"
   },
   {
    "duration": 12,
    "start_time": "2021-12-04T09:19:42.145Z"
   },
   {
    "duration": 14,
    "start_time": "2021-12-04T09:19:55.148Z"
   },
   {
    "duration": 11,
    "start_time": "2021-12-04T09:20:06.875Z"
   },
   {
    "duration": 312,
    "start_time": "2021-12-04T09:20:20.762Z"
   },
   {
    "duration": 11,
    "start_time": "2021-12-04T09:20:26.424Z"
   },
   {
    "duration": 3,
    "start_time": "2021-12-04T09:27:33.609Z"
   },
   {
    "duration": 65,
    "start_time": "2021-12-04T09:27:33.616Z"
   },
   {
    "duration": 18,
    "start_time": "2021-12-04T09:27:33.685Z"
   },
   {
    "duration": 32,
    "start_time": "2021-12-04T09:27:33.706Z"
   },
   {
    "duration": 12,
    "start_time": "2021-12-04T09:27:33.740Z"
   },
   {
    "duration": 13,
    "start_time": "2021-12-04T09:27:33.755Z"
   },
   {
    "duration": 79,
    "start_time": "2021-12-04T09:27:33.771Z"
   },
   {
    "duration": 13,
    "start_time": "2021-12-04T09:27:33.852Z"
   },
   {
    "duration": 67,
    "start_time": "2021-12-04T09:27:33.868Z"
   },
   {
    "duration": 14,
    "start_time": "2021-12-04T09:27:33.938Z"
   },
   {
    "duration": 21,
    "start_time": "2021-12-04T09:27:33.954Z"
   },
   {
    "duration": 4,
    "start_time": "2021-12-04T09:27:33.977Z"
   },
   {
    "duration": 638,
    "start_time": "2021-12-04T09:27:33.984Z"
   },
   {
    "duration": 103,
    "start_time": "2021-12-04T09:27:34.624Z"
   },
   {
    "duration": -489,
    "start_time": "2021-12-04T09:27:35.218Z"
   },
   {
    "duration": 71,
    "start_time": "2021-12-04T09:27:49.107Z"
   },
   {
    "duration": 76,
    "start_time": "2021-12-04T09:27:52.265Z"
   },
   {
    "duration": 121,
    "start_time": "2021-12-04T09:28:23.281Z"
   },
   {
    "duration": 72,
    "start_time": "2021-12-04T09:28:25.796Z"
   },
   {
    "duration": 4,
    "start_time": "2021-12-04T09:33:33.175Z"
   },
   {
    "duration": 74,
    "start_time": "2021-12-04T09:33:33.183Z"
   },
   {
    "duration": 17,
    "start_time": "2021-12-04T09:33:33.261Z"
   },
   {
    "duration": 30,
    "start_time": "2021-12-04T09:33:33.281Z"
   },
   {
    "duration": 20,
    "start_time": "2021-12-04T09:33:33.314Z"
   },
   {
    "duration": 10,
    "start_time": "2021-12-04T09:33:33.337Z"
   },
   {
    "duration": 80,
    "start_time": "2021-12-04T09:33:33.349Z"
   },
   {
    "duration": 14,
    "start_time": "2021-12-04T09:33:33.432Z"
   },
   {
    "duration": 45,
    "start_time": "2021-12-04T09:33:33.450Z"
   },
   {
    "duration": 14,
    "start_time": "2021-12-04T09:33:33.529Z"
   },
   {
    "duration": 22,
    "start_time": "2021-12-04T09:33:33.546Z"
   },
   {
    "duration": 4,
    "start_time": "2021-12-04T09:33:33.571Z"
   },
   {
    "duration": 626,
    "start_time": "2021-12-04T09:33:33.577Z"
   },
   {
    "duration": 97,
    "start_time": "2021-12-04T09:33:34.205Z"
   },
   {
    "duration": -481,
    "start_time": "2021-12-04T09:33:34.786Z"
   },
   {
    "duration": 117,
    "start_time": "2021-12-04T09:33:45.891Z"
   },
   {
    "duration": 60,
    "start_time": "2021-12-04T09:34:11.087Z"
   },
   {
    "duration": 30,
    "start_time": "2021-12-04T09:40:55.076Z"
   },
   {
    "duration": 4,
    "start_time": "2021-12-04T09:40:59.888Z"
   },
   {
    "duration": 100,
    "start_time": "2021-12-04T09:40:59.896Z"
   },
   {
    "duration": 28,
    "start_time": "2021-12-04T09:41:00.001Z"
   },
   {
    "duration": 26,
    "start_time": "2021-12-04T09:41:00.033Z"
   },
   {
    "duration": 14,
    "start_time": "2021-12-04T09:41:00.062Z"
   },
   {
    "duration": 13,
    "start_time": "2021-12-04T09:41:00.079Z"
   },
   {
    "duration": 84,
    "start_time": "2021-12-04T09:41:00.095Z"
   },
   {
    "duration": 47,
    "start_time": "2021-12-04T09:41:00.182Z"
   },
   {
    "duration": 48,
    "start_time": "2021-12-04T09:41:00.233Z"
   },
   {
    "duration": 16,
    "start_time": "2021-12-04T09:41:00.283Z"
   },
   {
    "duration": 21,
    "start_time": "2021-12-04T09:41:00.330Z"
   },
   {
    "duration": 4,
    "start_time": "2021-12-04T09:41:00.354Z"
   },
   {
    "duration": 626,
    "start_time": "2021-12-04T09:41:00.360Z"
   },
   {
    "duration": 216,
    "start_time": "2021-12-04T09:41:00.989Z"
   },
   {
    "duration": 78,
    "start_time": "2021-12-04T09:41:01.208Z"
   },
   {
    "duration": 47,
    "start_time": "2021-12-04T09:43:44.877Z"
   },
   {
    "duration": 44,
    "start_time": "2021-12-04T09:44:23.796Z"
   },
   {
    "duration": 4,
    "start_time": "2021-12-04T09:49:52.940Z"
   },
   {
    "duration": 79,
    "start_time": "2021-12-04T09:49:52.948Z"
   },
   {
    "duration": 17,
    "start_time": "2021-12-04T09:49:53.031Z"
   },
   {
    "duration": 17,
    "start_time": "2021-12-04T09:49:53.051Z"
   },
   {
    "duration": 14,
    "start_time": "2021-12-04T09:49:53.070Z"
   },
   {
    "duration": 46,
    "start_time": "2021-12-04T09:49:53.087Z"
   },
   {
    "duration": 52,
    "start_time": "2021-12-04T09:49:53.135Z"
   },
   {
    "duration": 40,
    "start_time": "2021-12-04T09:49:53.189Z"
   },
   {
    "duration": 47,
    "start_time": "2021-12-04T09:49:53.232Z"
   },
   {
    "duration": 311,
    "start_time": "2021-12-04T09:49:58.805Z"
   },
   {
    "duration": 3,
    "start_time": "2021-12-04T09:50:48.826Z"
   },
   {
    "duration": 68,
    "start_time": "2021-12-04T09:50:48.832Z"
   },
   {
    "duration": 17,
    "start_time": "2021-12-04T09:50:48.903Z"
   },
   {
    "duration": 15,
    "start_time": "2021-12-04T09:50:48.930Z"
   },
   {
    "duration": 12,
    "start_time": "2021-12-04T09:50:48.948Z"
   },
   {
    "duration": 10,
    "start_time": "2021-12-04T09:50:48.963Z"
   },
   {
    "duration": 97,
    "start_time": "2021-12-04T09:50:48.975Z"
   },
   {
    "duration": 14,
    "start_time": "2021-12-04T09:50:49.074Z"
   },
   {
    "duration": 70,
    "start_time": "2021-12-04T09:50:49.091Z"
   },
   {
    "duration": 7159,
    "start_time": "2021-12-04T09:50:49.164Z"
   },
   {
    "duration": -494,
    "start_time": "2021-12-04T09:50:56.820Z"
   },
   {
    "duration": -494,
    "start_time": "2021-12-04T09:50:56.822Z"
   },
   {
    "duration": -494,
    "start_time": "2021-12-04T09:50:56.824Z"
   },
   {
    "duration": -493,
    "start_time": "2021-12-04T09:50:56.825Z"
   },
   {
    "duration": -492,
    "start_time": "2021-12-04T09:50:56.826Z"
   },
   {
    "duration": -492,
    "start_time": "2021-12-04T09:50:56.827Z"
   },
   {
    "duration": 3,
    "start_time": "2021-12-04T09:53:59.003Z"
   },
   {
    "duration": 69,
    "start_time": "2021-12-04T09:53:59.009Z"
   },
   {
    "duration": 20,
    "start_time": "2021-12-04T09:53:59.082Z"
   },
   {
    "duration": 34,
    "start_time": "2021-12-04T09:53:59.106Z"
   },
   {
    "duration": 15,
    "start_time": "2021-12-04T09:53:59.143Z"
   },
   {
    "duration": 12,
    "start_time": "2021-12-04T09:53:59.160Z"
   },
   {
    "duration": 92,
    "start_time": "2021-12-04T09:53:59.175Z"
   },
   {
    "duration": 14,
    "start_time": "2021-12-04T09:53:59.269Z"
   },
   {
    "duration": 72,
    "start_time": "2021-12-04T09:53:59.287Z"
   },
   {
    "duration": 16,
    "start_time": "2021-12-04T09:53:59.362Z"
   },
   {
    "duration": 45,
    "start_time": "2021-12-04T09:56:19.825Z"
   },
   {
    "duration": 61,
    "start_time": "2021-12-04T09:56:40.850Z"
   },
   {
    "duration": 3,
    "start_time": "2021-12-04T09:58:32.780Z"
   },
   {
    "duration": 66,
    "start_time": "2021-12-04T09:58:32.786Z"
   },
   {
    "duration": 17,
    "start_time": "2021-12-04T09:58:32.855Z"
   },
   {
    "duration": 20,
    "start_time": "2021-12-04T09:58:32.874Z"
   },
   {
    "duration": 12,
    "start_time": "2021-12-04T09:58:32.897Z"
   },
   {
    "duration": 10,
    "start_time": "2021-12-04T09:58:32.930Z"
   },
   {
    "duration": 55,
    "start_time": "2021-12-04T09:58:32.942Z"
   },
   {
    "duration": 34,
    "start_time": "2021-12-04T09:58:33.000Z"
   },
   {
    "duration": 49,
    "start_time": "2021-12-04T09:58:33.037Z"
   },
   {
    "duration": 43,
    "start_time": "2021-12-04T09:58:33.089Z"
   },
   {
    "duration": 20,
    "start_time": "2021-12-04T09:58:33.135Z"
   },
   {
    "duration": 5,
    "start_time": "2021-12-04T09:58:33.157Z"
   },
   {
    "duration": 623,
    "start_time": "2021-12-04T09:58:33.164Z"
   },
   {
    "duration": 40,
    "start_time": "2021-12-04T09:58:33.789Z"
   },
   {
    "duration": 123,
    "start_time": "2021-12-04T09:58:33.832Z"
   },
   {
    "duration": 46,
    "start_time": "2021-12-04T09:58:33.957Z"
   },
   {
    "duration": 80,
    "start_time": "2021-12-04T09:58:34.005Z"
   },
   {
    "duration": 28,
    "start_time": "2021-12-04T09:59:43.162Z"
   },
   {
    "duration": 4,
    "start_time": "2021-12-04T09:59:50.720Z"
   },
   {
    "duration": 71,
    "start_time": "2021-12-04T09:59:50.726Z"
   },
   {
    "duration": 19,
    "start_time": "2021-12-04T09:59:50.799Z"
   },
   {
    "duration": 19,
    "start_time": "2021-12-04T09:59:50.821Z"
   },
   {
    "duration": 15,
    "start_time": "2021-12-04T09:59:50.843Z"
   },
   {
    "duration": 11,
    "start_time": "2021-12-04T09:59:50.861Z"
   },
   {
    "duration": 84,
    "start_time": "2021-12-04T09:59:50.874Z"
   },
   {
    "duration": 14,
    "start_time": "2021-12-04T09:59:50.960Z"
   },
   {
    "duration": 80,
    "start_time": "2021-12-04T09:59:50.978Z"
   },
   {
    "duration": 13,
    "start_time": "2021-12-04T09:59:51.061Z"
   },
   {
    "duration": 27,
    "start_time": "2021-12-04T09:59:51.076Z"
   },
   {
    "duration": 25,
    "start_time": "2021-12-04T09:59:51.105Z"
   },
   {
    "duration": 611,
    "start_time": "2021-12-04T09:59:51.132Z"
   },
   {
    "duration": 38,
    "start_time": "2021-12-04T09:59:51.745Z"
   },
   {
    "duration": 136,
    "start_time": "2021-12-04T09:59:51.786Z"
   },
   {
    "duration": 39,
    "start_time": "2021-12-04T09:59:51.929Z"
   },
   {
    "duration": 87,
    "start_time": "2021-12-04T09:59:51.971Z"
   },
   {
    "duration": 23,
    "start_time": "2021-12-04T10:05:38.538Z"
   },
   {
    "duration": 355,
    "start_time": "2021-12-04T10:08:48.507Z"
   },
   {
    "duration": 284,
    "start_time": "2021-12-04T10:10:01.704Z"
   },
   {
    "duration": 302,
    "start_time": "2021-12-04T10:11:20.086Z"
   },
   {
    "duration": 4000,
    "start_time": "2021-12-04T10:11:42.752Z"
   },
   {
    "duration": 1247,
    "start_time": "2021-12-04T10:13:07.612Z"
   },
   {
    "duration": 327,
    "start_time": "2021-12-04T10:14:15.461Z"
   },
   {
    "duration": 6,
    "start_time": "2021-12-04T10:14:23.872Z"
   },
   {
    "duration": 1198,
    "start_time": "2021-12-04T10:15:09.759Z"
   },
   {
    "duration": 93,
    "start_time": "2021-12-04T10:16:41.590Z"
   },
   {
    "duration": 332,
    "start_time": "2021-12-04T10:17:01.839Z"
   },
   {
    "duration": 292,
    "start_time": "2021-12-04T10:17:20.842Z"
   },
   {
    "duration": 5,
    "start_time": "2021-12-04T10:17:35.910Z"
   },
   {
    "duration": 1018,
    "start_time": "2021-12-04T10:17:48.026Z"
   },
   {
    "duration": 1505,
    "start_time": "2021-12-04T10:19:50.562Z"
   },
   {
    "duration": 1359,
    "start_time": "2021-12-04T10:20:20.563Z"
   },
   {
    "duration": 338,
    "start_time": "2021-12-04T10:21:31.183Z"
   },
   {
    "duration": 4,
    "start_time": "2021-12-04T10:21:43.983Z"
   },
   {
    "duration": 73,
    "start_time": "2021-12-04T10:21:43.989Z"
   },
   {
    "duration": 17,
    "start_time": "2021-12-04T10:21:44.065Z"
   },
   {
    "duration": 18,
    "start_time": "2021-12-04T10:21:44.085Z"
   },
   {
    "duration": 30,
    "start_time": "2021-12-04T10:21:44.106Z"
   },
   {
    "duration": 11,
    "start_time": "2021-12-04T10:21:44.139Z"
   },
   {
    "duration": 84,
    "start_time": "2021-12-04T10:21:44.152Z"
   },
   {
    "duration": 14,
    "start_time": "2021-12-04T10:21:44.239Z"
   },
   {
    "duration": 46,
    "start_time": "2021-12-04T10:21:44.257Z"
   },
   {
    "duration": 17,
    "start_time": "2021-12-04T10:21:44.331Z"
   },
   {
    "duration": 25,
    "start_time": "2021-12-04T10:21:44.351Z"
   },
   {
    "duration": 5,
    "start_time": "2021-12-04T10:21:44.379Z"
   },
   {
    "duration": 648,
    "start_time": "2021-12-04T10:21:44.387Z"
   },
   {
    "duration": 32,
    "start_time": "2021-12-04T10:21:45.037Z"
   },
   {
    "duration": 136,
    "start_time": "2021-12-04T10:21:45.072Z"
   },
   {
    "duration": 51,
    "start_time": "2021-12-04T10:21:45.211Z"
   },
   {
    "duration": 75,
    "start_time": "2021-12-04T10:21:45.265Z"
   },
   {
    "duration": 1342,
    "start_time": "2021-12-04T10:21:45.342Z"
   },
   {
    "duration": 1236,
    "start_time": "2021-12-04T10:23:19.825Z"
   },
   {
    "duration": 381,
    "start_time": "2021-12-04T10:25:56.925Z"
   },
   {
    "duration": 8,
    "start_time": "2021-12-04T10:26:04.334Z"
   },
   {
    "duration": 1012,
    "start_time": "2021-12-04T10:29:47.767Z"
   },
   {
    "duration": 281,
    "start_time": "2021-12-04T10:37:25.702Z"
   },
   {
    "duration": 762,
    "start_time": "2021-12-04T10:40:42.573Z"
   },
   {
    "duration": 4,
    "start_time": "2021-12-04T10:41:05.755Z"
   },
   {
    "duration": 71,
    "start_time": "2021-12-04T10:41:05.761Z"
   },
   {
    "duration": 17,
    "start_time": "2021-12-04T10:41:05.835Z"
   },
   {
    "duration": 17,
    "start_time": "2021-12-04T10:41:05.855Z"
   },
   {
    "duration": 12,
    "start_time": "2021-12-04T10:41:05.875Z"
   },
   {
    "duration": 45,
    "start_time": "2021-12-04T10:41:05.890Z"
   },
   {
    "duration": 51,
    "start_time": "2021-12-04T10:41:05.938Z"
   },
   {
    "duration": 37,
    "start_time": "2021-12-04T10:41:05.992Z"
   },
   {
    "duration": 45,
    "start_time": "2021-12-04T10:41:06.033Z"
   },
   {
    "duration": 15,
    "start_time": "2021-12-04T10:41:06.080Z"
   },
   {
    "duration": 49,
    "start_time": "2021-12-04T10:41:06.097Z"
   },
   {
    "duration": 5,
    "start_time": "2021-12-04T10:41:06.148Z"
   },
   {
    "duration": 643,
    "start_time": "2021-12-04T10:41:06.155Z"
   },
   {
    "duration": 39,
    "start_time": "2021-12-04T10:41:06.800Z"
   },
   {
    "duration": 134,
    "start_time": "2021-12-04T10:41:06.841Z"
   },
   {
    "duration": 54,
    "start_time": "2021-12-04T10:41:06.977Z"
   },
   {
    "duration": 60,
    "start_time": "2021-12-04T10:41:07.034Z"
   },
   {
    "duration": 47,
    "start_time": "2021-12-04T10:41:07.097Z"
   },
   {
    "duration": 709,
    "start_time": "2021-12-04T10:41:12.199Z"
   },
   {
    "duration": 975,
    "start_time": "2021-12-04T10:42:46.768Z"
   },
   {
    "duration": 5,
    "start_time": "2021-12-04T10:54:04.028Z"
   },
   {
    "duration": 70,
    "start_time": "2021-12-04T10:54:04.037Z"
   },
   {
    "duration": 30,
    "start_time": "2021-12-04T10:54:04.110Z"
   },
   {
    "duration": 15,
    "start_time": "2021-12-04T10:54:04.143Z"
   },
   {
    "duration": 15,
    "start_time": "2021-12-04T10:54:04.161Z"
   },
   {
    "duration": 53,
    "start_time": "2021-12-04T10:54:04.179Z"
   },
   {
    "duration": 51,
    "start_time": "2021-12-04T10:54:04.234Z"
   },
   {
    "duration": 45,
    "start_time": "2021-12-04T10:54:04.287Z"
   },
   {
    "duration": 47,
    "start_time": "2021-12-04T10:54:04.336Z"
   },
   {
    "duration": 15,
    "start_time": "2021-12-04T10:54:04.386Z"
   },
   {
    "duration": 22,
    "start_time": "2021-12-04T10:54:04.431Z"
   },
   {
    "duration": 5,
    "start_time": "2021-12-04T10:54:04.456Z"
   },
   {
    "duration": 636,
    "start_time": "2021-12-04T10:54:04.464Z"
   },
   {
    "duration": 42,
    "start_time": "2021-12-04T10:54:05.103Z"
   },
   {
    "duration": 138,
    "start_time": "2021-12-04T10:54:05.148Z"
   },
   {
    "duration": 56,
    "start_time": "2021-12-04T10:54:05.288Z"
   },
   {
    "duration": 62,
    "start_time": "2021-12-04T10:54:05.346Z"
   },
   {
    "duration": 33,
    "start_time": "2021-12-04T10:54:05.430Z"
   },
   {
    "duration": 951,
    "start_time": "2021-12-04T10:54:05.465Z"
   },
   {
    "duration": 727,
    "start_time": "2021-12-04T10:54:06.418Z"
   },
   {
    "duration": 3589,
    "start_time": "2021-12-04T10:54:42.095Z"
   },
   {
    "duration": 3587,
    "start_time": "2021-12-04T10:55:30.677Z"
   },
   {
    "duration": 19,
    "start_time": "2021-12-04T10:56:35.034Z"
   },
   {
    "duration": 11,
    "start_time": "2021-12-04T10:57:14.475Z"
   },
   {
    "duration": 10,
    "start_time": "2021-12-04T10:57:20.900Z"
   },
   {
    "duration": 4,
    "start_time": "2021-12-04T10:58:29.869Z"
   },
   {
    "duration": 65,
    "start_time": "2021-12-04T10:58:29.876Z"
   },
   {
    "duration": 17,
    "start_time": "2021-12-04T10:58:29.945Z"
   },
   {
    "duration": 25,
    "start_time": "2021-12-04T10:58:29.966Z"
   },
   {
    "duration": 37,
    "start_time": "2021-12-04T10:58:29.994Z"
   },
   {
    "duration": 12,
    "start_time": "2021-12-04T10:58:30.034Z"
   },
   {
    "duration": 86,
    "start_time": "2021-12-04T10:58:30.049Z"
   },
   {
    "duration": 17,
    "start_time": "2021-12-04T10:58:30.138Z"
   },
   {
    "duration": 82,
    "start_time": "2021-12-04T10:58:30.161Z"
   },
   {
    "duration": 12,
    "start_time": "2021-12-04T10:58:30.246Z"
   },
   {
    "duration": 24,
    "start_time": "2021-12-04T10:58:30.261Z"
   },
   {
    "duration": 4,
    "start_time": "2021-12-04T10:58:30.288Z"
   },
   {
    "duration": 655,
    "start_time": "2021-12-04T10:58:30.295Z"
   },
   {
    "duration": 32,
    "start_time": "2021-12-04T10:58:30.952Z"
   },
   {
    "duration": 147,
    "start_time": "2021-12-04T10:58:30.986Z"
   },
   {
    "duration": 39,
    "start_time": "2021-12-04T10:58:31.135Z"
   },
   {
    "duration": 92,
    "start_time": "2021-12-04T10:58:31.176Z"
   },
   {
    "duration": 29,
    "start_time": "2021-12-04T10:58:31.270Z"
   },
   {
    "duration": 958,
    "start_time": "2021-12-04T10:58:31.301Z"
   },
   {
    "duration": 3548,
    "start_time": "2021-12-04T10:58:32.261Z"
   },
   {
    "duration": 24,
    "start_time": "2021-12-04T10:58:35.812Z"
   },
   {
    "duration": 294,
    "start_time": "2021-12-04T10:59:02.241Z"
   },
   {
    "duration": 18,
    "start_time": "2021-12-04T10:59:19.903Z"
   },
   {
    "duration": 36,
    "start_time": "2021-12-04T10:59:54.238Z"
   },
   {
    "duration": 13,
    "start_time": "2021-12-04T11:00:01.759Z"
   },
   {
    "duration": 4,
    "start_time": "2021-12-04T11:00:51.180Z"
   },
   {
    "duration": 70,
    "start_time": "2021-12-04T11:00:51.186Z"
   },
   {
    "duration": 19,
    "start_time": "2021-12-04T11:00:51.259Z"
   },
   {
    "duration": 17,
    "start_time": "2021-12-04T11:00:51.281Z"
   },
   {
    "duration": 33,
    "start_time": "2021-12-04T11:00:51.301Z"
   },
   {
    "duration": 11,
    "start_time": "2021-12-04T11:00:51.337Z"
   },
   {
    "duration": 80,
    "start_time": "2021-12-04T11:00:51.351Z"
   },
   {
    "duration": 17,
    "start_time": "2021-12-04T11:00:51.434Z"
   },
   {
    "duration": 79,
    "start_time": "2021-12-04T11:00:51.457Z"
   },
   {
    "duration": 13,
    "start_time": "2021-12-04T11:00:51.539Z"
   },
   {
    "duration": 20,
    "start_time": "2021-12-04T11:00:51.554Z"
   },
   {
    "duration": 6,
    "start_time": "2021-12-04T11:00:51.576Z"
   },
   {
    "duration": 637,
    "start_time": "2021-12-04T11:00:51.584Z"
   },
   {
    "duration": 36,
    "start_time": "2021-12-04T11:00:52.223Z"
   },
   {
    "duration": 134,
    "start_time": "2021-12-04T11:00:52.261Z"
   },
   {
    "duration": 52,
    "start_time": "2021-12-04T11:00:52.398Z"
   },
   {
    "duration": 76,
    "start_time": "2021-12-04T11:00:52.453Z"
   },
   {
    "duration": 29,
    "start_time": "2021-12-04T11:00:52.531Z"
   },
   {
    "duration": 954,
    "start_time": "2021-12-04T11:00:52.563Z"
   },
   {
    "duration": 3530,
    "start_time": "2021-12-04T11:00:53.520Z"
   },
   {
    "duration": 39,
    "start_time": "2021-12-04T11:00:57.052Z"
   },
   {
    "duration": 10,
    "start_time": "2021-12-04T11:01:32.199Z"
   },
   {
    "duration": 4,
    "start_time": "2021-12-04T11:06:52.020Z"
   },
   {
    "duration": 73,
    "start_time": "2021-12-04T11:06:52.026Z"
   },
   {
    "duration": 17,
    "start_time": "2021-12-04T11:06:52.102Z"
   },
   {
    "duration": 15,
    "start_time": "2021-12-04T11:06:52.129Z"
   },
   {
    "duration": 13,
    "start_time": "2021-12-04T11:06:52.146Z"
   },
   {
    "duration": 10,
    "start_time": "2021-12-04T11:06:52.161Z"
   },
   {
    "duration": 86,
    "start_time": "2021-12-04T11:06:52.174Z"
   },
   {
    "duration": 13,
    "start_time": "2021-12-04T11:06:52.264Z"
   },
   {
    "duration": 73,
    "start_time": "2021-12-04T11:06:52.280Z"
   },
   {
    "duration": 13,
    "start_time": "2021-12-04T11:06:52.355Z"
   },
   {
    "duration": 20,
    "start_time": "2021-12-04T11:06:52.370Z"
   },
   {
    "duration": 38,
    "start_time": "2021-12-04T11:06:52.392Z"
   },
   {
    "duration": 608,
    "start_time": "2021-12-04T11:06:52.432Z"
   },
   {
    "duration": 32,
    "start_time": "2021-12-04T11:06:53.042Z"
   },
   {
    "duration": 134,
    "start_time": "2021-12-04T11:06:53.076Z"
   },
   {
    "duration": 47,
    "start_time": "2021-12-04T11:06:53.212Z"
   },
   {
    "duration": 83,
    "start_time": "2021-12-04T11:06:53.261Z"
   },
   {
    "duration": 32,
    "start_time": "2021-12-04T11:06:53.346Z"
   },
   {
    "duration": 998,
    "start_time": "2021-12-04T11:06:53.381Z"
   },
   {
    "duration": 3532,
    "start_time": "2021-12-04T11:06:54.381Z"
   },
   {
    "duration": 19,
    "start_time": "2021-12-04T11:06:57.915Z"
   },
   {
    "duration": 4,
    "start_time": "2021-12-04T11:15:53.591Z"
   },
   {
    "duration": 72,
    "start_time": "2021-12-04T11:15:53.598Z"
   },
   {
    "duration": 19,
    "start_time": "2021-12-04T11:15:53.673Z"
   },
   {
    "duration": 36,
    "start_time": "2021-12-04T11:15:53.695Z"
   },
   {
    "duration": 13,
    "start_time": "2021-12-04T11:15:53.734Z"
   },
   {
    "duration": 10,
    "start_time": "2021-12-04T11:15:53.749Z"
   },
   {
    "duration": 84,
    "start_time": "2021-12-04T11:15:53.762Z"
   },
   {
    "duration": 14,
    "start_time": "2021-12-04T11:15:53.848Z"
   },
   {
    "duration": 75,
    "start_time": "2021-12-04T11:15:53.866Z"
   },
   {
    "duration": 16,
    "start_time": "2021-12-04T11:15:53.944Z"
   },
   {
    "duration": 21,
    "start_time": "2021-12-04T11:15:53.963Z"
   },
   {
    "duration": 43,
    "start_time": "2021-12-04T11:15:53.987Z"
   },
   {
    "duration": 606,
    "start_time": "2021-12-04T11:15:54.033Z"
   },
   {
    "duration": 32,
    "start_time": "2021-12-04T11:15:54.641Z"
   },
   {
    "duration": 138,
    "start_time": "2021-12-04T11:15:54.675Z"
   },
   {
    "duration": 49,
    "start_time": "2021-12-04T11:15:54.815Z"
   },
   {
    "duration": 82,
    "start_time": "2021-12-04T11:15:54.866Z"
   },
   {
    "duration": 29,
    "start_time": "2021-12-04T11:15:54.951Z"
   },
   {
    "duration": 971,
    "start_time": "2021-12-04T11:15:54.982Z"
   },
   {
    "duration": 3954,
    "start_time": "2021-12-04T11:15:55.956Z"
   },
   {
    "duration": 27,
    "start_time": "2021-12-04T11:15:59.912Z"
   },
   {
    "duration": 105,
    "start_time": "2021-12-04T11:22:51.125Z"
   },
   {
    "duration": 286,
    "start_time": "2021-12-04T11:23:07.493Z"
   },
   {
    "duration": 285,
    "start_time": "2021-12-04T11:23:33.494Z"
   },
   {
    "duration": 359,
    "start_time": "2021-12-04T11:23:48.033Z"
   },
   {
    "duration": 328,
    "start_time": "2021-12-04T11:25:06.705Z"
   },
   {
    "duration": 4,
    "start_time": "2021-12-04T11:25:17.917Z"
   },
   {
    "duration": 69,
    "start_time": "2021-12-04T11:25:17.923Z"
   },
   {
    "duration": 23,
    "start_time": "2021-12-04T11:25:17.996Z"
   },
   {
    "duration": 14,
    "start_time": "2021-12-04T11:25:18.030Z"
   },
   {
    "duration": 13,
    "start_time": "2021-12-04T11:25:18.046Z"
   },
   {
    "duration": 10,
    "start_time": "2021-12-04T11:25:18.061Z"
   },
   {
    "duration": 95,
    "start_time": "2021-12-04T11:25:18.074Z"
   },
   {
    "duration": 13,
    "start_time": "2021-12-04T11:25:18.171Z"
   },
   {
    "duration": 73,
    "start_time": "2021-12-04T11:25:18.188Z"
   },
   {
    "duration": 15,
    "start_time": "2021-12-04T11:25:18.265Z"
   },
   {
    "duration": 59,
    "start_time": "2021-12-04T11:25:18.283Z"
   },
   {
    "duration": 4,
    "start_time": "2021-12-04T11:25:18.344Z"
   },
   {
    "duration": 617,
    "start_time": "2021-12-04T11:25:18.350Z"
   },
   {
    "duration": 32,
    "start_time": "2021-12-04T11:25:18.969Z"
   },
   {
    "duration": 143,
    "start_time": "2021-12-04T11:25:19.003Z"
   },
   {
    "duration": 39,
    "start_time": "2021-12-04T11:25:19.149Z"
   },
   {
    "duration": 79,
    "start_time": "2021-12-04T11:25:19.190Z"
   },
   {
    "duration": 29,
    "start_time": "2021-12-04T11:25:19.271Z"
   },
   {
    "duration": 954,
    "start_time": "2021-12-04T11:25:19.302Z"
   },
   {
    "duration": 3802,
    "start_time": "2021-12-04T11:25:20.259Z"
   },
   {
    "duration": 11,
    "start_time": "2021-12-04T11:25:24.064Z"
   },
   {
    "duration": 307,
    "start_time": "2021-12-04T11:25:24.077Z"
   },
   {
    "duration": 9,
    "start_time": "2021-12-04T11:27:37.971Z"
   },
   {
    "duration": 36,
    "start_time": "2021-12-04T11:28:53.581Z"
   },
   {
    "duration": 15,
    "start_time": "2021-12-04T11:29:01.421Z"
   },
   {
    "duration": 10,
    "start_time": "2021-12-04T11:30:21.368Z"
   },
   {
    "duration": 18,
    "start_time": "2021-12-04T11:35:37.846Z"
   },
   {
    "duration": 274,
    "start_time": "2021-12-04T11:39:18.605Z"
   },
   {
    "duration": 290,
    "start_time": "2021-12-04T11:39:44.171Z"
   },
   {
    "duration": 284,
    "start_time": "2021-12-04T11:40:53.414Z"
   },
   {
    "duration": 27,
    "start_time": "2021-12-04T11:41:04.302Z"
   },
   {
    "duration": 20,
    "start_time": "2021-12-04T11:41:19.365Z"
   },
   {
    "duration": 13,
    "start_time": "2021-12-04T11:41:33.691Z"
   },
   {
    "duration": 17,
    "start_time": "2021-12-04T11:44:02.566Z"
   },
   {
    "duration": 16,
    "start_time": "2021-12-04T11:44:39.784Z"
   },
   {
    "duration": 17,
    "start_time": "2021-12-04T11:45:50.892Z"
   },
   {
    "duration": 14,
    "start_time": "2021-12-04T11:49:00.329Z"
   },
   {
    "duration": 15,
    "start_time": "2021-12-04T11:49:49.757Z"
   },
   {
    "duration": 11,
    "start_time": "2021-12-04T11:55:06.387Z"
   },
   {
    "duration": 14,
    "start_time": "2021-12-04T11:55:49.701Z"
   },
   {
    "duration": 16,
    "start_time": "2021-12-04T11:56:14.681Z"
   },
   {
    "duration": 13,
    "start_time": "2021-12-04T11:58:22.026Z"
   },
   {
    "duration": 19,
    "start_time": "2021-12-04T11:58:45.368Z"
   },
   {
    "duration": 15,
    "start_time": "2021-12-04T11:59:01.150Z"
   },
   {
    "duration": 340,
    "start_time": "2021-12-04T11:59:24.770Z"
   },
   {
    "duration": 15,
    "start_time": "2021-12-04T12:00:07.650Z"
   },
   {
    "duration": 21,
    "start_time": "2021-12-04T12:00:42.486Z"
   },
   {
    "duration": 14,
    "start_time": "2021-12-04T12:00:46.522Z"
   },
   {
    "duration": 11,
    "start_time": "2021-12-04T12:04:06.091Z"
   },
   {
    "duration": 12,
    "start_time": "2021-12-04T12:04:35.653Z"
   },
   {
    "duration": 11,
    "start_time": "2021-12-04T12:04:47.646Z"
   },
   {
    "duration": 10,
    "start_time": "2021-12-04T12:05:10.695Z"
   },
   {
    "duration": 12,
    "start_time": "2021-12-04T12:05:26.070Z"
   },
   {
    "duration": 6,
    "start_time": "2021-12-04T12:06:15.000Z"
   },
   {
    "duration": 11,
    "start_time": "2021-12-04T12:06:38.003Z"
   },
   {
    "duration": 11,
    "start_time": "2021-12-04T12:08:00.165Z"
   },
   {
    "duration": 3,
    "start_time": "2021-12-04T12:08:10.537Z"
   },
   {
    "duration": 67,
    "start_time": "2021-12-04T12:08:10.544Z"
   },
   {
    "duration": 29,
    "start_time": "2021-12-04T12:08:10.614Z"
   },
   {
    "duration": 22,
    "start_time": "2021-12-04T12:08:10.646Z"
   },
   {
    "duration": 13,
    "start_time": "2021-12-04T12:08:10.671Z"
   },
   {
    "duration": 12,
    "start_time": "2021-12-04T12:08:10.686Z"
   },
   {
    "duration": 49,
    "start_time": "2021-12-04T12:08:10.729Z"
   },
   {
    "duration": 14,
    "start_time": "2021-12-04T12:08:10.780Z"
   },
   {
    "duration": 76,
    "start_time": "2021-12-04T12:08:10.799Z"
   },
   {
    "duration": 16,
    "start_time": "2021-12-04T12:08:10.878Z"
   },
   {
    "duration": 47,
    "start_time": "2021-12-04T12:08:10.896Z"
   },
   {
    "duration": 4,
    "start_time": "2021-12-04T12:08:10.946Z"
   },
   {
    "duration": 630,
    "start_time": "2021-12-04T12:08:10.953Z"
   },
   {
    "duration": 45,
    "start_time": "2021-12-04T12:08:11.586Z"
   },
   {
    "duration": 131,
    "start_time": "2021-12-04T12:08:11.634Z"
   },
   {
    "duration": 41,
    "start_time": "2021-12-04T12:08:11.767Z"
   },
   {
    "duration": 79,
    "start_time": "2021-12-04T12:08:11.810Z"
   },
   {
    "duration": 54,
    "start_time": "2021-12-04T12:08:11.891Z"
   },
   {
    "duration": 957,
    "start_time": "2021-12-04T12:08:11.947Z"
   },
   {
    "duration": 3577,
    "start_time": "2021-12-04T12:08:12.907Z"
   },
   {
    "duration": 11,
    "start_time": "2021-12-04T12:08:16.486Z"
   },
   {
    "duration": 46,
    "start_time": "2021-12-04T12:08:16.499Z"
   },
   {
    "duration": 12,
    "start_time": "2021-12-04T12:08:16.547Z"
   },
   {
    "duration": 19,
    "start_time": "2021-12-04T12:08:16.561Z"
   },
   {
    "duration": 46,
    "start_time": "2021-12-04T12:08:16.583Z"
   },
   {
    "duration": 11,
    "start_time": "2021-12-04T12:08:16.631Z"
   },
   {
    "duration": 22,
    "start_time": "2021-12-04T12:10:01.552Z"
   },
   {
    "duration": 306,
    "start_time": "2021-12-04T12:10:55.316Z"
   },
   {
    "duration": 373,
    "start_time": "2021-12-04T12:11:08.508Z"
   },
   {
    "duration": 4,
    "start_time": "2021-12-04T12:16:17.376Z"
   },
   {
    "duration": 68,
    "start_time": "2021-12-04T12:16:17.382Z"
   },
   {
    "duration": 17,
    "start_time": "2021-12-04T12:16:17.453Z"
   },
   {
    "duration": 22,
    "start_time": "2021-12-04T12:16:17.472Z"
   },
   {
    "duration": 13,
    "start_time": "2021-12-04T12:16:17.496Z"
   },
   {
    "duration": 28,
    "start_time": "2021-12-04T12:16:17.511Z"
   },
   {
    "duration": 51,
    "start_time": "2021-12-04T12:16:17.541Z"
   },
   {
    "duration": 42,
    "start_time": "2021-12-04T12:16:17.594Z"
   },
   {
    "duration": 48,
    "start_time": "2021-12-04T12:16:17.640Z"
   },
   {
    "duration": 43,
    "start_time": "2021-12-04T12:16:17.691Z"
   },
   {
    "duration": 20,
    "start_time": "2021-12-04T12:16:17.737Z"
   },
   {
    "duration": 4,
    "start_time": "2021-12-04T12:16:17.759Z"
   },
   {
    "duration": 674,
    "start_time": "2021-12-04T12:16:17.766Z"
   },
   {
    "duration": 30,
    "start_time": "2021-12-04T12:16:18.442Z"
   },
   {
    "duration": 158,
    "start_time": "2021-12-04T12:16:18.474Z"
   },
   {
    "duration": 40,
    "start_time": "2021-12-04T12:16:18.634Z"
   },
   {
    "duration": 94,
    "start_time": "2021-12-04T12:16:18.676Z"
   },
   {
    "duration": 34,
    "start_time": "2021-12-04T12:16:18.772Z"
   },
   {
    "duration": 974,
    "start_time": "2021-12-04T12:16:18.808Z"
   },
   {
    "duration": 3773,
    "start_time": "2021-12-04T12:16:19.785Z"
   },
   {
    "duration": 14,
    "start_time": "2021-12-04T12:16:23.561Z"
   },
   {
    "duration": 25,
    "start_time": "2021-12-04T12:16:23.578Z"
   },
   {
    "duration": 34,
    "start_time": "2021-12-04T12:16:23.605Z"
   },
   {
    "duration": 24,
    "start_time": "2021-12-04T12:16:23.642Z"
   },
   {
    "duration": 15,
    "start_time": "2021-12-04T12:16:23.668Z"
   },
   {
    "duration": 296,
    "start_time": "2021-12-04T12:16:23.730Z"
   },
   {
    "duration": -349,
    "start_time": "2021-12-04T12:16:24.377Z"
   },
   {
    "duration": 15,
    "start_time": "2021-12-04T12:16:43.979Z"
   },
   {
    "duration": 25,
    "start_time": "2021-12-04T12:17:09.833Z"
   },
   {
    "duration": 16,
    "start_time": "2021-12-04T12:18:08.461Z"
   },
   {
    "duration": 13,
    "start_time": "2021-12-04T12:20:05.709Z"
   },
   {
    "duration": 17,
    "start_time": "2021-12-04T12:20:15.133Z"
   },
   {
    "duration": 13,
    "start_time": "2021-12-04T12:20:18.154Z"
   },
   {
    "duration": 295,
    "start_time": "2021-12-04T12:22:01.615Z"
   },
   {
    "duration": 20,
    "start_time": "2021-12-04T12:22:04.291Z"
   },
   {
    "duration": 7,
    "start_time": "2021-12-04T12:22:06.375Z"
   },
   {
    "duration": 294,
    "start_time": "2021-12-04T12:23:54.466Z"
   },
   {
    "duration": 19,
    "start_time": "2021-12-04T12:23:59.745Z"
   },
   {
    "duration": 7,
    "start_time": "2021-12-04T12:24:00.789Z"
   },
   {
    "duration": 7,
    "start_time": "2021-12-04T12:24:33.210Z"
   },
   {
    "duration": 8,
    "start_time": "2021-12-04T12:27:30.733Z"
   },
   {
    "duration": 4,
    "start_time": "2021-12-04T12:34:04.009Z"
   },
   {
    "duration": 70,
    "start_time": "2021-12-04T12:34:04.016Z"
   },
   {
    "duration": 18,
    "start_time": "2021-12-04T12:34:04.089Z"
   },
   {
    "duration": 28,
    "start_time": "2021-12-04T12:34:04.110Z"
   },
   {
    "duration": 13,
    "start_time": "2021-12-04T12:34:04.140Z"
   },
   {
    "duration": 9,
    "start_time": "2021-12-04T12:34:04.156Z"
   },
   {
    "duration": 77,
    "start_time": "2021-12-04T12:34:04.168Z"
   },
   {
    "duration": 15,
    "start_time": "2021-12-04T12:34:04.247Z"
   },
   {
    "duration": 75,
    "start_time": "2021-12-04T12:34:04.268Z"
   },
   {
    "duration": 13,
    "start_time": "2021-12-04T12:34:04.346Z"
   },
   {
    "duration": 24,
    "start_time": "2021-12-04T12:34:04.361Z"
   },
   {
    "duration": 4,
    "start_time": "2021-12-04T12:34:04.387Z"
   },
   {
    "duration": 599,
    "start_time": "2021-12-04T12:34:04.430Z"
   },
   {
    "duration": 33,
    "start_time": "2021-12-04T12:34:05.031Z"
   },
   {
    "duration": 140,
    "start_time": "2021-12-04T12:34:05.066Z"
   },
   {
    "duration": 51,
    "start_time": "2021-12-04T12:34:05.209Z"
   },
   {
    "duration": 80,
    "start_time": "2021-12-04T12:34:05.262Z"
   },
   {
    "duration": 34,
    "start_time": "2021-12-04T12:34:05.345Z"
   },
   {
    "duration": 953,
    "start_time": "2021-12-04T12:34:05.382Z"
   },
   {
    "duration": 3700,
    "start_time": "2021-12-04T12:34:06.338Z"
   },
   {
    "duration": 11,
    "start_time": "2021-12-04T12:34:10.041Z"
   },
   {
    "duration": 34,
    "start_time": "2021-12-04T12:34:10.055Z"
   },
   {
    "duration": 14,
    "start_time": "2021-12-04T12:34:10.091Z"
   },
   {
    "duration": 17,
    "start_time": "2021-12-04T12:36:49.354Z"
   },
   {
    "duration": 13,
    "start_time": "2021-12-04T12:37:18.006Z"
   },
   {
    "duration": 14,
    "start_time": "2021-12-04T12:39:43.844Z"
   },
   {
    "duration": 21,
    "start_time": "2021-12-04T12:39:45.225Z"
   },
   {
    "duration": 13,
    "start_time": "2021-12-04T12:39:47.443Z"
   },
   {
    "duration": 7,
    "start_time": "2021-12-04T12:42:33.798Z"
   },
   {
    "duration": 8,
    "start_time": "2021-12-04T12:43:06.470Z"
   },
   {
    "duration": 4,
    "start_time": "2021-12-04T12:47:13.863Z"
   },
   {
    "duration": 68,
    "start_time": "2021-12-04T12:47:13.870Z"
   },
   {
    "duration": 17,
    "start_time": "2021-12-04T12:47:13.940Z"
   },
   {
    "duration": 20,
    "start_time": "2021-12-04T12:47:13.960Z"
   },
   {
    "duration": 12,
    "start_time": "2021-12-04T12:47:13.982Z"
   },
   {
    "duration": 32,
    "start_time": "2021-12-04T12:47:13.996Z"
   },
   {
    "duration": 47,
    "start_time": "2021-12-04T12:47:14.031Z"
   },
   {
    "duration": 13,
    "start_time": "2021-12-04T12:47:14.081Z"
   },
   {
    "duration": 73,
    "start_time": "2021-12-04T12:47:14.098Z"
   },
   {
    "duration": 13,
    "start_time": "2021-12-04T12:47:14.174Z"
   },
   {
    "duration": 47,
    "start_time": "2021-12-04T12:47:14.189Z"
   },
   {
    "duration": 4,
    "start_time": "2021-12-04T12:47:14.238Z"
   },
   {
    "duration": 612,
    "start_time": "2021-12-04T12:47:14.245Z"
   },
   {
    "duration": 32,
    "start_time": "2021-12-04T12:47:14.859Z"
   },
   {
    "duration": 150,
    "start_time": "2021-12-04T12:47:14.894Z"
   },
   {
    "duration": 41,
    "start_time": "2021-12-04T12:47:15.047Z"
   },
   {
    "duration": 78,
    "start_time": "2021-12-04T12:47:15.090Z"
   },
   {
    "duration": 32,
    "start_time": "2021-12-04T12:47:15.171Z"
   },
   {
    "duration": 957,
    "start_time": "2021-12-04T12:47:15.206Z"
   },
   {
    "duration": 3538,
    "start_time": "2021-12-04T12:47:16.165Z"
   },
   {
    "duration": 24,
    "start_time": "2021-12-04T12:47:19.706Z"
   },
   {
    "duration": 27,
    "start_time": "2021-12-04T12:47:19.733Z"
   },
   {
    "duration": 21,
    "start_time": "2021-12-04T12:47:19.762Z"
   },
   {
    "duration": 44,
    "start_time": "2021-12-04T12:47:19.786Z"
   },
   {
    "duration": 30,
    "start_time": "2021-12-04T12:47:19.832Z"
   },
   {
    "duration": 24,
    "start_time": "2021-12-04T12:48:05.719Z"
   },
   {
    "duration": 3,
    "start_time": "2021-12-04T12:49:36.403Z"
   },
   {
    "duration": 66,
    "start_time": "2021-12-04T12:49:36.409Z"
   },
   {
    "duration": 17,
    "start_time": "2021-12-04T12:49:36.478Z"
   },
   {
    "duration": 35,
    "start_time": "2021-12-04T12:49:36.498Z"
   },
   {
    "duration": 13,
    "start_time": "2021-12-04T12:49:36.536Z"
   },
   {
    "duration": 10,
    "start_time": "2021-12-04T12:49:36.551Z"
   },
   {
    "duration": 79,
    "start_time": "2021-12-04T12:49:36.564Z"
   },
   {
    "duration": 13,
    "start_time": "2021-12-04T12:49:36.645Z"
   },
   {
    "duration": 69,
    "start_time": "2021-12-04T12:49:36.663Z"
   },
   {
    "duration": 13,
    "start_time": "2021-12-04T12:49:36.735Z"
   },
   {
    "duration": 20,
    "start_time": "2021-12-04T12:49:36.751Z"
   },
   {
    "duration": 4,
    "start_time": "2021-12-04T12:49:36.773Z"
   },
   {
    "duration": 631,
    "start_time": "2021-12-04T12:49:36.779Z"
   },
   {
    "duration": 41,
    "start_time": "2021-12-04T12:49:37.412Z"
   },
   {
    "duration": 149,
    "start_time": "2021-12-04T12:49:37.455Z"
   },
   {
    "duration": 50,
    "start_time": "2021-12-04T12:49:37.607Z"
   },
   {
    "duration": 55,
    "start_time": "2021-12-04T12:49:37.659Z"
   },
   {
    "duration": 33,
    "start_time": "2021-12-04T12:49:37.728Z"
   },
   {
    "duration": 987,
    "start_time": "2021-12-04T12:49:37.763Z"
   },
   {
    "duration": 3603,
    "start_time": "2021-12-04T12:49:38.754Z"
   },
   {
    "duration": 11,
    "start_time": "2021-12-04T12:49:42.359Z"
   },
   {
    "duration": 31,
    "start_time": "2021-12-04T12:49:42.373Z"
   },
   {
    "duration": 42,
    "start_time": "2021-12-04T12:49:42.407Z"
   },
   {
    "duration": 13,
    "start_time": "2021-12-04T12:49:42.452Z"
   },
   {
    "duration": 31,
    "start_time": "2021-12-04T12:49:42.467Z"
   },
   {
    "duration": 25,
    "start_time": "2021-12-04T12:50:35.442Z"
   },
   {
    "duration": 23,
    "start_time": "2021-12-04T12:51:20.563Z"
   },
   {
    "duration": 4,
    "start_time": "2021-12-04T13:00:26.468Z"
   },
   {
    "duration": 77,
    "start_time": "2021-12-04T13:00:26.474Z"
   },
   {
    "duration": 18,
    "start_time": "2021-12-04T13:00:26.554Z"
   },
   {
    "duration": 17,
    "start_time": "2021-12-04T13:00:26.575Z"
   },
   {
    "duration": 11,
    "start_time": "2021-12-04T13:00:26.595Z"
   },
   {
    "duration": 10,
    "start_time": "2021-12-04T13:00:26.630Z"
   },
   {
    "duration": 49,
    "start_time": "2021-12-04T13:00:26.642Z"
   },
   {
    "duration": 48,
    "start_time": "2021-12-04T13:00:26.693Z"
   },
   {
    "duration": 47,
    "start_time": "2021-12-04T13:00:26.745Z"
   },
   {
    "duration": 39,
    "start_time": "2021-12-04T13:00:26.795Z"
   },
   {
    "duration": 20,
    "start_time": "2021-12-04T13:00:26.837Z"
   },
   {
    "duration": 4,
    "start_time": "2021-12-04T13:00:26.860Z"
   },
   {
    "duration": 630,
    "start_time": "2021-12-04T13:00:26.867Z"
   },
   {
    "duration": 40,
    "start_time": "2021-12-04T13:00:27.500Z"
   },
   {
    "duration": 136,
    "start_time": "2021-12-04T13:00:27.543Z"
   },
   {
    "duration": 49,
    "start_time": "2021-12-04T13:00:27.681Z"
   },
   {
    "duration": 60,
    "start_time": "2021-12-04T13:00:27.732Z"
   },
   {
    "duration": 52,
    "start_time": "2021-12-04T13:00:27.794Z"
   },
   {
    "duration": 946,
    "start_time": "2021-12-04T13:00:27.848Z"
   },
   {
    "duration": 3714,
    "start_time": "2021-12-04T13:00:28.797Z"
   },
   {
    "duration": 21,
    "start_time": "2021-12-04T13:00:32.513Z"
   },
   {
    "duration": 55,
    "start_time": "2021-12-04T13:00:32.537Z"
   },
   {
    "duration": 48,
    "start_time": "2021-12-04T13:00:32.595Z"
   },
   {
    "duration": 15,
    "start_time": "2021-12-04T13:00:32.646Z"
   },
   {
    "duration": 42,
    "start_time": "2021-12-04T13:00:32.664Z"
   },
   {
    "duration": 46,
    "start_time": "2021-12-04T13:00:32.710Z"
   },
   {
    "duration": 4,
    "start_time": "2021-12-04T13:01:18.812Z"
   },
   {
    "duration": 69,
    "start_time": "2021-12-04T13:01:18.819Z"
   },
   {
    "duration": 18,
    "start_time": "2021-12-04T13:01:18.891Z"
   },
   {
    "duration": 32,
    "start_time": "2021-12-04T13:01:18.913Z"
   },
   {
    "duration": 16,
    "start_time": "2021-12-04T13:01:18.948Z"
   },
   {
    "duration": 11,
    "start_time": "2021-12-04T13:01:18.967Z"
   },
   {
    "duration": 88,
    "start_time": "2021-12-04T13:01:18.981Z"
   },
   {
    "duration": 16,
    "start_time": "2021-12-04T13:01:19.072Z"
   },
   {
    "duration": 78,
    "start_time": "2021-12-04T13:01:19.094Z"
   },
   {
    "duration": 16,
    "start_time": "2021-12-04T13:01:19.176Z"
   },
   {
    "duration": 53,
    "start_time": "2021-12-04T13:01:19.195Z"
   },
   {
    "duration": 5,
    "start_time": "2021-12-04T13:01:19.251Z"
   },
   {
    "duration": 739,
    "start_time": "2021-12-04T13:01:19.259Z"
   },
   {
    "duration": 41,
    "start_time": "2021-12-04T13:01:20.001Z"
   },
   {
    "duration": 135,
    "start_time": "2021-12-04T13:01:20.044Z"
   },
   {
    "duration": 52,
    "start_time": "2021-12-04T13:01:20.182Z"
   },
   {
    "duration": 66,
    "start_time": "2021-12-04T13:01:20.236Z"
   },
   {
    "duration": 53,
    "start_time": "2021-12-04T13:01:20.304Z"
   },
   {
    "duration": 1104,
    "start_time": "2021-12-04T13:01:20.360Z"
   },
   {
    "duration": 3700,
    "start_time": "2021-12-04T13:01:21.467Z"
   },
   {
    "duration": 12,
    "start_time": "2021-12-04T13:01:25.169Z"
   },
   {
    "duration": 61,
    "start_time": "2021-12-04T13:01:25.183Z"
   },
   {
    "duration": 24,
    "start_time": "2021-12-04T13:01:25.247Z"
   },
   {
    "duration": 14,
    "start_time": "2021-12-04T13:01:25.273Z"
   },
   {
    "duration": 56,
    "start_time": "2021-12-04T13:01:25.290Z"
   },
   {
    "duration": 21,
    "start_time": "2021-12-04T13:01:25.349Z"
   },
   {
    "duration": 22,
    "start_time": "2021-12-04T13:05:40.028Z"
   },
   {
    "duration": 17,
    "start_time": "2021-12-04T13:06:08.539Z"
   },
   {
    "duration": 12,
    "start_time": "2021-12-04T13:06:11.118Z"
   },
   {
    "duration": 3,
    "start_time": "2021-12-04T13:08:38.961Z"
   },
   {
    "duration": 75,
    "start_time": "2021-12-04T13:08:38.967Z"
   },
   {
    "duration": 17,
    "start_time": "2021-12-04T13:08:39.045Z"
   },
   {
    "duration": 16,
    "start_time": "2021-12-04T13:08:39.065Z"
   },
   {
    "duration": 13,
    "start_time": "2021-12-04T13:08:39.083Z"
   },
   {
    "duration": 39,
    "start_time": "2021-12-04T13:08:39.098Z"
   },
   {
    "duration": 57,
    "start_time": "2021-12-04T13:08:39.140Z"
   },
   {
    "duration": 39,
    "start_time": "2021-12-04T13:08:39.200Z"
   },
   {
    "duration": 46,
    "start_time": "2021-12-04T13:08:39.244Z"
   },
   {
    "duration": 46,
    "start_time": "2021-12-04T13:08:39.294Z"
   },
   {
    "duration": 20,
    "start_time": "2021-12-04T13:08:39.342Z"
   },
   {
    "duration": 4,
    "start_time": "2021-12-04T13:08:39.365Z"
   },
   {
    "duration": 628,
    "start_time": "2021-12-04T13:08:39.372Z"
   },
   {
    "duration": 41,
    "start_time": "2021-12-04T13:08:40.003Z"
   },
   {
    "duration": 158,
    "start_time": "2021-12-04T13:08:40.047Z"
   },
   {
    "duration": 47,
    "start_time": "2021-12-04T13:08:40.207Z"
   },
   {
    "duration": 90,
    "start_time": "2021-12-04T13:08:40.257Z"
   },
   {
    "duration": 44,
    "start_time": "2021-12-04T13:08:40.350Z"
   },
   {
    "duration": 1116,
    "start_time": "2021-12-04T13:08:40.397Z"
   },
   {
    "duration": 4065,
    "start_time": "2021-12-04T13:08:41.516Z"
   },
   {
    "duration": 11,
    "start_time": "2021-12-04T13:08:45.584Z"
   },
   {
    "duration": 58,
    "start_time": "2021-12-04T13:08:45.597Z"
   },
   {
    "duration": 16,
    "start_time": "2021-12-04T13:08:45.657Z"
   },
   {
    "duration": 14,
    "start_time": "2021-12-04T13:08:45.675Z"
   },
   {
    "duration": 46,
    "start_time": "2021-12-04T13:08:45.692Z"
   },
   {
    "duration": 21,
    "start_time": "2021-12-04T13:08:45.741Z"
   },
   {
    "duration": 13,
    "start_time": "2021-12-04T13:08:45.766Z"
   },
   {
    "duration": 57,
    "start_time": "2021-12-04T13:08:45.782Z"
   },
   {
    "duration": 13,
    "start_time": "2021-12-04T13:08:45.842Z"
   },
   {
    "duration": 3,
    "start_time": "2021-12-04T13:13:29.911Z"
   },
   {
    "duration": 71,
    "start_time": "2021-12-04T13:13:29.917Z"
   },
   {
    "duration": 22,
    "start_time": "2021-12-04T13:13:29.991Z"
   },
   {
    "duration": 26,
    "start_time": "2021-12-04T13:13:30.016Z"
   },
   {
    "duration": 13,
    "start_time": "2021-12-04T13:13:30.045Z"
   },
   {
    "duration": 10,
    "start_time": "2021-12-04T13:13:30.061Z"
   },
   {
    "duration": 86,
    "start_time": "2021-12-04T13:13:30.074Z"
   },
   {
    "duration": 14,
    "start_time": "2021-12-04T13:13:30.162Z"
   },
   {
    "duration": 75,
    "start_time": "2021-12-04T13:13:30.179Z"
   },
   {
    "duration": 13,
    "start_time": "2021-12-04T13:13:30.257Z"
   },
   {
    "duration": 36,
    "start_time": "2021-12-04T13:13:30.273Z"
   },
   {
    "duration": 18,
    "start_time": "2021-12-04T13:13:30.312Z"
   },
   {
    "duration": 630,
    "start_time": "2021-12-04T13:13:30.333Z"
   },
   {
    "duration": 34,
    "start_time": "2021-12-04T13:13:30.965Z"
   },
   {
    "duration": 158,
    "start_time": "2021-12-04T13:13:31.003Z"
   },
   {
    "duration": 40,
    "start_time": "2021-12-04T13:13:31.163Z"
   },
   {
    "duration": 81,
    "start_time": "2021-12-04T13:13:31.206Z"
   },
   {
    "duration": 54,
    "start_time": "2021-12-04T13:13:31.290Z"
   },
   {
    "duration": 1064,
    "start_time": "2021-12-04T13:13:31.346Z"
   },
   {
    "duration": 3595,
    "start_time": "2021-12-04T13:13:32.413Z"
   },
   {
    "duration": 24,
    "start_time": "2021-12-04T13:13:36.010Z"
   },
   {
    "duration": 35,
    "start_time": "2021-12-04T13:13:36.036Z"
   },
   {
    "duration": 17,
    "start_time": "2021-12-04T13:13:36.073Z"
   },
   {
    "duration": 42,
    "start_time": "2021-12-04T13:13:36.093Z"
   },
   {
    "duration": 15,
    "start_time": "2021-12-04T13:13:36.137Z"
   },
   {
    "duration": 21,
    "start_time": "2021-12-04T13:13:36.154Z"
   },
   {
    "duration": 14,
    "start_time": "2021-12-04T13:13:36.180Z"
   },
   {
    "duration": 17,
    "start_time": "2021-12-04T13:13:36.230Z"
   },
   {
    "duration": 11,
    "start_time": "2021-12-04T13:13:36.250Z"
   },
   {
    "duration": 818,
    "start_time": "2021-12-04T14:39:37.702Z"
   },
   {
    "duration": 73,
    "start_time": "2021-12-04T14:39:38.523Z"
   },
   {
    "duration": 30,
    "start_time": "2021-12-04T14:39:38.599Z"
   },
   {
    "duration": 14,
    "start_time": "2021-12-04T14:39:38.632Z"
   },
   {
    "duration": 12,
    "start_time": "2021-12-04T14:39:38.649Z"
   },
   {
    "duration": 12,
    "start_time": "2021-12-04T14:39:38.664Z"
   },
   {
    "duration": 97,
    "start_time": "2021-12-04T14:39:38.678Z"
   },
   {
    "duration": 18,
    "start_time": "2021-12-04T14:39:38.779Z"
   },
   {
    "duration": 69,
    "start_time": "2021-12-04T14:39:38.802Z"
   },
   {
    "duration": 18,
    "start_time": "2021-12-04T14:39:38.874Z"
   },
   {
    "duration": 49,
    "start_time": "2021-12-04T14:39:38.895Z"
   },
   {
    "duration": 6,
    "start_time": "2021-12-04T14:39:38.946Z"
   },
   {
    "duration": 624,
    "start_time": "2021-12-04T14:39:42.878Z"
   },
   {
    "duration": 4,
    "start_time": "2021-12-04T14:42:01.838Z"
   },
   {
    "duration": 82,
    "start_time": "2021-12-04T14:42:01.845Z"
   },
   {
    "duration": 18,
    "start_time": "2021-12-04T14:42:01.930Z"
   },
   {
    "duration": 19,
    "start_time": "2021-12-04T14:42:01.952Z"
   },
   {
    "duration": 14,
    "start_time": "2021-12-04T14:42:01.975Z"
   },
   {
    "duration": 45,
    "start_time": "2021-12-04T14:42:01.992Z"
   },
   {
    "duration": 51,
    "start_time": "2021-12-04T14:42:02.040Z"
   },
   {
    "duration": 46,
    "start_time": "2021-12-04T14:42:02.097Z"
   },
   {
    "duration": 50,
    "start_time": "2021-12-04T14:42:02.146Z"
   },
   {
    "duration": 15,
    "start_time": "2021-12-04T14:42:02.229Z"
   },
   {
    "duration": 18,
    "start_time": "2021-12-04T14:42:02.247Z"
   },
   {
    "duration": 4,
    "start_time": "2021-12-04T14:42:02.267Z"
   },
   {
    "duration": 642,
    "start_time": "2021-12-04T14:42:02.274Z"
   },
   {
    "duration": 140,
    "start_time": "2021-12-04T14:42:02.918Z"
   },
   {
    "duration": 52,
    "start_time": "2021-12-04T14:42:03.062Z"
   },
   {
    "duration": 71,
    "start_time": "2021-12-04T14:42:03.116Z"
   },
   {
    "duration": 6,
    "start_time": "2021-12-04T14:42:03.189Z"
   },
   {
    "duration": 977,
    "start_time": "2021-12-04T14:42:03.198Z"
   },
   {
    "duration": 3602,
    "start_time": "2021-12-04T14:42:08.991Z"
   },
   {
    "duration": 20,
    "start_time": "2021-12-04T14:45:00.608Z"
   },
   {
    "duration": 19,
    "start_time": "2021-12-04T14:47:15.537Z"
   },
   {
    "duration": 5,
    "start_time": "2021-12-04T15:03:52.299Z"
   },
   {
    "duration": 1697,
    "start_time": "2021-12-04T15:04:49.146Z"
   },
   {
    "duration": 5,
    "start_time": "2021-12-04T15:06:08.015Z"
   },
   {
    "duration": 610,
    "start_time": "2021-12-04T15:06:11.136Z"
   },
   {
    "duration": 5,
    "start_time": "2021-12-04T15:06:55.710Z"
   },
   {
    "duration": 39,
    "start_time": "2021-12-04T15:06:57.802Z"
   },
   {
    "duration": 38,
    "start_time": "2021-12-04T15:09:41.099Z"
   },
   {
    "duration": 37,
    "start_time": "2021-12-04T15:09:58.621Z"
   },
   {
    "duration": 37,
    "start_time": "2021-12-04T15:12:59.731Z"
   },
   {
    "duration": 21,
    "start_time": "2021-12-04T15:14:10.863Z"
   },
   {
    "duration": 38,
    "start_time": "2021-12-04T15:14:18.678Z"
   },
   {
    "duration": 22,
    "start_time": "2021-12-04T15:18:49.823Z"
   },
   {
    "duration": 23,
    "start_time": "2021-12-04T15:19:31.905Z"
   },
   {
    "duration": 37,
    "start_time": "2021-12-04T15:19:54.485Z"
   },
   {
    "duration": 37,
    "start_time": "2021-12-04T15:23:08.329Z"
   },
   {
    "duration": 49,
    "start_time": "2021-12-04T15:30:16.745Z"
   },
   {
    "duration": 4,
    "start_time": "2021-12-04T15:30:29.609Z"
   },
   {
    "duration": 72,
    "start_time": "2021-12-04T15:30:29.616Z"
   },
   {
    "duration": 18,
    "start_time": "2021-12-04T15:30:29.691Z"
   },
   {
    "duration": 26,
    "start_time": "2021-12-04T15:30:29.712Z"
   },
   {
    "duration": 46,
    "start_time": "2021-12-04T15:30:29.741Z"
   },
   {
    "duration": 42,
    "start_time": "2021-12-04T15:30:29.790Z"
   },
   {
    "duration": 10,
    "start_time": "2021-12-04T15:30:29.834Z"
   },
   {
    "duration": 49,
    "start_time": "2021-12-04T15:30:29.848Z"
   },
   {
    "duration": 16,
    "start_time": "2021-12-04T15:30:29.929Z"
   },
   {
    "duration": 46,
    "start_time": "2021-12-04T15:30:29.948Z"
   },
   {
    "duration": 45,
    "start_time": "2021-12-04T15:30:29.997Z"
   },
   {
    "duration": 24,
    "start_time": "2021-12-04T15:30:30.045Z"
   },
   {
    "duration": 6,
    "start_time": "2021-12-04T15:30:30.072Z"
   },
   {
    "duration": 653,
    "start_time": "2021-12-04T15:30:30.080Z"
   },
   {
    "duration": 133,
    "start_time": "2021-12-04T15:30:30.735Z"
   },
   {
    "duration": 40,
    "start_time": "2021-12-04T15:30:30.870Z"
   },
   {
    "duration": 61,
    "start_time": "2021-12-04T15:30:30.930Z"
   },
   {
    "duration": 51,
    "start_time": "2021-12-04T15:30:30.993Z"
   },
   {
    "duration": 942,
    "start_time": "2021-12-04T15:30:31.046Z"
   },
   {
    "duration": 3663,
    "start_time": "2021-12-04T15:30:31.991Z"
   },
   {
    "duration": 16,
    "start_time": "2021-12-04T15:30:35.657Z"
   },
   {
    "duration": 25,
    "start_time": "2021-12-04T15:30:35.677Z"
   },
   {
    "duration": 27,
    "start_time": "2021-12-04T15:30:35.706Z"
   },
   {
    "duration": 48,
    "start_time": "2021-12-04T15:30:35.736Z"
   },
   {
    "duration": 70,
    "start_time": "2021-12-04T15:30:35.787Z"
   },
   {
    "duration": 35,
    "start_time": "2021-12-04T15:30:35.859Z"
   },
   {
    "duration": 53,
    "start_time": "2021-12-04T15:30:35.896Z"
   },
   {
    "duration": 5,
    "start_time": "2021-12-04T15:40:52.854Z"
   },
   {
    "duration": 1036,
    "start_time": "2021-12-05T05:36:54.613Z"
   },
   {
    "duration": 67,
    "start_time": "2021-12-05T05:36:55.651Z"
   },
   {
    "duration": 30,
    "start_time": "2021-12-05T05:36:59.931Z"
   },
   {
    "duration": 17,
    "start_time": "2021-12-05T05:37:00.834Z"
   },
   {
    "duration": 49,
    "start_time": "2021-12-05T05:37:01.704Z"
   },
   {
    "duration": 140,
    "start_time": "2021-12-05T05:37:03.472Z"
   },
   {
    "duration": 126,
    "start_time": "2021-12-05T05:38:44.355Z"
   },
   {
    "duration": 12,
    "start_time": "2021-12-05T05:42:56.403Z"
   },
   {
    "duration": 10,
    "start_time": "2021-12-05T05:42:56.763Z"
   },
   {
    "duration": 51,
    "start_time": "2021-12-05T05:42:58.299Z"
   },
   {
    "duration": 13,
    "start_time": "2021-12-05T05:42:58.830Z"
   },
   {
    "duration": 45,
    "start_time": "2021-12-05T05:42:59.603Z"
   },
   {
    "duration": 15,
    "start_time": "2021-12-05T05:43:00.091Z"
   },
   {
    "duration": 22,
    "start_time": "2021-12-05T05:43:03.394Z"
   },
   {
    "duration": 5,
    "start_time": "2021-12-05T05:43:04.949Z"
   },
   {
    "duration": 630,
    "start_time": "2021-12-05T05:43:05.955Z"
   },
   {
    "duration": 5,
    "start_time": "2021-12-05T05:43:07.315Z"
   },
   {
    "duration": 15,
    "start_time": "2021-12-05T05:43:54.300Z"
   },
   {
    "duration": 1010,
    "start_time": "2021-12-05T08:34:56.479Z"
   },
   {
    "duration": 64,
    "start_time": "2021-12-05T08:34:57.492Z"
   },
   {
    "duration": 41,
    "start_time": "2021-12-05T08:34:57.559Z"
   },
   {
    "duration": 31,
    "start_time": "2021-12-05T08:34:57.609Z"
   },
   {
    "duration": 175,
    "start_time": "2021-12-05T08:34:57.644Z"
   },
   {
    "duration": 20,
    "start_time": "2021-12-05T08:34:57.826Z"
   },
   {
    "duration": 81,
    "start_time": "2021-12-05T08:34:57.853Z"
   },
   {
    "duration": 172,
    "start_time": "2021-12-05T08:34:57.937Z"
   },
   {
    "duration": 14,
    "start_time": "2021-12-05T08:34:58.113Z"
   },
   {
    "duration": 66,
    "start_time": "2021-12-05T08:34:58.130Z"
   },
   {
    "duration": 13,
    "start_time": "2021-12-05T08:34:58.198Z"
   },
   {
    "duration": 52,
    "start_time": "2021-12-05T08:34:58.213Z"
   },
   {
    "duration": 5,
    "start_time": "2021-12-05T08:34:58.267Z"
   },
   {
    "duration": 654,
    "start_time": "2021-12-05T08:34:58.274Z"
   },
   {
    "duration": 7,
    "start_time": "2021-12-05T08:34:58.931Z"
   },
   {
    "duration": 202,
    "start_time": "2021-12-05T08:34:58.960Z"
   },
   {
    "duration": 50,
    "start_time": "2021-12-05T08:34:59.165Z"
   },
   {
    "duration": 83,
    "start_time": "2021-12-05T08:34:59.218Z"
   },
   {
    "duration": 6,
    "start_time": "2021-12-05T08:34:59.304Z"
   },
   {
    "duration": 981,
    "start_time": "2021-12-05T08:34:59.312Z"
   },
   {
    "duration": 4073,
    "start_time": "2021-12-05T08:35:00.296Z"
   },
   {
    "duration": 20,
    "start_time": "2021-12-05T08:35:04.372Z"
   },
   {
    "duration": 22,
    "start_time": "2021-12-05T08:35:04.394Z"
   },
   {
    "duration": 5,
    "start_time": "2021-12-05T08:35:04.419Z"
   },
   {
    "duration": 313,
    "start_time": "2021-12-05T08:35:04.459Z"
   },
   {
    "duration": 56,
    "start_time": "2021-12-05T08:35:04.775Z"
   },
   {
    "duration": 72,
    "start_time": "2021-12-05T08:35:04.837Z"
   },
   {
    "duration": 73,
    "start_time": "2021-12-05T08:35:04.913Z"
   }
  ],
  "kernelspec": {
   "display_name": "Python 3 (ipykernel)",
   "language": "python",
   "name": "python3"
  },
  "language_info": {
   "codemirror_mode": {
    "name": "ipython",
    "version": 3
   },
   "file_extension": ".py",
   "mimetype": "text/x-python",
   "name": "python",
   "nbconvert_exporter": "python",
   "pygments_lexer": "ipython3",
   "version": "3.9.5"
  },
  "toc": {
   "base_numbering": 1,
   "nav_menu": {},
   "number_sections": true,
   "sideBar": true,
   "skip_h1_title": true,
   "title_cell": "Table of Contents",
   "title_sidebar": "Contents",
   "toc_cell": false,
   "toc_position": {},
   "toc_section_display": true,
   "toc_window_display": false
  }
 },
 "nbformat": 4,
 "nbformat_minor": 2
}
