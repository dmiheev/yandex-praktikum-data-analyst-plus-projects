{
 "cells": [
  {
   "cell_type": "markdown",
   "metadata": {
    "toc": true
   },
   "source": [
    "<h1>Содержание<span class=\"tocSkip\"></span></h1>\n",
    "<div class=\"toc\"><ul class=\"toc-item\"><li><span><a href=\"#Вводная-информация\" data-toc-modified-id=\"Вводная-информация-1\"><span class=\"toc-item-num\">1&nbsp;&nbsp;</span>Вводная информация</a></span><ul class=\"toc-item\"><li><span><a href=\"#Описание-данных\" data-toc-modified-id=\"Описание-данных-1.1\"><span class=\"toc-item-num\">1.1&nbsp;&nbsp;</span>Описание данных</a></span></li><li><span><a href=\"#Задачи\" data-toc-modified-id=\"Задачи-1.2\"><span class=\"toc-item-num\">1.2&nbsp;&nbsp;</span>Задачи</a></span></li></ul></li><li><span><a href=\"#Предобработка-данных\" data-toc-modified-id=\"Предобработка-данных-2\"><span class=\"toc-item-num\">2&nbsp;&nbsp;</span>Предобработка данных</a></span><ul class=\"toc-item\"><li><span><a href=\"#Открытие-файла.-Изучение-общей-информации.\" data-toc-modified-id=\"Открытие-файла.-Изучение-общей-информации.-2.1\"><span class=\"toc-item-num\">2.1&nbsp;&nbsp;</span>Открытие файла. Изучение общей информации.</a></span></li><li><span><a href=\"#Приведение-данных-к-нужным-типам.\" data-toc-modified-id=\"Приведение-данных-к-нужным-типам.-2.2\"><span class=\"toc-item-num\">2.2&nbsp;&nbsp;</span>Приведение данных к нужным типам.</a></span></li><li><span><a href=\"#Определение-и-изучение-пропущенных-значений.\" data-toc-modified-id=\"Определение-и-изучение-пропущенных-значений.-2.3\"><span class=\"toc-item-num\">2.3&nbsp;&nbsp;</span>Определение и изучение пропущенных значений.</a></span></li><li><span><a href=\"#Заполнение-пропусков.-Объяснение-причин.\" data-toc-modified-id=\"Заполнение-пропусков.-Объяснение-причин.-2.4\"><span class=\"toc-item-num\">2.4&nbsp;&nbsp;</span>Заполнение пропусков. Объяснение причин.</a></span><ul class=\"toc-item\"><li><span><a href=\"#ceiling_height\" data-toc-modified-id=\"ceiling_height-2.4.1\"><span class=\"toc-item-num\">2.4.1&nbsp;&nbsp;</span><code>ceiling_height</code></a></span></li><li><span><a href=\"#city_centers_nearest\" data-toc-modified-id=\"city_centers_nearest-2.4.2\"><span class=\"toc-item-num\">2.4.2&nbsp;&nbsp;</span><code>city_centers_nearest</code></a></span></li><li><span><a href=\"#days_exposition\" data-toc-modified-id=\"days_exposition-2.4.3\"><span class=\"toc-item-num\">2.4.3&nbsp;&nbsp;</span><code>days_exposition</code></a></span></li><li><span><a href=\"#kitchen_area\" data-toc-modified-id=\"kitchen_area-2.4.4\"><span class=\"toc-item-num\">2.4.4&nbsp;&nbsp;</span><code>kitchen_area</code></a></span></li><li><span><a href=\"#living_area\" data-toc-modified-id=\"living_area-2.4.5\"><span class=\"toc-item-num\">2.4.5&nbsp;&nbsp;</span><code>living_area</code></a></span></li><li><span><a href=\"#floors_total\" data-toc-modified-id=\"floors_total-2.4.6\"><span class=\"toc-item-num\">2.4.6&nbsp;&nbsp;</span><code>floors_total</code></a></span></li><li><span><a href=\"#locality_name\" data-toc-modified-id=\"locality_name-2.4.7\"><span class=\"toc-item-num\">2.4.7&nbsp;&nbsp;</span><code>locality_name</code></a></span></li></ul></li></ul></li><li><span><a href=\"#Расчёты-и-добавление-результатов-в-таблицу\" data-toc-modified-id=\"Расчёты-и-добавление-результатов-в-таблицу-3\"><span class=\"toc-item-num\">3&nbsp;&nbsp;</span>Расчёты и добавление результатов в таблицу</a></span><ul class=\"toc-item\"><li><span><a href=\"#Расчет-стоимости-квадратного-метра.\" data-toc-modified-id=\"Расчет-стоимости-квадратного-метра.-3.1\"><span class=\"toc-item-num\">3.1&nbsp;&nbsp;</span>Расчет стоимости квадратного метра.</a></span></li><li><span><a href=\"#День-недели,-месяц-и-год-публикации-объявления.\" data-toc-modified-id=\"День-недели,-месяц-и-год-публикации-объявления.-3.2\"><span class=\"toc-item-num\">3.2&nbsp;&nbsp;</span>День недели, месяц и год публикации объявления.</a></span></li><li><span><a href=\"#Этаж-квартиры-(первый,-последний,-другой).\" data-toc-modified-id=\"Этаж-квартиры-(первый,-последний,-другой).-3.3\"><span class=\"toc-item-num\">3.3&nbsp;&nbsp;</span>Этаж квартиры (первый, последний, другой).</a></span></li><li><span><a href=\"#Соотношение-жилой-и-общей-площади,-а-также-отношение-площади-кухни-к-общей.\" data-toc-modified-id=\"Соотношение-жилой-и-общей-площади,-а-также-отношение-площади-кухни-к-общей.-3.4\"><span class=\"toc-item-num\">3.4&nbsp;&nbsp;</span>Соотношение жилой и общей площади, а также отношение площади кухни к общей.</a></span></li></ul></li><li><span><a href=\"#Исследовательский-анализ-данных\" data-toc-modified-id=\"Исследовательский-анализ-данных-4\"><span class=\"toc-item-num\">4&nbsp;&nbsp;</span>Исследовательский анализ данных</a></span><ul class=\"toc-item\"><li><span><a href=\"#Изучить-параметры:-площадь,-цена,-число-комнат,-высота-потолков.\" data-toc-modified-id=\"Изучить-параметры:-площадь,-цена,-число-комнат,-высота-потолков.-4.1\"><span class=\"toc-item-num\">4.1&nbsp;&nbsp;</span>Изучить параметры: площадь, цена, число комнат, высота потолков.</a></span><ul class=\"toc-item\"><li><span><a href=\"#Общая-площадь\" data-toc-modified-id=\"Общая-площадь-4.1.1\"><span class=\"toc-item-num\">4.1.1&nbsp;&nbsp;</span>Общая площадь</a></span></li><li><span><a href=\"#Цена\" data-toc-modified-id=\"Цена-4.1.2\"><span class=\"toc-item-num\">4.1.2&nbsp;&nbsp;</span>Цена</a></span></li><li><span><a href=\"#Число-комнат\" data-toc-modified-id=\"Число-комнат-4.1.3\"><span class=\"toc-item-num\">4.1.3&nbsp;&nbsp;</span>Число комнат</a></span></li><li><span><a href=\"#Высота-потолков\" data-toc-modified-id=\"Высота-потолков-4.1.4\"><span class=\"toc-item-num\">4.1.4&nbsp;&nbsp;</span>Высота потолков</a></span></li></ul></li><li><span><a href=\"#Изучить-время-продажи-квартиры.\" data-toc-modified-id=\"Изучить-время-продажи-квартиры.-4.2\"><span class=\"toc-item-num\">4.2&nbsp;&nbsp;</span>Изучить время продажи квартиры.</a></span></li><li><span><a href=\"#Убрать-редкие-и-выбивающиеся-значения.\" data-toc-modified-id=\"Убрать-редкие-и-выбивающиеся-значения.-4.3\"><span class=\"toc-item-num\">4.3&nbsp;&nbsp;</span>Убрать редкие и выбивающиеся значения.</a></span></li><li><span><a href=\"#Какие-факторы-больше-всего-влияют-на-стоимость-квартиры?\" data-toc-modified-id=\"Какие-факторы-больше-всего-влияют-на-стоимость-квартиры?-4.4\"><span class=\"toc-item-num\">4.4&nbsp;&nbsp;</span>Какие факторы больше всего влияют на стоимость квартиры?</a></span><ul class=\"toc-item\"><li><span><a href=\"#Изучим,-зависит-ли-цена-от-площади,-числа-комнат,-удалённости-от-центра.\" data-toc-modified-id=\"Изучим,-зависит-ли-цена-от-площади,-числа-комнат,-удалённости-от-центра.-4.4.1\"><span class=\"toc-item-num\">4.4.1&nbsp;&nbsp;</span>Изучим, зависит ли цена от площади, числа комнат, удалённости от центра.</a></span></li><li><span><a href=\"#Изучить-зависимость-цены-от-того,-на-каком-этаже-расположена-квартира:-первом,-последнем-или-другом.\" data-toc-modified-id=\"Изучить-зависимость-цены-от-того,-на-каком-этаже-расположена-квартира:-первом,-последнем-или-другом.-4.4.2\"><span class=\"toc-item-num\">4.4.2&nbsp;&nbsp;</span>Изучить зависимость цены от того, на каком этаже расположена квартира: первом, последнем или другом.</a></span></li><li><span><a href=\"#Изучить-зависимость-от-даты-размещения:-дня-недели,-месяца-и-года.\" data-toc-modified-id=\"Изучить-зависимость-от-даты-размещения:-дня-недели,-месяца-и-года.-4.4.3\"><span class=\"toc-item-num\">4.4.3&nbsp;&nbsp;</span>Изучить зависимость от даты размещения: дня недели, месяца и года.</a></span></li></ul></li><li><span><a href=\"#Выбрать-10-населённых-пунктов-с-наибольшим-числом-объявлений.-Посчитать-среднюю-цену-квадратного-метра-в-этих-населённых-пунктах.\" data-toc-modified-id=\"Выбрать-10-населённых-пунктов-с-наибольшим-числом-объявлений.-Посчитать-среднюю-цену-квадратного-метра-в-этих-населённых-пунктах.-4.5\"><span class=\"toc-item-num\">4.5&nbsp;&nbsp;</span>Выбрать 10 населённых пунктов с наибольшим числом объявлений. Посчитать среднюю цену квадратного метра в этих населённых пунктах.</a></span></li><li><span><a href=\"#Изучить-предложения-квартир:-для-каждой-квартиры-есть-информация-о-расстоянии-до-центра.\" data-toc-modified-id=\"Изучить-предложения-квартир:-для-каждой-квартиры-есть-информация-о-расстоянии-до-центра.-4.6\"><span class=\"toc-item-num\">4.6&nbsp;&nbsp;</span>Изучить предложения квартир: для каждой квартиры есть информация о расстоянии до центра.</a></span></li><li><span><a href=\"#Выделить-сегмент-квартир-в-центре.-Проанализировать-эту-территорию\" data-toc-modified-id=\"Выделить-сегмент-квартир-в-центре.-Проанализировать-эту-территорию-4.7\"><span class=\"toc-item-num\">4.7&nbsp;&nbsp;</span>Выделить сегмент квартир в центре. Проанализировать эту территорию</a></span></li></ul></li><li><span><a href=\"#Общий-вывод\" data-toc-modified-id=\"Общий-вывод-5\"><span class=\"toc-item-num\">5&nbsp;&nbsp;</span>Общий вывод</a></span></li><li><span><a href=\"#Чек-лист-готовности-проекта\" data-toc-modified-id=\"Чек-лист-готовности-проекта-6\"><span class=\"toc-item-num\">6&nbsp;&nbsp;</span>Чек-лист готовности проекта</a></span></li></ul></div>"
   ]
  },
  {
   "cell_type": "markdown",
   "metadata": {},
   "source": [
    "# Исследование объявлений о продаже квартир\n",
    "\n",
    "В вашем распоряжении данные сервиса Яндекс.Недвижимость — архив объявлений о продаже квартир в Санкт-Петербурге и соседних населённых пунктах за несколько лет. Нужно научиться определять рыночную стоимость объектов недвижимости. Ваша задача — установить параметры. Это позволит построить автоматизированную систему: она отследит аномалии и мошенническую деятельность. \n",
    "\n",
    "По каждой квартире на продажу доступны два вида данных. Первые вписаны пользователем, вторые получены автоматически на основе картографических данных. Например, расстояние до центра, аэропорта, ближайшего парка и водоёма. "
   ]
  },
  {
   "cell_type": "markdown",
   "metadata": {},
   "source": [
    "## Вводная информация"
   ]
  },
  {
   "cell_type": "markdown",
   "metadata": {},
   "source": [
    "### Описание данных\n",
    "* `airports_nearest` — расстояние до ближайшего аэропорта в метрах (м)\n",
    "* `balcony` — число балконов\n",
    "* `ceiling_height` — высота потолков (м)\n",
    "* `cityCenters_nearest` — расстояние до центра города (м)\n",
    "* `days_exposition` — сколько дней было размещено объявление (от публикации до снятия)\n",
    "* `first_day_exposition` — дата публикации\n",
    "* `floor` — этаж\n",
    "* `floors_total` — всего этажей в доме\n",
    "* `is_apartment` — апартаменты (булев тип)\n",
    "* `kitchen_area` — площадь кухни в квадратных метрах (м²)\n",
    "* `last_price` — цена на момент снятия с публикации\n",
    "* `living_area` — жилая площадь в квадратных метрах (м²)\n",
    "* `locality_name` — название населённого пункта\n",
    "* `open_plan` — свободная планировка (булев тип)\n",
    "* `parks_around3000` — число парков в радиусе 3 км\n",
    "* `parks_nearest` — расстояние до ближайшего парка (м)\n",
    "* `ponds_around3000` — число водоёмов в радиусе 3 км\n",
    "* `ponds_nearest` — расстояние до ближайшего водоёма (м)\n",
    "* `rooms` — число комнат\n",
    "* `studio` — квартира-студия (булев тип)\n",
    "* `total_area` — площадь квартиры в квадратных метрах (м²)\n",
    "* `total_images` — число фотографий квартиры в объявлении"
   ]
  },
  {
   "cell_type": "markdown",
   "metadata": {},
   "source": [
    "### Задачи\n",
    "<html><body>\n",
    "<table class=\"table\">\n",
    "  <thead style=\"font-weight: bold; font-size: larger; background-color: silver\">\n",
    "    <tr>\n",
    "    <td style=\"text-align: left; width: 15%;\">Шаг 2. Предобработка данных</td>\n",
    "    <td style=\"text-align: left; width: 15%;\">Шаг 3. Добавление в таблицу необходимой информации</td>\n",
    "    <td style=\"text-align: left; width: 55%;\">Шаг 4. Анализ данных</td>\n",
    "    <td style=\"text-align: left; width: 15%;\">Шаг 5. Общий вывод</td>\n",
    "  </tr>\n",
    "  </thead>\n",
    "  <tbody style=\"font-size: lower;\">\n",
    "  <tr>\n",
    "    <td style=\"text-align: left;\">Открытие файла. Изучение общей информации.</td>\n",
    "    <td style=\"text-align: left;\">Расчет стоимости квадратного метра.</td>\n",
    "    <td style=\"text-align: left;\">Изучить параметры: площадь, цена, число комнат, высота потолков. Построить гистограммы для каждого параметра.</td>\n",
    "    <td style=\"text-align: left;\">Сделать общий вывод.</td>\n",
    "  </tr>\n",
    "  <tr>\n",
    "    <td style=\"text-align: left;\">Приведение данных к нужным типам.</td>    \n",
    "    <td style=\"text-align: left;\">День недели, месяц и год публикации объявления.</td>\n",
    "    <td style=\"text-align: left;\">Изучить время продажи квартиры. Построить гистограмму. Посчитать среднее и медиану. Описать, сколько обычно занимает продажа. Когда можно считать, что продажи прошли очень быстро, а когда необычно долго?</td>\n",
    "    <td style=\"text-align: left;\"></td>\n",
    "  </tr>\n",
    "  <tr>\n",
    "    <td style=\"text-align: left;\">Определение и изучение пропущенных значений.</td>\n",
    "    <td style=\"text-align: left;\">Этаж квартиры (первый, последний, другой).</td>\n",
    "    <td style=\"text-align: left;\">Убрать редкие и выбивающиеся значения. Описать, какие особенности обнаружены.</td>\n",
    "    <td style=\"text-align: left;\"></td>\n",
    "  </tr>\n",
    "  <tr>\n",
    "    <td style=\"text-align: left;\">Заполнение пропусков. Объяснение причин.</td>\n",
    "    <td style=\"text-align: left;\">Соотношение жилой и общей площади, а также отношение площади кухни к общей.</td>\n",
    "    <td style=\"text-align: left;\">Какие факторы больше всего влияют на стоимость квартиры? Изучить, зависит ли цена от площади, числа комнат, удалённости от центра. Изучить зависимость цены от того, на каком этаже расположена квартира: первом, последнем или другом. Также изучить зависимость от даты размещения: дня недели, месяца и года.</td>      \n",
    "    <td style=\"text-align: left;\"></td>\n",
    "  </tr>\n",
    "  <tr>\n",
    "    <td style=\"text-align: left;\"></td>    \n",
    "    <td style=\"text-align: left;\"></td>\n",
    "    <td style=\"text-align: left;\">Выбрать 10 населённых пунктов с наибольшим числом объявлений. Посчитать среднюю цену квадратного метра в этих населённых пунктах. Выделить населённые пункты с самой высокой и низкой стоимостью жилья. Эти данные можно найти по имени в столбце locality_name.</td>\n",
    "    <td style=\"text-align: left;\"></td>\n",
    "  </tr>\n",
    "  <tr>\n",
    "    <td style=\"text-align: left;\"></td>    \n",
    "    <td style=\"text-align: left;\"></td>\n",
    "    <td style=\"text-align: left;\">Изучить предложения квартир: для каждой квартиры есть информация о расстоянии до центра. Выделить квартиры в Санкт-Петербурге (locality_name). Выяснить, какая область входит в центр. Создать столбец с расстоянием до центра в километрах: округлить до целых значений. После этого посчитать среднюю цену для каждого километра. Построить график: он должен показывать, как цена зависит от удалённости от центра. Определить границу, где график сильно меняется, — это и будет центральная зона.</td>\n",
    "    <td style=\"text-align: left;\"></td>\n",
    "  </tr>\n",
    "  <tr>\n",
    "    <td style=\"text-align: left;\"></td>    \n",
    "    <td style=\"text-align: left;\"></td>\n",
    "    <td style=\"text-align: left;\">Выделить сегмент квартир в центре. Проанализировать эту территорию и изучить следующие параметры: площадь, цена, число комнат, высота потолков. Также выделить факторы, которые влияют на стоимость квартиры (число комнат, этаж, удалённость от центра, дата размещения объявления). Сделать выводы. Отличаются ли они от общих выводов по всему городу?</td>\n",
    "    <td style=\"text-align: left;\"></td>\n",
    "  </tr>\n",
    "  </tbody>\n",
    "</table>\n",
    "</body></html>"
   ]
  },
  {
   "cell_type": "markdown",
   "metadata": {},
   "source": [
    "## Предобработка данных"
   ]
  },
  {
   "cell_type": "markdown",
   "metadata": {},
   "source": [
    "### Открытие файла. Изучение общей информации."
   ]
  },
  {
   "cell_type": "code",
   "execution_count": 1,
   "metadata": {},
   "outputs": [],
   "source": [
    "# Импорт необходимых библиотек\n",
    "%matplotlib inline\n",
    "import pandas as pd\n",
    "import matplotlib.pyplot as plt\n",
    "import requests\n",
    "import io\n",
    "from matplotlib.ticker import StrMethodFormatter\n",
    "import numpy as np\n",
    "pd.options.mode.chained_assignment = None"
   ]
  },
  {
   "cell_type": "code",
   "execution_count": 2,
   "metadata": {},
   "outputs": [
    {
     "data": {
      "text/html": [
       "<div>\n",
       "<style scoped>\n",
       "    .dataframe tbody tr th:only-of-type {\n",
       "        vertical-align: middle;\n",
       "    }\n",
       "\n",
       "    .dataframe tbody tr th {\n",
       "        vertical-align: top;\n",
       "    }\n",
       "\n",
       "    .dataframe thead th {\n",
       "        text-align: right;\n",
       "    }\n",
       "</style>\n",
       "<table border=\"1\" class=\"dataframe\">\n",
       "  <thead>\n",
       "    <tr style=\"text-align: right;\">\n",
       "      <th></th>\n",
       "      <th>total_images</th>\n",
       "      <th>last_price</th>\n",
       "      <th>total_area</th>\n",
       "      <th>first_day_exposition</th>\n",
       "      <th>rooms</th>\n",
       "      <th>ceiling_height</th>\n",
       "      <th>floors_total</th>\n",
       "      <th>living_area</th>\n",
       "      <th>floor</th>\n",
       "      <th>is_apartment</th>\n",
       "      <th>...</th>\n",
       "      <th>kitchen_area</th>\n",
       "      <th>balcony</th>\n",
       "      <th>locality_name</th>\n",
       "      <th>airports_nearest</th>\n",
       "      <th>cityCenters_nearest</th>\n",
       "      <th>parks_around3000</th>\n",
       "      <th>parks_nearest</th>\n",
       "      <th>ponds_around3000</th>\n",
       "      <th>ponds_nearest</th>\n",
       "      <th>days_exposition</th>\n",
       "    </tr>\n",
       "  </thead>\n",
       "  <tbody>\n",
       "    <tr>\n",
       "      <td>0</td>\n",
       "      <td>20</td>\n",
       "      <td>13000000.0</td>\n",
       "      <td>108.0</td>\n",
       "      <td>2019-03-07T00:00:00</td>\n",
       "      <td>3</td>\n",
       "      <td>2.70</td>\n",
       "      <td>16.0</td>\n",
       "      <td>51.0</td>\n",
       "      <td>8</td>\n",
       "      <td>NaN</td>\n",
       "      <td>...</td>\n",
       "      <td>25.0</td>\n",
       "      <td>NaN</td>\n",
       "      <td>Санкт-Петербург</td>\n",
       "      <td>18863.0</td>\n",
       "      <td>16028.0</td>\n",
       "      <td>1.0</td>\n",
       "      <td>482.0</td>\n",
       "      <td>2.0</td>\n",
       "      <td>755.0</td>\n",
       "      <td>NaN</td>\n",
       "    </tr>\n",
       "    <tr>\n",
       "      <td>1</td>\n",
       "      <td>7</td>\n",
       "      <td>3350000.0</td>\n",
       "      <td>40.4</td>\n",
       "      <td>2018-12-04T00:00:00</td>\n",
       "      <td>1</td>\n",
       "      <td>NaN</td>\n",
       "      <td>11.0</td>\n",
       "      <td>18.6</td>\n",
       "      <td>1</td>\n",
       "      <td>NaN</td>\n",
       "      <td>...</td>\n",
       "      <td>11.0</td>\n",
       "      <td>2.0</td>\n",
       "      <td>посёлок Шушары</td>\n",
       "      <td>12817.0</td>\n",
       "      <td>18603.0</td>\n",
       "      <td>0.0</td>\n",
       "      <td>NaN</td>\n",
       "      <td>0.0</td>\n",
       "      <td>NaN</td>\n",
       "      <td>81.0</td>\n",
       "    </tr>\n",
       "    <tr>\n",
       "      <td>2</td>\n",
       "      <td>10</td>\n",
       "      <td>5196000.0</td>\n",
       "      <td>56.0</td>\n",
       "      <td>2015-08-20T00:00:00</td>\n",
       "      <td>2</td>\n",
       "      <td>NaN</td>\n",
       "      <td>5.0</td>\n",
       "      <td>34.3</td>\n",
       "      <td>4</td>\n",
       "      <td>NaN</td>\n",
       "      <td>...</td>\n",
       "      <td>8.3</td>\n",
       "      <td>0.0</td>\n",
       "      <td>Санкт-Петербург</td>\n",
       "      <td>21741.0</td>\n",
       "      <td>13933.0</td>\n",
       "      <td>1.0</td>\n",
       "      <td>90.0</td>\n",
       "      <td>2.0</td>\n",
       "      <td>574.0</td>\n",
       "      <td>558.0</td>\n",
       "    </tr>\n",
       "    <tr>\n",
       "      <td>3</td>\n",
       "      <td>0</td>\n",
       "      <td>64900000.0</td>\n",
       "      <td>159.0</td>\n",
       "      <td>2015-07-24T00:00:00</td>\n",
       "      <td>3</td>\n",
       "      <td>NaN</td>\n",
       "      <td>14.0</td>\n",
       "      <td>NaN</td>\n",
       "      <td>9</td>\n",
       "      <td>NaN</td>\n",
       "      <td>...</td>\n",
       "      <td>NaN</td>\n",
       "      <td>0.0</td>\n",
       "      <td>Санкт-Петербург</td>\n",
       "      <td>28098.0</td>\n",
       "      <td>6800.0</td>\n",
       "      <td>2.0</td>\n",
       "      <td>84.0</td>\n",
       "      <td>3.0</td>\n",
       "      <td>234.0</td>\n",
       "      <td>424.0</td>\n",
       "    </tr>\n",
       "    <tr>\n",
       "      <td>4</td>\n",
       "      <td>2</td>\n",
       "      <td>10000000.0</td>\n",
       "      <td>100.0</td>\n",
       "      <td>2018-06-19T00:00:00</td>\n",
       "      <td>2</td>\n",
       "      <td>3.03</td>\n",
       "      <td>14.0</td>\n",
       "      <td>32.0</td>\n",
       "      <td>13</td>\n",
       "      <td>NaN</td>\n",
       "      <td>...</td>\n",
       "      <td>41.0</td>\n",
       "      <td>NaN</td>\n",
       "      <td>Санкт-Петербург</td>\n",
       "      <td>31856.0</td>\n",
       "      <td>8098.0</td>\n",
       "      <td>2.0</td>\n",
       "      <td>112.0</td>\n",
       "      <td>1.0</td>\n",
       "      <td>48.0</td>\n",
       "      <td>121.0</td>\n",
       "    </tr>\n",
       "  </tbody>\n",
       "</table>\n",
       "<p>5 rows × 22 columns</p>\n",
       "</div>"
      ],
      "text/plain": [
       "   total_images  last_price  total_area first_day_exposition  rooms  \\\n",
       "0            20  13000000.0       108.0  2019-03-07T00:00:00      3   \n",
       "1             7   3350000.0        40.4  2018-12-04T00:00:00      1   \n",
       "2            10   5196000.0        56.0  2015-08-20T00:00:00      2   \n",
       "3             0  64900000.0       159.0  2015-07-24T00:00:00      3   \n",
       "4             2  10000000.0       100.0  2018-06-19T00:00:00      2   \n",
       "\n",
       "   ceiling_height  floors_total  living_area  floor is_apartment  ...  \\\n",
       "0            2.70          16.0         51.0      8          NaN  ...   \n",
       "1             NaN          11.0         18.6      1          NaN  ...   \n",
       "2             NaN           5.0         34.3      4          NaN  ...   \n",
       "3             NaN          14.0          NaN      9          NaN  ...   \n",
       "4            3.03          14.0         32.0     13          NaN  ...   \n",
       "\n",
       "   kitchen_area  balcony    locality_name  airports_nearest  \\\n",
       "0          25.0      NaN  Санкт-Петербург           18863.0   \n",
       "1          11.0      2.0   посёлок Шушары           12817.0   \n",
       "2           8.3      0.0  Санкт-Петербург           21741.0   \n",
       "3           NaN      0.0  Санкт-Петербург           28098.0   \n",
       "4          41.0      NaN  Санкт-Петербург           31856.0   \n",
       "\n",
       "  cityCenters_nearest  parks_around3000  parks_nearest  ponds_around3000  \\\n",
       "0             16028.0               1.0          482.0               2.0   \n",
       "1             18603.0               0.0            NaN               0.0   \n",
       "2             13933.0               1.0           90.0               2.0   \n",
       "3              6800.0               2.0           84.0               3.0   \n",
       "4              8098.0               2.0          112.0               1.0   \n",
       "\n",
       "   ponds_nearest  days_exposition  \n",
       "0          755.0              NaN  \n",
       "1            NaN             81.0  \n",
       "2          574.0            558.0  \n",
       "3          234.0            424.0  \n",
       "4           48.0            121.0  \n",
       "\n",
       "[5 rows x 22 columns]"
      ]
     },
     "execution_count": 2,
     "metadata": {},
     "output_type": "execute_result"
    }
   ],
   "source": [
    "# Чтение датасета из Github\n",
    "url = 'https://raw.githubusercontent.com/dmiheev/ds/main/real_estate_data.csv'\n",
    "download = requests.get(url).content\n",
    "df = pd.read_csv(io.StringIO(download.decode('utf-8')), sep='\\t')\n",
    "df.head()"
   ]
  },
  {
   "cell_type": "code",
   "execution_count": 3,
   "metadata": {},
   "outputs": [
    {
     "name": "stdout",
     "output_type": "stream",
     "text": [
      "<class 'pandas.core.frame.DataFrame'>\n",
      "RangeIndex: 23699 entries, 0 to 23698\n",
      "Data columns (total 22 columns):\n",
      "total_images            23699 non-null int64\n",
      "last_price              23699 non-null float64\n",
      "total_area              23699 non-null float64\n",
      "first_day_exposition    23699 non-null object\n",
      "rooms                   23699 non-null int64\n",
      "ceiling_height          14504 non-null float64\n",
      "floors_total            23613 non-null float64\n",
      "living_area             21796 non-null float64\n",
      "floor                   23699 non-null int64\n",
      "is_apartment            2775 non-null object\n",
      "studio                  23699 non-null bool\n",
      "open_plan               23699 non-null bool\n",
      "kitchen_area            21421 non-null float64\n",
      "balcony                 12180 non-null float64\n",
      "locality_name           23650 non-null object\n",
      "airports_nearest        18157 non-null float64\n",
      "cityCenters_nearest     18180 non-null float64\n",
      "parks_around3000        18181 non-null float64\n",
      "parks_nearest           8079 non-null float64\n",
      "ponds_around3000        18181 non-null float64\n",
      "ponds_nearest           9110 non-null float64\n",
      "days_exposition         20518 non-null float64\n",
      "dtypes: bool(2), float64(14), int64(3), object(3)\n",
      "memory usage: 3.7+ MB\n"
     ]
    }
   ],
   "source": [
    "# Посмотрим сколько строк и столбцов в датасете\n",
    "# и на пропуски\n",
    "df_len, df_cols = df.shape\n",
    "df.info()"
   ]
  },
  {
   "cell_type": "code",
   "execution_count": 4,
   "metadata": {},
   "outputs": [],
   "source": [
    "# Приведем к snake_case имя столбца cityCenters_nearest\n",
    "df = df.rename({'cityCenters_nearest': 'city_centers_nearest'}, axis=1)"
   ]
  },
  {
   "cell_type": "markdown",
   "metadata": {},
   "source": [
    "Данные прочитались, 23699 строк в 22 столбцах. \n",
    "Содержат много незаполненных данных, будем исследовать более детально."
   ]
  },
  {
   "cell_type": "markdown",
   "metadata": {},
   "source": [
    "Проанализируем датасет:"
   ]
  },
  {
   "cell_type": "code",
   "execution_count": 5,
   "metadata": {},
   "outputs": [
    {
     "data": {
      "text/html": [
       "<div>\n",
       "<style scoped>\n",
       "    .dataframe tbody tr th:only-of-type {\n",
       "        vertical-align: middle;\n",
       "    }\n",
       "\n",
       "    .dataframe tbody tr th {\n",
       "        vertical-align: top;\n",
       "    }\n",
       "\n",
       "    .dataframe thead th {\n",
       "        text-align: right;\n",
       "    }\n",
       "</style>\n",
       "<table border=\"1\" class=\"dataframe\">\n",
       "  <thead>\n",
       "    <tr style=\"text-align: right;\">\n",
       "      <th></th>\n",
       "      <th>total_images</th>\n",
       "      <th>last_price</th>\n",
       "      <th>total_area</th>\n",
       "      <th>rooms</th>\n",
       "      <th>ceiling_height</th>\n",
       "      <th>floors_total</th>\n",
       "      <th>living_area</th>\n",
       "      <th>floor</th>\n",
       "      <th>kitchen_area</th>\n",
       "      <th>balcony</th>\n",
       "      <th>airports_nearest</th>\n",
       "      <th>city_centers_nearest</th>\n",
       "      <th>parks_around3000</th>\n",
       "      <th>parks_nearest</th>\n",
       "      <th>ponds_around3000</th>\n",
       "      <th>ponds_nearest</th>\n",
       "      <th>days_exposition</th>\n",
       "    </tr>\n",
       "  </thead>\n",
       "  <tbody>\n",
       "    <tr>\n",
       "      <td>count</td>\n",
       "      <td>23699</td>\n",
       "      <td>23699</td>\n",
       "      <td>23699</td>\n",
       "      <td>23699</td>\n",
       "      <td>14504</td>\n",
       "      <td>23613</td>\n",
       "      <td>21796</td>\n",
       "      <td>23699</td>\n",
       "      <td>21421</td>\n",
       "      <td>12180</td>\n",
       "      <td>18157</td>\n",
       "      <td>18180</td>\n",
       "      <td>18181</td>\n",
       "      <td>8079</td>\n",
       "      <td>18181</td>\n",
       "      <td>9110</td>\n",
       "      <td>20518</td>\n",
       "    </tr>\n",
       "    <tr>\n",
       "      <td>mean</td>\n",
       "      <td>9</td>\n",
       "      <td>6541548</td>\n",
       "      <td>60</td>\n",
       "      <td>2</td>\n",
       "      <td>2</td>\n",
       "      <td>10</td>\n",
       "      <td>34</td>\n",
       "      <td>5</td>\n",
       "      <td>10</td>\n",
       "      <td>1</td>\n",
       "      <td>28793</td>\n",
       "      <td>14191</td>\n",
       "      <td>0</td>\n",
       "      <td>490</td>\n",
       "      <td>0</td>\n",
       "      <td>517</td>\n",
       "      <td>180</td>\n",
       "    </tr>\n",
       "    <tr>\n",
       "      <td>std</td>\n",
       "      <td>5</td>\n",
       "      <td>10887013</td>\n",
       "      <td>35</td>\n",
       "      <td>1</td>\n",
       "      <td>1</td>\n",
       "      <td>6</td>\n",
       "      <td>22</td>\n",
       "      <td>4</td>\n",
       "      <td>5</td>\n",
       "      <td>1</td>\n",
       "      <td>12630</td>\n",
       "      <td>8608</td>\n",
       "      <td>0</td>\n",
       "      <td>342</td>\n",
       "      <td>0</td>\n",
       "      <td>277</td>\n",
       "      <td>219</td>\n",
       "    </tr>\n",
       "    <tr>\n",
       "      <td>min</td>\n",
       "      <td>0</td>\n",
       "      <td>12190</td>\n",
       "      <td>12</td>\n",
       "      <td>0</td>\n",
       "      <td>1</td>\n",
       "      <td>1</td>\n",
       "      <td>2</td>\n",
       "      <td>1</td>\n",
       "      <td>1</td>\n",
       "      <td>0</td>\n",
       "      <td>0</td>\n",
       "      <td>181</td>\n",
       "      <td>0</td>\n",
       "      <td>1</td>\n",
       "      <td>0</td>\n",
       "      <td>13</td>\n",
       "      <td>1</td>\n",
       "    </tr>\n",
       "    <tr>\n",
       "      <td>25%</td>\n",
       "      <td>6</td>\n",
       "      <td>3400000</td>\n",
       "      <td>40</td>\n",
       "      <td>1</td>\n",
       "      <td>2</td>\n",
       "      <td>5</td>\n",
       "      <td>18</td>\n",
       "      <td>2</td>\n",
       "      <td>7</td>\n",
       "      <td>0</td>\n",
       "      <td>18585</td>\n",
       "      <td>9238</td>\n",
       "      <td>0</td>\n",
       "      <td>288</td>\n",
       "      <td>0</td>\n",
       "      <td>294</td>\n",
       "      <td>45</td>\n",
       "    </tr>\n",
       "    <tr>\n",
       "      <td>50%</td>\n",
       "      <td>9</td>\n",
       "      <td>4650000</td>\n",
       "      <td>52</td>\n",
       "      <td>2</td>\n",
       "      <td>2</td>\n",
       "      <td>9</td>\n",
       "      <td>30</td>\n",
       "      <td>4</td>\n",
       "      <td>9</td>\n",
       "      <td>1</td>\n",
       "      <td>26726</td>\n",
       "      <td>13098</td>\n",
       "      <td>0</td>\n",
       "      <td>455</td>\n",
       "      <td>1</td>\n",
       "      <td>502</td>\n",
       "      <td>95</td>\n",
       "    </tr>\n",
       "    <tr>\n",
       "      <td>75%</td>\n",
       "      <td>14</td>\n",
       "      <td>6800000</td>\n",
       "      <td>69</td>\n",
       "      <td>3</td>\n",
       "      <td>2</td>\n",
       "      <td>16</td>\n",
       "      <td>42</td>\n",
       "      <td>8</td>\n",
       "      <td>12</td>\n",
       "      <td>2</td>\n",
       "      <td>37273</td>\n",
       "      <td>16293</td>\n",
       "      <td>1</td>\n",
       "      <td>612</td>\n",
       "      <td>1</td>\n",
       "      <td>729</td>\n",
       "      <td>232</td>\n",
       "    </tr>\n",
       "    <tr>\n",
       "      <td>max</td>\n",
       "      <td>50</td>\n",
       "      <td>763000000</td>\n",
       "      <td>900</td>\n",
       "      <td>19</td>\n",
       "      <td>100</td>\n",
       "      <td>60</td>\n",
       "      <td>409</td>\n",
       "      <td>33</td>\n",
       "      <td>112</td>\n",
       "      <td>5</td>\n",
       "      <td>84869</td>\n",
       "      <td>65968</td>\n",
       "      <td>3</td>\n",
       "      <td>3190</td>\n",
       "      <td>3</td>\n",
       "      <td>1344</td>\n",
       "      <td>1580</td>\n",
       "    </tr>\n",
       "  </tbody>\n",
       "</table>\n",
       "</div>"
      ],
      "text/plain": [
       "       total_images  last_price  total_area  rooms  ceiling_height  \\\n",
       "count         23699       23699       23699  23699           14504   \n",
       "mean              9     6541548          60      2               2   \n",
       "std               5    10887013          35      1               1   \n",
       "min               0       12190          12      0               1   \n",
       "25%               6     3400000          40      1               2   \n",
       "50%               9     4650000          52      2               2   \n",
       "75%              14     6800000          69      3               2   \n",
       "max              50   763000000         900     19             100   \n",
       "\n",
       "       floors_total  living_area  floor  kitchen_area  balcony  \\\n",
       "count         23613        21796  23699         21421    12180   \n",
       "mean             10           34      5            10        1   \n",
       "std               6           22      4             5        1   \n",
       "min               1            2      1             1        0   \n",
       "25%               5           18      2             7        0   \n",
       "50%               9           30      4             9        1   \n",
       "75%              16           42      8            12        2   \n",
       "max              60          409     33           112        5   \n",
       "\n",
       "       airports_nearest  city_centers_nearest  parks_around3000  \\\n",
       "count             18157                 18180             18181   \n",
       "mean              28793                 14191                 0   \n",
       "std               12630                  8608                 0   \n",
       "min                   0                   181                 0   \n",
       "25%               18585                  9238                 0   \n",
       "50%               26726                 13098                 0   \n",
       "75%               37273                 16293                 1   \n",
       "max               84869                 65968                 3   \n",
       "\n",
       "       parks_nearest  ponds_around3000  ponds_nearest  days_exposition  \n",
       "count           8079             18181           9110            20518  \n",
       "mean             490                 0            517              180  \n",
       "std              342                 0            277              219  \n",
       "min                1                 0             13                1  \n",
       "25%              288                 0            294               45  \n",
       "50%              455                 1            502               95  \n",
       "75%              612                 1            729              232  \n",
       "max             3190                 3           1344             1580  "
      ]
     },
     "execution_count": 5,
     "metadata": {},
     "output_type": "execute_result"
    }
   ],
   "source": [
    "df.describe().astype('int')"
   ]
  },
  {
   "cell_type": "markdown",
   "metadata": {},
   "source": [
    "Данные выглядят нормально, единственное надо рассмотреть данные принимающие странное максимальное значение, площадь 900, 19 комнат, потолки 100м и т.д."
   ]
  },
  {
   "cell_type": "markdown",
   "metadata": {},
   "source": [
    "**Удалим ненужные для исследования данные**\n",
    "\n",
    "В результате анализа поставленных задач, я пришел к выводу что некоторые данные из столбцов будут не нужны и их можно удалить.\n",
    "\n",
    "**Список столбцов для удаления:**\n",
    "- airports_nearest\n",
    "- balcony\n",
    "- is_apartment\n",
    "- open_plan\n",
    "- parks_around3000\n",
    "- parks_nearest\n",
    "- ponds_around3000\n",
    "- ponds_nearest\n",
    "- studio\n",
    "- total_images"
   ]
  },
  {
   "cell_type": "code",
   "execution_count": 6,
   "metadata": {
    "code_folding": []
   },
   "outputs": [],
   "source": [
    "# Удалим столбцы из списка из датафрейма\n",
    "df.drop(['airports_nearest', 'balcony', 'is_apartment', 'open_plan', \n",
    "         'parks_around3000', 'parks_nearest', 'ponds_around3000', \n",
    "         'ponds_nearest', 'studio', 'total_images'], axis=1, inplace=True)"
   ]
  },
  {
   "cell_type": "markdown",
   "metadata": {},
   "source": [
    "### Приведение данных к нужным типам."
   ]
  },
  {
   "cell_type": "code",
   "execution_count": 7,
   "metadata": {},
   "outputs": [
    {
     "name": "stdout",
     "output_type": "stream",
     "text": [
      "<class 'pandas.core.frame.DataFrame'>\n",
      "RangeIndex: 23699 entries, 0 to 23698\n",
      "Data columns (total 12 columns):\n",
      "last_price              23699 non-null float64\n",
      "total_area              23699 non-null float64\n",
      "first_day_exposition    23699 non-null object\n",
      "rooms                   23699 non-null int64\n",
      "ceiling_height          14504 non-null float64\n",
      "floors_total            23613 non-null float64\n",
      "living_area             21796 non-null float64\n",
      "floor                   23699 non-null int64\n",
      "kitchen_area            21421 non-null float64\n",
      "locality_name           23650 non-null object\n",
      "city_centers_nearest    18180 non-null float64\n",
      "days_exposition         20518 non-null float64\n",
      "dtypes: float64(8), int64(2), object(2)\n",
      "memory usage: 2.2+ MB\n"
     ]
    }
   ],
   "source": [
    "# Рассмотрим типы данных\n",
    "df.info()"
   ]
  },
  {
   "cell_type": "code",
   "execution_count": 8,
   "metadata": {},
   "outputs": [
    {
     "data": {
      "text/html": [
       "<div>\n",
       "<style scoped>\n",
       "    .dataframe tbody tr th:only-of-type {\n",
       "        vertical-align: middle;\n",
       "    }\n",
       "\n",
       "    .dataframe tbody tr th {\n",
       "        vertical-align: top;\n",
       "    }\n",
       "\n",
       "    .dataframe thead th {\n",
       "        text-align: right;\n",
       "    }\n",
       "</style>\n",
       "<table border=\"1\" class=\"dataframe\">\n",
       "  <thead>\n",
       "    <tr style=\"text-align: right;\">\n",
       "      <th></th>\n",
       "      <th>last_price</th>\n",
       "      <th>total_area</th>\n",
       "      <th>first_day_exposition</th>\n",
       "      <th>rooms</th>\n",
       "      <th>ceiling_height</th>\n",
       "      <th>floors_total</th>\n",
       "      <th>living_area</th>\n",
       "      <th>floor</th>\n",
       "      <th>kitchen_area</th>\n",
       "      <th>locality_name</th>\n",
       "      <th>city_centers_nearest</th>\n",
       "      <th>days_exposition</th>\n",
       "    </tr>\n",
       "  </thead>\n",
       "  <tbody>\n",
       "    <tr>\n",
       "      <td>0</td>\n",
       "      <td>13000000.0</td>\n",
       "      <td>108.0</td>\n",
       "      <td>2019-03-07T00:00:00</td>\n",
       "      <td>3</td>\n",
       "      <td>2.7</td>\n",
       "      <td>16.0</td>\n",
       "      <td>51.0</td>\n",
       "      <td>8</td>\n",
       "      <td>25.0</td>\n",
       "      <td>Санкт-Петербург</td>\n",
       "      <td>16028.0</td>\n",
       "      <td>NaN</td>\n",
       "    </tr>\n",
       "    <tr>\n",
       "      <td>1</td>\n",
       "      <td>3350000.0</td>\n",
       "      <td>40.4</td>\n",
       "      <td>2018-12-04T00:00:00</td>\n",
       "      <td>1</td>\n",
       "      <td>NaN</td>\n",
       "      <td>11.0</td>\n",
       "      <td>18.6</td>\n",
       "      <td>1</td>\n",
       "      <td>11.0</td>\n",
       "      <td>посёлок Шушары</td>\n",
       "      <td>18603.0</td>\n",
       "      <td>81.0</td>\n",
       "    </tr>\n",
       "    <tr>\n",
       "      <td>2</td>\n",
       "      <td>5196000.0</td>\n",
       "      <td>56.0</td>\n",
       "      <td>2015-08-20T00:00:00</td>\n",
       "      <td>2</td>\n",
       "      <td>NaN</td>\n",
       "      <td>5.0</td>\n",
       "      <td>34.3</td>\n",
       "      <td>4</td>\n",
       "      <td>8.3</td>\n",
       "      <td>Санкт-Петербург</td>\n",
       "      <td>13933.0</td>\n",
       "      <td>558.0</td>\n",
       "    </tr>\n",
       "  </tbody>\n",
       "</table>\n",
       "</div>"
      ],
      "text/plain": [
       "   last_price  total_area first_day_exposition  rooms  ceiling_height  \\\n",
       "0  13000000.0       108.0  2019-03-07T00:00:00      3             2.7   \n",
       "1   3350000.0        40.4  2018-12-04T00:00:00      1             NaN   \n",
       "2   5196000.0        56.0  2015-08-20T00:00:00      2             NaN   \n",
       "\n",
       "   floors_total  living_area  floor  kitchen_area    locality_name  \\\n",
       "0          16.0         51.0      8          25.0  Санкт-Петербург   \n",
       "1          11.0         18.6      1          11.0   посёлок Шушары   \n",
       "2           5.0         34.3      4           8.3  Санкт-Петербург   \n",
       "\n",
       "   city_centers_nearest  days_exposition  \n",
       "0               16028.0              NaN  \n",
       "1               18603.0             81.0  \n",
       "2               13933.0            558.0  "
      ]
     },
     "execution_count": 8,
     "metadata": {},
     "output_type": "execute_result"
    }
   ],
   "source": [
    "df.head(3)"
   ]
  },
  {
   "cell_type": "code",
   "execution_count": 9,
   "metadata": {},
   "outputs": [
    {
     "name": "stdout",
     "output_type": "stream",
     "text": [
      "<class 'pandas.core.frame.DataFrame'>\n",
      "RangeIndex: 23699 entries, 0 to 23698\n",
      "Data columns (total 12 columns):\n",
      "last_price              23699 non-null float64\n",
      "total_area              23699 non-null float64\n",
      "first_day_exposition    23699 non-null datetime64[ns]\n",
      "rooms                   23699 non-null int64\n",
      "ceiling_height          14504 non-null float64\n",
      "floors_total            23613 non-null Int64\n",
      "living_area             21796 non-null float64\n",
      "floor                   23699 non-null int64\n",
      "kitchen_area            21421 non-null float64\n",
      "locality_name           23650 non-null object\n",
      "city_centers_nearest    18180 non-null Int64\n",
      "days_exposition         20518 non-null float64\n",
      "dtypes: Int64(2), datetime64[ns](1), float64(6), int64(2), object(1)\n",
      "memory usage: 2.2+ MB\n"
     ]
    }
   ],
   "source": [
    "# Приведем столбцы к int, так как нам не нужна точность float\n",
    "cols_to_change = ['floors_total', 'city_centers_nearest']\n",
    "df[cols_to_change] = df[cols_to_change].astype('Int64')\n",
    "\n",
    "# first_day_exposition к dateformat\n",
    "df['first_day_exposition'] = pd.to_datetime(df['first_day_exposition'], format='%Y-%m-%dT%H:%M:%S')\n",
    "\n",
    "# Проверим результат\n",
    "df.info()"
   ]
  },
  {
   "cell_type": "markdown",
   "metadata": {},
   "source": [
    "**Вывод:** столбцы `last_price`, `floors_total`, `city_centers_nearest` приведены к целочисленному формату, так как не нужна такая точность, либо могут принимать только целое значение. `first_day_exposition` преобразовали к формату даты. Так же необходимо преобразовать `days_exposition`, но не дают не заполненные значения, изменим формат по возможности дальше."
   ]
  },
  {
   "cell_type": "markdown",
   "metadata": {},
   "source": [
    "### Определение и изучение пропущенных значений."
   ]
  },
  {
   "cell_type": "code",
   "execution_count": 10,
   "metadata": {
    "code_folding": []
   },
   "outputs": [
    {
     "data": {
      "image/png": "[encoded data removed]",
      "text/plain": [
       "<Figure size 576x720 with 1 Axes>"
      ]
     },
     "metadata": {
      "needs_background": "light"
     },
     "output_type": "display_data"
    }
   ],
   "source": [
    "# Построим график который показывает % незаполненных данных в столбце\n",
    "df_isna = (df.isna().sum().sort_values()/df_len*100).plot(kind='barh', figsize=(8, 10), color='#86bf91', zorder=2, width=0.8)\n",
    "\n",
    "df_isna.spines['right'].set_visible(False)\n",
    "df_isna.spines['top'].set_visible(False)\n",
    "df_isna.spines['left'].set_visible(False)\n",
    "df_isna.spines['bottom'].set_visible(False)\n",
    "\n",
    "df_isna.tick_params(axis=\"both\", which=\"both\", bottom=\"off\", top=\"off\", \n",
    "                    labelbottom=\"on\", left=\"off\", right=\"off\", labelleft=\"on\")\n",
    "\n",
    "vals = df_isna.get_xticks()\n",
    "for tick in vals:\n",
    "    df_isna.axvline(x=tick, linestyle='dashed', alpha=0.4, color='#eeeeee')\n",
    "\n",
    "df_isna.set_xlabel(\"% пропусков\", labelpad=20, weight='bold', size=12)\n",
    "df_isna.set_ylabel(\"Столбец датафрейма\", labelpad=20, weight='bold', size=12)\n",
    "df_isna.xaxis.set_major_formatter(StrMethodFormatter('{x:,g}'))"
   ]
  },
  {
   "cell_type": "markdown",
   "metadata": {},
   "source": [
    "В 5 столбцах пропуск значений составляет около 10%, в следующем разделе просмотрим все пропуски более детально."
   ]
  },
  {
   "cell_type": "markdown",
   "metadata": {},
   "source": [
    "### Заполнение пропусков. Объяснение причин."
   ]
  },
  {
   "cell_type": "markdown",
   "metadata": {},
   "source": [
    "#### `ceiling_height`"
   ]
  },
  {
   "cell_type": "markdown",
   "metadata": {},
   "source": [
    "На практике чаще всего встречается высота потолка 2.5 - 3.2 метра. Однако, если речь заходит о «хрущёвках», то можно встретить и 2.4 метра, что согласно современным требованиям, не соответствует нормам жилого помещения. В современных новостройках высота потолка находится в пределах 2.6 - 2.8 метра.\n",
    "Исходя из этих соображений выбивающиеся данные приведем к среднему значению."
   ]
  },
  {
   "cell_type": "code",
   "execution_count": 11,
   "metadata": {},
   "outputs": [
    {
     "name": "stdout",
     "output_type": "stream",
     "text": [
      "\n",
      "Количество пропусков в столбце ceiling_height = 9195 (39%)\n",
      "\n",
      "Анализ данных по столбцу:\n"
     ]
    },
    {
     "data": {
      "text/plain": [
       "count    14504.000000\n",
       "mean         2.771499\n",
       "std          1.261056\n",
       "min          1.000000\n",
       "25%          2.520000\n",
       "50%          2.650000\n",
       "75%          2.800000\n",
       "max        100.000000\n",
       "Name: ceiling_height, dtype: float64"
      ]
     },
     "execution_count": 11,
     "metadata": {},
     "output_type": "execute_result"
    }
   ],
   "source": [
    "column = 'ceiling_height'\n",
    "col_is_na = df[column].isna().sum()\n",
    "print()\n",
    "print(f'Количество пропусков в столбце {column} = {col_is_na} ({col_is_na/df_len:.0%})')\n",
    "print()\n",
    "print(f'Анализ данных по столбцу:')\n",
    "df[column].describe()"
   ]
  },
  {
   "cell_type": "code",
   "execution_count": 12,
   "metadata": {},
   "outputs": [
    {
     "data": {
      "text/plain": [
       "2.680101712278648"
      ]
     },
     "execution_count": 12,
     "metadata": {},
     "output_type": "execute_result"
    }
   ],
   "source": [
    "# Рассчитаем среднее значение\n",
    "df.query('2.4 <= ' + column + ' <= 3.2')[column].mean()"
   ]
  },
  {
   "cell_type": "code",
   "execution_count": 13,
   "metadata": {},
   "outputs": [],
   "source": [
    "# Применим среднее значение 2.68 к выбивающимся и незаполненным данным\n",
    "df.loc[(df[column].isna()) | (df[column] < 2.4) | (df[column] > 3.2), column] = 2.72"
   ]
  },
  {
   "cell_type": "code",
   "execution_count": 14,
   "metadata": {},
   "outputs": [
    {
     "data": {
      "text/plain": [
       "count    23699.000000\n",
       "mean         2.696993\n",
       "std          0.140939\n",
       "min          2.400000\n",
       "25%          2.600000\n",
       "50%          2.720000\n",
       "75%          2.720000\n",
       "max          3.200000\n",
       "Name: ceiling_height, dtype: float64"
      ]
     },
     "execution_count": 14,
     "metadata": {},
     "output_type": "execute_result"
    }
   ],
   "source": [
    "# Проверка после преобразований\n",
    "df[column].describe()"
   ]
  },
  {
   "cell_type": "markdown",
   "metadata": {},
   "source": [
    "**Вывод:** \n",
    "В результате преобразования пропущенные и аномальные значения были заполнены средним 2.72м."
   ]
  },
  {
   "cell_type": "markdown",
   "metadata": {},
   "source": [
    "#### `city_centers_nearest`"
   ]
  },
  {
   "cell_type": "code",
   "execution_count": 15,
   "metadata": {},
   "outputs": [
    {
     "name": "stdout",
     "output_type": "stream",
     "text": [
      "\n",
      "Количество пропусков в столбце city_centers_nearest = 5519 (23%)\n",
      "\n",
      "Анализ данных по столбцу:\n"
     ]
    },
    {
     "data": {
      "text/plain": [
       "count    18180.000000\n",
       "mean     14191.277833\n",
       "std       8608.386210\n",
       "min        181.000000\n",
       "25%       9238.000000\n",
       "50%      13098.500000\n",
       "75%      16293.000000\n",
       "max      65968.000000\n",
       "Name: city_centers_nearest, dtype: float64"
      ]
     },
     "execution_count": 15,
     "metadata": {},
     "output_type": "execute_result"
    }
   ],
   "source": [
    "column = 'city_centers_nearest'\n",
    "col_is_na = df[column].isna().sum()\n",
    "print()\n",
    "print(f'Количество пропусков в столбце {column} = {col_is_na} ({col_is_na/df_len:.0%})')\n",
    "print()\n",
    "print(f'Анализ данных по столбцу:')\n",
    "df[column].describe()"
   ]
  },
  {
   "cell_type": "markdown",
   "metadata": {},
   "source": [
    "**Вывод:** \n",
    "23% данных содержат пропуски. Возможно это расстояние из объявлений заполненных вручную. Думаю пока можно с этим смириться, как вариант можно рассчитать расстояние между координатами центра и населенного пункта используя `geopy`, а сами координаты взять из API Яндекса например. Сами данные выглядят вполне правдопадобно от 181 метра до 66 километров."
   ]
  },
  {
   "cell_type": "markdown",
   "metadata": {},
   "source": [
    "#### `days_exposition`"
   ]
  },
  {
   "cell_type": "code",
   "execution_count": 16,
   "metadata": {},
   "outputs": [
    {
     "name": "stdout",
     "output_type": "stream",
     "text": [
      "\n",
      "Количество пропусков в столбце days_exposition = 3181 (13%)\n",
      "\n",
      "Анализ данных по столбцу:\n"
     ]
    },
    {
     "data": {
      "text/plain": [
       "count    20518.000000\n",
       "mean       180.888634\n",
       "std        219.727988\n",
       "min          1.000000\n",
       "25%         45.000000\n",
       "50%         95.000000\n",
       "75%        232.000000\n",
       "max       1580.000000\n",
       "Name: days_exposition, dtype: float64"
      ]
     },
     "execution_count": 16,
     "metadata": {},
     "output_type": "execute_result"
    }
   ],
   "source": [
    "column = 'days_exposition'\n",
    "col_is_na = df[column].isna().sum()\n",
    "print()\n",
    "print(f'Количество пропусков в столбце {column} = {col_is_na} ({col_is_na/df_len:.0%})')\n",
    "print()\n",
    "print(f'Анализ данных по столбцу:')\n",
    "df[column].describe()"
   ]
  },
  {
   "cell_type": "code",
   "execution_count": 17,
   "metadata": {},
   "outputs": [
    {
     "data": {
      "text/html": [
       "<div>\n",
       "<style scoped>\n",
       "    .dataframe tbody tr th:only-of-type {\n",
       "        vertical-align: middle;\n",
       "    }\n",
       "\n",
       "    .dataframe tbody tr th {\n",
       "        vertical-align: top;\n",
       "    }\n",
       "\n",
       "    .dataframe thead th {\n",
       "        text-align: right;\n",
       "    }\n",
       "</style>\n",
       "<table border=\"1\" class=\"dataframe\">\n",
       "  <thead>\n",
       "    <tr style=\"text-align: right;\">\n",
       "      <th></th>\n",
       "      <th>last_price</th>\n",
       "      <th>total_area</th>\n",
       "      <th>first_day_exposition</th>\n",
       "      <th>rooms</th>\n",
       "      <th>ceiling_height</th>\n",
       "      <th>floors_total</th>\n",
       "      <th>living_area</th>\n",
       "      <th>floor</th>\n",
       "      <th>kitchen_area</th>\n",
       "      <th>locality_name</th>\n",
       "      <th>city_centers_nearest</th>\n",
       "      <th>days_exposition</th>\n",
       "    </tr>\n",
       "  </thead>\n",
       "  <tbody>\n",
       "    <tr>\n",
       "      <td>3873</td>\n",
       "      <td>20100000.0</td>\n",
       "      <td>117.6</td>\n",
       "      <td>2014-11-27</td>\n",
       "      <td>3</td>\n",
       "      <td>2.72</td>\n",
       "      <td>8</td>\n",
       "      <td>62.5</td>\n",
       "      <td>7</td>\n",
       "      <td>21.5</td>\n",
       "      <td>Санкт-Петербург</td>\n",
       "      <td>11096</td>\n",
       "      <td>NaN</td>\n",
       "    </tr>\n",
       "    <tr>\n",
       "      <td>15857</td>\n",
       "      <td>25000000.0</td>\n",
       "      <td>145.2</td>\n",
       "      <td>2014-11-27</td>\n",
       "      <td>3</td>\n",
       "      <td>2.72</td>\n",
       "      <td>5</td>\n",
       "      <td>60.7</td>\n",
       "      <td>5</td>\n",
       "      <td>40.2</td>\n",
       "      <td>Санкт-Петербург</td>\n",
       "      <td>14931</td>\n",
       "      <td>NaN</td>\n",
       "    </tr>\n",
       "  </tbody>\n",
       "</table>\n",
       "</div>"
      ],
      "text/plain": [
       "       last_price  total_area first_day_exposition  rooms  ceiling_height  \\\n",
       "3873   20100000.0       117.6           2014-11-27      3            2.72   \n",
       "15857  25000000.0       145.2           2014-11-27      3            2.72   \n",
       "\n",
       "       floors_total  living_area  floor  kitchen_area    locality_name  \\\n",
       "3873              8         62.5      7          21.5  Санкт-Петербург   \n",
       "15857             5         60.7      5          40.2  Санкт-Петербург   \n",
       "\n",
       "       city_centers_nearest  days_exposition  \n",
       "3873                  11096              NaN  \n",
       "15857                 14931              NaN  "
      ]
     },
     "metadata": {},
     "output_type": "display_data"
    },
    {
     "data": {
      "text/html": [
       "<div>\n",
       "<style scoped>\n",
       "    .dataframe tbody tr th:only-of-type {\n",
       "        vertical-align: middle;\n",
       "    }\n",
       "\n",
       "    .dataframe tbody tr th {\n",
       "        vertical-align: top;\n",
       "    }\n",
       "\n",
       "    .dataframe thead th {\n",
       "        text-align: right;\n",
       "    }\n",
       "</style>\n",
       "<table border=\"1\" class=\"dataframe\">\n",
       "  <thead>\n",
       "    <tr style=\"text-align: right;\">\n",
       "      <th></th>\n",
       "      <th>last_price</th>\n",
       "      <th>total_area</th>\n",
       "      <th>first_day_exposition</th>\n",
       "      <th>rooms</th>\n",
       "      <th>ceiling_height</th>\n",
       "      <th>floors_total</th>\n",
       "      <th>living_area</th>\n",
       "      <th>floor</th>\n",
       "      <th>kitchen_area</th>\n",
       "      <th>locality_name</th>\n",
       "      <th>city_centers_nearest</th>\n",
       "      <th>days_exposition</th>\n",
       "    </tr>\n",
       "  </thead>\n",
       "  <tbody>\n",
       "    <tr>\n",
       "      <td>13993</td>\n",
       "      <td>3300000.0</td>\n",
       "      <td>43.0</td>\n",
       "      <td>2019-05-03</td>\n",
       "      <td>1</td>\n",
       "      <td>2.6</td>\n",
       "      <td>17</td>\n",
       "      <td>18.0</td>\n",
       "      <td>3</td>\n",
       "      <td>10.5</td>\n",
       "      <td>Колпино</td>\n",
       "      <td>34341</td>\n",
       "      <td>NaN</td>\n",
       "    </tr>\n",
       "    <tr>\n",
       "      <td>9217</td>\n",
       "      <td>4300000.0</td>\n",
       "      <td>35.7</td>\n",
       "      <td>2019-05-03</td>\n",
       "      <td>1</td>\n",
       "      <td>2.7</td>\n",
       "      <td>21</td>\n",
       "      <td>15.0</td>\n",
       "      <td>12</td>\n",
       "      <td>13.0</td>\n",
       "      <td>Мурино</td>\n",
       "      <td>NaN</td>\n",
       "      <td>NaN</td>\n",
       "    </tr>\n",
       "  </tbody>\n",
       "</table>\n",
       "</div>"
      ],
      "text/plain": [
       "       last_price  total_area first_day_exposition  rooms  ceiling_height  \\\n",
       "13993   3300000.0        43.0           2019-05-03      1             2.6   \n",
       "9217    4300000.0        35.7           2019-05-03      1             2.7   \n",
       "\n",
       "       floors_total  living_area  floor  kitchen_area locality_name  \\\n",
       "13993            17         18.0      3          10.5       Колпино   \n",
       "9217             21         15.0     12          13.0        Мурино   \n",
       "\n",
       "       city_centers_nearest  days_exposition  \n",
       "13993                 34341              NaN  \n",
       "9217                    NaN              NaN  "
      ]
     },
     "metadata": {},
     "output_type": "display_data"
    }
   ],
   "source": [
    "display(df.query('days_exposition.isna()', engine='python').sort_values(by='first_day_exposition').head(2))\n",
    "display(df.query('days_exposition.isna()', engine='python').sort_values(by='first_day_exposition').tail(2))"
   ]
  },
  {
   "cell_type": "markdown",
   "metadata": {},
   "source": [
    "**Вывод:** пропущенные значения в `date_expositions` могут говорить о том что недвижимость либо не продана, либо зависшее старое объявление. Даты подачи находятся в диапазоне 2014-11-27 - 2019-05-03. Оставим данные без изменений, так как однозначно-правильного решения не принять."
   ]
  },
  {
   "cell_type": "markdown",
   "metadata": {},
   "source": [
    "#### `kitchen_area`"
   ]
  },
  {
   "cell_type": "code",
   "execution_count": 18,
   "metadata": {},
   "outputs": [
    {
     "name": "stdout",
     "output_type": "stream",
     "text": [
      "\n",
      "Количество пропусков в столбце kitchen_area = 2278 (10%)\n",
      "\n",
      "Анализ данных по столбцу:\n"
     ]
    },
    {
     "data": {
      "text/plain": [
       "count    21421.000000\n",
       "mean        10.569807\n",
       "std          5.905438\n",
       "min          1.300000\n",
       "25%          7.000000\n",
       "50%          9.100000\n",
       "75%         12.000000\n",
       "max        112.000000\n",
       "Name: kitchen_area, dtype: float64"
      ]
     },
     "execution_count": 18,
     "metadata": {},
     "output_type": "execute_result"
    }
   ],
   "source": [
    "column = 'kitchen_area'\n",
    "col_is_na = df[column].isna().sum()\n",
    "print()\n",
    "print(f'Количество пропусков в столбце {column} = {col_is_na} ({col_is_na/df_len:.0%})')\n",
    "print()\n",
    "print(f'Анализ данных по столбцу:')\n",
    "df[column].describe()"
   ]
  },
  {
   "cell_type": "markdown",
   "metadata": {},
   "source": [
    "Среднее и медианное значение кухонной площади вполне приемлимы, так как в продаже как студии и апартаменты, так и элитная недвижимость, посмотрим квартиры с неуказанной площадью."
   ]
  },
  {
   "cell_type": "code",
   "execution_count": 19,
   "metadata": {},
   "outputs": [
    {
     "data": {
      "text/html": [
       "<div>\n",
       "<style scoped>\n",
       "    .dataframe tbody tr th:only-of-type {\n",
       "        vertical-align: middle;\n",
       "    }\n",
       "\n",
       "    .dataframe tbody tr th {\n",
       "        vertical-align: top;\n",
       "    }\n",
       "\n",
       "    .dataframe thead th {\n",
       "        text-align: right;\n",
       "    }\n",
       "</style>\n",
       "<table border=\"1\" class=\"dataframe\">\n",
       "  <thead>\n",
       "    <tr style=\"text-align: right;\">\n",
       "      <th></th>\n",
       "      <th>last_price</th>\n",
       "      <th>total_area</th>\n",
       "      <th>rooms</th>\n",
       "      <th>ceiling_height</th>\n",
       "      <th>floors_total</th>\n",
       "      <th>living_area</th>\n",
       "      <th>floor</th>\n",
       "      <th>kitchen_area</th>\n",
       "      <th>city_centers_nearest</th>\n",
       "      <th>days_exposition</th>\n",
       "    </tr>\n",
       "  </thead>\n",
       "  <tbody>\n",
       "    <tr>\n",
       "      <td>count</td>\n",
       "      <td>2.278000e+03</td>\n",
       "      <td>2278.000000</td>\n",
       "      <td>2278.000000</td>\n",
       "      <td>2278.000000</td>\n",
       "      <td>2231.000000</td>\n",
       "      <td>814.000000</td>\n",
       "      <td>2278.000000</td>\n",
       "      <td>0.0</td>\n",
       "      <td>1563.000000</td>\n",
       "      <td>2075.000000</td>\n",
       "    </tr>\n",
       "    <tr>\n",
       "      <td>mean</td>\n",
       "      <td>6.518244e+06</td>\n",
       "      <td>56.575680</td>\n",
       "      <td>1.832748</td>\n",
       "      <td>2.708477</td>\n",
       "      <td>11.514567</td>\n",
       "      <td>29.649840</td>\n",
       "      <td>6.205443</td>\n",
       "      <td>NaN</td>\n",
       "      <td>13932.816379</td>\n",
       "      <td>139.279036</td>\n",
       "    </tr>\n",
       "    <tr>\n",
       "      <td>std</td>\n",
       "      <td>1.853642e+07</td>\n",
       "      <td>40.863558</td>\n",
       "      <td>1.188674</td>\n",
       "      <td>0.113648</td>\n",
       "      <td>7.123172</td>\n",
       "      <td>24.303926</td>\n",
       "      <td>5.317659</td>\n",
       "      <td>NaN</td>\n",
       "      <td>8187.739356</td>\n",
       "      <td>189.458259</td>\n",
       "    </tr>\n",
       "    <tr>\n",
       "      <td>min</td>\n",
       "      <td>4.300000e+05</td>\n",
       "      <td>12.000000</td>\n",
       "      <td>0.000000</td>\n",
       "      <td>2.400000</td>\n",
       "      <td>1.000000</td>\n",
       "      <td>2.000000</td>\n",
       "      <td>1.000000</td>\n",
       "      <td>NaN</td>\n",
       "      <td>410.000000</td>\n",
       "      <td>2.000000</td>\n",
       "    </tr>\n",
       "    <tr>\n",
       "      <td>25%</td>\n",
       "      <td>2.799250e+06</td>\n",
       "      <td>34.000000</td>\n",
       "      <td>1.000000</td>\n",
       "      <td>2.720000</td>\n",
       "      <td>5.000000</td>\n",
       "      <td>17.050000</td>\n",
       "      <td>2.000000</td>\n",
       "      <td>NaN</td>\n",
       "      <td>8523.000000</td>\n",
       "      <td>45.000000</td>\n",
       "    </tr>\n",
       "    <tr>\n",
       "      <td>50%</td>\n",
       "      <td>4.000000e+06</td>\n",
       "      <td>46.000000</td>\n",
       "      <td>2.000000</td>\n",
       "      <td>2.720000</td>\n",
       "      <td>9.000000</td>\n",
       "      <td>20.000000</td>\n",
       "      <td>5.000000</td>\n",
       "      <td>NaN</td>\n",
       "      <td>13222.000000</td>\n",
       "      <td>60.000000</td>\n",
       "    </tr>\n",
       "    <tr>\n",
       "      <td>75%</td>\n",
       "      <td>6.200000e+06</td>\n",
       "      <td>64.725000</td>\n",
       "      <td>3.000000</td>\n",
       "      <td>2.720000</td>\n",
       "      <td>17.000000</td>\n",
       "      <td>33.000000</td>\n",
       "      <td>8.000000</td>\n",
       "      <td>NaN</td>\n",
       "      <td>16606.500000</td>\n",
       "      <td>145.000000</td>\n",
       "    </tr>\n",
       "    <tr>\n",
       "      <td>max</td>\n",
       "      <td>7.630000e+08</td>\n",
       "      <td>500.000000</td>\n",
       "      <td>9.000000</td>\n",
       "      <td>3.200000</td>\n",
       "      <td>35.000000</td>\n",
       "      <td>250.000000</td>\n",
       "      <td>27.000000</td>\n",
       "      <td>NaN</td>\n",
       "      <td>54490.000000</td>\n",
       "      <td>1489.000000</td>\n",
       "    </tr>\n",
       "  </tbody>\n",
       "</table>\n",
       "</div>"
      ],
      "text/plain": [
       "         last_price   total_area        rooms  ceiling_height  floors_total  \\\n",
       "count  2.278000e+03  2278.000000  2278.000000     2278.000000   2231.000000   \n",
       "mean   6.518244e+06    56.575680     1.832748        2.708477     11.514567   \n",
       "std    1.853642e+07    40.863558     1.188674        0.113648      7.123172   \n",
       "min    4.300000e+05    12.000000     0.000000        2.400000      1.000000   \n",
       "25%    2.799250e+06    34.000000     1.000000        2.720000      5.000000   \n",
       "50%    4.000000e+06    46.000000     2.000000        2.720000      9.000000   \n",
       "75%    6.200000e+06    64.725000     3.000000        2.720000     17.000000   \n",
       "max    7.630000e+08   500.000000     9.000000        3.200000     35.000000   \n",
       "\n",
       "       living_area        floor  kitchen_area  city_centers_nearest  \\\n",
       "count   814.000000  2278.000000           0.0           1563.000000   \n",
       "mean     29.649840     6.205443           NaN          13932.816379   \n",
       "std      24.303926     5.317659           NaN           8187.739356   \n",
       "min       2.000000     1.000000           NaN            410.000000   \n",
       "25%      17.050000     2.000000           NaN           8523.000000   \n",
       "50%      20.000000     5.000000           NaN          13222.000000   \n",
       "75%      33.000000     8.000000           NaN          16606.500000   \n",
       "max     250.000000    27.000000           NaN          54490.000000   \n",
       "\n",
       "       days_exposition  \n",
       "count      2075.000000  \n",
       "mean        139.279036  \n",
       "std         189.458259  \n",
       "min           2.000000  \n",
       "25%          45.000000  \n",
       "50%          60.000000  \n",
       "75%         145.000000  \n",
       "max        1489.000000  "
      ]
     },
     "execution_count": 19,
     "metadata": {},
     "output_type": "execute_result"
    }
   ],
   "source": [
    "df.query('kitchen_area.isna()', engine='python').describe()"
   ]
  },
  {
   "cell_type": "code",
   "execution_count": 20,
   "metadata": {},
   "outputs": [
    {
     "data": {
      "text/plain": [
       "count    23699.000000\n",
       "mean         9.553814\n",
       "std          6.420973\n",
       "min          0.000000\n",
       "25%          6.300000\n",
       "50%          9.000000\n",
       "75%         11.440000\n",
       "max        112.000000\n",
       "Name: kitchen_area, dtype: float64"
      ]
     },
     "execution_count": 20,
     "metadata": {},
     "output_type": "execute_result"
    }
   ],
   "source": [
    "df[column] = df[column].fillna(0)\n",
    "df[column].describe()"
   ]
  },
  {
   "cell_type": "markdown",
   "metadata": {},
   "source": [
    "**Вывод:** заполнили пропуски 0, вероятнее всего, это квартиры-студии, апартаменты или комнаты в комуналках."
   ]
  },
  {
   "cell_type": "markdown",
   "metadata": {},
   "source": [
    "#### `living_area`"
   ]
  },
  {
   "cell_type": "code",
   "execution_count": 21,
   "metadata": {},
   "outputs": [
    {
     "name": "stdout",
     "output_type": "stream",
     "text": [
      "\n",
      "Количество пропусков в столбце living_area = 1903 (8%)\n",
      "\n",
      "Анализ данных по столбцу:\n"
     ]
    },
    {
     "data": {
      "text/plain": [
       "count    21796.000000\n",
       "mean        34.457852\n",
       "std         22.030445\n",
       "min          2.000000\n",
       "25%         18.600000\n",
       "50%         30.000000\n",
       "75%         42.300000\n",
       "max        409.700000\n",
       "Name: living_area, dtype: float64"
      ]
     },
     "execution_count": 21,
     "metadata": {},
     "output_type": "execute_result"
    }
   ],
   "source": [
    "column = 'living_area'\n",
    "col_is_na = df[column].isna().sum()\n",
    "print()\n",
    "print(f'Количество пропусков в столбце {column} = {col_is_na} ({col_is_na/df_len:.0%})')\n",
    "print()\n",
    "print(f'Анализ данных по столбцу:')\n",
    "df[column].describe()"
   ]
  },
  {
   "cell_type": "code",
   "execution_count": 22,
   "metadata": {},
   "outputs": [
    {
     "data": {
      "text/html": [
       "<div>\n",
       "<style scoped>\n",
       "    .dataframe tbody tr th:only-of-type {\n",
       "        vertical-align: middle;\n",
       "    }\n",
       "\n",
       "    .dataframe tbody tr th {\n",
       "        vertical-align: top;\n",
       "    }\n",
       "\n",
       "    .dataframe thead th {\n",
       "        text-align: right;\n",
       "    }\n",
       "</style>\n",
       "<table border=\"1\" class=\"dataframe\">\n",
       "  <thead>\n",
       "    <tr style=\"text-align: right;\">\n",
       "      <th></th>\n",
       "      <th>last_price</th>\n",
       "      <th>total_area</th>\n",
       "      <th>first_day_exposition</th>\n",
       "      <th>rooms</th>\n",
       "      <th>ceiling_height</th>\n",
       "      <th>floors_total</th>\n",
       "      <th>living_area</th>\n",
       "      <th>floor</th>\n",
       "      <th>kitchen_area</th>\n",
       "      <th>locality_name</th>\n",
       "      <th>city_centers_nearest</th>\n",
       "      <th>days_exposition</th>\n",
       "    </tr>\n",
       "  </thead>\n",
       "  <tbody>\n",
       "  </tbody>\n",
       "</table>\n",
       "</div>"
      ],
      "text/plain": [
       "Empty DataFrame\n",
       "Columns: [last_price, total_area, first_day_exposition, rooms, ceiling_height, floors_total, living_area, floor, kitchen_area, locality_name, city_centers_nearest, days_exposition]\n",
       "Index: []"
      ]
     },
     "execution_count": 22,
     "metadata": {},
     "output_type": "execute_result"
    }
   ],
   "source": [
    "# Посмотрим наличие данных где отсутствует и жилая и общая площадь\n",
    "df.query('living_area.isna() and total_area.isna()', engine='python').head()"
   ]
  },
  {
   "cell_type": "code",
   "execution_count": 23,
   "metadata": {},
   "outputs": [],
   "source": [
    "# Добавим столбец kitchen_to_all в котором расчитаем отношение кухни к общей площади\n",
    "# и округлим его до 5, таким образом получим данные с шагом\n",
    "# Далее заполним недостающие значения жилой площади медианой по полученным категориям,\n",
    "# Так как отношение площадей в таких квартирах скорее всего примерно одинаково.\n",
    "df['kitchen_to_all'] = (df['kitchen_area']/df['total_area']*100)//5*5\n",
    "df['living_area'] = df.groupby('kitchen_to_all')['living_area'].transform(lambda x: x.fillna(x.median()))"
   ]
  },
  {
   "cell_type": "code",
   "execution_count": 24,
   "metadata": {},
   "outputs": [
    {
     "data": {
      "text/plain": [
       "count    23699.000000\n",
       "mean        33.463902\n",
       "std         21.475209\n",
       "min          2.000000\n",
       "25%         19.000000\n",
       "50%         29.500000\n",
       "75%         41.200000\n",
       "max        409.700000\n",
       "Name: living_area, dtype: float64"
      ]
     },
     "execution_count": 24,
     "metadata": {},
     "output_type": "execute_result"
    }
   ],
   "source": [
    "df['living_area'].describe()"
   ]
  },
  {
   "cell_type": "code",
   "execution_count": 25,
   "metadata": {},
   "outputs": [
    {
     "data": {
      "text/html": [
       "<div>\n",
       "<style scoped>\n",
       "    .dataframe tbody tr th:only-of-type {\n",
       "        vertical-align: middle;\n",
       "    }\n",
       "\n",
       "    .dataframe tbody tr th {\n",
       "        vertical-align: top;\n",
       "    }\n",
       "\n",
       "    .dataframe thead th {\n",
       "        text-align: right;\n",
       "    }\n",
       "</style>\n",
       "<table border=\"1\" class=\"dataframe\">\n",
       "  <thead>\n",
       "    <tr style=\"text-align: right;\">\n",
       "      <th></th>\n",
       "      <th>last_price</th>\n",
       "      <th>total_area</th>\n",
       "      <th>first_day_exposition</th>\n",
       "      <th>rooms</th>\n",
       "      <th>ceiling_height</th>\n",
       "      <th>floors_total</th>\n",
       "      <th>living_area</th>\n",
       "      <th>floor</th>\n",
       "      <th>kitchen_area</th>\n",
       "      <th>locality_name</th>\n",
       "      <th>city_centers_nearest</th>\n",
       "      <th>days_exposition</th>\n",
       "    </tr>\n",
       "  </thead>\n",
       "  <tbody>\n",
       "    <tr>\n",
       "      <td>0</td>\n",
       "      <td>13000000.0</td>\n",
       "      <td>108.00</td>\n",
       "      <td>2019-03-07</td>\n",
       "      <td>3</td>\n",
       "      <td>2.70</td>\n",
       "      <td>16</td>\n",
       "      <td>51.000</td>\n",
       "      <td>8</td>\n",
       "      <td>25.00</td>\n",
       "      <td>Санкт-Петербург</td>\n",
       "      <td>16028</td>\n",
       "      <td>NaN</td>\n",
       "    </tr>\n",
       "    <tr>\n",
       "      <td>1</td>\n",
       "      <td>3350000.0</td>\n",
       "      <td>40.40</td>\n",
       "      <td>2018-12-04</td>\n",
       "      <td>1</td>\n",
       "      <td>2.72</td>\n",
       "      <td>11</td>\n",
       "      <td>18.600</td>\n",
       "      <td>1</td>\n",
       "      <td>11.00</td>\n",
       "      <td>посёлок Шушары</td>\n",
       "      <td>18603</td>\n",
       "      <td>81.0</td>\n",
       "    </tr>\n",
       "    <tr>\n",
       "      <td>2</td>\n",
       "      <td>5196000.0</td>\n",
       "      <td>56.00</td>\n",
       "      <td>2015-08-20</td>\n",
       "      <td>2</td>\n",
       "      <td>2.72</td>\n",
       "      <td>5</td>\n",
       "      <td>34.300</td>\n",
       "      <td>4</td>\n",
       "      <td>8.30</td>\n",
       "      <td>Санкт-Петербург</td>\n",
       "      <td>13933</td>\n",
       "      <td>558.0</td>\n",
       "    </tr>\n",
       "    <tr>\n",
       "      <td>3</td>\n",
       "      <td>64900000.0</td>\n",
       "      <td>159.00</td>\n",
       "      <td>2015-07-24</td>\n",
       "      <td>3</td>\n",
       "      <td>2.72</td>\n",
       "      <td>14</td>\n",
       "      <td>20.015</td>\n",
       "      <td>9</td>\n",
       "      <td>0.00</td>\n",
       "      <td>Санкт-Петербург</td>\n",
       "      <td>6800</td>\n",
       "      <td>424.0</td>\n",
       "    </tr>\n",
       "    <tr>\n",
       "      <td>4</td>\n",
       "      <td>10000000.0</td>\n",
       "      <td>100.00</td>\n",
       "      <td>2018-06-19</td>\n",
       "      <td>2</td>\n",
       "      <td>3.03</td>\n",
       "      <td>14</td>\n",
       "      <td>32.000</td>\n",
       "      <td>13</td>\n",
       "      <td>41.00</td>\n",
       "      <td>Санкт-Петербург</td>\n",
       "      <td>8098</td>\n",
       "      <td>121.0</td>\n",
       "    </tr>\n",
       "    <tr>\n",
       "      <td>...</td>\n",
       "      <td>...</td>\n",
       "      <td>...</td>\n",
       "      <td>...</td>\n",
       "      <td>...</td>\n",
       "      <td>...</td>\n",
       "      <td>...</td>\n",
       "      <td>...</td>\n",
       "      <td>...</td>\n",
       "      <td>...</td>\n",
       "      <td>...</td>\n",
       "      <td>...</td>\n",
       "      <td>...</td>\n",
       "    </tr>\n",
       "    <tr>\n",
       "      <td>23694</td>\n",
       "      <td>9700000.0</td>\n",
       "      <td>133.81</td>\n",
       "      <td>2017-03-21</td>\n",
       "      <td>3</td>\n",
       "      <td>2.72</td>\n",
       "      <td>5</td>\n",
       "      <td>73.300</td>\n",
       "      <td>3</td>\n",
       "      <td>13.83</td>\n",
       "      <td>Санкт-Петербург</td>\n",
       "      <td>4232</td>\n",
       "      <td>NaN</td>\n",
       "    </tr>\n",
       "    <tr>\n",
       "      <td>23695</td>\n",
       "      <td>3100000.0</td>\n",
       "      <td>59.00</td>\n",
       "      <td>2018-01-15</td>\n",
       "      <td>3</td>\n",
       "      <td>2.72</td>\n",
       "      <td>5</td>\n",
       "      <td>38.000</td>\n",
       "      <td>4</td>\n",
       "      <td>8.50</td>\n",
       "      <td>Тосно</td>\n",
       "      <td>NaN</td>\n",
       "      <td>45.0</td>\n",
       "    </tr>\n",
       "    <tr>\n",
       "      <td>23696</td>\n",
       "      <td>2500000.0</td>\n",
       "      <td>56.70</td>\n",
       "      <td>2018-02-11</td>\n",
       "      <td>2</td>\n",
       "      <td>2.72</td>\n",
       "      <td>3</td>\n",
       "      <td>29.700</td>\n",
       "      <td>1</td>\n",
       "      <td>0.00</td>\n",
       "      <td>село Рождествено</td>\n",
       "      <td>NaN</td>\n",
       "      <td>NaN</td>\n",
       "    </tr>\n",
       "    <tr>\n",
       "      <td>23697</td>\n",
       "      <td>11475000.0</td>\n",
       "      <td>76.75</td>\n",
       "      <td>2017-03-28</td>\n",
       "      <td>2</td>\n",
       "      <td>3.00</td>\n",
       "      <td>17</td>\n",
       "      <td>17.700</td>\n",
       "      <td>12</td>\n",
       "      <td>23.30</td>\n",
       "      <td>Санкт-Петербург</td>\n",
       "      <td>10364</td>\n",
       "      <td>602.0</td>\n",
       "    </tr>\n",
       "    <tr>\n",
       "      <td>23698</td>\n",
       "      <td>1350000.0</td>\n",
       "      <td>32.30</td>\n",
       "      <td>2017-07-21</td>\n",
       "      <td>1</td>\n",
       "      <td>2.50</td>\n",
       "      <td>5</td>\n",
       "      <td>12.300</td>\n",
       "      <td>1</td>\n",
       "      <td>9.00</td>\n",
       "      <td>поселок Новый Учхоз</td>\n",
       "      <td>NaN</td>\n",
       "      <td>NaN</td>\n",
       "    </tr>\n",
       "  </tbody>\n",
       "</table>\n",
       "<p>23699 rows × 12 columns</p>\n",
       "</div>"
      ],
      "text/plain": [
       "       last_price  total_area first_day_exposition  rooms  ceiling_height  \\\n",
       "0      13000000.0      108.00           2019-03-07      3            2.70   \n",
       "1       3350000.0       40.40           2018-12-04      1            2.72   \n",
       "2       5196000.0       56.00           2015-08-20      2            2.72   \n",
       "3      64900000.0      159.00           2015-07-24      3            2.72   \n",
       "4      10000000.0      100.00           2018-06-19      2            3.03   \n",
       "...           ...         ...                  ...    ...             ...   \n",
       "23694   9700000.0      133.81           2017-03-21      3            2.72   \n",
       "23695   3100000.0       59.00           2018-01-15      3            2.72   \n",
       "23696   2500000.0       56.70           2018-02-11      2            2.72   \n",
       "23697  11475000.0       76.75           2017-03-28      2            3.00   \n",
       "23698   1350000.0       32.30           2017-07-21      1            2.50   \n",
       "\n",
       "       floors_total  living_area  floor  kitchen_area        locality_name  \\\n",
       "0                16       51.000      8         25.00      Санкт-Петербург   \n",
       "1                11       18.600      1         11.00       посёлок Шушары   \n",
       "2                 5       34.300      4          8.30      Санкт-Петербург   \n",
       "3                14       20.015      9          0.00      Санкт-Петербург   \n",
       "4                14       32.000     13         41.00      Санкт-Петербург   \n",
       "...             ...          ...    ...           ...                  ...   \n",
       "23694             5       73.300      3         13.83      Санкт-Петербург   \n",
       "23695             5       38.000      4          8.50                Тосно   \n",
       "23696             3       29.700      1          0.00     село Рождествено   \n",
       "23697            17       17.700     12         23.30      Санкт-Петербург   \n",
       "23698             5       12.300      1          9.00  поселок Новый Учхоз   \n",
       "\n",
       "       city_centers_nearest  days_exposition  \n",
       "0                     16028              NaN  \n",
       "1                     18603             81.0  \n",
       "2                     13933            558.0  \n",
       "3                      6800            424.0  \n",
       "4                      8098            121.0  \n",
       "...                     ...              ...  \n",
       "23694                  4232              NaN  \n",
       "23695                   NaN             45.0  \n",
       "23696                   NaN              NaN  \n",
       "23697                 10364            602.0  \n",
       "23698                   NaN              NaN  \n",
       "\n",
       "[23699 rows x 12 columns]"
      ]
     },
     "execution_count": 25,
     "metadata": {},
     "output_type": "execute_result"
    }
   ],
   "source": [
    "# Удалим рассчетный столбец\n",
    "df.drop('kitchen_to_all', axis=1)"
   ]
  },
  {
   "cell_type": "markdown",
   "metadata": {},
   "source": [
    "**Вывод:** жилую площадь расчитали по медианным значениям категорий отношения кухни и общей площади округленных до 5."
   ]
  },
  {
   "cell_type": "markdown",
   "metadata": {},
   "source": [
    "#### `floors_total`"
   ]
  },
  {
   "cell_type": "code",
   "execution_count": 26,
   "metadata": {},
   "outputs": [
    {
     "name": "stdout",
     "output_type": "stream",
     "text": [
      "\n",
      "Количество пропусков в столбце floors_total = 86 (0%)\n",
      "\n",
      "Анализ данных по столбцу:\n"
     ]
    },
    {
     "data": {
      "text/plain": [
       "count    23613.000000\n",
       "mean        10.673824\n",
       "std          6.597173\n",
       "min          1.000000\n",
       "25%          5.000000\n",
       "50%          9.000000\n",
       "75%         16.000000\n",
       "max         60.000000\n",
       "Name: floors_total, dtype: float64"
      ]
     },
     "execution_count": 26,
     "metadata": {},
     "output_type": "execute_result"
    }
   ],
   "source": [
    "column = 'floors_total'\n",
    "col_is_na = df[column].isna().sum()\n",
    "print()\n",
    "print(f'Количество пропусков в столбце {column} = {col_is_na} ({col_is_na/df_len:.0%})')\n",
    "print()\n",
    "print(f'Анализ данных по столбцу:')\n",
    "df[column].describe()"
   ]
  },
  {
   "cell_type": "code",
   "execution_count": 27,
   "metadata": {},
   "outputs": [
    {
     "data": {
      "text/plain": [
       "Series([], Name: floors_total, dtype: Int64)"
      ]
     },
     "execution_count": 27,
     "metadata": {},
     "output_type": "execute_result"
    }
   ],
   "source": [
    "# Согласно данным из интернета высота жилых построек не превышает 35 этажей\n",
    "# поэтому аномальную информацию очистим\n",
    "df.loc[df['floors_total'] >= 36, 'floors_total'] = None\n",
    "df.loc[df['floors_total'] >= 36, 'floors_total']"
   ]
  },
  {
   "cell_type": "markdown",
   "metadata": {},
   "source": [
    "**Вывод:** аномальная информация была очищена. Пропуски восстановить не получится. Оставим их без изменения, так как их крайне мало."
   ]
  },
  {
   "cell_type": "markdown",
   "metadata": {},
   "source": [
    "#### `locality_name`"
   ]
  },
  {
   "cell_type": "code",
   "execution_count": 28,
   "metadata": {},
   "outputs": [
    {
     "name": "stdout",
     "output_type": "stream",
     "text": [
      "\n",
      "Количество пропусков в столбце locality_name = 49 (0%)\n",
      "\n",
      "Анализ уникальных данных по столбцу:\n"
     ]
    },
    {
     "data": {
      "text/plain": [
       "365"
      ]
     },
     "execution_count": 28,
     "metadata": {},
     "output_type": "execute_result"
    }
   ],
   "source": [
    "column = 'locality_name'\n",
    "col_is_na = df[column].isna().sum()\n",
    "print()\n",
    "print(f'Количество пропусков в столбце {column} = {col_is_na} ({col_is_na/df_len:.0%})')\n",
    "print()\n",
    "print(f'Анализ уникальных данных по столбцу:')\n",
    "len(df[column].unique())"
   ]
  },
  {
   "cell_type": "code",
   "execution_count": 29,
   "metadata": {},
   "outputs": [
    {
     "data": {
      "text/plain": [
       "331"
      ]
     },
     "execution_count": 29,
     "metadata": {},
     "output_type": "execute_result"
    }
   ],
   "source": [
    "# Преобразуем наиманование населенных пунктов к нижнему регистру\n",
    "# и заменим букву \"ё\" на \"е\"\n",
    "df[column] = df[column].str.lower()\n",
    "df[column] = df[column].str.replace('ё','е')\n",
    "len(df[column].unique())"
   ]
  },
  {
   "cell_type": "code",
   "execution_count": 30,
   "metadata": {},
   "outputs": [
    {
     "data": {
      "text/html": [
       "<div>\n",
       "<style scoped>\n",
       "    .dataframe tbody tr th:only-of-type {\n",
       "        vertical-align: middle;\n",
       "    }\n",
       "\n",
       "    .dataframe tbody tr th {\n",
       "        vertical-align: top;\n",
       "    }\n",
       "\n",
       "    .dataframe thead th {\n",
       "        text-align: right;\n",
       "    }\n",
       "</style>\n",
       "<table border=\"1\" class=\"dataframe\">\n",
       "  <thead>\n",
       "    <tr style=\"text-align: right;\">\n",
       "      <th></th>\n",
       "      <th>last_price</th>\n",
       "      <th>total_area</th>\n",
       "      <th>first_day_exposition</th>\n",
       "      <th>rooms</th>\n",
       "      <th>ceiling_height</th>\n",
       "      <th>floors_total</th>\n",
       "      <th>living_area</th>\n",
       "      <th>floor</th>\n",
       "      <th>kitchen_area</th>\n",
       "      <th>locality_name</th>\n",
       "      <th>city_centers_nearest</th>\n",
       "      <th>days_exposition</th>\n",
       "      <th>kitchen_to_all</th>\n",
       "    </tr>\n",
       "  </thead>\n",
       "  <tbody>\n",
       "    <tr>\n",
       "      <td>1097</td>\n",
       "      <td>8600000.0</td>\n",
       "      <td>81.7</td>\n",
       "      <td>2016-04-15</td>\n",
       "      <td>3</td>\n",
       "      <td>2.72</td>\n",
       "      <td>5</td>\n",
       "      <td>50.8</td>\n",
       "      <td>2</td>\n",
       "      <td>8.8</td>\n",
       "      <td>NaN</td>\n",
       "      <td>4258</td>\n",
       "      <td>147.0</td>\n",
       "      <td>10.0</td>\n",
       "    </tr>\n",
       "    <tr>\n",
       "      <td>2033</td>\n",
       "      <td>5398000.0</td>\n",
       "      <td>80.0</td>\n",
       "      <td>2017-05-30</td>\n",
       "      <td>3</td>\n",
       "      <td>2.72</td>\n",
       "      <td>4</td>\n",
       "      <td>42.6</td>\n",
       "      <td>2</td>\n",
       "      <td>18.6</td>\n",
       "      <td>NaN</td>\n",
       "      <td>NaN</td>\n",
       "      <td>34.0</td>\n",
       "      <td>20.0</td>\n",
       "    </tr>\n",
       "    <tr>\n",
       "      <td>2603</td>\n",
       "      <td>3351765.0</td>\n",
       "      <td>42.7</td>\n",
       "      <td>2015-09-20</td>\n",
       "      <td>1</td>\n",
       "      <td>2.72</td>\n",
       "      <td>24</td>\n",
       "      <td>15.6</td>\n",
       "      <td>3</td>\n",
       "      <td>10.7</td>\n",
       "      <td>NaN</td>\n",
       "      <td>17369</td>\n",
       "      <td>276.0</td>\n",
       "      <td>25.0</td>\n",
       "    </tr>\n",
       "    <tr>\n",
       "      <td>2632</td>\n",
       "      <td>5130593.0</td>\n",
       "      <td>62.4</td>\n",
       "      <td>2015-10-11</td>\n",
       "      <td>2</td>\n",
       "      <td>2.72</td>\n",
       "      <td>24</td>\n",
       "      <td>33.1</td>\n",
       "      <td>21</td>\n",
       "      <td>8.2</td>\n",
       "      <td>NaN</td>\n",
       "      <td>17369</td>\n",
       "      <td>256.0</td>\n",
       "      <td>10.0</td>\n",
       "    </tr>\n",
       "    <tr>\n",
       "      <td>3574</td>\n",
       "      <td>4200000.0</td>\n",
       "      <td>46.5</td>\n",
       "      <td>2016-05-28</td>\n",
       "      <td>2</td>\n",
       "      <td>2.72</td>\n",
       "      <td>5</td>\n",
       "      <td>30.8</td>\n",
       "      <td>5</td>\n",
       "      <td>6.5</td>\n",
       "      <td>NaN</td>\n",
       "      <td>8127</td>\n",
       "      <td>45.0</td>\n",
       "      <td>10.0</td>\n",
       "    </tr>\n",
       "  </tbody>\n",
       "</table>\n",
       "</div>"
      ],
      "text/plain": [
       "      last_price  total_area first_day_exposition  rooms  ceiling_height  \\\n",
       "1097   8600000.0        81.7           2016-04-15      3            2.72   \n",
       "2033   5398000.0        80.0           2017-05-30      3            2.72   \n",
       "2603   3351765.0        42.7           2015-09-20      1            2.72   \n",
       "2632   5130593.0        62.4           2015-10-11      2            2.72   \n",
       "3574   4200000.0        46.5           2016-05-28      2            2.72   \n",
       "\n",
       "      floors_total  living_area  floor  kitchen_area locality_name  \\\n",
       "1097             5         50.8      2           8.8           NaN   \n",
       "2033             4         42.6      2          18.6           NaN   \n",
       "2603            24         15.6      3          10.7           NaN   \n",
       "2632            24         33.1     21           8.2           NaN   \n",
       "3574             5         30.8      5           6.5           NaN   \n",
       "\n",
       "      city_centers_nearest  days_exposition  kitchen_to_all  \n",
       "1097                  4258            147.0            10.0  \n",
       "2033                   NaN             34.0            20.0  \n",
       "2603                 17369            276.0            25.0  \n",
       "2632                 17369            256.0            10.0  \n",
       "3574                  8127             45.0            10.0  "
      ]
     },
     "execution_count": 30,
     "metadata": {},
     "output_type": "execute_result"
    }
   ],
   "source": [
    "df.query('locality_name.isna()', engine='python').head()"
   ]
  },
  {
   "cell_type": "markdown",
   "metadata": {},
   "source": [
    "**Вывод:** наименования привели к нижнему регистру и заменили букву ё на е, в результате количество уникальных значений сократилось с 365 до 331. Незаполненных значений 49, что составляет 0.2%, можно ими пренебречь."
   ]
  },
  {
   "cell_type": "code",
   "execution_count": 31,
   "metadata": {},
   "outputs": [
    {
     "name": "stdout",
     "output_type": "stream",
     "text": [
      "<class 'pandas.core.frame.DataFrame'>\n",
      "RangeIndex: 23699 entries, 0 to 23698\n",
      "Data columns (total 13 columns):\n",
      "last_price              23699 non-null float64\n",
      "total_area              23699 non-null float64\n",
      "first_day_exposition    23699 non-null datetime64[ns]\n",
      "rooms                   23699 non-null int64\n",
      "ceiling_height          23699 non-null float64\n",
      "floors_total            23607 non-null Int64\n",
      "living_area             23699 non-null float64\n",
      "floor                   23699 non-null int64\n",
      "kitchen_area            23699 non-null float64\n",
      "locality_name           23650 non-null object\n",
      "city_centers_nearest    18180 non-null Int64\n",
      "days_exposition         20518 non-null float64\n",
      "kitchen_to_all          23699 non-null float64\n",
      "dtypes: Int64(2), datetime64[ns](1), float64(7), int64(2), object(1)\n",
      "memory usage: 2.4+ MB\n"
     ]
    }
   ],
   "source": [
    "df.info()"
   ]
  },
  {
   "cell_type": "markdown",
   "metadata": {},
   "source": [
    "**Вывод:** Большая часть пропусков заполнена. Природой возникновения пропусков может быть как ручной ввод, так и ошибки при подготовке данных. Ответственным за сбор информации необходимо донести данную информацию."
   ]
  },
  {
   "cell_type": "markdown",
   "metadata": {},
   "source": [
    "## Расчёты и добавление результатов в таблицу"
   ]
  },
  {
   "cell_type": "markdown",
   "metadata": {},
   "source": [
    "### Расчет стоимости квадратного метра."
   ]
  },
  {
   "cell_type": "code",
   "execution_count": 32,
   "metadata": {},
   "outputs": [],
   "source": [
    "df['price_per_square_meter'] = df['last_price']/df['total_area']"
   ]
  },
  {
   "cell_type": "code",
   "execution_count": 33,
   "metadata": {},
   "outputs": [
    {
     "data": {
      "text/plain": [
       "count               23699.0\n",
       "mean      99421.65639461846\n",
       "std       50306.80184435765\n",
       "min       111.8348623853211\n",
       "25%        76585.4701513237\n",
       "50%                 95000.0\n",
       "75%      114256.32646220882\n",
       "max               1907500.0\n",
       "Name: price_per_square_meter, dtype: object"
      ]
     },
     "execution_count": 33,
     "metadata": {},
     "output_type": "execute_result"
    }
   ],
   "source": [
    "df['price_per_square_meter'].describe().astype('str')"
   ]
  },
  {
   "cell_type": "code",
   "execution_count": 34,
   "metadata": {},
   "outputs": [
    {
     "data": {
      "text/html": [
       "<div>\n",
       "<style scoped>\n",
       "    .dataframe tbody tr th:only-of-type {\n",
       "        vertical-align: middle;\n",
       "    }\n",
       "\n",
       "    .dataframe tbody tr th {\n",
       "        vertical-align: top;\n",
       "    }\n",
       "\n",
       "    .dataframe thead th {\n",
       "        text-align: right;\n",
       "    }\n",
       "</style>\n",
       "<table border=\"1\" class=\"dataframe\">\n",
       "  <thead>\n",
       "    <tr style=\"text-align: right;\">\n",
       "      <th></th>\n",
       "      <th>last_price</th>\n",
       "      <th>total_area</th>\n",
       "      <th>first_day_exposition</th>\n",
       "      <th>rooms</th>\n",
       "      <th>ceiling_height</th>\n",
       "      <th>floors_total</th>\n",
       "      <th>living_area</th>\n",
       "      <th>floor</th>\n",
       "      <th>kitchen_area</th>\n",
       "      <th>locality_name</th>\n",
       "      <th>city_centers_nearest</th>\n",
       "      <th>days_exposition</th>\n",
       "      <th>kitchen_to_all</th>\n",
       "      <th>price_per_square_meter</th>\n",
       "    </tr>\n",
       "  </thead>\n",
       "  <tbody>\n",
       "    <tr>\n",
       "      <td>8793</td>\n",
       "      <td>12190.0</td>\n",
       "      <td>109.0</td>\n",
       "      <td>2019-03-20</td>\n",
       "      <td>2</td>\n",
       "      <td>2.75</td>\n",
       "      <td>25</td>\n",
       "      <td>32.0</td>\n",
       "      <td>25</td>\n",
       "      <td>40.5</td>\n",
       "      <td>санкт-петербург</td>\n",
       "      <td>9176</td>\n",
       "      <td>8.0</td>\n",
       "      <td>35.0</td>\n",
       "      <td>111.834862</td>\n",
       "    </tr>\n",
       "  </tbody>\n",
       "</table>\n",
       "</div>"
      ],
      "text/plain": [
       "      last_price  total_area first_day_exposition  rooms  ceiling_height  \\\n",
       "8793     12190.0       109.0           2019-03-20      2            2.75   \n",
       "\n",
       "      floors_total  living_area  floor  kitchen_area    locality_name  \\\n",
       "8793            25         32.0     25          40.5  санкт-петербург   \n",
       "\n",
       "      city_centers_nearest  days_exposition  kitchen_to_all  \\\n",
       "8793                  9176              8.0            35.0   \n",
       "\n",
       "      price_per_square_meter  \n",
       "8793              111.834862  "
      ]
     },
     "execution_count": 34,
     "metadata": {},
     "output_type": "execute_result"
    }
   ],
   "source": [
    "df.query('price_per_square_meter < 1111', engine='python')"
   ]
  },
  {
   "cell_type": "markdown",
   "metadata": {},
   "source": [
    "Для квартиры в Питере в новостройке 12190 рублей слишком мало, даже если в долларах. Удалим эту строку."
   ]
  },
  {
   "cell_type": "code",
   "execution_count": 35,
   "metadata": {},
   "outputs": [],
   "source": [
    "df = df.drop(8793, axis=0)"
   ]
  },
  {
   "cell_type": "code",
   "execution_count": 36,
   "metadata": {},
   "outputs": [
    {
     "data": {
      "text/html": [
       "<div>\n",
       "<style scoped>\n",
       "    .dataframe tbody tr th:only-of-type {\n",
       "        vertical-align: middle;\n",
       "    }\n",
       "\n",
       "    .dataframe tbody tr th {\n",
       "        vertical-align: top;\n",
       "    }\n",
       "\n",
       "    .dataframe thead th {\n",
       "        text-align: right;\n",
       "    }\n",
       "</style>\n",
       "<table border=\"1\" class=\"dataframe\">\n",
       "  <thead>\n",
       "    <tr style=\"text-align: right;\">\n",
       "      <th></th>\n",
       "      <th>last_price</th>\n",
       "      <th>total_area</th>\n",
       "      <th>first_day_exposition</th>\n",
       "      <th>rooms</th>\n",
       "      <th>ceiling_height</th>\n",
       "      <th>floors_total</th>\n",
       "      <th>living_area</th>\n",
       "      <th>floor</th>\n",
       "      <th>kitchen_area</th>\n",
       "      <th>locality_name</th>\n",
       "      <th>city_centers_nearest</th>\n",
       "      <th>days_exposition</th>\n",
       "      <th>kitchen_to_all</th>\n",
       "      <th>price_per_square_meter</th>\n",
       "    </tr>\n",
       "  </thead>\n",
       "  <tbody>\n",
       "  </tbody>\n",
       "</table>\n",
       "</div>"
      ],
      "text/plain": [
       "Empty DataFrame\n",
       "Columns: [last_price, total_area, first_day_exposition, rooms, ceiling_height, floors_total, living_area, floor, kitchen_area, locality_name, city_centers_nearest, days_exposition, kitchen_to_all, price_per_square_meter]\n",
       "Index: []"
      ]
     },
     "execution_count": 36,
     "metadata": {},
     "output_type": "execute_result"
    }
   ],
   "source": [
    "df.query('price_per_square_meter < 1111', engine='python')"
   ]
  },
  {
   "cell_type": "markdown",
   "metadata": {},
   "source": [
    "**Вывод:** добавлен столбец со стоимостью квадратного метра. Удалена строка с аномальными значениями. Средний ценник квадратного метра около 100 тысяч."
   ]
  },
  {
   "cell_type": "markdown",
   "metadata": {},
   "source": [
    "### День недели, месяц и год публикации объявления."
   ]
  },
  {
   "cell_type": "code",
   "execution_count": 37,
   "metadata": {},
   "outputs": [
    {
     "data": {
      "text/html": [
       "<div>\n",
       "<style scoped>\n",
       "    .dataframe tbody tr th:only-of-type {\n",
       "        vertical-align: middle;\n",
       "    }\n",
       "\n",
       "    .dataframe tbody tr th {\n",
       "        vertical-align: top;\n",
       "    }\n",
       "\n",
       "    .dataframe thead th {\n",
       "        text-align: right;\n",
       "    }\n",
       "</style>\n",
       "<table border=\"1\" class=\"dataframe\">\n",
       "  <thead>\n",
       "    <tr style=\"text-align: right;\">\n",
       "      <th></th>\n",
       "      <th>last_price</th>\n",
       "      <th>total_area</th>\n",
       "      <th>first_day_exposition</th>\n",
       "      <th>rooms</th>\n",
       "      <th>ceiling_height</th>\n",
       "      <th>floors_total</th>\n",
       "      <th>living_area</th>\n",
       "      <th>floor</th>\n",
       "      <th>kitchen_area</th>\n",
       "      <th>locality_name</th>\n",
       "      <th>city_centers_nearest</th>\n",
       "      <th>days_exposition</th>\n",
       "      <th>kitchen_to_all</th>\n",
       "      <th>price_per_square_meter</th>\n",
       "      <th>dweek_exposition</th>\n",
       "      <th>month_exposition</th>\n",
       "      <th>year_exposition</th>\n",
       "    </tr>\n",
       "  </thead>\n",
       "  <tbody>\n",
       "    <tr>\n",
       "      <td>0</td>\n",
       "      <td>13000000.0</td>\n",
       "      <td>108.0</td>\n",
       "      <td>2019-03-07</td>\n",
       "      <td>3</td>\n",
       "      <td>2.70</td>\n",
       "      <td>16</td>\n",
       "      <td>51.000</td>\n",
       "      <td>8</td>\n",
       "      <td>25.0</td>\n",
       "      <td>санкт-петербург</td>\n",
       "      <td>16028</td>\n",
       "      <td>NaN</td>\n",
       "      <td>20.0</td>\n",
       "      <td>120370.370370</td>\n",
       "      <td>4</td>\n",
       "      <td>3</td>\n",
       "      <td>2019</td>\n",
       "    </tr>\n",
       "    <tr>\n",
       "      <td>1</td>\n",
       "      <td>3350000.0</td>\n",
       "      <td>40.4</td>\n",
       "      <td>2018-12-04</td>\n",
       "      <td>1</td>\n",
       "      <td>2.72</td>\n",
       "      <td>11</td>\n",
       "      <td>18.600</td>\n",
       "      <td>1</td>\n",
       "      <td>11.0</td>\n",
       "      <td>поселок шушары</td>\n",
       "      <td>18603</td>\n",
       "      <td>81.0</td>\n",
       "      <td>25.0</td>\n",
       "      <td>82920.792079</td>\n",
       "      <td>2</td>\n",
       "      <td>12</td>\n",
       "      <td>2018</td>\n",
       "    </tr>\n",
       "    <tr>\n",
       "      <td>2</td>\n",
       "      <td>5196000.0</td>\n",
       "      <td>56.0</td>\n",
       "      <td>2015-08-20</td>\n",
       "      <td>2</td>\n",
       "      <td>2.72</td>\n",
       "      <td>5</td>\n",
       "      <td>34.300</td>\n",
       "      <td>4</td>\n",
       "      <td>8.3</td>\n",
       "      <td>санкт-петербург</td>\n",
       "      <td>13933</td>\n",
       "      <td>558.0</td>\n",
       "      <td>10.0</td>\n",
       "      <td>92785.714286</td>\n",
       "      <td>4</td>\n",
       "      <td>8</td>\n",
       "      <td>2015</td>\n",
       "    </tr>\n",
       "    <tr>\n",
       "      <td>3</td>\n",
       "      <td>64900000.0</td>\n",
       "      <td>159.0</td>\n",
       "      <td>2015-07-24</td>\n",
       "      <td>3</td>\n",
       "      <td>2.72</td>\n",
       "      <td>14</td>\n",
       "      <td>20.015</td>\n",
       "      <td>9</td>\n",
       "      <td>0.0</td>\n",
       "      <td>санкт-петербург</td>\n",
       "      <td>6800</td>\n",
       "      <td>424.0</td>\n",
       "      <td>0.0</td>\n",
       "      <td>408176.100629</td>\n",
       "      <td>5</td>\n",
       "      <td>7</td>\n",
       "      <td>2015</td>\n",
       "    </tr>\n",
       "    <tr>\n",
       "      <td>4</td>\n",
       "      <td>10000000.0</td>\n",
       "      <td>100.0</td>\n",
       "      <td>2018-06-19</td>\n",
       "      <td>2</td>\n",
       "      <td>3.03</td>\n",
       "      <td>14</td>\n",
       "      <td>32.000</td>\n",
       "      <td>13</td>\n",
       "      <td>41.0</td>\n",
       "      <td>санкт-петербург</td>\n",
       "      <td>8098</td>\n",
       "      <td>121.0</td>\n",
       "      <td>40.0</td>\n",
       "      <td>100000.000000</td>\n",
       "      <td>2</td>\n",
       "      <td>6</td>\n",
       "      <td>2018</td>\n",
       "    </tr>\n",
       "  </tbody>\n",
       "</table>\n",
       "</div>"
      ],
      "text/plain": [
       "   last_price  total_area first_day_exposition  rooms  ceiling_height  \\\n",
       "0  13000000.0       108.0           2019-03-07      3            2.70   \n",
       "1   3350000.0        40.4           2018-12-04      1            2.72   \n",
       "2   5196000.0        56.0           2015-08-20      2            2.72   \n",
       "3  64900000.0       159.0           2015-07-24      3            2.72   \n",
       "4  10000000.0       100.0           2018-06-19      2            3.03   \n",
       "\n",
       "   floors_total  living_area  floor  kitchen_area    locality_name  \\\n",
       "0            16       51.000      8          25.0  санкт-петербург   \n",
       "1            11       18.600      1          11.0   поселок шушары   \n",
       "2             5       34.300      4           8.3  санкт-петербург   \n",
       "3            14       20.015      9           0.0  санкт-петербург   \n",
       "4            14       32.000     13          41.0  санкт-петербург   \n",
       "\n",
       "   city_centers_nearest  days_exposition  kitchen_to_all  \\\n",
       "0                 16028              NaN            20.0   \n",
       "1                 18603             81.0            25.0   \n",
       "2                 13933            558.0            10.0   \n",
       "3                  6800            424.0             0.0   \n",
       "4                  8098            121.0            40.0   \n",
       "\n",
       "   price_per_square_meter  dweek_exposition  month_exposition  year_exposition  \n",
       "0           120370.370370                 4                 3             2019  \n",
       "1            82920.792079                 2                12             2018  \n",
       "2            92785.714286                 4                 8             2015  \n",
       "3           408176.100629                 5                 7             2015  \n",
       "4           100000.000000                 2                 6             2018  "
      ]
     },
     "execution_count": 37,
     "metadata": {},
     "output_type": "execute_result"
    }
   ],
   "source": [
    "# столбец дня недели создадим +1, чтобы пронумеровать обычными для нас номерами\n",
    "# понедельник - 1 ... воскресенье - 7\n",
    "df['dweek_exposition'] = pd.DatetimeIndex(df['first_day_exposition']).weekday+1\n",
    "df['month_exposition'] = pd.DatetimeIndex(df['first_day_exposition']).month\n",
    "df['year_exposition'] = pd.DatetimeIndex(df['first_day_exposition']).year\n",
    "\n",
    "df.head()"
   ]
  },
  {
   "cell_type": "code",
   "execution_count": 38,
   "metadata": {},
   "outputs": [
    {
     "data": {
      "text/plain": [
       "4    4295\n",
       "2    4183\n",
       "5    4000\n",
       "3    3973\n",
       "1    3612\n",
       "6    1936\n",
       "7    1699\n",
       "Name: dweek_exposition, dtype: int64"
      ]
     },
     "execution_count": 38,
     "metadata": {},
     "output_type": "execute_result"
    }
   ],
   "source": [
    "df['dweek_exposition'].value_counts()"
   ]
  },
  {
   "cell_type": "code",
   "execution_count": 39,
   "metadata": {},
   "outputs": [
    {
     "data": {
      "text/plain": [
       "2     2640\n",
       "3     2586\n",
       "4     2379\n",
       "11    2371\n",
       "10    2127\n",
       "9     1981\n",
       "6     1760\n",
       "8     1744\n",
       "7     1695\n",
       "12    1641\n",
       "1     1500\n",
       "5     1274\n",
       "Name: month_exposition, dtype: int64"
      ]
     },
     "execution_count": 39,
     "metadata": {},
     "output_type": "execute_result"
    }
   ],
   "source": [
    "df['month_exposition'].value_counts()"
   ]
  },
  {
   "cell_type": "code",
   "execution_count": 40,
   "metadata": {},
   "outputs": [
    {
     "data": {
      "text/plain": [
       "2018    8519\n",
       "2017    8190\n",
       "2019    2878\n",
       "2016    2783\n",
       "2015    1191\n",
       "2014     137\n",
       "Name: year_exposition, dtype: int64"
      ]
     },
     "execution_count": 40,
     "metadata": {},
     "output_type": "execute_result"
    }
   ],
   "source": [
    "df['year_exposition'].value_counts()"
   ]
  },
  {
   "cell_type": "markdown",
   "metadata": {},
   "source": [
    "**Вывод:** добавлены три столбца для аналитики, некорректных значений не замечено. По данным видно что пик продаж начался где-то с 2017 года, продают больше в будни."
   ]
  },
  {
   "cell_type": "markdown",
   "metadata": {},
   "source": [
    "### Этаж квартиры (первый, последний, другой)."
   ]
  },
  {
   "cell_type": "code",
   "execution_count": 41,
   "metadata": {},
   "outputs": [],
   "source": [
    "df['floor_type'] = df['floor']\n",
    "df.loc[(df['floor'] == 1), 'floor_type'] = 'первый'\n",
    "df.loc[df['floor'] == df['floors_total'], 'floor_type'] = 'последний'\n",
    "df.loc[(df['floor_type'] != 'первый') & (df['floor_type'] != 'последний'), 'floor_type'] = 'другой'"
   ]
  },
  {
   "cell_type": "code",
   "execution_count": 42,
   "metadata": {},
   "outputs": [
    {
     "data": {
      "text/plain": [
       "другой       17446\n",
       "последний     3360\n",
       "первый        2892\n",
       "Name: floor_type, dtype: int64"
      ]
     },
     "execution_count": 42,
     "metadata": {},
     "output_type": "execute_result"
    }
   ],
   "source": [
    "df['floor_type'].value_counts()"
   ]
  },
  {
   "cell_type": "markdown",
   "metadata": {},
   "source": [
    "**Вывод:** создан признак тип этажа. По нему видно что на последних и первых этажах значительно меньше чем на других."
   ]
  },
  {
   "cell_type": "markdown",
   "metadata": {},
   "source": [
    "### Соотношение жилой и общей площади, а также отношение площади кухни к общей."
   ]
  },
  {
   "cell_type": "code",
   "execution_count": 43,
   "metadata": {},
   "outputs": [],
   "source": [
    "df['living_to_total'] = df['living_area']/df['total_area']\n",
    "df['kitchen_to_total'] = df['kitchen_area']/df['total_area']"
   ]
  },
  {
   "cell_type": "code",
   "execution_count": 44,
   "metadata": {},
   "outputs": [
    {
     "data": {
      "text/plain": [
       "count    23698.000000\n",
       "mean         0.553662\n",
       "std          0.119705\n",
       "min          0.021583\n",
       "25%          0.480000\n",
       "50%          0.561613\n",
       "75%          0.634615\n",
       "max          1.539615\n",
       "Name: living_to_total, dtype: float64"
      ]
     },
     "execution_count": 44,
     "metadata": {},
     "output_type": "execute_result"
    }
   ],
   "source": [
    "df['living_to_total'].describe()"
   ]
  },
  {
   "cell_type": "code",
   "execution_count": 45,
   "metadata": {},
   "outputs": [
    {
     "data": {
      "text/plain": [
       "count    23698.000000\n",
       "mean         0.169337\n",
       "std          0.088662\n",
       "min          0.000000\n",
       "25%          0.120690\n",
       "50%          0.162047\n",
       "75%          0.223706\n",
       "max          0.787879\n",
       "Name: kitchen_to_total, dtype: float64"
      ]
     },
     "execution_count": 45,
     "metadata": {},
     "output_type": "execute_result"
    }
   ],
   "source": [
    "df['kitchen_to_total'].describe()"
   ]
  },
  {
   "cell_type": "markdown",
   "metadata": {},
   "source": [
    "**Вывод:** созданы столбцы с расчетом отношений жилой к общей площади и кухни к общей."
   ]
  },
  {
   "cell_type": "markdown",
   "metadata": {},
   "source": [
    "## Исследовательский анализ данных"
   ]
  },
  {
   "cell_type": "markdown",
   "metadata": {},
   "source": [
    "### Изучить параметры: площадь, цена, число комнат, высота потолков. \n",
    "Построить гистограммы для каждого параметра."
   ]
  },
  {
   "cell_type": "markdown",
   "metadata": {},
   "source": [
    "#### Общая площадь"
   ]
  },
  {
   "cell_type": "code",
   "execution_count": 46,
   "metadata": {},
   "outputs": [
    {
     "data": {
      "text/plain": [
       "count    23698.000000\n",
       "mean        60.346598\n",
       "std         35.653434\n",
       "min         12.000000\n",
       "25%         40.000000\n",
       "50%         52.000000\n",
       "75%         69.875000\n",
       "max        900.000000\n",
       "Name: total_area, dtype: float64"
      ]
     },
     "execution_count": 46,
     "metadata": {},
     "output_type": "execute_result"
    }
   ],
   "source": [
    "df['total_area'].describe()"
   ]
  },
  {
   "cell_type": "code",
   "execution_count": 47,
   "metadata": {},
   "outputs": [],
   "source": [
    "# Отсечем выбивающиеся данные более 105.\n",
    "df_good_data = df.query('total_area <= 105')"
   ]
  },
  {
   "cell_type": "code",
   "execution_count": 48,
   "metadata": {},
   "outputs": [
    {
     "data": {
      "text/plain": [
       "Text(0, 0.5, 'Количество предложений')"
      ]
     },
     "execution_count": 48,
     "metadata": {},
     "output_type": "execute_result"
    },
    {
     "data": {
      "image/png": "[encoded data removed]",
      "text/plain": [
       "<Figure size 1080x360 with 1 Axes>"
      ]
     },
     "metadata": {
      "needs_background": "light"
     },
     "output_type": "display_data"
    }
   ],
   "source": [
    "df_good_data.plot(kind='hist', \n",
    "                  y='total_area', \n",
    "                  title='Предложения квартир по общей площади',\n",
    "                  bins=90,\n",
    "                  figsize=(15,5), \n",
    "                  grid=True)\n",
    "plt.xlabel('Площадь квартиры (м2)')\n",
    "plt.ylabel('Количество предложений')"
   ]
  },
  {
   "cell_type": "markdown",
   "metadata": {},
   "source": [
    "**Вывод:** больше всего продают квартиры около 45м2, евродвушки, двушки."
   ]
  },
  {
   "cell_type": "markdown",
   "metadata": {},
   "source": [
    "#### Цена"
   ]
  },
  {
   "cell_type": "code",
   "execution_count": 49,
   "metadata": {},
   "outputs": [
    {
     "data": {
      "text/plain": [
       "count               23698.0\n",
       "mean      6541824.295172588\n",
       "std      10887160.351446437\n",
       "min                430000.0\n",
       "25%               3400000.0\n",
       "50%               4650000.0\n",
       "75%               6800000.0\n",
       "max             763000000.0\n",
       "Name: last_price, dtype: object"
      ]
     },
     "execution_count": 49,
     "metadata": {},
     "output_type": "execute_result"
    }
   ],
   "source": [
    "df['last_price'].describe().astype('str')"
   ]
  },
  {
   "cell_type": "code",
   "execution_count": 50,
   "metadata": {},
   "outputs": [],
   "source": [
    "# Отсечем выбивающиеся данные более 8000000.\n",
    "df_good_data = df_good_data.query('last_price <= 8000000', engine='python')"
   ]
  },
  {
   "cell_type": "code",
   "execution_count": 51,
   "metadata": {},
   "outputs": [
    {
     "data": {
      "text/plain": [
       "Text(0, 0.5, 'Количество предложений')"
      ]
     },
     "execution_count": 51,
     "metadata": {},
     "output_type": "execute_result"
    },
    {
     "data": {
      "image/png": "[encoded data removed]",
      "text/plain": [
       "<Figure size 1080x360 with 1 Axes>"
      ]
     },
     "metadata": {
      "needs_background": "light"
     },
     "output_type": "display_data"
    }
   ],
   "source": [
    "df_good_data.plot(kind='hist', \n",
    "                  y='last_price', \n",
    "                  title='Предложения квартир по цене',\n",
    "                  bins=75,\n",
    "                  figsize=(15,5), \n",
    "                  grid=True)\n",
    "plt.xlabel('Цена продажи')\n",
    "plt.ylabel('Количество предложений')"
   ]
  },
  {
   "cell_type": "markdown",
   "metadata": {},
   "source": [
    "**Вывод:** больше всего продается квартир в диапазоне 3.5-4.5 млн.рублей."
   ]
  },
  {
   "cell_type": "markdown",
   "metadata": {},
   "source": [
    "#### Число комнат"
   ]
  },
  {
   "cell_type": "code",
   "execution_count": 52,
   "metadata": {},
   "outputs": [
    {
     "data": {
      "text/plain": [
       "count    23698.000000\n",
       "mean         2.070639\n",
       "std          1.078428\n",
       "min          0.000000\n",
       "25%          1.000000\n",
       "50%          2.000000\n",
       "75%          3.000000\n",
       "max         19.000000\n",
       "Name: rooms, dtype: float64"
      ]
     },
     "execution_count": 52,
     "metadata": {},
     "output_type": "execute_result"
    }
   ],
   "source": [
    "df['rooms'].describe()"
   ]
  },
  {
   "cell_type": "code",
   "execution_count": 53,
   "metadata": {},
   "outputs": [],
   "source": [
    "# Отсечем выбивающиеся данные более 5.\n",
    "df_good_data = df_good_data.query('rooms <= 5', engine='python')"
   ]
  },
  {
   "cell_type": "code",
   "execution_count": 54,
   "metadata": {},
   "outputs": [
    {
     "data": {
      "text/plain": [
       "Text(0, 0.5, 'Количество предложений')"
      ]
     },
     "execution_count": 54,
     "metadata": {},
     "output_type": "execute_result"
    },
    {
     "data": {
      "image/png": "[encoded data removed]",
      "text/plain": [
       "<Figure size 1080x360 with 1 Axes>"
      ]
     },
     "metadata": {
      "needs_background": "light"
     },
     "output_type": "display_data"
    }
   ],
   "source": [
    "df_good_data.plot(kind='hist', \n",
    "                  y='rooms', \n",
    "                  title='Предложения квартир по количеству комнат',\n",
    "                  bins=5,\n",
    "                  figsize=(15,5), \n",
    "                  grid=True)\n",
    "plt.xlabel('Количество комнат')\n",
    "plt.ylabel('Количество предложений')"
   ]
  },
  {
   "cell_type": "markdown",
   "metadata": {},
   "source": [
    "**Вывод:** основная доля продаж приходится на 1-2 комнатные квартиры."
   ]
  },
  {
   "cell_type": "markdown",
   "metadata": {},
   "source": [
    "#### Высота потолков"
   ]
  },
  {
   "cell_type": "code",
   "execution_count": 55,
   "metadata": {},
   "outputs": [
    {
     "data": {
      "text/plain": [
       "count    23698.000000\n",
       "mean         2.696990\n",
       "std          0.140941\n",
       "min          2.400000\n",
       "25%          2.600000\n",
       "50%          2.720000\n",
       "75%          2.720000\n",
       "max          3.200000\n",
       "Name: ceiling_height, dtype: float64"
      ]
     },
     "execution_count": 55,
     "metadata": {},
     "output_type": "execute_result"
    }
   ],
   "source": [
    "df['ceiling_height'].describe()"
   ]
  },
  {
   "cell_type": "code",
   "execution_count": 56,
   "metadata": {},
   "outputs": [
    {
     "data": {
      "text/plain": [
       "Text(0, 0.5, 'Количество предложений')"
      ]
     },
     "execution_count": 56,
     "metadata": {},
     "output_type": "execute_result"
    },
    {
     "data": {
      "image/png": "[encoded data removed]",
      "text/plain": [
       "<Figure size 1080x360 with 1 Axes>"
      ]
     },
     "metadata": {
      "needs_background": "light"
     },
     "output_type": "display_data"
    }
   ],
   "source": [
    "df_good_data.plot(kind='hist', \n",
    "             y='ceiling_height', \n",
    "             title='Предложения квартир по высоте потолка',\n",
    "             bins=4,\n",
    "             figsize=(15,5), \n",
    "             grid=True)\n",
    "plt.xlabel('Высота потолка')\n",
    "plt.ylabel('Количество предложений')"
   ]
  },
  {
   "cell_type": "markdown",
   "metadata": {},
   "source": [
    "**Вывод:** квартиры с потолками высотой 2.6-2.8м продаются чаще, скорее всего это новый жилой фонд. В \"сталинках\" потолки метра 3."
   ]
  },
  {
   "cell_type": "markdown",
   "metadata": {},
   "source": [
    "### Изучить время продажи квартиры. \n",
    "Построить гистограмму. Посчитать среднее и медиану. Описать, сколько обычно занимает продажа. Когда можно считать, что продажи прошли очень быстро, а когда необычно долго?"
   ]
  },
  {
   "cell_type": "code",
   "execution_count": 57,
   "metadata": {},
   "outputs": [
    {
     "data": {
      "text/plain": [
       "count    20517.000000\n",
       "mean       180.897061\n",
       "std        219.730028\n",
       "min          1.000000\n",
       "25%         45.000000\n",
       "50%         95.000000\n",
       "75%        232.000000\n",
       "max       1580.000000\n",
       "Name: days_exposition, dtype: float64"
      ]
     },
     "execution_count": 57,
     "metadata": {},
     "output_type": "execute_result"
    }
   ],
   "source": [
    "df['days_exposition'].describe()"
   ]
  },
  {
   "cell_type": "code",
   "execution_count": 58,
   "metadata": {},
   "outputs": [],
   "source": [
    "# Отсечем выбивающиеся данные более 300.\n",
    "df_good_data = df_good_data.query('days_exposition <= 300', engine='python')"
   ]
  },
  {
   "cell_type": "code",
   "execution_count": 59,
   "metadata": {},
   "outputs": [
    {
     "data": {
      "text/plain": [
       "Text(0, 0.5, 'Количество предложений')"
      ]
     },
     "execution_count": 59,
     "metadata": {},
     "output_type": "execute_result"
    },
    {
     "data": {
      "image/png": "[encoded data removed]",
      "text/plain": [
       "<Figure size 1080x360 with 1 Axes>"
      ]
     },
     "metadata": {
      "needs_background": "light"
     },
     "output_type": "display_data"
    }
   ],
   "source": [
    "df_good_data.plot(kind='hist', \n",
    "                  y='days_exposition', \n",
    "                  title='Предложения квартир по высоте потолка',\n",
    "                  bins=30,\n",
    "                  figsize=(15,5), \n",
    "                  grid=True)\n",
    "plt.xlabel('Время продажи в днях')\n",
    "plt.ylabel('Количество предложений')"
   ]
  },
  {
   "cell_type": "markdown",
   "metadata": {},
   "source": [
    "**Вывод:** Среднее время продажи квартиры пол года, медианное 3 месяца. По графику можно сказать что очень быстрые продажи происходят от 1 дня до 2х месяцев, потом может быть затишье до года."
   ]
  },
  {
   "cell_type": "markdown",
   "metadata": {},
   "source": [
    "### Убрать редкие и выбивающиеся значения. \n",
    "Описать, какие особенности обнаружены."
   ]
  },
  {
   "cell_type": "markdown",
   "metadata": {},
   "source": [
    "В процессе исследования от датафрейма были отсечены данные содержащие следующие признаки:\n",
    "* Общая площадь квартиры более 105 метров\n",
    "* Стоимость более 8 млн.руб.\n",
    "* Количество комнат более 5\n",
    "* Время продажи более 300 дней"
   ]
  },
  {
   "cell_type": "markdown",
   "metadata": {},
   "source": [
    "**И как вывод, чаще покупают:**\n",
    "* квартиры площадью 45 м2\n",
    "* стоимостью в диапазоне 3.5-4.5 млн.руб\n",
    "* 1-2х комнатные квартиры\n",
    "* с потолками 2.6-2.8м, новый фонд\n",
    "* самые быстрые сделки от 1 дня до 2х месяцев"
   ]
  },
  {
   "cell_type": "markdown",
   "metadata": {},
   "source": [
    "### Какие факторы больше всего влияют на стоимость квартиры? \n",
    "Изучить, зависит ли цена от площади, числа комнат, удалённости от центра. Изучить зависимость цены от того, на каком этаже расположена квартира: первом, последнем или другом. Также изучить зависимость от даты размещения: дня недели, месяца и года."
   ]
  },
  {
   "cell_type": "markdown",
   "metadata": {},
   "source": [
    "#### Изучим, зависит ли цена от площади, числа комнат, удалённости от центра."
   ]
  },
  {
   "cell_type": "code",
   "execution_count": 60,
   "metadata": {},
   "outputs": [],
   "source": [
    "# Расстояние до центра в метрах переведем в километры\n",
    "df_good_data['city_centers_nearest'] = df_good_data['city_centers_nearest'] / 1000"
   ]
  },
  {
   "cell_type": "code",
   "execution_count": 61,
   "metadata": {},
   "outputs": [
    {
     "data": {
      "text/plain": [
       "<matplotlib.axes._subplots.AxesSubplot at 0x7f329fc67cd0>"
      ]
     },
     "execution_count": 61,
     "metadata": {},
     "output_type": "execute_result"
    },
    {
     "data": {
      "image/png": "[encoded data removed]",
      "text/plain": [
       "<Figure size 864x360 with 1 Axes>"
      ]
     },
     "metadata": {
      "needs_background": "light"
     },
     "output_type": "display_data"
    }
   ],
   "source": [
    "(df_good_data\n",
    "     .pivot_table(index='last_price', values=['total_area', 'rooms', 'city_centers_nearest'])\n",
    "     .plot(style='o', grid=True, figsize=(12, 5), title='График зависимости цены от площади, числа комнат, удалённости от центра')\n",
    ")"
   ]
  },
  {
   "cell_type": "markdown",
   "metadata": {},
   "source": [
    "#### Изучить зависимость цены от того, на каком этаже расположена квартира: первом, последнем или другом."
   ]
  },
  {
   "cell_type": "code",
   "execution_count": 62,
   "metadata": {},
   "outputs": [
    {
     "data": {
      "text/plain": [
       "<matplotlib.axes._subplots.AxesSubplot at 0x7f329fa80450>"
      ]
     },
     "execution_count": 62,
     "metadata": {},
     "output_type": "execute_result"
    },
    {
     "data": {
      "image/png": "[encoded data removed]",
      "text/plain": [
       "<Figure size 648x360 with 1 Axes>"
      ]
     },
     "metadata": {
      "needs_background": "light"
     },
     "output_type": "display_data"
    }
   ],
   "source": [
    "(df_good_data\n",
    "     .pivot_table(index='floor_type', values='last_price').sort_values(by='last_price', ascending=True)\n",
    "     .plot(grid=True, figsize=(9, 5),linewidth=3, title='Зависимость цены от этажа расположения квартиры')\n",
    ")"
   ]
  },
  {
   "cell_type": "code",
   "execution_count": 63,
   "metadata": {},
   "outputs": [
    {
     "data": {
      "text/plain": [
       "другой       10596\n",
       "последний     1898\n",
       "первый        1759\n",
       "Name: floor_type, dtype: int64"
      ]
     },
     "execution_count": 63,
     "metadata": {},
     "output_type": "execute_result"
    }
   ],
   "source": [
    "df_good_data['floor_type'].value_counts()"
   ]
  },
  {
   "cell_type": "markdown",
   "metadata": {},
   "source": [
    "Стоимость квартир на граничных этажах ниже, чем на остальных, самые дешевые на первых этажах, люди не любят когда им заглядывают в окна. Продажи квартир на \"других\" этажах составляют 75% от всех, в то время как на первом и последнем делят остальные 25% почти поровну с небольшим перевесом в пользу \"последних\" этажей."
   ]
  },
  {
   "cell_type": "markdown",
   "metadata": {},
   "source": [
    " #### Изучить зависимость от даты размещения: дня недели, месяца и года."
   ]
  },
  {
   "cell_type": "code",
   "execution_count": 64,
   "metadata": {},
   "outputs": [
    {
     "data": {
      "image/png": "[encoded data removed]",
      "text/plain": [
       "<Figure size 720x360 with 1 Axes>"
      ]
     },
     "metadata": {
      "needs_background": "light"
     },
     "output_type": "display_data"
    },
    {
     "data": {
      "image/png": "[encoded data removed]",
      "text/plain": [
       "<Figure size 720x360 with 1 Axes>"
      ]
     },
     "metadata": {
      "needs_background": "light"
     },
     "output_type": "display_data"
    },
    {
     "data": {
      "image/png": "[encoded data removed]",
      "text/plain": [
       "<Figure size 720x360 with 1 Axes>"
      ]
     },
     "metadata": {
      "needs_background": "light"
     },
     "output_type": "display_data"
    }
   ],
   "source": [
    "dict = {\n",
    "    'dweek_exposition': 'Зависимость цены от дня недели размещения',\n",
    "    'month_exposition': 'Зависимость цены от месяца размещения', \n",
    "    'year_exposition': 'Зависимость цены от года размещения'\n",
    "}\n",
    "for i in dict:\n",
    "    (df_good_data\n",
    "         .pivot_table(index=i, values=['last_price'])\n",
    "         .plot(grid=True, \n",
    "               figsize=(10, 5), \n",
    "               linewidth=5,\n",
    "               title=dict[i]) )"
   ]
  },
  {
   "cell_type": "markdown",
   "metadata": {},
   "source": [
    "**Вывод:** в середине недели удавалось продавать более дорогие квартиры, в пору летних отпусков стоимость значительно падает. А так же по имеющимся данным видно что до 2017 стоимость на недвижимость падала, далее произошол толчок и с 2018 стоимость снова начала стремительно расти."
   ]
  },
  {
   "cell_type": "markdown",
   "metadata": {},
   "source": [
    "### Выбрать 10 населённых пунктов с наибольшим числом объявлений. Посчитать среднюю цену квадратного метра в этих населённых пунктах. \n",
    "Выделить населённые пункты с самой высокой и низкой стоимостью жилья. Эти данные можно найти по имени в столбце locality_name."
   ]
  },
  {
   "cell_type": "code",
   "execution_count": 65,
   "metadata": {},
   "outputs": [
    {
     "data": {
      "text/html": [
       "<div>\n",
       "<style scoped>\n",
       "    .dataframe tbody tr th:only-of-type {\n",
       "        vertical-align: middle;\n",
       "    }\n",
       "\n",
       "    .dataframe tbody tr th {\n",
       "        vertical-align: top;\n",
       "    }\n",
       "\n",
       "    .dataframe thead th {\n",
       "        text-align: right;\n",
       "    }\n",
       "</style>\n",
       "<table border=\"1\" class=\"dataframe\">\n",
       "  <thead>\n",
       "    <tr style=\"text-align: right;\">\n",
       "      <th></th>\n",
       "      <th>count</th>\n",
       "      <th>mean</th>\n",
       "    </tr>\n",
       "    <tr>\n",
       "      <th>locality_name</th>\n",
       "      <th></th>\n",
       "      <th></th>\n",
       "    </tr>\n",
       "  </thead>\n",
       "  <tbody>\n",
       "    <tr>\n",
       "      <td>санкт-петербург</td>\n",
       "      <td>8784</td>\n",
       "      <td>102072.05</td>\n",
       "    </tr>\n",
       "    <tr>\n",
       "      <td>пушкин</td>\n",
       "      <td>214</td>\n",
       "      <td>98317.09</td>\n",
       "    </tr>\n",
       "    <tr>\n",
       "      <td>деревня кудрово</td>\n",
       "      <td>236</td>\n",
       "      <td>92433.61</td>\n",
       "    </tr>\n",
       "    <tr>\n",
       "      <td>поселок парголово</td>\n",
       "      <td>248</td>\n",
       "      <td>89195.47</td>\n",
       "    </tr>\n",
       "    <tr>\n",
       "      <td>поселок мурино</td>\n",
       "      <td>478</td>\n",
       "      <td>86107.88</td>\n",
       "    </tr>\n",
       "    <tr>\n",
       "      <td>поселок шушары</td>\n",
       "      <td>342</td>\n",
       "      <td>78311.31</td>\n",
       "    </tr>\n",
       "    <tr>\n",
       "      <td>колпино</td>\n",
       "      <td>261</td>\n",
       "      <td>74537.24</td>\n",
       "    </tr>\n",
       "    <tr>\n",
       "      <td>гатчина</td>\n",
       "      <td>211</td>\n",
       "      <td>68605.81</td>\n",
       "    </tr>\n",
       "    <tr>\n",
       "      <td>всеволожск</td>\n",
       "      <td>264</td>\n",
       "      <td>66493.48</td>\n",
       "    </tr>\n",
       "    <tr>\n",
       "      <td>выборг</td>\n",
       "      <td>166</td>\n",
       "      <td>57369.82</td>\n",
       "    </tr>\n",
       "  </tbody>\n",
       "</table>\n",
       "</div>"
      ],
      "text/plain": [
       "                   count       mean\n",
       "locality_name                      \n",
       "санкт-петербург     8784  102072.05\n",
       "пушкин               214   98317.09\n",
       "деревня кудрово      236   92433.61\n",
       "поселок парголово    248   89195.47\n",
       "поселок мурино       478   86107.88\n",
       "поселок шушары       342   78311.31\n",
       "колпино              261   74537.24\n",
       "гатчина              211   68605.81\n",
       "всеволожск           264   66493.48\n",
       "выборг               166   57369.82"
      ]
     },
     "execution_count": 65,
     "metadata": {},
     "output_type": "execute_result"
    }
   ],
   "source": [
    "top10_locality = df_good_data.pivot_table(index='locality_name', values='price_per_square_meter', aggfunc='count').sort_values(by='price_per_square_meter', ascending=False).head(10)\n",
    "top10_locality.columns=['count']\n",
    "top10_locality['mean'] = round(df_good_data.pivot_table(index='locality_name', values='price_per_square_meter', aggfunc='mean'),2)\n",
    "top10_locality.sort_values(by='mean', ascending=False)"
   ]
  },
  {
   "cell_type": "markdown",
   "metadata": {},
   "source": [
    "**Вывод:** большая часть продаж в Санкт-Петербурге, составляет 80% от общего значения продаж. Квадратный метр похоже уменьшается с увеличением расстояния от Петербурга. Все населенные пункты в относительной близости к Питеру и только Выборг находится относительно далеко, примерно 150км."
   ]
  },
  {
   "cell_type": "markdown",
   "metadata": {},
   "source": [
    "### Изучить предложения квартир: для каждой квартиры есть информация о расстоянии до центра.\n",
    "Выделить квартиры в Санкт-Петербурге (locality_name). Выяснить, какая область входит в центр. Создать столбец с расстоянием до центра в километрах: округлить до целых значений. После этого посчитать среднюю цену для каждого километра. Построить график: он должен показывать, как цена зависит от удалённости от центра. Определить границу, где график сильно меняется, — это и будет центральная зона."
   ]
  },
  {
   "cell_type": "code",
   "execution_count": 66,
   "metadata": {},
   "outputs": [
    {
     "data": {
      "text/plain": [
       "15720"
      ]
     },
     "execution_count": 66,
     "metadata": {},
     "output_type": "execute_result"
    }
   ],
   "source": [
    "# Создадим для исследования отдельный датафрейм\n",
    "spb_locality = df.loc[df['locality_name'] == 'санкт-петербург']\n",
    "len(spb_locality)"
   ]
  },
  {
   "cell_type": "code",
   "execution_count": 67,
   "metadata": {},
   "outputs": [
    {
     "data": {
      "text/plain": [
       "61"
      ]
     },
     "execution_count": 67,
     "metadata": {},
     "output_type": "execute_result"
    }
   ],
   "source": [
    "# Проанализируем сколько значений не заполнено\n",
    "spb_locality['city_centers_nearest'].isna().sum()"
   ]
  },
  {
   "cell_type": "markdown",
   "metadata": {},
   "source": [
    "0.3% от общего количества не заполнено. Удалим их"
   ]
  },
  {
   "cell_type": "code",
   "execution_count": 68,
   "metadata": {},
   "outputs": [],
   "source": [
    "spb_locality = spb_locality.dropna(subset=['city_centers_nearest'])"
   ]
  },
  {
   "cell_type": "code",
   "execution_count": 69,
   "metadata": {},
   "outputs": [],
   "source": [
    "spb_locality['city_centers_nearest_km'] = (spb_locality['city_centers_nearest']/1000).astype(int)"
   ]
  },
  {
   "cell_type": "code",
   "execution_count": 70,
   "metadata": {},
   "outputs": [
    {
     "data": {
      "text/plain": [
       "count    15659.000000\n",
       "mean        11.104030\n",
       "std          4.842068\n",
       "min          0.000000\n",
       "25%          8.000000\n",
       "50%         12.000000\n",
       "75%         14.000000\n",
       "max         29.000000\n",
       "Name: city_centers_nearest_km, dtype: float64"
      ]
     },
     "execution_count": 70,
     "metadata": {},
     "output_type": "execute_result"
    }
   ],
   "source": [
    "spb_locality['city_centers_nearest_km'].describe()"
   ]
  },
  {
   "cell_type": "code",
   "execution_count": 71,
   "metadata": {},
   "outputs": [
    {
     "data": {
      "text/plain": [
       "<matplotlib.axes._subplots.AxesSubplot at 0x7f329fd44d50>"
      ]
     },
     "execution_count": 71,
     "metadata": {},
     "output_type": "execute_result"
    },
    {
     "data": {
      "image/png": "[encoded data removed]",
      "text/plain": [
       "<Figure size 432x288 with 1 Axes>"
      ]
     },
     "metadata": {
      "needs_background": "light"
     },
     "output_type": "display_data"
    }
   ],
   "source": [
    "spb_locality.boxplot('city_centers_nearest_km')"
   ]
  },
  {
   "cell_type": "code",
   "execution_count": 72,
   "metadata": {},
   "outputs": [
    {
     "name": "stdout",
     "output_type": "stream",
     "text": [
      "Средняя стоимость на километр составляет 732964 рублей.\n"
     ]
    }
   ],
   "source": [
    "# Отсечем все данные более 23км\n",
    "spb_locality = spb_locality.loc[spb_locality['city_centers_nearest_km'] <= 23]\n",
    "# Рассчитаем среднюю стоимость на километр\n",
    "price_per_km = int(spb_locality['last_price'].sum()/spb_locality['city_centers_nearest_km'].sum())\n",
    "print(f'Средняя стоимость на километр составляет {price_per_km} рублей.')\n"
   ]
  },
  {
   "cell_type": "code",
   "execution_count": 73,
   "metadata": {},
   "outputs": [
    {
     "data": {
      "text/plain": [
       "<matplotlib.axes._subplots.AxesSubplot at 0x7f329e1e2690>"
      ]
     },
     "execution_count": 73,
     "metadata": {},
     "output_type": "execute_result"
    },
    {
     "data": {
      "image/png": "[encoded data removed]",
      "text/plain": [
       "<Figure size 720x360 with 1 Axes>"
      ]
     },
     "metadata": {
      "needs_background": "light"
     },
     "output_type": "display_data"
    }
   ],
   "source": [
    "(spb_locality.pivot_table(index='city_centers_nearest_km', \n",
    "                          values='last_price', \n",
    "                          aggfunc='mean').plot(figsize=(10,5), grid=True, linewidth=5)\n",
    ")\n"
   ]
  },
  {
   "cell_type": "markdown",
   "metadata": {},
   "source": [
    "**Вывод:** гдето на 9-10км от центра стоимость выравнивается, можно сделать предположение что на этом расстоянии заканчиваются границы центра Питера."
   ]
  },
  {
   "cell_type": "markdown",
   "metadata": {},
   "source": [
    "### Выделить сегмент квартир в центре. Проанализировать эту территорию \n",
    "и изучить следующие параметры: \n",
    "площадь, цена, число комнат, высота потолков. Также выделить факторы, которые влияют на стоимость квартиры (число комнат, этаж, удалённость от центра, дата размещения объявления). Сделать выводы. Отличаются ли они от общих выводов по всему городу?"
   ]
  },
  {
   "cell_type": "code",
   "execution_count": 74,
   "metadata": {},
   "outputs": [],
   "source": [
    "# Сделаем отсечку данных не входящих в центр\n",
    "spb_locality = spb_locality.loc[spb_locality['city_centers_nearest_km'] <= 10]\n",
    "# Создадим два датафрейма для двух исследований\n",
    "spb_locality1 = spb_locality[['locality_name','total_area','last_price','rooms','ceiling_height']]\n",
    "spb_locality2 = spb_locality[['locality_name', 'last_price', 'rooms','floor','city_centers_nearest_km','first_day_exposition']]"
   ]
  },
  {
   "cell_type": "code",
   "execution_count": 75,
   "metadata": {},
   "outputs": [
    {
     "data": {
      "text/html": [
       "<div>\n",
       "<style scoped>\n",
       "    .dataframe tbody tr th:only-of-type {\n",
       "        vertical-align: middle;\n",
       "    }\n",
       "\n",
       "    .dataframe tbody tr th {\n",
       "        vertical-align: top;\n",
       "    }\n",
       "\n",
       "    .dataframe thead th {\n",
       "        text-align: right;\n",
       "    }\n",
       "</style>\n",
       "<table border=\"1\" class=\"dataframe\">\n",
       "  <thead>\n",
       "    <tr style=\"text-align: right;\">\n",
       "      <th></th>\n",
       "      <th>total_area</th>\n",
       "      <th>last_price</th>\n",
       "      <th>rooms</th>\n",
       "      <th>ceiling_height</th>\n",
       "    </tr>\n",
       "  </thead>\n",
       "  <tbody>\n",
       "    <tr>\n",
       "      <td>total_area</td>\n",
       "      <td>1.000000</td>\n",
       "      <td>0.650207</td>\n",
       "      <td>0.761728</td>\n",
       "      <td>0.180893</td>\n",
       "    </tr>\n",
       "    <tr>\n",
       "      <td>last_price</td>\n",
       "      <td>0.650207</td>\n",
       "      <td>1.000000</td>\n",
       "      <td>0.363457</td>\n",
       "      <td>0.090672</td>\n",
       "    </tr>\n",
       "    <tr>\n",
       "      <td>rooms</td>\n",
       "      <td>0.761728</td>\n",
       "      <td>0.363457</td>\n",
       "      <td>1.000000</td>\n",
       "      <td>0.163534</td>\n",
       "    </tr>\n",
       "    <tr>\n",
       "      <td>ceiling_height</td>\n",
       "      <td>0.180893</td>\n",
       "      <td>0.090672</td>\n",
       "      <td>0.163534</td>\n",
       "      <td>1.000000</td>\n",
       "    </tr>\n",
       "  </tbody>\n",
       "</table>\n",
       "</div>"
      ],
      "text/plain": [
       "                total_area  last_price     rooms  ceiling_height\n",
       "total_area        1.000000    0.650207  0.761728        0.180893\n",
       "last_price        0.650207    1.000000  0.363457        0.090672\n",
       "rooms             0.761728    0.363457  1.000000        0.163534\n",
       "ceiling_height    0.180893    0.090672  0.163534        1.000000"
      ]
     },
     "metadata": {},
     "output_type": "display_data"
    },
    {
     "data": {
      "text/plain": [
       "array([[<matplotlib.axes._subplots.AxesSubplot object at 0x7f329e168210>,\n",
       "        <matplotlib.axes._subplots.AxesSubplot object at 0x7f329e0c9f10>,\n",
       "        <matplotlib.axes._subplots.AxesSubplot object at 0x7f329e12ed90>,\n",
       "        <matplotlib.axes._subplots.AxesSubplot object at 0x7f329e1af690>],\n",
       "       [<matplotlib.axes._subplots.AxesSubplot object at 0x7f329e19d250>,\n",
       "        <matplotlib.axes._subplots.AxesSubplot object at 0x7f329e040ad0>,\n",
       "        <matplotlib.axes._subplots.AxesSubplot object at 0x7f329dffef10>,\n",
       "        <matplotlib.axes._subplots.AxesSubplot object at 0x7f329dfb6b10>],\n",
       "       [<matplotlib.axes._subplots.AxesSubplot object at 0x7f329dfc0650>,\n",
       "        <matplotlib.axes._subplots.AxesSubplot object at 0x7f329df75fd0>,\n",
       "        <matplotlib.axes._subplots.AxesSubplot object at 0x7f329deeae90>,\n",
       "        <matplotlib.axes._subplots.AxesSubplot object at 0x7f329df20b90>],\n",
       "       [<matplotlib.axes._subplots.AxesSubplot object at 0x7f329dedfed0>,\n",
       "        <matplotlib.axes._subplots.AxesSubplot object at 0x7f329de94bd0>,\n",
       "        <matplotlib.axes._subplots.AxesSubplot object at 0x7f329de54f10>,\n",
       "        <matplotlib.axes._subplots.AxesSubplot object at 0x7f329de0bc10>]],\n",
       "      dtype=object)"
      ]
     },
     "metadata": {},
     "output_type": "display_data"
    },
    {
     "data": {
      "text/html": [
       "<div>\n",
       "<style scoped>\n",
       "    .dataframe tbody tr th:only-of-type {\n",
       "        vertical-align: middle;\n",
       "    }\n",
       "\n",
       "    .dataframe tbody tr th {\n",
       "        vertical-align: top;\n",
       "    }\n",
       "\n",
       "    .dataframe thead th {\n",
       "        text-align: right;\n",
       "    }\n",
       "</style>\n",
       "<table border=\"1\" class=\"dataframe\">\n",
       "  <thead>\n",
       "    <tr style=\"text-align: right;\">\n",
       "      <th></th>\n",
       "      <th>total_area</th>\n",
       "      <th>last_price</th>\n",
       "      <th>rooms</th>\n",
       "      <th>ceiling_height</th>\n",
       "    </tr>\n",
       "  </thead>\n",
       "  <tbody>\n",
       "    <tr>\n",
       "      <td>count</td>\n",
       "      <td>5983.0</td>\n",
       "      <td>5983.0</td>\n",
       "      <td>5983.0</td>\n",
       "      <td>5983.0</td>\n",
       "    </tr>\n",
       "    <tr>\n",
       "      <td>mean</td>\n",
       "      <td>79.97993815811465</td>\n",
       "      <td>11797364.83235835</td>\n",
       "      <td>2.5286645495570785</td>\n",
       "      <td>2.773199064014708</td>\n",
       "    </tr>\n",
       "    <tr>\n",
       "      <td>std</td>\n",
       "      <td>53.45415460698162</td>\n",
       "      <td>20050377.42957406</td>\n",
       "      <td>1.3450774593830577</td>\n",
       "      <td>0.17357172316280337</td>\n",
       "    </tr>\n",
       "    <tr>\n",
       "      <td>min</td>\n",
       "      <td>12.0</td>\n",
       "      <td>1600000.0</td>\n",
       "      <td>0.0</td>\n",
       "      <td>2.4</td>\n",
       "    </tr>\n",
       "    <tr>\n",
       "      <td>25%</td>\n",
       "      <td>46.19</td>\n",
       "      <td>5200000.0</td>\n",
       "      <td>2.0</td>\n",
       "      <td>2.72</td>\n",
       "    </tr>\n",
       "    <tr>\n",
       "      <td>50%</td>\n",
       "      <td>67.0</td>\n",
       "      <td>7550000.0</td>\n",
       "      <td>2.0</td>\n",
       "      <td>2.72</td>\n",
       "    </tr>\n",
       "    <tr>\n",
       "      <td>75%</td>\n",
       "      <td>95.0</td>\n",
       "      <td>12000000.0</td>\n",
       "      <td>3.0</td>\n",
       "      <td>2.8</td>\n",
       "    </tr>\n",
       "    <tr>\n",
       "      <td>max</td>\n",
       "      <td>900.0</td>\n",
       "      <td>763000000.0</td>\n",
       "      <td>19.0</td>\n",
       "      <td>3.2</td>\n",
       "    </tr>\n",
       "  </tbody>\n",
       "</table>\n",
       "</div>"
      ],
      "text/plain": [
       "              total_area         last_price               rooms  \\\n",
       "count             5983.0             5983.0              5983.0   \n",
       "mean   79.97993815811465  11797364.83235835  2.5286645495570785   \n",
       "std    53.45415460698162  20050377.42957406  1.3450774593830577   \n",
       "min                 12.0          1600000.0                 0.0   \n",
       "25%                46.19          5200000.0                 2.0   \n",
       "50%                 67.0          7550000.0                 2.0   \n",
       "75%                 95.0         12000000.0                 3.0   \n",
       "max                900.0        763000000.0                19.0   \n",
       "\n",
       "            ceiling_height  \n",
       "count               5983.0  \n",
       "mean     2.773199064014708  \n",
       "std    0.17357172316280337  \n",
       "min                    2.4  \n",
       "25%                   2.72  \n",
       "50%                   2.72  \n",
       "75%                    2.8  \n",
       "max                    3.2  "
      ]
     },
     "execution_count": 75,
     "metadata": {},
     "output_type": "execute_result"
    },
    {
     "data": {
      "image/png": "[encoded data removed]",
      "text/plain": [
       "<Figure size 648x648 with 16 Axes>"
      ]
     },
     "metadata": {
      "needs_background": "light"
     },
     "output_type": "display_data"
    }
   ],
   "source": [
    "display(spb_locality1.corr())\n",
    "display(pd.plotting.scatter_matrix(spb_locality1, figsize=(9, 9)))\n",
    "spb_locality1.describe().astype('str')"
   ]
  },
  {
   "cell_type": "markdown",
   "metadata": {},
   "source": [
    "**Вывод:** в центре Питера в основном продается 2-3х комнатная недвижимость площадью 70-80м2, потолки 2.7м, за 7.5-12млн.руб. \n",
    "Из матрицы видно что от высоты потолков ничего не зависит, а с ростом площади растет цена и количество комнат."
   ]
  },
  {
   "cell_type": "code",
   "execution_count": 76,
   "metadata": {},
   "outputs": [
    {
     "data": {
      "text/html": [
       "<div>\n",
       "<style scoped>\n",
       "    .dataframe tbody tr th:only-of-type {\n",
       "        vertical-align: middle;\n",
       "    }\n",
       "\n",
       "    .dataframe tbody tr th {\n",
       "        vertical-align: top;\n",
       "    }\n",
       "\n",
       "    .dataframe thead th {\n",
       "        text-align: right;\n",
       "    }\n",
       "</style>\n",
       "<table border=\"1\" class=\"dataframe\">\n",
       "  <thead>\n",
       "    <tr style=\"text-align: right;\">\n",
       "      <th></th>\n",
       "      <th>last_price</th>\n",
       "      <th>rooms</th>\n",
       "      <th>floor</th>\n",
       "      <th>city_centers_nearest_km</th>\n",
       "    </tr>\n",
       "  </thead>\n",
       "  <tbody>\n",
       "    <tr>\n",
       "      <td>last_price</td>\n",
       "      <td>1.000000</td>\n",
       "      <td>0.363457</td>\n",
       "      <td>0.061960</td>\n",
       "      <td>-0.188562</td>\n",
       "    </tr>\n",
       "    <tr>\n",
       "      <td>rooms</td>\n",
       "      <td>0.363457</td>\n",
       "      <td>1.000000</td>\n",
       "      <td>-0.091807</td>\n",
       "      <td>-0.313823</td>\n",
       "    </tr>\n",
       "    <tr>\n",
       "      <td>floor</td>\n",
       "      <td>0.061960</td>\n",
       "      <td>-0.091807</td>\n",
       "      <td>1.000000</td>\n",
       "      <td>0.259963</td>\n",
       "    </tr>\n",
       "    <tr>\n",
       "      <td>city_centers_nearest_km</td>\n",
       "      <td>-0.188562</td>\n",
       "      <td>-0.313823</td>\n",
       "      <td>0.259963</td>\n",
       "      <td>1.000000</td>\n",
       "    </tr>\n",
       "  </tbody>\n",
       "</table>\n",
       "</div>"
      ],
      "text/plain": [
       "                         last_price     rooms     floor  \\\n",
       "last_price                 1.000000  0.363457  0.061960   \n",
       "rooms                      0.363457  1.000000 -0.091807   \n",
       "floor                      0.061960 -0.091807  1.000000   \n",
       "city_centers_nearest_km   -0.188562 -0.313823  0.259963   \n",
       "\n",
       "                         city_centers_nearest_km  \n",
       "last_price                             -0.188562  \n",
       "rooms                                  -0.313823  \n",
       "floor                                   0.259963  \n",
       "city_centers_nearest_km                 1.000000  "
      ]
     },
     "metadata": {},
     "output_type": "display_data"
    },
    {
     "data": {
      "text/plain": [
       "array([[<matplotlib.axes._subplots.AxesSubplot object at 0x7f329dc221d0>,\n",
       "        <matplotlib.axes._subplots.AxesSubplot object at 0x7f329db84f50>,\n",
       "        <matplotlib.axes._subplots.AxesSubplot object at 0x7f329db27c10>,\n",
       "        <matplotlib.axes._subplots.AxesSubplot object at 0x7f329db65f50>],\n",
       "       [<matplotlib.axes._subplots.AxesSubplot object at 0x7f329db1ac50>,\n",
       "        <matplotlib.axes._subplots.AxesSubplot object at 0x7f329dad9f90>,\n",
       "        <matplotlib.axes._subplots.AxesSubplot object at 0x7f329da8ec90>,\n",
       "        <matplotlib.axes._subplots.AxesSubplot object at 0x7f329da50fd0>],\n",
       "       [<matplotlib.axes._subplots.AxesSubplot object at 0x7f329da5c110>,\n",
       "        <matplotlib.axes._subplots.AxesSubplot object at 0x7f329da10990>,\n",
       "        <matplotlib.axes._subplots.AxesSubplot object at 0x7f329d97bd10>,\n",
       "        <matplotlib.axes._subplots.AxesSubplot object at 0x7f329d93d550>],\n",
       "       [<matplotlib.axes._subplots.AxesSubplot object at 0x7f329d8f1d50>,\n",
       "        <matplotlib.axes._subplots.AxesSubplot object at 0x7f329d8b1590>,\n",
       "        <matplotlib.axes._subplots.AxesSubplot object at 0x7f329d8e5d90>,\n",
       "        <matplotlib.axes._subplots.AxesSubplot object at 0x7f329d8275d0>]],\n",
       "      dtype=object)"
      ]
     },
     "metadata": {},
     "output_type": "display_data"
    },
    {
     "data": {
      "text/html": [
       "<div>\n",
       "<style scoped>\n",
       "    .dataframe tbody tr th:only-of-type {\n",
       "        vertical-align: middle;\n",
       "    }\n",
       "\n",
       "    .dataframe tbody tr th {\n",
       "        vertical-align: top;\n",
       "    }\n",
       "\n",
       "    .dataframe thead th {\n",
       "        text-align: right;\n",
       "    }\n",
       "</style>\n",
       "<table border=\"1\" class=\"dataframe\">\n",
       "  <thead>\n",
       "    <tr style=\"text-align: right;\">\n",
       "      <th></th>\n",
       "      <th>last_price</th>\n",
       "      <th>rooms</th>\n",
       "      <th>floor</th>\n",
       "      <th>city_centers_nearest_km</th>\n",
       "    </tr>\n",
       "  </thead>\n",
       "  <tbody>\n",
       "    <tr>\n",
       "      <td>count</td>\n",
       "      <td>5983.0</td>\n",
       "      <td>5983.0</td>\n",
       "      <td>5983.0</td>\n",
       "      <td>5983.0</td>\n",
       "    </tr>\n",
       "    <tr>\n",
       "      <td>mean</td>\n",
       "      <td>11797364.83235835</td>\n",
       "      <td>2.5286645495570785</td>\n",
       "      <td>4.913588500752131</td>\n",
       "      <td>6.059669062343306</td>\n",
       "    </tr>\n",
       "    <tr>\n",
       "      <td>std</td>\n",
       "      <td>20050377.42957406</td>\n",
       "      <td>1.3450774593830577</td>\n",
       "      <td>3.8346884334924383</td>\n",
       "      <td>2.802948313568444</td>\n",
       "    </tr>\n",
       "    <tr>\n",
       "      <td>min</td>\n",
       "      <td>1600000.0</td>\n",
       "      <td>0.0</td>\n",
       "      <td>1.0</td>\n",
       "      <td>0.0</td>\n",
       "    </tr>\n",
       "    <tr>\n",
       "      <td>25%</td>\n",
       "      <td>5200000.0</td>\n",
       "      <td>2.0</td>\n",
       "      <td>2.0</td>\n",
       "      <td>4.0</td>\n",
       "    </tr>\n",
       "    <tr>\n",
       "      <td>50%</td>\n",
       "      <td>7550000.0</td>\n",
       "      <td>2.0</td>\n",
       "      <td>4.0</td>\n",
       "      <td>6.0</td>\n",
       "    </tr>\n",
       "    <tr>\n",
       "      <td>75%</td>\n",
       "      <td>12000000.0</td>\n",
       "      <td>3.0</td>\n",
       "      <td>6.0</td>\n",
       "      <td>9.0</td>\n",
       "    </tr>\n",
       "    <tr>\n",
       "      <td>max</td>\n",
       "      <td>763000000.0</td>\n",
       "      <td>19.0</td>\n",
       "      <td>26.0</td>\n",
       "      <td>10.0</td>\n",
       "    </tr>\n",
       "  </tbody>\n",
       "</table>\n",
       "</div>"
      ],
      "text/plain": [
       "              last_price               rooms               floor  \\\n",
       "count             5983.0              5983.0              5983.0   \n",
       "mean   11797364.83235835  2.5286645495570785   4.913588500752131   \n",
       "std    20050377.42957406  1.3450774593830577  3.8346884334924383   \n",
       "min            1600000.0                 0.0                 1.0   \n",
       "25%            5200000.0                 2.0                 2.0   \n",
       "50%            7550000.0                 2.0                 4.0   \n",
       "75%           12000000.0                 3.0                 6.0   \n",
       "max          763000000.0                19.0                26.0   \n",
       "\n",
       "      city_centers_nearest_km  \n",
       "count                  5983.0  \n",
       "mean        6.059669062343306  \n",
       "std         2.802948313568444  \n",
       "min                       0.0  \n",
       "25%                       4.0  \n",
       "50%                       6.0  \n",
       "75%                       9.0  \n",
       "max                      10.0  "
      ]
     },
     "execution_count": 76,
     "metadata": {},
     "output_type": "execute_result"
    },
    {
     "data": {
      "image/png": "[encoded data removed]",
      "text/plain": [
       "<Figure size 648x648 with 16 Axes>"
      ]
     },
     "metadata": {
      "needs_background": "light"
     },
     "output_type": "display_data"
    }
   ],
   "source": [
    "display(spb_locality2.corr())\n",
    "display(pd.plotting.scatter_matrix(spb_locality2, figsize=(9, 9)))\n",
    "spb_locality2.describe().astype('str')"
   ]
  },
  {
   "cell_type": "markdown",
   "metadata": {},
   "source": [
    "**Вывод:** по второму набору метрик можно сказать, что в центре Питера в основном продается 2-3х комнатная недвижимость на 5-6 этажах, за 7.5-12млн.руб в пределах 6км от центра. Из матрицы видно что стоимость растет с количеством комнат, и падает с ростом расстояния от центра, этажность растет от центра к окраинам."
   ]
  },
  {
   "cell_type": "code",
   "execution_count": 77,
   "metadata": {},
   "outputs": [
    {
     "data": {
      "text/plain": [
       "<matplotlib.axes._subplots.AxesSubplot at 0x7f329e0e6250>"
      ]
     },
     "execution_count": 77,
     "metadata": {},
     "output_type": "execute_result"
    },
    {
     "data": {
      "image/png": "[encoded data removed]",
      "text/plain": [
       "<Figure size 1080x360 with 1 Axes>"
      ]
     },
     "metadata": {
      "needs_background": "light"
     },
     "output_type": "display_data"
    }
   ],
   "source": [
    "(spb_locality.pivot_table(index='first_day_exposition', \n",
    "                          values='last_price', \n",
    "                          aggfunc='mean')\n",
    "             .sort_values(by='first_day_exposition')\n",
    "             .plot(grid=True, linewidth=2, alpha=0.7, figsize=(15,5), \n",
    "                   title='Зависимость цены от даты размещения объявления')\n",
    ")"
   ]
  },
  {
   "cell_type": "markdown",
   "metadata": {},
   "source": [
    "Стоимость в течении всего времени держится на одном уровне, но периодически происходят всплески осенью и весной."
   ]
  },
  {
   "cell_type": "markdown",
   "metadata": {},
   "source": [
    "## Общий вывод"
   ]
  },
  {
   "cell_type": "markdown",
   "metadata": {},
   "source": [
    "* В результате проделанной работы было выявлено много пропусков данных, которые негативно влияют на качество анализа. Коллегам отвечающим за сбор информации нужно обратить на это внимание, так же возможно расширить количество собираемых метрик, например имея адреса или координаты можно было бы автоматизировать проверку данных и их дозаполнение.\n",
    "* в основном покупают 1-2 комнатные квартиры площадью около 45м2 в диапазоне 3.5-4.5млн.руб., стоимость квадратного метра 90-100тыс.руб.\n",
    "* быстрые сделки совершаются в течении первых двух месяцев.\n",
    "* лидер продаж Санк-Петербург и населенные пункты спутники города. \n",
    "* стоимость жилья напрямую влияет от количества комнат, площади, удаленности от центра Петербурга, было выявлено расстояние в 10км на котором цена за квадратный метр перестает расти.\n",
    "* в центре Питера особой динамики по продажам не наблюдается, периодические всплески. Продается старый фонд, квартиры в малоэтажных домах, 5-6 этаж. Предпочтения отдаются покупке недвижимости в новостройках на окраинах.\n"
   ]
  },
  {
   "cell_type": "markdown",
   "metadata": {},
   "source": [
    "## Чек-лист готовности проекта\n",
    "\n",
    "Поставьте 'x' в выполненных пунктах. Далее нажмите Shift+Enter."
   ]
  },
  {
   "cell_type": "markdown",
   "metadata": {},
   "source": [
    "- [x]  открыт файл\n",
    "- [x]  файлы изучены (выведены первые строки, метод info())\n",
    "- [x]  определены пропущенные значения\n",
    "- [x]  заполнены пропущенные значения\n",
    "- [x]  есть пояснение, какие пропущенные значения обнаружены\n",
    "- [x]  изменены типы данных\n",
    "- [x]  есть пояснение, в каких столбцах изменены типы и почему\n",
    "- [x]  посчитано и добавлено в таблицу: цена квадратного метра\n",
    "- [x]  посчитано и добавлено в таблицу: день недели, месяц и год публикации объявления\n",
    "- [x]  посчитано и добавлено в таблицу: этаж квартиры; варианты — первый, последний, другой\n",
    "- [x]  посчитано и добавлено в таблицу: соотношение жилой и общей площади, а также отношение площади кухни к общей\n",
    "- [x]  изучены следующие параметры: площадь, цена, число комнат, высота потолков\n",
    "- [x]  построены гистограммы для каждого параметра\n",
    "- [x]  выполнено задание: \"Изучите время продажи квартиры. Постройте гистограмму. Посчитайте среднее и медиану. Опишите, сколько обычно занимает продажа. Когда можно считать, что продажи прошли очень быстро, а когда необычно долго?\"\n",
    "- [x]  выполнено задание: \"Уберите редкие и выбивающиеся значения. Опишите, какие особенности обнаружили.\"\n",
    "- [x]  выполнено задание: \"Какие факторы больше всего влияют на стоимость квартиры? Изучите, зависит ли цена от квадратного метра, числа комнат, этажа (первого или последнего), удалённости от центра. Также изучите зависимость от даты размещения: дня недели, месяца и года. \"Выберите 10 населённых пунктов с наибольшим числом объявлений. Посчитайте среднюю цену квадратного метра в этих населённых пунктах. Выделите населённые пункты с самой высокой и низкой стоимостью жилья. Эти данные можно найти по имени в столбце '*locality_name'*. \"\n",
    "- [x]  выполнено задание: \"Изучите предложения квартир: для каждой квартиры есть информация о расстоянии до центра. Выделите квартиры в Санкт-Петербурге (*'locality_name'*). Ваша задача — выяснить, какая область входит в центр. Создайте столбец с расстоянием до центра в километрах: округлите до целых значений. После этого посчитайте среднюю цену для каждого километра. Постройте график: он должен показывать, как цена зависит от удалённости от центра. Определите границу, где график сильно меняется — это и будет центральная зона. \"\n",
    "- [x]  выполнено задание: \"Выделите сегмент квартир в центре. Проанализируйте эту территорию и изучите следующие параметры: площадь, цена, число комнат, высота потолков. Также выделите факторы, которые влияют на стоимость квартиры (число комнат, этаж, удалённость от центра, дата размещения объявления). Сделайте выводы. Отличаются ли они от общих выводов по всему городу?\"\n",
    "- [x]  в каждом этапе есть выводы\n",
    "- [x]  есть общий вывод"
   ]
  }
 ],
 "metadata": {
  "ExecuteTimeLog": [
   {
    "duration": 1124,
    "start_time": "2021-12-26T16:36:44.634Z"
   },
   {
    "duration": 979,
    "start_time": "2021-12-26T16:36:45.761Z"
   },
   {
    "duration": 22,
    "start_time": "2021-12-26T16:36:46.743Z"
   },
   {
    "duration": 8,
    "start_time": "2021-12-26T16:36:46.768Z"
   },
   {
    "duration": 128,
    "start_time": "2021-12-26T16:36:46.778Z"
   },
   {
    "duration": 14,
    "start_time": "2021-12-26T16:36:46.909Z"
   },
   {
    "duration": 19,
    "start_time": "2021-12-26T16:36:46.925Z"
   },
   {
    "duration": 19,
    "start_time": "2021-12-26T16:36:46.947Z"
   },
   {
    "duration": 61,
    "start_time": "2021-12-26T16:36:46.972Z"
   },
   {
    "duration": 630,
    "start_time": "2021-12-26T16:36:47.037Z"
   },
   {
    "duration": 18,
    "start_time": "2021-12-26T16:36:47.670Z"
   },
   {
    "duration": 44,
    "start_time": "2021-12-26T16:36:47.691Z"
   },
   {
    "duration": 87,
    "start_time": "2021-12-26T16:36:47.738Z"
   },
   {
    "duration": 15,
    "start_time": "2021-12-26T16:36:47.829Z"
   },
   {
    "duration": 41,
    "start_time": "2021-12-26T16:36:47.847Z"
   },
   {
    "duration": 49,
    "start_time": "2021-12-26T16:36:47.891Z"
   },
   {
    "duration": 82,
    "start_time": "2021-12-26T16:36:47.943Z"
   },
   {
    "duration": 18,
    "start_time": "2021-12-26T16:36:48.028Z"
   },
   {
    "duration": 97,
    "start_time": "2021-12-26T16:36:48.048Z"
   },
   {
    "duration": 22,
    "start_time": "2021-12-26T16:36:48.148Z"
   },
   {
    "duration": 20,
    "start_time": "2021-12-26T16:36:48.173Z"
   },
   {
    "duration": 29,
    "start_time": "2021-12-26T16:36:48.224Z"
   },
   {
    "duration": 34,
    "start_time": "2021-12-26T16:36:48.256Z"
   },
   {
    "duration": 40,
    "start_time": "2021-12-26T16:36:48.293Z"
   },
   {
    "duration": 8,
    "start_time": "2021-12-26T16:36:48.337Z"
   },
   {
    "duration": 31,
    "start_time": "2021-12-26T16:36:48.347Z"
   },
   {
    "duration": 44,
    "start_time": "2021-12-26T16:36:48.388Z"
   },
   {
    "duration": 12,
    "start_time": "2021-12-26T16:36:48.436Z"
   },
   {
    "duration": 45,
    "start_time": "2021-12-26T16:36:48.450Z"
   },
   {
    "duration": 54,
    "start_time": "2021-12-26T16:36:48.498Z"
   },
   {
    "duration": 17,
    "start_time": "2021-12-26T16:36:48.555Z"
   },
   {
    "duration": 6,
    "start_time": "2021-12-26T16:36:48.575Z"
   },
   {
    "duration": 48,
    "start_time": "2021-12-26T16:36:48.584Z"
   },
   {
    "duration": 29,
    "start_time": "2021-12-26T16:36:48.635Z"
   },
   {
    "duration": 7,
    "start_time": "2021-12-26T16:36:48.667Z"
   },
   {
    "duration": 47,
    "start_time": "2021-12-26T16:36:48.677Z"
   },
   {
    "duration": 37,
    "start_time": "2021-12-26T16:36:48.727Z"
   },
   {
    "duration": 7,
    "start_time": "2021-12-26T16:36:48.767Z"
   },
   {
    "duration": 8,
    "start_time": "2021-12-26T16:36:48.776Z"
   },
   {
    "duration": 12,
    "start_time": "2021-12-26T16:36:48.824Z"
   },
   {
    "duration": 26,
    "start_time": "2021-12-26T16:36:48.839Z"
   },
   {
    "duration": 8,
    "start_time": "2021-12-26T16:36:48.867Z"
   },
   {
    "duration": 47,
    "start_time": "2021-12-26T16:36:48.878Z"
   },
   {
    "duration": 16,
    "start_time": "2021-12-26T16:36:48.929Z"
   },
   {
    "duration": 14,
    "start_time": "2021-12-26T16:36:48.948Z"
   },
   {
    "duration": 13,
    "start_time": "2021-12-26T16:36:48.964Z"
   },
   {
    "duration": 56,
    "start_time": "2021-12-26T16:36:48.979Z"
   },
   {
    "duration": 774,
    "start_time": "2021-12-26T16:36:49.038Z"
   },
   {
    "duration": 19,
    "start_time": "2021-12-26T16:36:49.815Z"
   },
   {
    "duration": 12,
    "start_time": "2021-12-26T16:36:49.837Z"
   },
   {
    "duration": 763,
    "start_time": "2021-12-26T16:36:49.852Z"
   },
   {
    "duration": 15,
    "start_time": "2021-12-26T16:36:50.617Z"
   },
   {
    "duration": 10,
    "start_time": "2021-12-26T16:36:50.634Z"
   },
   {
    "duration": 479,
    "start_time": "2021-12-26T16:36:50.647Z"
   },
   {
    "duration": 11,
    "start_time": "2021-12-26T16:36:51.128Z"
   },
   {
    "duration": 466,
    "start_time": "2021-12-26T16:36:51.142Z"
   },
   {
    "duration": 21,
    "start_time": "2021-12-26T16:36:51.610Z"
   },
   {
    "duration": 15,
    "start_time": "2021-12-26T16:36:51.633Z"
   },
   {
    "duration": 554,
    "start_time": "2021-12-26T16:36:51.651Z"
   },
   {
    "duration": 15,
    "start_time": "2021-12-26T16:36:52.208Z"
   },
   {
    "duration": 472,
    "start_time": "2021-12-26T16:36:52.225Z"
   },
   {
    "duration": 358,
    "start_time": "2021-12-26T16:36:52.700Z"
   },
   {
    "duration": 9,
    "start_time": "2021-12-26T16:36:53.060Z"
   },
   {
    "duration": 409,
    "start_time": "2021-12-26T16:36:53.072Z"
   },
   {
    "duration": 406,
    "start_time": "2021-12-26T16:36:53.483Z"
   },
   {
    "duration": 804,
    "start_time": "2021-12-26T16:36:53.892Z"
   },
   {
    "duration": 60,
    "start_time": "2021-12-26T16:36:54.698Z"
   },
   {
    "duration": 12,
    "start_time": "2021-12-26T16:36:54.760Z"
   },
   {
    "duration": 6,
    "start_time": "2021-12-26T16:36:54.775Z"
   },
   {
    "duration": 49,
    "start_time": "2021-12-26T16:36:54.783Z"
   },
   {
    "duration": 6,
    "start_time": "2021-12-26T16:36:54.834Z"
   },
   {
    "duration": 12,
    "start_time": "2021-12-26T16:36:54.842Z"
   },
   {
    "duration": 594,
    "start_time": "2021-12-26T16:36:54.856Z"
   },
   {
    "duration": 10,
    "start_time": "2021-12-26T16:36:55.453Z"
   },
   {
    "duration": 581,
    "start_time": "2021-12-26T16:36:55.465Z"
   },
   {
    "duration": 11,
    "start_time": "2021-12-26T16:36:56.049Z"
   },
   {
    "duration": 3915,
    "start_time": "2021-12-26T16:36:56.063Z"
   },
   {
    "duration": 4349,
    "start_time": "2021-12-26T16:36:59.981Z"
   },
   {
    "duration": 552,
    "start_time": "2021-12-26T16:37:04.333Z"
   },
   {
    "duration": 1072,
    "start_time": "2021-12-26T16:58:44.113Z"
   },
   {
    "duration": 1475,
    "start_time": "2021-12-26T16:58:45.187Z"
   },
   {
    "duration": 21,
    "start_time": "2021-12-26T16:58:46.666Z"
   },
   {
    "duration": 9,
    "start_time": "2021-12-26T16:58:46.689Z"
   },
   {
    "duration": 140,
    "start_time": "2021-12-26T16:58:46.701Z"
   },
   {
    "duration": 7,
    "start_time": "2021-12-26T16:58:46.844Z"
   },
   {
    "duration": 13,
    "start_time": "2021-12-26T16:58:46.862Z"
   },
   {
    "duration": 20,
    "start_time": "2021-12-26T16:58:46.878Z"
   },
   {
    "duration": 70,
    "start_time": "2021-12-26T16:58:46.902Z"
   },
   {
    "duration": 621,
    "start_time": "2021-12-26T16:58:46.976Z"
   },
   {
    "duration": 15,
    "start_time": "2021-12-26T16:58:47.599Z"
   },
   {
    "duration": 20,
    "start_time": "2021-12-26T16:58:47.617Z"
   },
   {
    "duration": 86,
    "start_time": "2021-12-26T16:58:47.639Z"
   },
   {
    "duration": 11,
    "start_time": "2021-12-26T16:58:47.728Z"
   },
   {
    "duration": 45,
    "start_time": "2021-12-26T16:58:47.742Z"
   },
   {
    "duration": 13,
    "start_time": "2021-12-26T16:58:47.789Z"
   },
   {
    "duration": 80,
    "start_time": "2021-12-26T16:58:47.804Z"
   },
   {
    "duration": 18,
    "start_time": "2021-12-26T16:58:47.887Z"
   },
   {
    "duration": 83,
    "start_time": "2021-12-26T16:58:47.907Z"
   },
   {
    "duration": 12,
    "start_time": "2021-12-26T16:58:47.993Z"
   },
   {
    "duration": 18,
    "start_time": "2021-12-26T16:58:48.007Z"
   },
   {
    "duration": 50,
    "start_time": "2021-12-26T16:58:48.027Z"
   },
   {
    "duration": 32,
    "start_time": "2021-12-26T16:58:48.081Z"
   },
   {
    "duration": 11,
    "start_time": "2021-12-26T16:58:48.116Z"
   },
   {
    "duration": 14,
    "start_time": "2021-12-26T16:58:51.683Z"
   },
   {
    "duration": 40,
    "start_time": "2021-12-26T16:58:53.905Z"
   },
   {
    "duration": 145,
    "start_time": "2021-12-26T17:00:22.327Z"
   },
   {
    "duration": 9,
    "start_time": "2021-12-26T17:17:40.717Z"
   },
   {
    "duration": 1255,
    "start_time": "2021-12-26T17:17:40.729Z"
   },
   {
    "duration": 16,
    "start_time": "2021-12-26T17:17:41.987Z"
   },
   {
    "duration": 6,
    "start_time": "2021-12-26T17:17:42.006Z"
   },
   {
    "duration": 169,
    "start_time": "2021-12-26T17:17:42.015Z"
   },
   {
    "duration": 9,
    "start_time": "2021-12-26T17:17:42.187Z"
   },
   {
    "duration": 38,
    "start_time": "2021-12-26T17:17:42.198Z"
   },
   {
    "duration": 36,
    "start_time": "2021-12-26T17:17:42.241Z"
   },
   {
    "duration": 50,
    "start_time": "2021-12-26T17:17:42.280Z"
   },
   {
    "duration": 591,
    "start_time": "2021-12-26T17:17:42.332Z"
   },
   {
    "duration": 37,
    "start_time": "2021-12-26T17:17:42.925Z"
   },
   {
    "duration": 13,
    "start_time": "2021-12-26T17:17:42.964Z"
   },
   {
    "duration": 9,
    "start_time": "2021-12-26T17:17:42.980Z"
   },
   {
    "duration": 12,
    "start_time": "2021-12-26T17:17:42.991Z"
   },
   {
    "duration": 65,
    "start_time": "2021-12-26T17:17:43.005Z"
   },
   {
    "duration": 15,
    "start_time": "2021-12-26T17:17:43.073Z"
   },
   {
    "duration": 84,
    "start_time": "2021-12-26T17:17:43.091Z"
   },
   {
    "duration": 17,
    "start_time": "2021-12-26T17:17:43.177Z"
   },
   {
    "duration": 84,
    "start_time": "2021-12-26T17:17:43.196Z"
   },
   {
    "duration": 14,
    "start_time": "2021-12-26T17:17:43.282Z"
   },
   {
    "duration": 15,
    "start_time": "2021-12-26T17:17:43.299Z"
   },
   {
    "duration": 56,
    "start_time": "2021-12-26T17:17:43.316Z"
   },
   {
    "duration": 31,
    "start_time": "2021-12-26T17:17:43.378Z"
   },
   {
    "duration": 12,
    "start_time": "2021-12-26T17:17:43.412Z"
   },
   {
    "duration": 66,
    "start_time": "2021-12-26T17:17:43.427Z"
   },
   {
    "duration": 29,
    "start_time": "2021-12-26T17:17:43.496Z"
   },
   {
    "duration": 43,
    "start_time": "2021-12-26T17:17:43.528Z"
   },
   {
    "duration": 14,
    "start_time": "2021-12-26T17:17:43.574Z"
   },
   {
    "duration": 74,
    "start_time": "2021-12-26T17:17:43.591Z"
   },
   {
    "duration": 30,
    "start_time": "2021-12-26T17:17:43.668Z"
   },
   {
    "duration": 15,
    "start_time": "2021-12-26T17:17:43.702Z"
   },
   {
    "duration": 43,
    "start_time": "2021-12-26T17:17:43.720Z"
   },
   {
    "duration": 16,
    "start_time": "2021-12-26T17:17:43.766Z"
   },
   {
    "duration": 34,
    "start_time": "2021-12-26T17:17:43.785Z"
   },
   {
    "duration": 43,
    "start_time": "2021-12-26T17:17:43.822Z"
   },
   {
    "duration": 25,
    "start_time": "2021-12-26T17:17:43.868Z"
   },
   {
    "duration": 68,
    "start_time": "2021-12-26T17:17:43.896Z"
   },
   {
    "duration": 8,
    "start_time": "2021-12-26T17:17:43.967Z"
   },
   {
    "duration": 10,
    "start_time": "2021-12-26T17:17:43.978Z"
   },
   {
    "duration": 9,
    "start_time": "2021-12-26T17:17:43.991Z"
   },
   {
    "duration": 72,
    "start_time": "2021-12-26T17:17:44.002Z"
   },
   {
    "duration": 10,
    "start_time": "2021-12-26T17:17:44.076Z"
   },
   {
    "duration": 6,
    "start_time": "2021-12-26T17:17:44.088Z"
   },
   {
    "duration": 12,
    "start_time": "2021-12-26T17:17:44.097Z"
   },
   {
    "duration": 54,
    "start_time": "2021-12-26T17:17:44.112Z"
   },
   {
    "duration": 15,
    "start_time": "2021-12-26T17:17:44.169Z"
   },
   {
    "duration": 15,
    "start_time": "2021-12-26T17:17:44.187Z"
   },
   {
    "duration": 1175,
    "start_time": "2021-12-26T17:17:44.205Z"
   },
   {
    "duration": 15,
    "start_time": "2021-12-26T17:17:45.383Z"
   },
   {
    "duration": 10,
    "start_time": "2021-12-26T17:17:45.401Z"
   },
   {
    "duration": 1082,
    "start_time": "2021-12-26T17:17:45.414Z"
   },
   {
    "duration": 11,
    "start_time": "2021-12-26T17:17:46.499Z"
   },
   {
    "duration": 11,
    "start_time": "2021-12-26T17:17:46.513Z"
   },
   {
    "duration": 608,
    "start_time": "2021-12-26T17:17:46.526Z"
   },
   {
    "duration": 29,
    "start_time": "2021-12-26T17:17:47.137Z"
   },
   {
    "duration": 505,
    "start_time": "2021-12-26T17:17:47.169Z"
   },
   {
    "duration": 12,
    "start_time": "2021-12-26T17:17:47.677Z"
   },
   {
    "duration": 11,
    "start_time": "2021-12-26T17:17:47.692Z"
   },
   {
    "duration": 666,
    "start_time": "2021-12-26T17:17:47.706Z"
   },
   {
    "duration": 7,
    "start_time": "2021-12-26T17:17:48.375Z"
   },
   {
    "duration": 605,
    "start_time": "2021-12-26T17:17:48.385Z"
   },
   {
    "duration": 397,
    "start_time": "2021-12-26T17:17:48.992Z"
   },
   {
    "duration": 14,
    "start_time": "2021-12-26T17:17:49.392Z"
   },
   {
    "duration": 4,
    "start_time": "2021-12-26T17:17:57.027Z"
   },
   {
    "duration": 6,
    "start_time": "2021-12-26T17:18:07.172Z"
   },
   {
    "duration": 371,
    "start_time": "2021-12-26T17:18:33.414Z"
   },
   {
    "duration": 301,
    "start_time": "2021-12-26T17:19:41.032Z"
   },
   {
    "duration": 426,
    "start_time": "2021-12-26T17:20:42.882Z"
   },
   {
    "duration": 7022,
    "start_time": "2021-12-26T17:21:00.478Z"
   },
   {
    "duration": 42470,
    "start_time": "2021-12-26T17:22:05.300Z"
   },
   {
    "duration": -886,
    "start_time": "2021-12-26T17:27:28.237Z"
   },
   {
    "duration": 94,
    "start_time": "2021-12-26T17:32:30.305Z"
   },
   {
    "duration": 94,
    "start_time": "2021-12-26T17:32:40.588Z"
   },
   {
    "duration": 97,
    "start_time": "2021-12-26T17:32:49.953Z"
   },
   {
    "duration": 109,
    "start_time": "2021-12-26T17:33:03.487Z"
   },
   {
    "duration": 91,
    "start_time": "2021-12-26T17:33:13.015Z"
   },
   {
    "duration": 24,
    "start_time": "2021-12-26T17:33:23.675Z"
   },
   {
    "duration": 25,
    "start_time": "2021-12-26T17:33:42.364Z"
   },
   {
    "duration": 50,
    "start_time": "2021-12-26T17:34:25.856Z"
   },
   {
    "duration": 435,
    "start_time": "2021-12-26T17:36:30.728Z"
   },
   {
    "duration": 274,
    "start_time": "2021-12-26T17:37:08.771Z"
   },
   {
    "duration": 294,
    "start_time": "2021-12-26T17:37:43.122Z"
   },
   {
    "duration": 53,
    "start_time": "2021-12-26T17:38:13.967Z"
   },
   {
    "duration": 48,
    "start_time": "2021-12-26T17:39:29.584Z"
   },
   {
    "duration": 294,
    "start_time": "2021-12-26T17:40:33.041Z"
   },
   {
    "duration": 1373,
    "start_time": "2021-12-26T17:50:02.681Z"
   },
   {
    "duration": 1485,
    "start_time": "2021-12-26T17:54:13.735Z"
   },
   {
    "duration": 1374,
    "start_time": "2021-12-26T17:56:10.962Z"
   },
   {
    "duration": 1348,
    "start_time": "2021-12-26T17:56:12.340Z"
   },
   {
    "duration": 26,
    "start_time": "2021-12-26T17:56:13.691Z"
   },
   {
    "duration": 11,
    "start_time": "2021-12-26T17:56:13.721Z"
   },
   {
    "duration": 170,
    "start_time": "2021-12-26T17:56:13.735Z"
   },
   {
    "duration": 13,
    "start_time": "2021-12-26T17:56:13.908Z"
   },
   {
    "duration": 15,
    "start_time": "2021-12-26T17:56:13.925Z"
   },
   {
    "duration": 54,
    "start_time": "2021-12-26T17:56:13.945Z"
   },
   {
    "duration": 45,
    "start_time": "2021-12-26T17:56:14.003Z"
   },
   {
    "duration": 993,
    "start_time": "2021-12-26T17:56:14.051Z"
   },
   {
    "duration": 25,
    "start_time": "2021-12-26T17:56:15.048Z"
   },
   {
    "duration": 24,
    "start_time": "2021-12-26T17:56:15.076Z"
   },
   {
    "duration": 106,
    "start_time": "2021-12-26T17:56:15.104Z"
   },
   {
    "duration": 15,
    "start_time": "2021-12-26T17:56:15.214Z"
   },
   {
    "duration": 66,
    "start_time": "2021-12-26T17:56:15.232Z"
   },
   {
    "duration": 24,
    "start_time": "2021-12-26T17:56:15.302Z"
   },
   {
    "duration": 123,
    "start_time": "2021-12-26T17:56:15.330Z"
   },
   {
    "duration": 21,
    "start_time": "2021-12-26T17:56:15.457Z"
   },
   {
    "duration": 116,
    "start_time": "2021-12-26T17:56:15.482Z"
   },
   {
    "duration": 26,
    "start_time": "2021-12-26T17:56:15.602Z"
   },
   {
    "duration": 34,
    "start_time": "2021-12-26T17:56:15.631Z"
   },
   {
    "duration": 30,
    "start_time": "2021-12-26T17:56:15.668Z"
   },
   {
    "duration": 71,
    "start_time": "2021-12-26T17:56:15.708Z"
   },
   {
    "duration": 18,
    "start_time": "2021-12-26T17:56:15.785Z"
   },
   {
    "duration": 76,
    "start_time": "2021-12-26T17:56:15.805Z"
   },
   {
    "duration": 45,
    "start_time": "2021-12-26T17:56:15.886Z"
   },
   {
    "duration": 35,
    "start_time": "2021-12-26T17:56:15.934Z"
   },
   {
    "duration": 26,
    "start_time": "2021-12-26T17:56:15.974Z"
   },
   {
    "duration": 59,
    "start_time": "2021-12-26T17:56:16.006Z"
   },
   {
    "duration": 40,
    "start_time": "2021-12-26T17:56:16.068Z"
   },
   {
    "duration": 18,
    "start_time": "2021-12-26T17:56:16.111Z"
   },
   {
    "duration": 40,
    "start_time": "2021-12-26T17:56:16.131Z"
   },
   {
    "duration": 30,
    "start_time": "2021-12-26T17:56:16.174Z"
   },
   {
    "duration": 43,
    "start_time": "2021-12-26T17:56:16.210Z"
   },
   {
    "duration": 12,
    "start_time": "2021-12-26T17:56:16.264Z"
   },
   {
    "duration": 29,
    "start_time": "2021-12-26T17:56:16.279Z"
   },
   {
    "duration": 89,
    "start_time": "2021-12-26T17:56:16.311Z"
   },
   {
    "duration": 11,
    "start_time": "2021-12-26T17:56:16.403Z"
   },
   {
    "duration": 13,
    "start_time": "2021-12-26T17:56:16.418Z"
   },
   {
    "duration": 38,
    "start_time": "2021-12-26T17:56:16.434Z"
   },
   {
    "duration": 59,
    "start_time": "2021-12-26T17:56:16.476Z"
   },
   {
    "duration": 14,
    "start_time": "2021-12-26T17:56:16.538Z"
   },
   {
    "duration": 13,
    "start_time": "2021-12-26T17:56:16.564Z"
   },
   {
    "duration": 27,
    "start_time": "2021-12-26T17:56:16.580Z"
   },
   {
    "duration": 16,
    "start_time": "2021-12-26T17:56:16.613Z"
   },
   {
    "duration": 63,
    "start_time": "2021-12-26T17:56:16.631Z"
   },
   {
    "duration": 21,
    "start_time": "2021-12-26T17:56:16.698Z"
   },
   {
    "duration": 1273,
    "start_time": "2021-12-26T17:56:16.723Z"
   },
   {
    "duration": 22,
    "start_time": "2021-12-26T17:56:18.005Z"
   },
   {
    "duration": 13,
    "start_time": "2021-12-26T17:56:18.030Z"
   },
   {
    "duration": 1151,
    "start_time": "2021-12-26T17:56:18.047Z"
   },
   {
    "duration": 15,
    "start_time": "2021-12-26T17:56:19.201Z"
   },
   {
    "duration": 13,
    "start_time": "2021-12-26T17:56:19.220Z"
   },
   {
    "duration": 727,
    "start_time": "2021-12-26T17:56:19.236Z"
   },
   {
    "duration": 19,
    "start_time": "2021-12-26T17:56:19.967Z"
   },
   {
    "duration": 717,
    "start_time": "2021-12-26T17:56:19.989Z"
   },
   {
    "duration": 19,
    "start_time": "2021-12-26T17:56:20.709Z"
   },
   {
    "duration": 15,
    "start_time": "2021-12-26T17:56:20.731Z"
   },
   {
    "duration": 864,
    "start_time": "2021-12-26T17:56:20.765Z"
   },
   {
    "duration": 6,
    "start_time": "2021-12-26T17:56:21.632Z"
   },
   {
    "duration": 779,
    "start_time": "2021-12-26T17:56:21.641Z"
   },
   {
    "duration": 445,
    "start_time": "2021-12-26T17:56:22.426Z"
   },
   {
    "duration": 21,
    "start_time": "2021-12-26T17:56:22.876Z"
   },
   {
    "duration": 1556,
    "start_time": "2021-12-26T17:56:22.900Z"
   },
   {
    "duration": 55,
    "start_time": "2021-12-26T17:56:24.459Z"
   },
   {
    "duration": 26,
    "start_time": "2021-12-26T17:56:24.517Z"
   },
   {
    "duration": 8,
    "start_time": "2021-12-26T17:56:24.562Z"
   },
   {
    "duration": 15,
    "start_time": "2021-12-26T17:56:24.581Z"
   },
   {
    "duration": 10,
    "start_time": "2021-12-26T17:56:24.599Z"
   },
   {
    "duration": 48,
    "start_time": "2021-12-26T17:56:24.616Z"
   },
   {
    "duration": 469,
    "start_time": "2021-12-26T17:56:24.668Z"
   },
   {
    "duration": 16,
    "start_time": "2021-12-26T17:56:25.139Z"
   },
   {
    "duration": 469,
    "start_time": "2021-12-26T17:56:25.162Z"
   },
   {
    "duration": 33,
    "start_time": "2021-12-26T17:56:25.634Z"
   },
   {
    "duration": 5652,
    "start_time": "2021-12-26T17:56:25.670Z"
   },
   {
    "duration": 5279,
    "start_time": "2021-12-26T17:56:31.326Z"
   },
   {
    "duration": 767,
    "start_time": "2021-12-26T17:56:36.609Z"
   },
   {
    "duration": 941,
    "start_time": "2022-01-07T17:58:07.557Z"
   },
   {
    "duration": 1307,
    "start_time": "2022-01-07T17:58:08.501Z"
   },
   {
    "duration": 24,
    "start_time": "2022-01-07T17:58:09.812Z"
   },
   {
    "duration": 7,
    "start_time": "2022-01-07T17:58:09.839Z"
   },
   {
    "duration": 121,
    "start_time": "2022-01-07T17:58:09.848Z"
   },
   {
    "duration": 7,
    "start_time": "2022-01-07T17:58:09.971Z"
   },
   {
    "duration": 14,
    "start_time": "2022-01-07T17:58:09.980Z"
   },
   {
    "duration": 37,
    "start_time": "2022-01-07T17:58:09.998Z"
   },
   {
    "duration": 25,
    "start_time": "2022-01-07T17:58:10.038Z"
   },
   {
    "duration": 607,
    "start_time": "2022-01-07T17:58:10.065Z"
   },
   {
    "duration": 14,
    "start_time": "2022-01-07T17:58:10.675Z"
   },
   {
    "duration": 37,
    "start_time": "2022-01-07T17:58:10.692Z"
   },
   {
    "duration": 49,
    "start_time": "2022-01-07T17:58:10.731Z"
   },
   {
    "duration": 43,
    "start_time": "2022-01-07T17:58:10.782Z"
   },
   {
    "duration": 27,
    "start_time": "2022-01-07T17:58:10.827Z"
   },
   {
    "duration": 15,
    "start_time": "2022-01-07T17:58:10.857Z"
   },
   {
    "duration": 89,
    "start_time": "2022-01-07T17:58:10.874Z"
   },
   {
    "duration": 15,
    "start_time": "2022-01-07T17:58:10.966Z"
   },
   {
    "duration": 95,
    "start_time": "2022-01-07T17:58:10.983Z"
   },
   {
    "duration": 13,
    "start_time": "2022-01-07T17:58:11.080Z"
   },
   {
    "duration": 39,
    "start_time": "2022-01-07T17:58:11.095Z"
   },
   {
    "duration": 19,
    "start_time": "2022-01-07T17:58:11.137Z"
   },
   {
    "duration": 72,
    "start_time": "2022-01-07T17:58:11.162Z"
   },
   {
    "duration": 11,
    "start_time": "2022-01-07T17:58:11.237Z"
   },
   {
    "duration": 33,
    "start_time": "2022-01-07T17:58:11.250Z"
   },
   {
    "duration": 54,
    "start_time": "2022-01-07T17:58:11.285Z"
   },
   {
    "duration": 10,
    "start_time": "2022-01-07T17:58:11.341Z"
   },
   {
    "duration": 10,
    "start_time": "2022-01-07T17:58:11.353Z"
   },
   {
    "duration": 84,
    "start_time": "2022-01-07T17:58:11.366Z"
   },
   {
    "duration": 27,
    "start_time": "2022-01-07T17:58:11.452Z"
   },
   {
    "duration": 15,
    "start_time": "2022-01-07T17:58:11.481Z"
   },
   {
    "duration": 5,
    "start_time": "2022-01-07T17:58:11.524Z"
   },
   {
    "duration": 12,
    "start_time": "2022-01-07T17:58:11.531Z"
   },
   {
    "duration": 24,
    "start_time": "2022-01-07T17:58:11.545Z"
   },
   {
    "duration": 7,
    "start_time": "2022-01-07T17:58:11.572Z"
   },
   {
    "duration": 17,
    "start_time": "2022-01-07T17:58:11.624Z"
   },
   {
    "duration": 40,
    "start_time": "2022-01-07T17:58:11.644Z"
   },
   {
    "duration": 44,
    "start_time": "2022-01-07T17:58:11.687Z"
   },
   {
    "duration": 9,
    "start_time": "2022-01-07T17:58:11.734Z"
   },
   {
    "duration": 9,
    "start_time": "2022-01-07T17:58:11.746Z"
   },
   {
    "duration": 84,
    "start_time": "2022-01-07T17:58:11.758Z"
   },
   {
    "duration": 13,
    "start_time": "2022-01-07T17:58:11.844Z"
   },
   {
    "duration": 7,
    "start_time": "2022-01-07T17:58:11.860Z"
   },
   {
    "duration": 54,
    "start_time": "2022-01-07T17:58:11.869Z"
   },
   {
    "duration": 12,
    "start_time": "2022-01-07T17:58:11.926Z"
   },
   {
    "duration": 17,
    "start_time": "2022-01-07T17:58:11.941Z"
   },
   {
    "duration": 13,
    "start_time": "2022-01-07T17:58:11.960Z"
   },
   {
    "duration": 790,
    "start_time": "2022-01-07T17:58:11.976Z"
   },
   {
    "duration": 12,
    "start_time": "2022-01-07T17:58:12.769Z"
   },
   {
    "duration": 44,
    "start_time": "2022-01-07T17:58:12.784Z"
   },
   {
    "duration": 777,
    "start_time": "2022-01-07T17:58:12.830Z"
   },
   {
    "duration": 15,
    "start_time": "2022-01-07T17:58:13.610Z"
   },
   {
    "duration": 12,
    "start_time": "2022-01-07T17:58:13.627Z"
   },
   {
    "duration": 479,
    "start_time": "2022-01-07T17:58:13.641Z"
   },
   {
    "duration": 10,
    "start_time": "2022-01-07T17:58:14.123Z"
   },
   {
    "duration": 475,
    "start_time": "2022-01-07T17:58:14.135Z"
   },
   {
    "duration": 16,
    "start_time": "2022-01-07T17:58:14.613Z"
   },
   {
    "duration": 10,
    "start_time": "2022-01-07T17:58:14.631Z"
   },
   {
    "duration": 586,
    "start_time": "2022-01-07T17:58:14.644Z"
   },
   {
    "duration": 6,
    "start_time": "2022-01-07T17:58:15.233Z"
   },
   {
    "duration": 520,
    "start_time": "2022-01-07T17:58:15.242Z"
   },
   {
    "duration": 372,
    "start_time": "2022-01-07T17:58:15.765Z"
   },
   {
    "duration": 9,
    "start_time": "2022-01-07T17:58:16.139Z"
   },
   {
    "duration": 1218,
    "start_time": "2022-01-07T17:58:16.150Z"
   },
   {
    "duration": 55,
    "start_time": "2022-01-07T17:58:17.370Z"
   },
   {
    "duration": 12,
    "start_time": "2022-01-07T17:58:17.427Z"
   },
   {
    "duration": 6,
    "start_time": "2022-01-07T17:58:17.441Z"
   },
   {
    "duration": 13,
    "start_time": "2022-01-07T17:58:17.455Z"
   },
   {
    "duration": 52,
    "start_time": "2022-01-07T17:58:17.471Z"
   },
   {
    "duration": 14,
    "start_time": "2022-01-07T17:58:17.527Z"
   },
   {
    "duration": 350,
    "start_time": "2022-01-07T17:58:17.544Z"
   },
   {
    "duration": 30,
    "start_time": "2022-01-07T17:58:17.897Z"
   },
   {
    "duration": 401,
    "start_time": "2022-01-07T17:58:17.930Z"
   },
   {
    "duration": 16,
    "start_time": "2022-01-07T17:58:18.334Z"
   },
   {
    "duration": 4036,
    "start_time": "2022-01-07T17:58:18.353Z"
   },
   {
    "duration": 4544,
    "start_time": "2022-01-07T17:58:22.391Z"
   },
   {
    "duration": 559,
    "start_time": "2022-01-07T17:58:26.938Z"
   }
  ],
  "kernelspec": {
   "display_name": "Python 3 (ipykernel)",
   "language": "python",
   "name": "python3"
  },
  "language_info": {
   "codemirror_mode": {
    "name": "ipython",
    "version": 3
   },
   "file_extension": ".py",
   "mimetype": "text/x-python",
   "name": "python",
   "nbconvert_exporter": "python",
   "pygments_lexer": "ipython3",
   "version": "3.9.5"
  },
  "toc": {
   "base_numbering": 1,
   "nav_menu": {},
   "number_sections": true,
   "sideBar": true,
   "skip_h1_title": true,
   "title_cell": "Содержание",
   "title_sidebar": "Contents",
   "toc_cell": true,
   "toc_position": {
    "height": "calc(100% - 180px)",
    "left": "10px",
    "top": "150px",
    "width": "327px"
   },
   "toc_section_display": true,
   "toc_window_display": false
  }
 },
 "nbformat": 4,
 "nbformat_minor": 2
}
